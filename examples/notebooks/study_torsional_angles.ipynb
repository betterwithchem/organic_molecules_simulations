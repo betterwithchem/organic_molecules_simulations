{
 "cells": [
  {
   "cell_type": "markdown",
   "id": "7be51adf-8715-4668-aac9-f12d07cbc35b",
   "metadata": {},
   "source": [
    "# Study torsional angles of organic molecules\n",
    "\n",
    "In this example we will create a number of solute-in-solvent systems and we will use unbiased molecular dynamics (MD) and metadynamics (MetaD) simulations to study the conformational space of the solute molecules.\n"
   ]
  },
  {
   "cell_type": "markdown",
   "id": "e880e3e5-c22f-48cb-9a2f-7e86022e22b8",
   "metadata": {},
   "source": [
    "The first step is to load the necessary libraries:"
   ]
  },
  {
   "cell_type": "code",
   "execution_count": 1,
   "id": "9c4448e6-6868-4297-9b37-b56637482b26",
   "metadata": {
    "tags": []
   },
   "outputs": [
    {
     "data": {
      "application/vnd.jupyter.widget-view+json": {
       "model_id": "876bde3798084af4868f1b61495aa0cb",
       "version_major": 2,
       "version_minor": 0
      },
      "text/plain": []
     },
     "metadata": {},
     "output_type": "display_data"
    }
   ],
   "source": [
    "from sim_launch_py.classes import Project\n",
    "from sim_launch_py.external import molecules as mols\n",
    "from sim_launch_py.plumed import write_plumed_file as wrtplumed\n",
    "import numpy as np\n",
    "\n",
    "import nglview as nv"
   ]
  },
  {
   "cell_type": "markdown",
   "id": "25f76511-b084-4dba-bcd6-a4887538e43a",
   "metadata": {},
   "source": [
    "Now we define the solute and solvent species:"
   ]
  },
  {
   "cell_type": "code",
   "execution_count": 2,
   "id": "85b5e3a8-ccc0-4482-ae6c-b9309cd1e000",
   "metadata": {
    "tags": []
   },
   "outputs": [
    {
     "name": "stderr",
     "output_type": "stream",
     "text": [
      "[18:46:55] Enabling RDKit 2019.09.3 jupyter extensions\n",
      "RDKit WARNING: [18:46:55] Enabling RDKit 2019.09.3 jupyter extensions\n"
     ]
    }
   ],
   "source": [
    "mols_path=\"/home/matteo/Work/organic_molecules_simulations\"\n",
    "\n",
    "sulfamerazine={\"pdb\":\"{}/Structures/sulfamerazine/sulfamerazine.pdb\".format(mols_path),\n",
    "                          \"top\":\"{}/Topologies/sulfamerazine.top\".format(mols_path),\n",
    "                          \"resname\":\"SUR\"}\n",
    "\n",
    "toluene={\"pdb\":\"{}/Structures/toluene/toluene.pdb\".format(mols_path),\n",
    "                     \"top\":\"{}/Topologies/toluene.top\".format(mols_path),\n",
    "                     \"density\":870.,\n",
    "                     \"MW\":92.141,\n",
    "                     \"resname\":\"TOL\"}\n",
    "\n",
    "sulfamerazine[\"rotatables\"]=mols.findTorsionalAngles(sulfamerazine['pdb'])"
   ]
  },
  {
   "cell_type": "markdown",
   "id": "6aff5a35-004d-46f5-94bf-60c2d46c4028",
   "metadata": {},
   "source": [
    "In our example we will study sulfamerazine in toluene"
   ]
  },
  {
   "cell_type": "code",
   "execution_count": 3,
   "id": "f8d94296-910c-4718-9316-5b8c325c79dd",
   "metadata": {
    "tags": []
   },
   "outputs": [
    {
     "data": {
      "application/vnd.jupyter.widget-view+json": {
       "model_id": "7075774371864d079e1358d7b046d482",
       "version_major": 2,
       "version_minor": 0
      },
      "text/plain": [
       "NGLWidget()"
      ]
     },
     "metadata": {},
     "output_type": "display_data"
    }
   ],
   "source": [
    "view=nv.show_structure_file(sulfamerazine['pdb'])\n",
    "view.add_unitcell(opacity=1)\n",
    "view.camera='orthographic'\n",
    "view"
   ]
  },
  {
   "cell_type": "code",
   "execution_count": 4,
   "id": "dff0dba4-8e16-4ef3-8167-bf19aace0aef",
   "metadata": {
    "tags": []
   },
   "outputs": [
    {
     "data": {
      "application/vnd.jupyter.widget-view+json": {
       "model_id": "23cde07f21ca49e3b267c66a97b14fcc",
       "version_major": 2,
       "version_minor": 0
      },
      "text/plain": [
       "NGLWidget()"
      ]
     },
     "metadata": {},
     "output_type": "display_data"
    }
   ],
   "source": [
    "view=nv.show_structure_file(toluene['pdb'])\n",
    "view.camera='orthographic'\n",
    "view"
   ]
  },
  {
   "cell_type": "markdown",
   "id": "a3a0d258-302e-427c-92fe-994584bb9d67",
   "metadata": {},
   "source": [
    "Create a new Project object:"
   ]
  },
  {
   "cell_type": "code",
   "execution_count": 5,
   "id": "5bb457de-612e-4526-894a-46ebcbc1f48f",
   "metadata": {
    "tags": []
   },
   "outputs": [
    {
     "name": "stdout",
     "output_type": "stream",
     "text": [
      "New Project: sample_metad\n",
      "====================================================================================================\n"
     ]
    }
   ],
   "source": [
    "pname='sample_metad'\n",
    "p=Project.new_project(name=pname,path='./{}'.format(pname),overwrite=True)\n"
   ]
  },
  {
   "cell_type": "markdown",
   "id": "179e2724-2200-403c-ac37-21e8a7639692",
   "metadata": {},
   "source": [
    "Create systems and populate them"
   ]
  },
  {
   "cell_type": "code",
   "execution_count": 6,
   "id": "2cc1b304-8432-4301-b71c-b3781e3bdc80",
   "metadata": {
    "scrolled": true,
    "tags": []
   },
   "outputs": [
    {
     "name": "stdout",
     "output_type": "stream",
     "text": [
      "**************************************************\n",
      "Created system sulfamerazine_toluene\n",
      "**************************************************\n",
      "1 molecules of residue SUR have been added. The file Systems/sulfamerazine_toluene/sulfamerazine.pdb has been created.\n"
     ]
    },
    {
     "data": {
      "application/vnd.jupyter.widget-view+json": {
       "model_id": "bdbaa1e58da34ce68fce0966b509b059",
       "version_major": 2,
       "version_minor": 0
      },
      "text/plain": [
       "NGLWidget()"
      ]
     },
     "metadata": {},
     "output_type": "display_data"
    }
   ],
   "source": [
    "name='{}_{}'.format(\"sulfamerazine\",\"toluene\")\n",
    "p.add_system(name)\n",
    "\n",
    "# get the system object\n",
    "s=p.find_system_by_name(name)\n",
    "\n",
    "# define the size of the simulation box. Needed to insert molecules.\n",
    "side=3.5 # nm, side of the simulation box\n",
    "V=side*side*side*0.97 #nm**3, volume of the simulation box\n",
    "s.add_box(side,shape='cubic')\n",
    "\n",
    "# insert one molecule of solute\n",
    "s.insert_molecules(\"sulfamerazine\",sulfamerazine['pdb'], nmol=1, final_conf='{}.pdb'.format(\"sulfamerazine\"))\n",
    "\n",
    "# center the solute in the box (optional)\n",
    "s.center_box()\n",
    "\n",
    "view=nv.show_structure_file(s.last_saved_structure)\n",
    "view.add_unitcell(opacity=1)\n",
    "view.camera='orthographic'\n",
    "view"
   ]
  },
  {
   "cell_type": "code",
   "execution_count": 7,
   "id": "55e13e8e-506b-477c-bf44-7f0810d134fd",
   "metadata": {
    "scrolled": true,
    "tags": []
   },
   "outputs": [
    {
     "name": "stdout",
     "output_type": "stream",
     "text": [
      "236 molecules of residue TOL have been added. The file Systems/sulfamerazine_toluene/sulfamerazine_toluene.pdb has been created.\n"
     ]
    },
    {
     "data": {
      "application/vnd.jupyter.widget-view+json": {
       "model_id": "d40ace622a08489f8b2700db23ea233b",
       "version_major": 2,
       "version_minor": 0
      },
      "text/plain": [
       "NGLWidget()"
      ]
     },
     "metadata": {},
     "output_type": "display_data"
    }
   ],
   "source": [
    "# estimate the number of solvent molecules for the target density\n",
    "nmol_solv= int(toluene[\"density\"]/toluene[\"MW\"]*6.022*1e23/1e24*V)\n",
    "\n",
    "# insert the solvent molecules\n",
    "s.insert_molecules(\"toluene\",toluene['pdb'],nmol=nmol_solv, initial_conf=s.last_saved_structure, final_conf='{}.pdb'.format(name))\n",
    "\n",
    "view=nv.show_structure_file(s.last_saved_structure)\n",
    "view.add_unitcell(opacity=1)\n",
    "view.camera='orthographic'\n",
    "view"
   ]
  },
  {
   "cell_type": "code",
   "execution_count": 8,
   "id": "df2b9f3e-841f-4bc8-9aeb-9c9efec02730",
   "metadata": {
    "scrolled": true,
    "tags": []
   },
   "outputs": [
    {
     "name": "stdout",
     "output_type": "stream",
     "text": [
      "atom type ca already existing, continuing...\n",
      "atom type c3 already existing, continuing...\n",
      "atom type hc already existing, continuing...\n",
      "atom type ha already existing, continuing...\n"
     ]
    }
   ],
   "source": [
    "# create the topology file of the system\n",
    "s.species[sulfamerazine[\"resname\"]]['top']=sulfamerazine['top']\n",
    "s.species[toluene[\"resname\"]]['top']=toluene['top']\n",
    "s.create_topology('topol.top')"
   ]
  },
  {
   "cell_type": "markdown",
   "id": "270b0adf-7d6b-47ac-9431-e1b9f348ff3e",
   "metadata": {},
   "source": [
    "Once the initial configuration of system has been defined, we can start to define the simulations we want to perform.\n",
    "For each simulation we define a dict with the options/parameters for the simulation, then we add the simulation."
   ]
  },
  {
   "cell_type": "code",
   "execution_count": 9,
   "id": "61f091ea-e7b1-482d-99cc-139c315e95ec",
   "metadata": {
    "scrolled": true,
    "tags": []
   },
   "outputs": [
    {
     "name": "stdout",
     "output_type": "stream",
     "text": [
      "Simulation em(type em) will start from configuration ./Systems/sulfamerazine_toluene/sulfamerazine_toluene.pdb.\n",
      "Added simulation em (0) to system sulfamerazine_toluene (0).\n",
      "Simulation nvt(type posre) will start from configuration ./Systems/sulfamerazine_toluene/em/em.gro.\n",
      "Added simulation nvt (1) to system sulfamerazine_toluene (0).\n",
      "Simulation npt(type posre) will start from configuration ./Systems/sulfamerazine_toluene/nvt/nvt.gro.\n",
      "Added simulation npt (2) to system sulfamerazine_toluene (0).\n",
      "Simulation md(type md) will start from configuration ./Systems/sulfamerazine_toluene/npt/npt.gro.\n",
      "Added simulation md (3) to system sulfamerazine_toluene (0).\n"
     ]
    }
   ],
   "source": [
    "em_dict={'path_mdp':'/home/matteo/Work/organic_molecules_simulations/sim_launch_py/mdp/em.mdp',\n",
    "         'maxwarn':2, 'nsteps':1000, 'coordinates':s.last_saved_structure}\n",
    "\n",
    "s.add_simulation('em','em',simulation_dict=em_dict)\n",
    "\n",
    "nvt_dict={'path_mdp': '/home/matteo/Work/organic_molecules_simulations/sim_launch_py/mdp/nvt.mdp',\n",
    "          'maxwarn':2,\n",
    "          'coordinates':'{}/{}.gro'.format(s.simulations[-1].path,s.simulations[-1].name),\n",
    "          'posre':'{}/{}.gro'.format(s.simulations[-1].path,s.simulations[-1].name),\n",
    "          'nsteps':50000}\n",
    "\n",
    "s.add_simulation('nvt','posre',simulation_dict=nvt_dict)\n",
    "\n",
    "npt_dict={'path_mdp': '/home/matteo/Work/organic_molecules_simulations/sim_launch_py/mdp/npt.mdp',\n",
    "          'maxwarn':2,\n",
    "          'coordinates':'{}/{}.gro'.format(s.simulations[-1].path,s.simulations[-1].name),\n",
    "          'posre':'{}/{}.gro'.format(s.simulations[-1].path,s.simulations[-1].name),\n",
    "          'nsteps':50000}\n",
    "\n",
    "s.add_simulation('npt','posre',simulation_dict=npt_dict)\n",
    "        \n",
    "md_dict={'path_mdp': '/home/matteo/Work/organic_molecules_simulations/sim_launch_py/mdp/mdparrinello.mdp',\n",
    "         'maxwarn':2, 'coordinates':'{}/{}.gro'.format(s.simulations[-1].path,s.simulations[-1].name),\n",
    "         'nsteps':5000000, 'plumed':'plumed.dat'}\n",
    "                     \n",
    "s.add_simulation('md','md',simulation_dict=md_dict)\n",
    "\n",
    "sim=s.find_simulation_by_name('md')"
   ]
  },
  {
   "cell_type": "markdown",
   "id": "85665027-dba6-4601-9313-ad18ac206d6e",
   "metadata": {
    "tags": []
   },
   "source": [
    "We can define collective variables (CV) to be monitored during the simulation. \n",
    "To do that we use the Simulation.add_cv() method for each CV we want to add. \n",
    "\n",
    "Then we create the plumed file with the sim_launch_py.plumed.write_plumed_file() method"
   ]
  },
  {
   "cell_type": "code",
   "execution_count": 10,
   "id": "23599356-f9f6-45f4-9d1e-895716289dc2",
   "metadata": {
    "scrolled": true,
    "tags": []
   },
   "outputs": [
    {
     "name": "stdout",
     "output_type": "stream",
     "text": [
      "Written run script file in ./Systems/sulfamerazine_toluene/run.myriad\n"
     ]
    }
   ],
   "source": [
    "for irot,rot in enumerate(sulfamerazine['rotatables']):\n",
    "    sim.add_cv('dih_{}'.format(irot),'torsion',cv_dict={'atoms':np.array(rot)+1})\n",
    "\n",
    "wrtplumed('{}/plumed.dat'.format(sim.path),sim,colvar='COLVAR')\n",
    "        \n",
    "myriad_dict={'wallclock':'12:00:00',\n",
    "             'job_name':s.name,\n",
    "             'mpi':12,\n",
    "             'omp':6,\n",
    "             'gmx_bin':'gmx_mpi'}\n",
    "\n",
    "s.create_run_script('run.myriad',platform='myriad',platform_dict=myriad_dict)"
   ]
  },
  {
   "cell_type": "markdown",
   "id": "b30468c7-8b0a-44d3-ba9f-46c52126257d",
   "metadata": {},
   "source": [
    "Finally we can save the project and run the simulations on our HPC system of choice."
   ]
  },
  {
   "cell_type": "code",
   "execution_count": 11,
   "id": "ce7ae70e-1167-4796-8f55-0939585d5459",
   "metadata": {
    "tags": []
   },
   "outputs": [
    {
     "name": "stdout",
     "output_type": "stream",
     "text": [
      "\n",
      "Saving Project...done\n"
     ]
    }
   ],
   "source": [
    "p.save()        \n"
   ]
  }
 ],
 "metadata": {
  "kernelspec": {
   "display_name": "Python 3 (ipykernel)",
   "language": "python",
   "name": "python3"
  },
  "language_info": {
   "codemirror_mode": {
    "name": "ipython",
    "version": 3
   },
   "file_extension": ".py",
   "mimetype": "text/x-python",
   "name": "python",
   "nbconvert_exporter": "python",
   "pygments_lexer": "ipython3",
   "version": "3.8.18"
  }
 },
 "nbformat": 4,
 "nbformat_minor": 5
}
