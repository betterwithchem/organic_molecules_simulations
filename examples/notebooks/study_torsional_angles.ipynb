{
 "cells": [
  {
   "cell_type": "markdown",
   "id": "7be51adf-8715-4668-aac9-f12d07cbc35b",
   "metadata": {},
   "source": [
    "# Study Torsional Angles of Organic Molecules\n",
    "\n",
    "In this example we will create a solute-in-solvent system and we will use unbiased molecular dynamics (MD) and metadynamics (MetaD) simulations to study the conformational space of the solute molecules.\n",
    "\n",
    "\n",
    "In this example we will see how to:  \n",
    "1) create a new project object;  \n",
    "2) add a new system object to the project;  \n",
    "3) create from scratch a system of arbitrary composition;  \n",
    "4) prepare the files necessary to run MD simulations;  \n",
    "5) define a TORSION collective variable and use it to estimate parameters for MetaD simulations;  \n"
   ]
  },
  {
   "cell_type": "markdown",
   "id": "e880e3e5-c22f-48cb-9a2f-7e86022e22b8",
   "metadata": {},
   "source": [
    "## 0. Load the necessary modules:\n",
    "\n",
    "- The ***Project*** class from the ***sim_launch_py.classes*** module is used to create a new project with the **new_project()** method.  \n",
    "- The modules found in ***sim_launch_py.external*** can be used together with the tools within the library but are thought as independent tools that can be used alone too. In this case we will use the ***molecules.findTorsionalAngles*** module to identify the rotatable angles of a given small molecule.\n",
    "- The ***sim_launch_py.plumed*** module contains the classes and methods needed to create and use plumed files, i.e. definition of collective variables, bias, and creation of plumed files.\n",
    "- The ***nglview*** module is used for visualization purposes in this Notebook"
   ]
  },
  {
   "cell_type": "code",
   "execution_count": 12,
   "id": "9c4448e6-6868-4297-9b37-b56637482b26",
   "metadata": {
    "tags": []
   },
   "outputs": [],
   "source": [
    "from sim_launch_py.classes import Project\n",
    "from sim_launch_py.external import molecules as mols\n",
    "from sim_launch_py.plumed import write_plumed_file as wrtplumed\n",
    "import numpy as np\n",
    "import os\n",
    "\n",
    "import nglview as nv"
   ]
  },
  {
   "cell_type": "markdown",
   "id": "25f76511-b084-4dba-bcd6-a4887538e43a",
   "metadata": {},
   "source": [
    "In this simple example we will create a single system of sulfamerazine in toluene.\n",
    "\n",
    "We will need:\n",
    "- a structure file (e.g. a PDB file) of each species\n",
    "- a topology file in Gromacs format (.top) for each species. See Notebook \\*** for how to automate the generation of gaff parameters.\n",
    "- the chosen residue name (3 upper case letters)\n"
   ]
  },
  {
   "cell_type": "code",
   "execution_count": 13,
   "id": "85b5e3a8-ccc0-4482-ae6c-b9309cd1e000",
   "metadata": {
    "tags": []
   },
   "outputs": [],
   "source": [
    "mols_path=\"/home/matteo/Work/organic_molecules_simulations/examples\"\n",
    "\n",
    "sulfamerazine={\"pdb\":\"{}/Structures/sulfamerazine/sulfamerazine.pdb\".format(mols_path),\n",
    "                          \"top\":\"{}/Topologies/sulfamerazine.top\".format(mols_path),\n",
    "                          \"resname\":\"SUR\"}\n",
    "\n",
    "toluene={\"pdb\":\"{}/Structures/toluene/toluene.pdb\".format(mols_path),\n",
    "                     \"top\":\"{}/Topologies/toluene.top\".format(mols_path),\n",
    "                     \"density\":870.,\n",
    "                     \"MW\":92.141,\n",
    "                     \"resname\":\"TOL\"}\n",
    "\n",
    "sulfamerazine[\"rotatables\"]=mols.findTorsionalAngles(sulfamerazine['pdb'])"
   ]
  },
  {
   "cell_type": "code",
   "execution_count": 14,
   "id": "f8d94296-910c-4718-9316-5b8c325c79dd",
   "metadata": {
    "tags": []
   },
   "outputs": [
    {
     "data": {
      "application/vnd.jupyter.widget-view+json": {
       "model_id": "645378073cf144dbb6641339fdf5f236",
       "version_major": 2,
       "version_minor": 0
      },
      "text/plain": [
       "VBox(children=(HBox(children=(NGLWidget(), NGLWidget())),))"
      ]
     },
     "execution_count": 14,
     "metadata": {},
     "output_type": "execute_result"
    }
   ],
   "source": [
    "def makeview(models, showBox=True):\n",
    "    import math\n",
    "    views=[]\n",
    "    for model in models:\n",
    "        view=nv.show_structure_file(model)\n",
    "        view._remote_call(\"setSize\",target=\"Widget\",\n",
    "                         args=[\"{}px\".format(500/len(models)),\"{}px\".format(500/len(models))])\n",
    "        view.parameters=dict(backgroundColor='white',clipDist=-100,\n",
    "                            sampleLevel=3)\n",
    "        if showBox:\n",
    "            view.add_unitcell()\n",
    "        view.camera='orthographic'\n",
    "        views.append(view)\n",
    "    import ipywidgets\n",
    "    hboxes = [ipywidgets.HBox(views[i*2:i*2+2])\n",
    "             for i in range(int(math.ceil(len(views)/2.0)))]\n",
    "    vbox=ipywidgets.VBox(hboxes)\n",
    "    return vbox\n",
    "\n",
    "\n",
    "box=makeview([sulfamerazine['pdb'], toluene['pdb']],showBox=False)\n",
    "box"
   ]
  },
  {
   "cell_type": "markdown",
   "id": "a3a0d258-302e-427c-92fe-994584bb9d67",
   "metadata": {},
   "source": [
    "## 1. Create a new project object\n",
    "\n",
    "Here we create a new project with the name **'torsional_angles'**. This creates a new directory at the indicated path. Please note that the *overwrite=True* flag deletes an already existent directory at the given path.\n",
    "\n",
    "When a project is created, the program will look for Gromacs and AmberTools binaries in your *PATH*. If they are not found, a prompt will ask to manually indicate them. \n"
   ]
  },
  {
   "cell_type": "code",
   "execution_count": 24,
   "id": "5bb457de-612e-4526-894a-46ebcbc1f48f",
   "metadata": {
    "scrolled": true,
    "tags": []
   },
   "outputs": [
    {
     "name": "stdout",
     "output_type": "stream",
     "text": [
      "New Project: torsional_angles\n",
      "====================================================================================================\n"
     ]
    }
   ],
   "source": [
    "pname='torsional_angles'\n",
    "p=Project.new_project(name=pname,path='./{}'.format(pname),overwrite=True)\n"
   ]
  },
  {
   "cell_type": "markdown",
   "id": "179e2724-2200-403c-ac37-21e8a7639692",
   "metadata": {},
   "source": [
    "## 2. Create a new system object in the project\n",
    "\n",
    "Here we create a system named **'sulfamerazine_toluene'** in the project using the *Project.add_system()* method.  This command creates a directory with the same name of the system inside the *project/path/Systems* directory."
   ]
  },
  {
   "cell_type": "code",
   "execution_count": 25,
   "id": "f7a71f6a",
   "metadata": {
    "tags": []
   },
   "outputs": [
    {
     "name": "stdout",
     "output_type": "stream",
     "text": [
      "**************************************************\n",
      "Created system sulfamerazine_toluene\n",
      "**************************************************\n"
     ]
    }
   ],
   "source": [
    "name='{}_{}'.format(\"sulfamerazine\",\"toluene\")\n",
    "p.add_system(name)\n",
    "\n",
    "# get the system object\n",
    "s=p.find_system_by_name(name)\n"
   ]
  },
  {
   "cell_type": "markdown",
   "id": "5a294e17",
   "metadata": {},
   "source": [
    "## 3. Create an initial configuration from scratch\n",
    "\n",
    "### 3.1 Add the solute\n",
    "There are two ways to create initial configurations for MD simulations:\n",
    "1) Insert the wanted molecules in a box of a given size and shape\n",
    "2) Import an already existend configuration, which can be modified by adding/removing molecules and changing the box parameters\n",
    "\n",
    "In this example we will follow the first case.\n",
    "\n",
    "Before than inserting any molecule, we need to define a box. In this case we use a __cubic__ box with a side of __3.5__ nm using the *system.add_box()* method.  \n",
    "\n",
    "We want here to create a box with a single molecule of solute (*sulfamerazine*) in solvent (*toluene*).  \n",
    "We can add molecules with the *system.insert_molecules()* method.\n",
    "\n",
    "First we add one molecule of sulfamerazine and then we center it in the box with *system.center_box()* method.\n"
   ]
  },
  {
   "cell_type": "code",
   "execution_count": 17,
   "id": "2cc1b304-8432-4301-b71c-b3781e3bdc80",
   "metadata": {
    "scrolled": true,
    "tags": []
   },
   "outputs": [
    {
     "name": "stdout",
     "output_type": "stream",
     "text": [
      "1 molecules of residue SUR have been added. The file Systems/sulfamerazine_toluene/sulfamerazine.pdb has been created.\n"
     ]
    },
    {
     "data": {
      "application/vnd.jupyter.widget-view+json": {
       "model_id": "a4d48e09983e4f6eaf69e1b66e88001b",
       "version_major": 2,
       "version_minor": 0
      },
      "text/plain": [
       "VBox(children=(HBox(children=(NGLWidget(),)),))"
      ]
     },
     "execution_count": 17,
     "metadata": {},
     "output_type": "execute_result"
    }
   ],
   "source": [
    "side=3.5 # nm, side of the simulation box\n",
    "V=side*side*side*0.97 #nm**3, volume of the simulation box\n",
    "s.add_box(side,shape='cubic')\n",
    "\n",
    "s.insert_molecules(\"sulfamerazine\",sulfamerazine['pdb'], nmol=1, final_conf='{}.pdb'.format(\"sulfamerazine\"))\n",
    "\n",
    "s.center_box()\n",
    "\n",
    "box=makeview([s.last_saved_structure])\n",
    "box\n"
   ]
  },
  {
   "cell_type": "markdown",
   "id": "90d1abc4",
   "metadata": {},
   "source": [
    "### 3.2 Solvate the system\n",
    "\n",
    "Once we added the solute molecule we can solvate it. Note that at the beginning of this example we defined the Molecular Weight (MW) and the density (in g/dm^3) of the solvent in the *toluene* dict. We use here these values to estimate the number of molecules needed to achieve the target density for our simulation box.\n",
    "\n",
    "The number of solvent molecules will be equal to   \n",
    "$\\Large N_{solv} [molec] = \\frac{\\rho  [g/dm^3] }{ MW [g/mol]} \\frac {N_{Av}[molec/mol]}{10^{24} [nm^3/dm^3]} V_{box} [nm^3]$"
   ]
  },
  {
   "cell_type": "code",
   "execution_count": 18,
   "id": "55e13e8e-506b-477c-bf44-7f0810d134fd",
   "metadata": {
    "scrolled": true,
    "tags": []
   },
   "outputs": [
    {
     "name": "stdout",
     "output_type": "stream",
     "text": [
      "236 molecules of residue TOL have been added. The file Systems/sulfamerazine_toluene/sulfamerazine_toluene.pdb has been created.\n"
     ]
    },
    {
     "data": {
      "application/vnd.jupyter.widget-view+json": {
       "model_id": "f79757592a6d456d968304798039cfd1",
       "version_major": 2,
       "version_minor": 0
      },
      "text/plain": [
       "VBox(children=(HBox(children=(NGLWidget(),)),))"
      ]
     },
     "execution_count": 18,
     "metadata": {},
     "output_type": "execute_result"
    }
   ],
   "source": [
    "# estimate the number of solvent molecules for the target density\n",
    "nmol_solv= int(toluene[\"density\"]/toluene[\"MW\"]*6.022*1e23/1e24*V)\n",
    "\n",
    "# insert the solvent molecules\n",
    "s.insert_molecules(\"toluene\",toluene['pdb'],nmol=nmol_solv, initial_conf=s.last_saved_structure, final_conf='{}.pdb'.format(name))\n",
    "\n",
    "\n",
    "box=makeview([s.last_saved_structure])\n",
    "box"
   ]
  },
  {
   "cell_type": "markdown",
   "id": "41361ac2",
   "metadata": {},
   "source": [
    "## 4. Create the files and directories needed to run MD simulations\n",
    "\n",
    "### 4.1 Create the topology file for the system\n",
    "\n",
    "The first step is to generate the topology file in Gromacs format (.top) for our system. Here we assume that we already have topology files (i.e. parameters) for each species of the system in separate .top files.\n",
    "\n",
    "We can add these files to the **System.species** _dict_. Note that the actual location of these files has been define at the beginning of this Notebook.\n",
    "\n",
    "Then we can create the topology for the system with the **System.create_topology()** method. This method looks for the 'top' attributes in the **System.species** _dict_ for all the species in the system, it extracts the atomtypes and the molecule definitions and combine them in a single topology file."
   ]
  },
  {
   "cell_type": "code",
   "execution_count": 19,
   "id": "df2b9f3e-841f-4bc8-9aeb-9c9efec02730",
   "metadata": {
    "scrolled": true,
    "tags": []
   },
   "outputs": [
    {
     "name": "stdout",
     "output_type": "stream",
     "text": [
      "atom type ca already existing, continuing...\n",
      "atom type c3 already existing, continuing...\n",
      "atom type hc already existing, continuing...\n",
      "atom type ha already existing, continuing...\n"
     ]
    }
   ],
   "source": [
    "# create the topology file of the system\n",
    "s.species[sulfamerazine[\"resname\"]]['top']=sulfamerazine['top']\n",
    "s.species[toluene[\"resname\"]]['top']=toluene['top']\n",
    "s.create_topology('topol.top')"
   ]
  },
  {
   "cell_type": "markdown",
   "id": "270b0adf-7d6b-47ac-9431-e1b9f348ff3e",
   "metadata": {},
   "source": [
    "## 4.2 Define the simulations to be run\n",
    "\n",
    "Once the initial configuration of system has been defined, we can start to define the simulations we want to perform.\n",
    "For each simulation we define a dict with the options/parameters for the simulation, then we add the simulation to the system.\n",
    "\n",
    "Each simulation _dict_ will be something like:\n",
    "```\n",
    "simulation_dict = {'path_mdp':'/path/to/mdp/file/sim.mdp',     # path of the custom mdp file to be used\n",
    "                   'maxwarn':2,                                # maximum number of warnings for gmx grompp\n",
    "                   'nsteps':50000,                             # number of steps for the simulation\n",
    "                   'coordinates':'/path/to/starting/conf.pdb', # path to starting coordinates\n",
    "                   'posre':'/path/to/posre/conf.pdb',          # for 'posre' simulations, path to\n",
    "                                                                 reference positions\n",
    "                   'plumed':'plumed.dat'}                      # for 'md' simulations, name of the plumed \n",
    "                                                                 file if used\n",
    "```\n",
    "\n",
    "***Available options in the simulation dicts are subject to change in future versions of the package***\n",
    "\n",
    "\n",
    "Simulations are then added with the **System.add_simulation()** method. \n",
    "At the moment there are 3 types of simulations that can be specified:\n",
    "'em' : energy minimization.\n",
    "'posre' : position restrained simulations (i.e. equilibration steps).\n",
    "'md' : unrestrained MD simulations, either unbiased or biased. The difference is all in the plumed file, if provided.\n"
   ]
  },
  {
   "cell_type": "code",
   "execution_count": 20,
   "id": "61f091ea-e7b1-482d-99cc-139c315e95ec",
   "metadata": {
    "scrolled": true,
    "tags": []
   },
   "outputs": [
    {
     "name": "stdout",
     "output_type": "stream",
     "text": [
      "Simulation em(type em) will start from configuration ./Systems/sulfamerazine_toluene/sulfamerazine_toluene.pdb.\n",
      "Added simulation em (0) to system sulfamerazine_toluene (0).\n",
      "Simulation nvt(type posre) will start from configuration ./Systems/sulfamerazine_toluene/em/em.gro.\n",
      "Added simulation nvt (1) to system sulfamerazine_toluene (0).\n",
      "Simulation npt(type posre) will start from configuration ./Systems/sulfamerazine_toluene/nvt/nvt.gro.\n",
      "Added simulation npt (2) to system sulfamerazine_toluene (0).\n",
      "Simulation md(type md) will start from configuration ./Systems/sulfamerazine_toluene/npt/npt.gro.\n",
      "Added simulation md (3) to system sulfamerazine_toluene (0).\n"
     ]
    }
   ],
   "source": [
    "em_dict={'path_mdp':'/home/matteo/Work/organic_molecules_simulations/sim_launch_py/mdp/em.mdp',\n",
    "         'maxwarn':2, 'nsteps':1000, 'coordinates':s.last_saved_structure}\n",
    "\n",
    "s.add_simulation('em','em',simulation_dict=em_dict)\n",
    "\n",
    "nvt_dict={'path_mdp': '/home/matteo/Work/organic_molecules_simulations/sim_launch_py/mdp/nvt.mdp',\n",
    "          'maxwarn':2,\n",
    "          'coordinates':'{}/{}.gro'.format(s.simulations[-1].path,s.simulations[-1].name),\n",
    "          'posre':'{}/{}.gro'.format(s.simulations[-1].path,s.simulations[-1].name),\n",
    "          'nsteps':50000}\n",
    "\n",
    "s.add_simulation('nvt','posre',simulation_dict=nvt_dict)\n",
    "\n",
    "npt_dict={'path_mdp': '/home/matteo/Work/organic_molecules_simulations/sim_launch_py/mdp/npt.mdp',\n",
    "          'maxwarn':2,\n",
    "          'coordinates':'{}/{}.gro'.format(s.simulations[-1].path,s.simulations[-1].name),\n",
    "          'posre':'{}/{}.gro'.format(s.simulations[-1].path,s.simulations[-1].name),\n",
    "          'nsteps':50000}\n",
    "\n",
    "s.add_simulation('npt','posre',simulation_dict=npt_dict)\n",
    "        \n",
    "md_dict={'path_mdp': '/home/matteo/Work/organic_molecules_simulations/sim_launch_py/mdp/mdparrinello.mdp',\n",
    "         'maxwarn':2, 'coordinates':'{}/{}.gro'.format(s.simulations[-1].path,s.simulations[-1].name),\n",
    "         'nsteps':5000000, 'plumed':'plumed.dat'}\n",
    "                     \n",
    "s.add_simulation('md','md',simulation_dict=md_dict)\n",
    "\n",
    "sim=s.find_simulation_by_name('md')"
   ]
  },
  {
   "cell_type": "markdown",
   "id": "85665027-dba6-4601-9313-ad18ac206d6e",
   "metadata": {
    "tags": []
   },
   "source": [
    "## 4.3 Define collective variables (CVs) to be monitored during the simulation \n",
    "\n",
    "In 'md' type simulations we can provide plumed files to compute variables (and bias the system).\n",
    "\n",
    "Variables can be added with the **Simulation.add_cv()** method.\n",
    "***For the moment, only the TORSION cv can be used***\n",
    "\n",
    "We defined the dihedral angles of the molecule at the beginning of the Notebook with the ***molecules.findTorsionalAngles*** module. The module returns a list of rotatables (each defined as a list of 0-based atom indexes) for the provided structure. This means that to use the atom indexes of our system, we need to take into account two things:\n",
    "1. that the indexes used by plumed are 1-based (so we add 1), and \n",
    "2. that the absolute index values of our molecule may not start from 0, because it could be that it is not the first molecule in the system. This can be done by using the absolute index of the first atom of our molecule:  ```system.molecules[ith_molecule].atoms[0].absindex```. In our case the molecule of interest (the solute) is the first molecule of the system, so we don't need to add anything.\n",
    "\n",
    "After we added all the CVs, we can write the plumed file with the **sim_launch_py.plumed.write_plumed_file()** method."
   ]
  },
  {
   "cell_type": "code",
   "execution_count": null,
   "id": "660e0e63",
   "metadata": {
    "tags": []
   },
   "outputs": [],
   "source": [
    "for irot,rot in enumerate(sulfamerazine['rotatables']):\n",
    "    sim.add_cv('dih_{}'.format(irot),'torsion',cv_dict={'atoms':np.array(rot)+1})\n",
    "\n",
    "wrtplumed('{}/plumed.dat'.format(sim.path),sim,colvar='COLVAR')\n",
    "   "
   ]
  },
  {
   "cell_type": "markdown",
   "id": "88be6180",
   "metadata": {},
   "source": [
    "## 5. Prepare simulation scripts\n",
    "\n",
    "Once the simulations we want to run are defined, we can create simulation scripts to run them locally or on an HPC system.\n",
    "First a platform *dict* is defined with some platform/scheduler dependent parameter, then the script is created with the *System.create_run_script()* method.  \n",
    "\n",
    "At the moment, supported platforms are: 'bash', 'myriad', 'archer', and 'custom'.\n",
    "\n",
    "- **'bash'** just writes the sequence of bash commands to run the simulations (so change of directories, gmx grompp and gmx mdrun commands)  \n",
    "- **'myriad'** and 'archer' use an internal template for UCL Myriad and Archer2 platforms to create the respective job scripts. These can be used as starting points for other GridEngine ('myriad') and SLURM ('archer') based systems after some tweakings.  \n",
    "- **'custom'** reads a user provided job script template and adds to it the bash commands to run the simulations.  \n",
    "\n",
    "In this example we create a script for Myriad, asking for 12 hours, 12 cores, 6 OMP threads per MPI rank, and use gmx_mpi as binary of gromacs. "
   ]
  },
  {
   "cell_type": "code",
   "execution_count": 26,
   "id": "1a01df6f",
   "metadata": {
    "tags": []
   },
   "outputs": [
    {
     "name": "stdout",
     "output_type": "stream",
     "text": [
      "Written run script file in ./Systems/sulfamerazine_toluene/run.myriad\n"
     ]
    }
   ],
   "source": [
    "myriad_dict={'wallclock':'12:00:00',\n",
    "             'job_name':s.name,\n",
    "             'mpi':12,\n",
    "             'omp':6,\n",
    "             'gmx_bin':'gmx_mpi'}\n",
    "\n",
    "s.create_run_script('run.myriad',platform='myriad',platform_dict=myriad_dict)"
   ]
  },
  {
   "cell_type": "markdown",
   "id": "b30468c7-8b0a-44d3-ba9f-46c52126257d",
   "metadata": {},
   "source": [
    "## Save the project\n",
    "\n",
    "We can save the project with the **Project.save()** method"
   ]
  },
  {
   "cell_type": "code",
   "execution_count": 27,
   "id": "ce7ae70e-1167-4796-8f55-0939585d5459",
   "metadata": {
    "tags": []
   },
   "outputs": [
    {
     "name": "stdout",
     "output_type": "stream",
     "text": [
      "\n",
      "Saving Project...done\n"
     ]
    }
   ],
   "source": [
    "p.save()        \n"
   ]
  }
 ],
 "metadata": {
  "kernelspec": {
   "display_name": "Python 3 (ipykernel)",
   "language": "python",
   "name": "python3"
  },
  "language_info": {
   "codemirror_mode": {
    "name": "ipython",
    "version": 3
   },
   "file_extension": ".py",
   "mimetype": "text/x-python",
   "name": "python",
   "nbconvert_exporter": "python",
   "pygments_lexer": "ipython3",
   "version": "3.8.18"
  },
  "widgets": {
   "application/vnd.jupyter.widget-state+json": {
    "state": {
     "00172a1f05194eefbfc4b51d4b7efdd1": {
      "model_module": "@jupyter-widgets/controls",
      "model_module_version": "2.0.0",
      "model_name": "ButtonStyleModel",
      "state": {
       "font_family": null,
       "font_size": null,
       "font_style": null,
       "font_variant": null,
       "font_weight": null,
       "text_color": null,
       "text_decoration": null
      }
     },
     "004fb4dbe70f42729ba9c6a88526b037": {
      "model_module": "@jupyter-widgets/controls",
      "model_module_version": "2.0.0",
      "model_name": "IntSliderModel",
      "state": {
       "behavior": "drag-tap",
       "layout": "IPY_MODEL_987ae09c805f448d909f15dafa91c347",
       "max": 0,
       "style": "IPY_MODEL_6240eb10ac77419b93c63e00eb79af43"
      }
     },
     "005c091f98564cc6aee74a052209aeed": {
      "model_module": "@jupyter-widgets/controls",
      "model_module_version": "2.0.0",
      "model_name": "LinkModel",
      "state": {
       "source": [
        "IPY_MODEL_c8a67fb27d724293b3bbf02f74d5c5aa",
        "value"
       ],
       "target": [
        "IPY_MODEL_8723512fe87245b2827478c9075e3379",
        "frame"
       ]
      }
     },
     "007cd01fb0184c6dacc4a69b17de2fb0": {
      "model_module": "@jupyter-widgets/controls",
      "model_module_version": "2.0.0",
      "model_name": "DescriptionStyleModel",
      "state": {
       "description_width": ""
      }
     },
     "008ab1cc2c5c4458b49d2696d271596b": {
      "model_module": "@jupyter-widgets/base",
      "model_module_version": "2.0.0",
      "model_name": "LayoutModel",
      "state": {}
     },
     "00b69e23524e46a19f15b63151ecf0f2": {
      "model_module": "@jupyter-widgets/base",
      "model_module_version": "2.0.0",
      "model_name": "LayoutModel",
      "state": {}
     },
     "00f6bcc667c74ed6844880caebafd1dd": {
      "model_module": "@jupyter-widgets/controls",
      "model_module_version": "2.0.0",
      "model_name": "DescriptionStyleModel",
      "state": {
       "description_width": ""
      }
     },
     "00fff8dfe528489a83b1216fa685dde9": {
      "model_module": "nglview-js-widgets",
      "model_module_version": "3.0.8",
      "model_name": "NGLModel",
      "state": {
       "_camera_orientation": [],
       "_camera_str": "orthographic",
       "_gui_theme": null,
       "_ibtn_fullscreen": "IPY_MODEL_6c0371664dcd4b9f892358df9157cdf2",
       "_igui": null,
       "_iplayer": "IPY_MODEL_24075162ad6f40eca0977103d9927e90",
       "_ngl_color_dict": {},
       "_ngl_coordinate_resource": {},
       "_ngl_full_stage_parameters": {},
       "_ngl_msg_archive": [
        {
         "args": [
          {
           "binary": false,
           "data": "HETATM    1  C1  SUR     1       5.068  -1.116   0.968  1.00  0.00           C\nHETATM    2  C2  SUR     1       3.683  -0.937   0.400  1.00  0.00           C\nHETATM    3  N1  SUR     1       2.956   0.117   0.730  1.00  0.00           N\nHETATM    4  C3  SUR     1       1.738   0.281   0.234  1.00  0.00           C\nHETATM    5  N2  SUR     1       1.206  -0.596  -0.604  1.00  0.00           N\nHETATM    6  C4  SUR     1       1.880  -1.672  -0.975  1.00  0.00           C\nHETATM    7  C5  SUR     1       3.159  -1.871  -0.480  1.00  0.00           C\nHETATM    8  N3  SUR     1       1.004   1.396   0.601  1.00  0.00           N\nHETATM    9  S1  SUR     1      -0.342   1.824  -0.265  1.00  0.00           S\nHETATM   10  O1  SUR     1      -0.884   2.957   0.398  1.00  0.00           O\nHETATM   11  O2  SUR     1       0.048   1.778  -1.631  1.00  0.00           O\nHETATM   12  C6  SUR     1      -1.529   0.538  -0.063  1.00  0.00           C\nHETATM   13  C7  SUR     1      -2.436   0.594   0.979  1.00  0.00           C\nHETATM   14  C8  SUR     1      -3.368  -0.412   1.141  1.00  0.00           C\nHETATM   15  C9  SUR     1      -3.394  -1.481   0.255  1.00  0.00           C\nHETATM   16  C10 SUR     1      -2.481  -1.535  -0.791  1.00  0.00           C\nHETATM   17  C11 SUR     1      -1.556  -0.523  -0.950  1.00  0.00           C\nHETATM   18  N4  SUR     1      -4.335  -2.501   0.415  1.00  0.00           N\nHETATM   19  H1  SUR     1       5.008  -1.679   1.899  1.00  0.00           H\nHETATM   20  H2  SUR     1       5.686  -1.659   0.253  1.00  0.00           H\nHETATM   21  H3  SUR     1       5.510  -0.139   1.162  1.00  0.00           H\nHETATM   22  H4  SUR     1       1.441  -2.384  -1.658  1.00  0.00           H\nHETATM   23  H5  SUR     1       3.732  -2.741  -0.767  1.00  0.00           H\nHETATM   24  H6  SUR     1       1.277   1.927   1.366  1.00  0.00           H\nHETATM   25  H7  SUR     1      -2.416   1.426   1.668  1.00  0.00           H\nHETATM   26  H8  SUR     1      -4.076  -0.367   1.955  1.00  0.00           H\nHETATM   27  H9  SUR     1      -2.499  -2.365  -1.482  1.00  0.00           H\nHETATM   28  H10 SUR     1      -0.846  -0.564  -1.763  1.00  0.00           H\nHETATM   29  H11 SUR     1      -4.972  -2.463   1.146  1.00  0.00           H\nHETATM   30  H12 SUR     1      -4.352  -3.247  -0.204  1.00  0.00           H\nCONECT    1   20   19   21    2\nCONECT   16   15   17   27\nCONECT   17   12   28   16\nCONECT    2    7    3    1\nCONECT    4    5    8    3\nCONECT    6    5    7   22\nCONECT    7    6    2   23\nCONECT   12    9   17   13\nCONECT   13   14   12   25\nCONECT   14   26   15   13\nCONECT   15   14   18   16\nCONECT   19    1\nCONECT   28   17\nCONECT   29   18\nCONECT   30   18\nCONECT   20    1\nCONECT   21    1\nCONECT   22    6\nCONECT   23    7\nCONECT   24    8\nCONECT   25   13\nCONECT   26   14\nCONECT   27   16\nCONECT    3    4    2\nCONECT    5    4    6\nCONECT    8    4    9   24\nCONECT   18   15   30   29\nCONECT   10    9\nCONECT   11    9\nCONECT    9    8   10   12   11\nEND\n",
           "type": "blob"
          }
         ],
         "kwargs": {
          "defaultRepresentation": true,
          "ext": "pdb"
         },
         "methodName": "loadFile",
         "reconstruc_color_scheme": false,
         "target": "Stage",
         "type": "call_method"
        },
        {
         "args": [
          "200px",
          "200px"
         ],
         "kwargs": {},
         "methodName": "setSize",
         "reconstruc_color_scheme": false,
         "target": "Widget",
         "type": "call_method"
        },
        {
         "args": [
          {
           "backgroundColor": "white",
           "clipDist": -100,
           "sampleLevel": 3
          }
         ],
         "kwargs": {},
         "methodName": "setParameters",
         "reconstruc_color_scheme": false,
         "target": "Widget",
         "type": "call_method"
        },
        {
         "args": [
          "unitcell"
         ],
         "component_index": 0,
         "kwargs": {
          "sele": "all"
         },
         "methodName": "addRepresentation",
         "reconstruc_color_scheme": false,
         "target": "compList",
         "type": "call_method"
        },
        {
         "args": [],
         "kwargs": {
          "cameraType": "orthographic"
         },
         "methodName": "setParameters",
         "reconstruc_color_scheme": false,
         "target": "Stage",
         "type": "call_method"
        }
       ],
       "_ngl_original_stage_parameters": {},
       "_ngl_repr_dict": {},
       "_ngl_serialize": false,
       "_ngl_version": "",
       "_ngl_view_id": [],
       "_player_dict": {},
       "_scene_position": {},
       "_scene_rotation": {},
       "_synced_model_ids": [],
       "_synced_repr_model_ids": [],
       "_view_height": "",
       "_view_width": "",
       "background": "white",
       "frame": 0,
       "gui_style": null,
       "layout": "IPY_MODEL_8e51ff7e24254817a434cca916a1b24f",
       "max_frame": 0,
       "n_components": 0,
       "picked": {}
      }
     },
     "01ddd5bf5f904d6d8ee7edf2936a7ee2": {
      "model_module": "@jupyter-widgets/controls",
      "model_module_version": "2.0.0",
      "model_name": "VBoxModel",
      "state": {
       "children": [
        "IPY_MODEL_4cde29539f2e4a959c7af5d5acca85b1"
       ],
       "layout": "IPY_MODEL_f3758eea02174287bfb93e27f9dfbf11"
      }
     },
     "01e2e5d9a2d24e86a860f17a8558f42f": {
      "model_module": "@jupyter-widgets/controls",
      "model_module_version": "2.0.0",
      "model_name": "ButtonModel",
      "state": {
       "icon": "compress",
       "layout": "IPY_MODEL_0a5d53290f4b4b5783ba4dfd1b79a434",
       "style": "IPY_MODEL_ea8ba8adaf2e4a8194c54423dda1d0a2",
       "tooltip": null
      }
     },
     "020e2e954b9641a8853c2bbe867c4ae7": {
      "model_module": "@jupyter-widgets/base",
      "model_module_version": "2.0.0",
      "model_name": "LayoutModel",
      "state": {}
     },
     "02f06d069fe54c6296ce79c6cc67e5d2": {
      "model_module": "@jupyter-widgets/controls",
      "model_module_version": "2.0.0",
      "model_name": "VBoxModel",
      "state": {
       "children": [
        "IPY_MODEL_f2c508bf18474a6296faee03cfe8744f"
       ],
       "layout": "IPY_MODEL_277e80b357ae4d8ebcf7a31a458a5847"
      }
     },
     "030c3f86e82b4fa8a90481e152278aa9": {
      "model_module": "@jupyter-widgets/controls",
      "model_module_version": "2.0.0",
      "model_name": "LinkModel",
      "state": {
       "source": [
        "IPY_MODEL_0d3907768d4b426fa9b0ca9c47d5f51c",
        "value"
       ],
       "target": [
        "IPY_MODEL_d4813c4aa28f4f7a81a5a35ba866b177",
        "value"
       ]
      }
     },
     "0386c4b72e614dee9ba0c61e4df80da7": {
      "model_module": "@jupyter-widgets/controls",
      "model_module_version": "2.0.0",
      "model_name": "LinkModel",
      "state": {
       "source": [
        "IPY_MODEL_ba95f974f5cf469fa233633366ae2f03",
        "value"
       ],
       "target": [
        "IPY_MODEL_414aa3b00af9405daf069619eca1bd08",
        "value"
       ]
      }
     },
     "04a8e4c242e44747b9f08a559f98be89": {
      "model_module": "@jupyter-widgets/controls",
      "model_module_version": "2.0.0",
      "model_name": "LinkModel",
      "state": {
       "source": [
        "IPY_MODEL_3f72601323ff4f33a9602a14e60163a7",
        "max"
       ],
       "target": [
        "IPY_MODEL_839ed00b5d5e4025be16f0e0fbc1cf77",
        "max_frame"
       ]
      }
     },
     "052ecb9f63734418918bf57036d3dd1b": {
      "model_module": "@jupyter-widgets/base",
      "model_module_version": "2.0.0",
      "model_name": "LayoutModel",
      "state": {}
     },
     "05845095e85c4f4e800faf660831221b": {
      "model_module": "@jupyter-widgets/base",
      "model_module_version": "2.0.0",
      "model_name": "LayoutModel",
      "state": {}
     },
     "05feadf69c7a4910b1a059c9f3b2760d": {
      "model_module": "@jupyter-widgets/controls",
      "model_module_version": "2.0.0",
      "model_name": "LinkModel",
      "state": {
       "source": [
        "IPY_MODEL_1946d65a913f4fe48192c513d89440ed",
        "max"
       ],
       "target": [
        "IPY_MODEL_c64adb80ee1f4bd584da6393cb3a3c3b",
        "max_frame"
       ]
      }
     },
     "0657c5320d314ef4b0cd58aa8d2dbdf5": {
      "model_module": "@jupyter-widgets/controls",
      "model_module_version": "2.0.0",
      "model_name": "LinkModel",
      "state": {
       "source": [
        "IPY_MODEL_10003318e84d4ec1a3a715d31a940b12",
        "value"
       ],
       "target": [
        "IPY_MODEL_185853e5acbc47dba420c3f405de44e7",
        "frame"
       ]
      }
     },
     "0665194fff954a44b5ebd60b6587b098": {
      "model_module": "nglview-js-widgets",
      "model_module_version": "3.0.8",
      "model_name": "NGLModel",
      "state": {
       "_camera_orientation": [
        20.283246487951367,
        0,
        0,
        0,
        0,
        20.283246487951367,
        0,
        0,
        0,
        0,
        20.283246487951367,
        0,
        -19.729999542236328,
        -20,
        -20.270000457763672,
        1
       ],
       "_camera_str": "orthographic",
       "_gui_theme": null,
       "_ibtn_fullscreen": "IPY_MODEL_3b493f6d0c3a4f048f765fae05126ce4",
       "_igui": null,
       "_iplayer": "IPY_MODEL_a1026f4fb02b4d89ab2ef92fcaea6f3e",
       "_ngl_color_dict": {},
       "_ngl_coordinate_resource": {},
       "_ngl_full_stage_parameters": {
        "ambientColor": 14540253,
        "ambientIntensity": 0.2,
        "backgroundColor": "white",
        "cameraEyeSep": 0.3,
        "cameraFov": 40,
        "cameraType": "orthographic",
        "clipDist": -100,
        "clipFar": 100,
        "clipMode": "scene",
        "clipNear": 0,
        "clipScale": "relative",
        "fogFar": 100,
        "fogNear": 50,
        "hoverTimeout": 0,
        "impostor": true,
        "lightColor": 14540253,
        "lightIntensity": 1,
        "mousePreset": "default",
        "panSpeed": 1,
        "quality": "medium",
        "rotateSpeed": 2,
        "sampleLevel": 3,
        "tooltip": true,
        "workerDefault": true,
        "zoomSpeed": 1.2
       },
       "_ngl_msg_archive": [
        {
         "args": [
          {
           "binary": false,
           "data": "TITLE     MOL_GMX.gro created by acpype (Rev: 0) on Thu Feb 15 00:22:45 2018\nREMARK    THIS IS A SIMULATION BOX\nCRYST1   40.000   40.000   40.000  90.00  90.00  90.00 P 1           1\nMODEL        1\nATOM      1  C1  TOL     1      20.000  21.200  19.990  1.00  0.00            \nATOM      2  C2  TOL     1      20.720  20.000  19.990  1.00  0.00            \nATOM      3  C3  TOL     1      20.000  18.800  19.990  1.00  0.00            \nATOM      4  C4  TOL     1      18.610  18.800  20.000  1.00  0.00            \nATOM      5  C5  TOL     1      17.910  20.000  20.010  1.00  0.00            \nATOM      6  C6  TOL     1      18.610  21.200  20.000  1.00  0.00            \nATOM      7  C7  TOL     1      22.230  20.000  20.010  1.00  0.00            \nATOM      8  H1  TOL     1      22.630  19.120  19.510  1.00  0.00            \nATOM      9  H2  TOL     1      22.630  20.880  19.510  1.00  0.00            \nATOM     10  H3  TOL     1      22.610  20.000  21.030  1.00  0.00            \nATOM     11  H4  TOL     1      20.540  17.860  19.980  1.00  0.00            \nATOM     12  H5  TOL     1      18.080  17.860  20.000  1.00  0.00            \nATOM     13  H6  TOL     1      16.830  20.000  20.020  1.00  0.00            \nATOM     14  H7  TOL     1      18.080  22.140  20.000  1.00  0.00            \nATOM     15  H8  TOL     1      20.540  22.140  19.980  1.00  0.00            \nTER\nENDMDL\n",
           "type": "blob"
          }
         ],
         "kwargs": {
          "defaultRepresentation": true,
          "ext": "pdb"
         },
         "methodName": "loadFile",
         "reconstruc_color_scheme": false,
         "target": "Stage",
         "type": "call_method"
        },
        {
         "args": [
          "200px",
          "200px"
         ],
         "kwargs": {},
         "methodName": "setSize",
         "reconstruc_color_scheme": false,
         "target": "Widget",
         "type": "call_method"
        },
        {
         "args": [
          {
           "backgroundColor": "white",
           "clipDist": -100,
           "sampleLevel": 3
          }
         ],
         "kwargs": {},
         "methodName": "setParameters",
         "reconstruc_color_scheme": false,
         "target": "Widget",
         "type": "call_method"
        },
        {
         "args": [
          "unitcell"
         ],
         "component_index": 0,
         "kwargs": {
          "sele": "all"
         },
         "methodName": "addRepresentation",
         "reconstruc_color_scheme": false,
         "target": "compList",
         "type": "call_method"
        },
        {
         "args": [],
         "kwargs": {
          "cameraType": "orthographic"
         },
         "methodName": "setParameters",
         "reconstruc_color_scheme": false,
         "target": "Stage",
         "type": "call_method"
        }
       ],
       "_ngl_original_stage_parameters": {
        "ambientColor": 14540253,
        "ambientIntensity": 0.2,
        "backgroundColor": "white",
        "cameraEyeSep": 0.3,
        "cameraFov": 40,
        "cameraType": "perspective",
        "clipDist": 10,
        "clipFar": 100,
        "clipMode": "scene",
        "clipNear": 0,
        "clipScale": "relative",
        "fogFar": 100,
        "fogNear": 50,
        "hoverTimeout": 0,
        "impostor": true,
        "lightColor": 14540253,
        "lightIntensity": 1,
        "mousePreset": "default",
        "panSpeed": 1,
        "quality": "medium",
        "rotateSpeed": 2,
        "sampleLevel": 0,
        "tooltip": true,
        "workerDefault": true,
        "zoomSpeed": 1.2
       },
       "_ngl_repr_dict": {
        "0": {
         "0": {
          "params": {
           "aspectRatio": 1.5,
           "assembly": "default",
           "bondScale": 0.3,
           "bondSpacing": 0.75,
           "clipCenter": {
            "x": 0,
            "y": 0,
            "z": 0
           },
           "clipNear": 0,
           "clipRadius": 0,
           "colorMode": "hcl",
           "colorReverse": false,
           "colorScale": "",
           "colorScheme": "element",
           "colorValue": 9474192,
           "cylinderOnly": false,
           "defaultAssembly": "",
           "depthWrite": true,
           "diffuse": 16777215,
           "diffuseInterior": false,
           "disableImpostor": false,
           "disablePicking": false,
           "flatShaded": false,
           "interiorColor": 2236962,
           "interiorDarkening": 0,
           "lazy": false,
           "lineOnly": false,
           "linewidth": 2,
           "matrix": {
            "elements": [
             1,
             0,
             0,
             0,
             0,
             1,
             0,
             0,
             0,
             0,
             1,
             0,
             0,
             0,
             0,
             1
            ]
           },
           "metalness": 0,
           "multipleBond": "off",
           "opacity": 1,
           "openEnded": true,
           "quality": "high",
           "radialSegments": 20,
           "radiusData": {},
           "radiusScale": 2,
           "radiusSize": 0.15,
           "radiusType": "size",
           "roughness": 0.4,
           "sele": "",
           "side": "double",
           "sphereDetail": 2,
           "useInteriorColor": true,
           "visible": true,
           "wireframe": false
          },
          "type": "ball+stick"
         },
         "1": {
          "params": {
           "clipCenter": {
            "x": 0,
            "y": 0,
            "z": 0
           },
           "clipNear": 0,
           "clipRadius": 0,
           "colorMode": "hcl",
           "colorReverse": false,
           "colorScale": "",
           "colorScheme": "element",
           "colorValue": "orange",
           "defaultAssembly": "",
           "depthWrite": true,
           "diffuse": 16777215,
           "diffuseInterior": false,
           "disableImpostor": false,
           "disablePicking": false,
           "flatShaded": false,
           "interiorColor": 2236962,
           "interiorDarkening": 0,
           "lazy": false,
           "matrix": {
            "elements": [
             1,
             0,
             0,
             0,
             0,
             1,
             0,
             0,
             0,
             0,
             1,
             0,
             0,
             0,
             0,
             1
            ]
           },
           "metalness": 0,
           "opacity": 1,
           "quality": "medium",
           "radialSegments": 10,
           "radiusData": {},
           "radiusScale": 1,
           "radiusSize": 0.19999999122077702,
           "radiusType": "vdw",
           "roughness": 0.4,
           "sele": "all",
           "side": "double",
           "sphereDetail": 1,
           "useInteriorColor": true,
           "visible": true,
           "wireframe": false
          },
          "type": "unitcell"
         }
        }
       },
       "_ngl_serialize": false,
       "_ngl_version": "2.0.0-dev.39",
       "_ngl_view_id": [
        "8F1CE649-CDF8-4FF9-A923-8C3B1C129945"
       ],
       "_player_dict": {},
       "_scene_position": {},
       "_scene_rotation": {},
       "_synced_model_ids": [],
       "_synced_repr_model_ids": [],
       "_view_height": "",
       "_view_width": "",
       "background": "white",
       "frame": 0,
       "gui_style": null,
       "layout": "IPY_MODEL_431ddda001ab480f91f20cf5c5332188",
       "max_frame": 0,
       "n_components": 1,
       "picked": {}
      }
     },
     "0744b35d324d4c5fa62632870be28fcf": {
      "model_module": "nglview-js-widgets",
      "model_module_version": "3.0.8",
      "model_name": "NGLModel",
      "state": {
       "_camera_orientation": [
        -19.333623737950262,
        -19.562329906158382,
        66.65657173631065,
        0,
        7.046504603869683,
        -69.3853094935097,
        -18.319331679771974,
        0,
        69.10955129258875,
        1.601995308505062,
        20.51525883347608,
        0,
        -18.400999546051025,
        -16.4229998588562,
        -17.188499927520752,
        1
       ],
       "_camera_str": "orthographic",
       "_gui_theme": null,
       "_ibtn_fullscreen": "IPY_MODEL_ec616610ad454624bb68791697011f44",
       "_igui": null,
       "_iplayer": "IPY_MODEL_34aae4e35a054c4586e1c1fcf2a8495c",
       "_ngl_color_dict": {},
       "_ngl_coordinate_resource": {},
       "_ngl_full_stage_parameters": {
        "ambientColor": 14540253,
        "ambientIntensity": 0.2,
        "backgroundColor": "white",
        "cameraEyeSep": 0.3,
        "cameraFov": 40,
        "cameraType": "orthographic",
        "clipDist": -100,
        "clipFar": 100,
        "clipMode": "scene",
        "clipNear": 0,
        "clipScale": "relative",
        "fogFar": 100,
        "fogNear": 50,
        "hoverTimeout": 0,
        "impostor": true,
        "lightColor": 14540253,
        "lightIntensity": 1,
        "mousePreset": "default",
        "panSpeed": 1,
        "quality": "medium",
        "rotateSpeed": 2,
        "sampleLevel": 3,
        "tooltip": true,
        "workerDefault": true,
        "zoomSpeed": 1.2
       },
       "_ngl_msg_archive": [
        {
         "args": [
          {
           "binary": false,
           "data": "TITLE     GROningen MAchine for Chemical Simulation\nREMARK    THIS IS A SIMULATION BOX\nCRYST1   35.000   35.000   35.000  90.00  90.00  90.00 P 1           1\nMODEL        1\nATOM      1  C1  SUR     1      15.403  12.922  17.431  1.00  1.00           C\nATOM      2  C2  SUR     1      15.752  14.378  17.609  1.00  1.00           C\nATOM      3  N1  SUR     1      15.943  15.153  16.555  1.00  1.00           N\nATOM      4  C3  SUR     1      16.249  16.433  16.703  1.00  1.00           C\nATOM      5  N2  SUR     1      16.374  16.983  17.902  1.00  1.00           N\nATOM      6  C4  SUR     1      16.196  16.263  18.998  1.00  1.00           C\nATOM      7  C5  SUR     1      15.868  14.922  18.878  1.00  1.00           C\nATOM      8  N3  SUR     1      16.444  17.216  15.578  1.00  1.00           N\nATOM      9  S1  SUR     1      16.458  18.868  15.710  1.00  1.00           S\nATOM     10  O1  SUR     1      16.733  19.357  14.405  1.00  1.00           O\nATOM     11  O2  SUR     1      15.318  19.202  16.491  1.00  1.00           O\nATOM     12  C6  SUR     1      17.855  19.306  16.690  1.00  1.00           C\nATOM     13  C7  SUR     1      19.073  19.551  16.084  1.00  1.00           C\nATOM     14  C8  SUR     1      20.170  19.895  16.848  1.00  1.00           C\nATOM     15  C9  SUR     1      20.049  19.995  18.228  1.00  1.00           C\nATOM     16  C10 SUR     1      18.823  19.747  18.834  1.00  1.00           C\nATOM     17  C11 SUR     1      17.730  19.410  18.063  1.00  1.00           C\nATOM     18  N4  SUR     1      21.156  20.342  19.005  1.00  1.00           N\nATOM     19  H1  SUR     1      16.318  12.332  17.394  1.00  1.00           H\nATOM     20  H2  SUR     1      14.790  12.591  18.270  1.00  1.00           H\nATOM     21  H3  SUR     1      14.849  12.792  16.502  1.00  1.00           H\nATOM     22  H4  SUR     1      16.299  16.716  19.972  1.00  1.00           H\nATOM     23  H5  SUR     1      15.716  14.311  19.757  1.00  1.00           H\nATOM     24  H6  SUR     1      16.572  16.798  14.712  1.00  1.00           H\nATOM     25  H7  SUR     1      19.167  19.474  15.010  1.00  1.00           H\nATOM     26  H8  SUR     1      21.121  20.086  16.374  1.00  1.00           H\nATOM     27  H9  SUR     1      18.726  19.824  19.907  1.00  1.00           H\nATOM     28  H10 SUR     1      16.777  19.217  18.534  1.00  1.00           H\nATOM     29  H11 SUR     1      22.012  20.514  18.581  1.00  1.00           H\nATOM     30  H12 SUR     1      21.070  20.411  19.969  1.00  1.00           H\nTER\nENDMDL\n",
           "type": "blob"
          }
         ],
         "kwargs": {
          "defaultRepresentation": true,
          "ext": "pdb"
         },
         "methodName": "loadFile",
         "reconstruc_color_scheme": false,
         "target": "Stage",
         "type": "call_method"
        },
        {
         "args": [
          "500.0px",
          "500.0px"
         ],
         "kwargs": {},
         "methodName": "setSize",
         "reconstruc_color_scheme": false,
         "target": "Widget",
         "type": "call_method"
        },
        {
         "args": [
          {
           "backgroundColor": "white",
           "clipDist": -100,
           "sampleLevel": 3
          }
         ],
         "kwargs": {},
         "methodName": "setParameters",
         "reconstruc_color_scheme": false,
         "target": "Widget",
         "type": "call_method"
        },
        {
         "args": [
          "unitcell"
         ],
         "component_index": 0,
         "kwargs": {
          "sele": "all"
         },
         "methodName": "addRepresentation",
         "reconstruc_color_scheme": false,
         "target": "compList",
         "type": "call_method"
        },
        {
         "args": [],
         "kwargs": {
          "cameraType": "orthographic"
         },
         "methodName": "setParameters",
         "reconstruc_color_scheme": false,
         "target": "Stage",
         "type": "call_method"
        }
       ],
       "_ngl_original_stage_parameters": {
        "ambientColor": 14540253,
        "ambientIntensity": 0.2,
        "backgroundColor": "white",
        "cameraEyeSep": 0.3,
        "cameraFov": 40,
        "cameraType": "perspective",
        "clipDist": 10,
        "clipFar": 100,
        "clipMode": "scene",
        "clipNear": 0,
        "clipScale": "relative",
        "fogFar": 100,
        "fogNear": 50,
        "hoverTimeout": 0,
        "impostor": true,
        "lightColor": 14540253,
        "lightIntensity": 1,
        "mousePreset": "default",
        "panSpeed": 1,
        "quality": "medium",
        "rotateSpeed": 2,
        "sampleLevel": 0,
        "tooltip": true,
        "workerDefault": true,
        "zoomSpeed": 1.2
       },
       "_ngl_repr_dict": {
        "0": {
         "0": {
          "params": {
           "aspectRatio": 1.5,
           "assembly": "default",
           "bondScale": 0.3,
           "bondSpacing": 0.75,
           "clipCenter": {
            "x": 0,
            "y": 0,
            "z": 0
           },
           "clipNear": 0,
           "clipRadius": 0,
           "colorMode": "hcl",
           "colorReverse": false,
           "colorScale": "",
           "colorScheme": "element",
           "colorValue": 9474192,
           "cylinderOnly": false,
           "defaultAssembly": "",
           "depthWrite": true,
           "diffuse": 16777215,
           "diffuseInterior": false,
           "disableImpostor": false,
           "disablePicking": false,
           "flatShaded": false,
           "interiorColor": 2236962,
           "interiorDarkening": 0,
           "lazy": false,
           "lineOnly": false,
           "linewidth": 2,
           "matrix": {
            "elements": [
             1,
             0,
             0,
             0,
             0,
             1,
             0,
             0,
             0,
             0,
             1,
             0,
             0,
             0,
             0,
             1
            ]
           },
           "metalness": 0,
           "multipleBond": "off",
           "opacity": 1,
           "openEnded": true,
           "quality": "high",
           "radialSegments": 20,
           "radiusData": {},
           "radiusScale": 2,
           "radiusSize": 0.15,
           "radiusType": "size",
           "roughness": 0.4,
           "sele": "",
           "side": "double",
           "sphereDetail": 2,
           "useInteriorColor": true,
           "visible": true,
           "wireframe": false
          },
          "type": "ball+stick"
         },
         "1": {
          "params": {
           "clipCenter": {
            "x": 0,
            "y": 0,
            "z": 0
           },
           "clipNear": 0,
           "clipRadius": 0,
           "colorMode": "hcl",
           "colorReverse": false,
           "colorScale": "",
           "colorScheme": "element",
           "colorValue": "orange",
           "defaultAssembly": "",
           "depthWrite": true,
           "diffuse": 16777215,
           "diffuseInterior": false,
           "disableImpostor": false,
           "disablePicking": false,
           "flatShaded": false,
           "interiorColor": 2236962,
           "interiorDarkening": 0,
           "lazy": false,
           "matrix": {
            "elements": [
             1,
             0,
             0,
             0,
             0,
             1,
             0,
             0,
             0,
             0,
             1,
             0,
             0,
             0,
             0,
             1
            ]
           },
           "metalness": 0,
           "opacity": 1,
           "quality": "medium",
           "radialSegments": 10,
           "radiusData": {},
           "radiusScale": 1,
           "radiusSize": 0.17499999231817992,
           "radiusType": "vdw",
           "roughness": 0.4,
           "sele": "all",
           "side": "double",
           "sphereDetail": 1,
           "useInteriorColor": true,
           "visible": true,
           "wireframe": false
          },
          "type": "unitcell"
         }
        }
       },
       "_ngl_serialize": false,
       "_ngl_version": "2.0.0-dev.39",
       "_ngl_view_id": [
        "1EA98AE1-F22B-4C7D-AD72-1ACE92E271AD"
       ],
       "_player_dict": {},
       "_scene_position": {},
       "_scene_rotation": {},
       "_synced_model_ids": [],
       "_synced_repr_model_ids": [],
       "_view_height": "",
       "_view_width": "",
       "background": "white",
       "frame": 0,
       "gui_style": null,
       "layout": "IPY_MODEL_2e3fbc0c49a34a3bbd39f9573f810a37",
       "max_frame": 0,
       "n_components": 1,
       "picked": {}
      }
     },
     "07683838b6144cb197fd8a98c603f552": {
      "model_module": "@jupyter-widgets/base",
      "model_module_version": "2.0.0",
      "model_name": "LayoutModel",
      "state": {}
     },
     "07aaff8a16bd41e885118d4459dc6df4": {
      "model_module": "@jupyter-widgets/controls",
      "model_module_version": "2.0.0",
      "model_name": "ImageModel",
      "state": {
       "layout": "IPY_MODEL_e87baf8d95454e39993aafb0d6abed94",
       "width": "900.0"
      }
     },
     "085ce48eb37c4c288de81af45c8efc34": {
      "model_module": "@jupyter-widgets/base",
      "model_module_version": "2.0.0",
      "model_name": "LayoutModel",
      "state": {}
     },
     "08a23cc81f124b52bf7142d2cc908fcb": {
      "model_module": "@jupyter-widgets/controls",
      "model_module_version": "2.0.0",
      "model_name": "LinkModel",
      "state": {
       "source": [
        "IPY_MODEL_fe4b42522d8344e293a5b272485c5810",
        "max"
       ],
       "target": [
        "IPY_MODEL_c770e344679e4578a8b5d26da900a10c",
        "max_frame"
       ]
      }
     },
     "08e5516c6631436791c2c324745a1c9b": {
      "model_module": "@jupyter-widgets/base",
      "model_module_version": "2.0.0",
      "model_name": "LayoutModel",
      "state": {}
     },
     "094f134616864597a876cd02845772b2": {
      "model_module": "@jupyter-widgets/controls",
      "model_module_version": "2.0.0",
      "model_name": "VBoxModel",
      "state": {
       "children": [
        "IPY_MODEL_e1939341ce4f4eb299f262aacfdd558e"
       ],
       "layout": "IPY_MODEL_5f9679a727c24ae9a9ce581b727e5104"
      }
     },
     "09e2872a4ae546349e246e13a2f75250": {
      "model_module": "@jupyter-widgets/controls",
      "model_module_version": "2.0.0",
      "model_name": "PlayModel",
      "state": {
       "layout": "IPY_MODEL_3d7dd31ca9894b96bea01a5728bc7857",
       "max": 0,
       "style": "IPY_MODEL_d8f634595dc144d3b8d8a59882bbe40a"
      }
     },
     "09eab9f7c2ae42579c3fdd44d0e998ec": {
      "model_module": "@jupyter-widgets/controls",
      "model_module_version": "2.0.0",
      "model_name": "LinkModel",
      "state": {
       "source": [
        "IPY_MODEL_185a8691f3e74b949765dbdb9ac9e363",
        "max"
       ],
       "target": [
        "IPY_MODEL_7900676d76b44b749562f38d0fa6c46c",
        "max_frame"
       ]
      }
     },
     "0a16984791bc41c8af928a88293d1eba": {
      "model_module": "@jupyter-widgets/controls",
      "model_module_version": "2.0.0",
      "model_name": "LinkModel",
      "state": {
       "source": [
        "IPY_MODEL_de26e53224a246509643ec161adfc905",
        "max"
       ],
       "target": [
        "IPY_MODEL_46dadeb0b8754f0eaf07f0803026c92e",
        "max_frame"
       ]
      }
     },
     "0a5d53290f4b4b5783ba4dfd1b79a434": {
      "model_module": "@jupyter-widgets/base",
      "model_module_version": "2.0.0",
      "model_name": "LayoutModel",
      "state": {
       "width": "34px"
      }
     },
     "0c1ced64f22f4fe2a24397ddf6c4d408": {
      "model_module": "@jupyter-widgets/controls",
      "model_module_version": "2.0.0",
      "model_name": "ButtonStyleModel",
      "state": {
       "font_family": null,
       "font_size": null,
       "font_style": null,
       "font_variant": null,
       "font_weight": null,
       "text_color": null,
       "text_decoration": null
      }
     },
     "0c23a8051b5444d78dc7fa00b3c913dd": {
      "model_module": "@jupyter-widgets/controls",
      "model_module_version": "2.0.0",
      "model_name": "SliderStyleModel",
      "state": {
       "description_width": ""
      }
     },
     "0c72a769b1664ef7a7397ec0eca38ad8": {
      "model_module": "@jupyter-widgets/controls",
      "model_module_version": "2.0.0",
      "model_name": "LinkModel",
      "state": {
       "source": [
        "IPY_MODEL_1f5f73894670477da7c1e90b15659737",
        "max"
       ],
       "target": [
        "IPY_MODEL_f2618dd9874d4fdb8fffe45458c34a95",
        "max_frame"
       ]
      }
     },
     "0d1600233db849d59638a66662803351": {
      "model_module": "@jupyter-widgets/controls",
      "model_module_version": "2.0.0",
      "model_name": "SliderStyleModel",
      "state": {
       "description_width": ""
      }
     },
     "0d327007a8fa447d94d4df66d5bc6380": {
      "model_module": "@jupyter-widgets/controls",
      "model_module_version": "2.0.0",
      "model_name": "ButtonModel",
      "state": {
       "icon": "compress",
       "layout": "IPY_MODEL_17d85ddce7b4468fb2460e0ae1c33506",
       "style": "IPY_MODEL_0c1ced64f22f4fe2a24397ddf6c4d408",
       "tooltip": null
      }
     },
     "0d3907768d4b426fa9b0ca9c47d5f51c": {
      "model_module": "@jupyter-widgets/controls",
      "model_module_version": "2.0.0",
      "model_name": "PlayModel",
      "state": {
       "layout": "IPY_MODEL_928afce5d81840eabf1bc3eb5a493b70",
       "max": 0,
       "style": "IPY_MODEL_4b33da13d42148929c44bf05694be4b4"
      }
     },
     "0d5776a55a0c496491e23bdee516c098": {
      "model_module": "@jupyter-widgets/base",
      "model_module_version": "2.0.0",
      "model_name": "LayoutModel",
      "state": {}
     },
     "0d7b3752fbfd482bb721e77f6af9ff92": {
      "model_module": "@jupyter-widgets/controls",
      "model_module_version": "2.0.0",
      "model_name": "ImageModel",
      "state": {
       "layout": "IPY_MODEL_78440ef9d29a46df914f2b06b4e50e74",
       "width": "900.0"
      }
     },
     "0dad738346c741d485532a1f3bf0bbff": {
      "model_module": "@jupyter-widgets/controls",
      "model_module_version": "2.0.0",
      "model_name": "LinkModel",
      "state": {
       "source": [
        "IPY_MODEL_16f6e3c73fa14db3b725c338ff9457f9",
        "value"
       ],
       "target": [
        "IPY_MODEL_df19eb6bb3094250bc6b7eea1ef809d7",
        "value"
       ]
      }
     },
     "0e38f1a7d283495aae8ca790c4ce6ff8": {
      "model_module": "@jupyter-widgets/controls",
      "model_module_version": "2.0.0",
      "model_name": "LinkModel",
      "state": {
       "source": [
        "IPY_MODEL_ebc42a649ead41899dbe303e276b36ae",
        "value"
       ],
       "target": [
        "IPY_MODEL_f070c7449d744c6eb8ec90772c11eda4",
        "value"
       ]
      }
     },
     "0f1ba4f635eb4fb293a0ac76afe95fbf": {
      "model_module": "@jupyter-widgets/base",
      "model_module_version": "2.0.0",
      "model_name": "LayoutModel",
      "state": {}
     },
     "10003318e84d4ec1a3a715d31a940b12": {
      "model_module": "@jupyter-widgets/controls",
      "model_module_version": "2.0.0",
      "model_name": "PlayModel",
      "state": {
       "layout": "IPY_MODEL_ee728d77848544d580242b27b76fcc9a",
       "max": 0,
       "style": "IPY_MODEL_00f6bcc667c74ed6844880caebafd1dd"
      }
     },
     "11143a285f7b445a97f1d724d20cee19": {
      "model_module": "@jupyter-widgets/base",
      "model_module_version": "2.0.0",
      "model_name": "LayoutModel",
      "state": {}
     },
     "115f4f23516d48fcbd5a699808050fda": {
      "model_module": "@jupyter-widgets/controls",
      "model_module_version": "2.0.0",
      "model_name": "VBoxModel",
      "state": {
       "children": [
        "IPY_MODEL_d7face1f2642450ba276262d1c7445d9"
       ],
       "layout": "IPY_MODEL_307b2bedf642401a807257915adb3f9e"
      }
     },
     "123c0948565845098bf2932629bfa1c6": {
      "model_module": "@jupyter-widgets/base",
      "model_module_version": "2.0.0",
      "model_name": "LayoutModel",
      "state": {}
     },
     "12710d055cd0445eaf52d549c5059b98": {
      "model_module": "@jupyter-widgets/base",
      "model_module_version": "2.0.0",
      "model_name": "LayoutModel",
      "state": {}
     },
     "12d80db5a4684dd99133bd4edb19c43f": {
      "model_module": "@jupyter-widgets/controls",
      "model_module_version": "2.0.0",
      "model_name": "ButtonModel",
      "state": {
       "icon": "compress",
       "layout": "IPY_MODEL_be4ed41b9765460a8b011c89167f050b",
       "style": "IPY_MODEL_63ba8c0c1d884be6a4e1bf7506c92d6b",
       "tooltip": null
      }
     },
     "13c364f089324b67a5e692a8f806f7c1": {
      "model_module": "@jupyter-widgets/base",
      "model_module_version": "2.0.0",
      "model_name": "LayoutModel",
      "state": {}
     },
     "13e81e57b62e45a28bce49a47f50247e": {
      "model_module": "@jupyter-widgets/controls",
      "model_module_version": "2.0.0",
      "model_name": "HBoxModel",
      "state": {
       "children": [
        "IPY_MODEL_f159149cccf94f2fb002fa3f49124712",
        "IPY_MODEL_2974d983e4044156b3a5af655522f17b"
       ],
       "layout": "IPY_MODEL_2cb581b1927c4d12b25090246fd7b017"
      }
     },
     "14081ca6ee014df4b70fa1befee8135e": {
      "model_module": "@jupyter-widgets/base",
      "model_module_version": "2.0.0",
      "model_name": "LayoutModel",
      "state": {}
     },
     "158d93a842dc460aab5d96f9cc894ff1": {
      "model_module": "@jupyter-widgets/base",
      "model_module_version": "2.0.0",
      "model_name": "LayoutModel",
      "state": {}
     },
     "15fb2492aa304269b53164e839fa5660": {
      "model_module": "@jupyter-widgets/base",
      "model_module_version": "2.0.0",
      "model_name": "LayoutModel",
      "state": {}
     },
     "16153614c69642a6b5828e8699d2a882": {
      "model_module": "@jupyter-widgets/base",
      "model_module_version": "2.0.0",
      "model_name": "LayoutModel",
      "state": {}
     },
     "1655852ffee04f899a156df691975224": {
      "model_module": "@jupyter-widgets/controls",
      "model_module_version": "2.0.0",
      "model_name": "LinkModel",
      "state": {
       "source": [
        "IPY_MODEL_cec09e6f091045da8b8ca96ab04964f4",
        "value"
       ],
       "target": [
        "IPY_MODEL_004fb4dbe70f42729ba9c6a88526b037",
        "value"
       ]
      }
     },
     "16629b3110d24112bf4a2f3fa59b4b76": {
      "model_module": "@jupyter-widgets/base",
      "model_module_version": "2.0.0",
      "model_name": "LayoutModel",
      "state": {}
     },
     "1682dfc1fd0647938d4ddfd96ab57271": {
      "model_module": "@jupyter-widgets/controls",
      "model_module_version": "2.0.0",
      "model_name": "LinkModel",
      "state": {
       "source": [
        "IPY_MODEL_414aa3b00af9405daf069619eca1bd08",
        "max"
       ],
       "target": [
        "IPY_MODEL_51f5b7b722be4bbbac606e42e6077a5d",
        "max_frame"
       ]
      }
     },
     "16f6e3c73fa14db3b725c338ff9457f9": {
      "model_module": "@jupyter-widgets/controls",
      "model_module_version": "2.0.0",
      "model_name": "PlayModel",
      "state": {
       "layout": "IPY_MODEL_020e2e954b9641a8853c2bbe867c4ae7",
       "max": 0,
       "style": "IPY_MODEL_350cbbeb4915434299090b2f86b227f1"
      }
     },
     "1794b5f369584dfb955b8b7396d1db1a": {
      "model_module": "@jupyter-widgets/controls",
      "model_module_version": "2.0.0",
      "model_name": "PlayModel",
      "state": {
       "layout": "IPY_MODEL_c9cf73b036764086b05c8d0a91eb6157",
       "max": 0,
       "style": "IPY_MODEL_72711ea2a5d34802badf94e665cfd379"
      }
     },
     "17d85ddce7b4468fb2460e0ae1c33506": {
      "model_module": "@jupyter-widgets/base",
      "model_module_version": "2.0.0",
      "model_name": "LayoutModel",
      "state": {
       "width": "34px"
      }
     },
     "185853e5acbc47dba420c3f405de44e7": {
      "model_module": "nglview-js-widgets",
      "model_module_version": "3.0.8",
      "model_name": "NGLModel",
      "state": {
       "_camera_orientation": [
        20.283246487951367,
        0,
        0,
        0,
        0,
        20.283246487951367,
        0,
        0,
        0,
        0,
        20.283246487951367,
        0,
        -19.729999542236328,
        -20,
        -20.270000457763672,
        1
       ],
       "_camera_str": "orthographic",
       "_gui_theme": null,
       "_ibtn_fullscreen": "IPY_MODEL_1fe21028425d4f7dbdf97a268cba4adc",
       "_igui": null,
       "_iplayer": "IPY_MODEL_cce40d3845f14888b3ec3663c35ad23e",
       "_ngl_color_dict": {},
       "_ngl_coordinate_resource": {},
       "_ngl_full_stage_parameters": {
        "ambientColor": 14540253,
        "ambientIntensity": 0.2,
        "backgroundColor": "white",
        "cameraEyeSep": 0.3,
        "cameraFov": 40,
        "cameraType": "orthographic",
        "clipDist": -100,
        "clipFar": 100,
        "clipMode": "scene",
        "clipNear": 0,
        "clipScale": "relative",
        "fogFar": 100,
        "fogNear": 50,
        "hoverTimeout": 0,
        "impostor": true,
        "lightColor": 14540253,
        "lightIntensity": 1,
        "mousePreset": "default",
        "panSpeed": 1,
        "quality": "medium",
        "rotateSpeed": 2,
        "sampleLevel": 3,
        "tooltip": true,
        "workerDefault": true,
        "zoomSpeed": 1.2
       },
       "_ngl_msg_archive": [
        {
         "args": [
          {
           "binary": false,
           "data": "TITLE     MOL_GMX.gro created by acpype (Rev: 0) on Thu Feb 15 00:22:45 2018\nREMARK    THIS IS A SIMULATION BOX\nCRYST1   40.000   40.000   40.000  90.00  90.00  90.00 P 1           1\nMODEL        1\nATOM      1  C1  TOL     1      20.000  21.200  19.990  1.00  0.00            \nATOM      2  C2  TOL     1      20.720  20.000  19.990  1.00  0.00            \nATOM      3  C3  TOL     1      20.000  18.800  19.990  1.00  0.00            \nATOM      4  C4  TOL     1      18.610  18.800  20.000  1.00  0.00            \nATOM      5  C5  TOL     1      17.910  20.000  20.010  1.00  0.00            \nATOM      6  C6  TOL     1      18.610  21.200  20.000  1.00  0.00            \nATOM      7  C7  TOL     1      22.230  20.000  20.010  1.00  0.00            \nATOM      8  H1  TOL     1      22.630  19.120  19.510  1.00  0.00            \nATOM      9  H2  TOL     1      22.630  20.880  19.510  1.00  0.00            \nATOM     10  H3  TOL     1      22.610  20.000  21.030  1.00  0.00            \nATOM     11  H4  TOL     1      20.540  17.860  19.980  1.00  0.00            \nATOM     12  H5  TOL     1      18.080  17.860  20.000  1.00  0.00            \nATOM     13  H6  TOL     1      16.830  20.000  20.020  1.00  0.00            \nATOM     14  H7  TOL     1      18.080  22.140  20.000  1.00  0.00            \nATOM     15  H8  TOL     1      20.540  22.140  19.980  1.00  0.00            \nTER\nENDMDL\n",
           "type": "blob"
          }
         ],
         "kwargs": {
          "defaultRepresentation": true,
          "ext": "pdb"
         },
         "methodName": "loadFile",
         "reconstruc_color_scheme": false,
         "target": "Stage",
         "type": "call_method"
        },
        {
         "args": [
          "250.0px",
          "250.0px"
         ],
         "kwargs": {},
         "methodName": "setSize",
         "reconstruc_color_scheme": false,
         "target": "Widget",
         "type": "call_method"
        },
        {
         "args": [
          {
           "backgroundColor": "white",
           "clipDist": -100,
           "sampleLevel": 3
          }
         ],
         "kwargs": {},
         "methodName": "setParameters",
         "reconstruc_color_scheme": false,
         "target": "Widget",
         "type": "call_method"
        },
        {
         "args": [],
         "kwargs": {
          "cameraType": "orthographic"
         },
         "methodName": "setParameters",
         "reconstruc_color_scheme": false,
         "target": "Stage",
         "type": "call_method"
        }
       ],
       "_ngl_original_stage_parameters": {
        "ambientColor": 14540253,
        "ambientIntensity": 0.2,
        "backgroundColor": "white",
        "cameraEyeSep": 0.3,
        "cameraFov": 40,
        "cameraType": "perspective",
        "clipDist": 10,
        "clipFar": 100,
        "clipMode": "scene",
        "clipNear": 0,
        "clipScale": "relative",
        "fogFar": 100,
        "fogNear": 50,
        "hoverTimeout": 0,
        "impostor": true,
        "lightColor": 14540253,
        "lightIntensity": 1,
        "mousePreset": "default",
        "panSpeed": 1,
        "quality": "medium",
        "rotateSpeed": 2,
        "sampleLevel": 0,
        "tooltip": true,
        "workerDefault": true,
        "zoomSpeed": 1.2
       },
       "_ngl_repr_dict": {
        "0": {
         "0": {
          "params": {
           "aspectRatio": 1.5,
           "assembly": "default",
           "bondScale": 0.3,
           "bondSpacing": 0.75,
           "clipCenter": {
            "x": 0,
            "y": 0,
            "z": 0
           },
           "clipNear": 0,
           "clipRadius": 0,
           "colorMode": "hcl",
           "colorReverse": false,
           "colorScale": "",
           "colorScheme": "element",
           "colorValue": 9474192,
           "cylinderOnly": false,
           "defaultAssembly": "",
           "depthWrite": true,
           "diffuse": 16777215,
           "diffuseInterior": false,
           "disableImpostor": false,
           "disablePicking": false,
           "flatShaded": false,
           "interiorColor": 2236962,
           "interiorDarkening": 0,
           "lazy": false,
           "lineOnly": false,
           "linewidth": 2,
           "matrix": {
            "elements": [
             1,
             0,
             0,
             0,
             0,
             1,
             0,
             0,
             0,
             0,
             1,
             0,
             0,
             0,
             0,
             1
            ]
           },
           "metalness": 0,
           "multipleBond": "off",
           "opacity": 1,
           "openEnded": true,
           "quality": "high",
           "radialSegments": 20,
           "radiusData": {},
           "radiusScale": 2,
           "radiusSize": 0.15,
           "radiusType": "size",
           "roughness": 0.4,
           "sele": "",
           "side": "double",
           "sphereDetail": 2,
           "useInteriorColor": true,
           "visible": true,
           "wireframe": false
          },
          "type": "ball+stick"
         }
        }
       },
       "_ngl_serialize": false,
       "_ngl_version": "2.0.0-dev.39",
       "_ngl_view_id": [
        "26B3CFDB-75BC-4047-8865-9F55AAF7B6C2"
       ],
       "_player_dict": {},
       "_scene_position": {},
       "_scene_rotation": {},
       "_synced_model_ids": [],
       "_synced_repr_model_ids": [],
       "_view_height": "",
       "_view_width": "",
       "background": "white",
       "frame": 0,
       "gui_style": null,
       "layout": "IPY_MODEL_56f28889fd92476090025f56a42d9165",
       "max_frame": 0,
       "n_components": 1,
       "picked": {}
      }
     },
     "185a8691f3e74b949765dbdb9ac9e363": {
      "model_module": "@jupyter-widgets/controls",
      "model_module_version": "2.0.0",
      "model_name": "IntSliderModel",
      "state": {
       "behavior": "drag-tap",
       "layout": "IPY_MODEL_9caac6d74dea498c805c0048afd5f173",
       "max": 0,
       "style": "IPY_MODEL_cc97c5a9085d4aacb40080df43520983"
      }
     },
     "187aefdd61804eb8bfc28f4d340fd0a4": {
      "model_module": "@jupyter-widgets/base",
      "model_module_version": "2.0.0",
      "model_name": "LayoutModel",
      "state": {}
     },
     "19033db41bfc48338a7f932fbcf2e23e": {
      "model_module": "@jupyter-widgets/base",
      "model_module_version": "2.0.0",
      "model_name": "LayoutModel",
      "state": {
       "width": "34px"
      }
     },
     "193ae5e0a23d4cfeb44b23a4e7967f69": {
      "model_module": "@jupyter-widgets/base",
      "model_module_version": "2.0.0",
      "model_name": "LayoutModel",
      "state": {}
     },
     "1946d65a913f4fe48192c513d89440ed": {
      "model_module": "@jupyter-widgets/controls",
      "model_module_version": "2.0.0",
      "model_name": "PlayModel",
      "state": {
       "layout": "IPY_MODEL_633a59d08ac743989413a5be0fd2cc89",
       "max": 0,
       "style": "IPY_MODEL_82daa3f65fa94c32950f0a4587aec68e"
      }
     },
     "194e738ebe6e49f9aa118d169a2790cc": {
      "model_module": "@jupyter-widgets/controls",
      "model_module_version": "2.0.0",
      "model_name": "LinkModel",
      "state": {
       "source": [
        "IPY_MODEL_2d97ae2bc1ac4489ac4d536745e0fdaa",
        "max"
       ],
       "target": [
        "IPY_MODEL_cc1dd3fb30c04863b12929e977e28299",
        "max_frame"
       ]
      }
     },
     "195f8f3378cc4c8497dc7c5a89ce81e1": {
      "model_module": "@jupyter-widgets/controls",
      "model_module_version": "2.0.0",
      "model_name": "LinkModel",
      "state": {
       "source": [
        "IPY_MODEL_cfb488d788014c51b7e16a8136bf1a2b",
        "max"
       ],
       "target": [
        "IPY_MODEL_c64adb80ee1f4bd584da6393cb3a3c3b",
        "max_frame"
       ]
      }
     },
     "19641618db7a4ce7aab5a47b6719307c": {
      "model_module": "@jupyter-widgets/base",
      "model_module_version": "2.0.0",
      "model_name": "LayoutModel",
      "state": {}
     },
     "1a6d6c093aed4b29ac2d05116e70295b": {
      "model_module": "@jupyter-widgets/base",
      "model_module_version": "2.0.0",
      "model_name": "LayoutModel",
      "state": {}
     },
     "1bf72ddaa1b04f03b06fc76de08b24ef": {
      "model_module": "@jupyter-widgets/base",
      "model_module_version": "2.0.0",
      "model_name": "LayoutModel",
      "state": {}
     },
     "1ca0fedc6f0b42379b3bcb6d048b85f9": {
      "model_module": "@jupyter-widgets/controls",
      "model_module_version": "2.0.0",
      "model_name": "ButtonModel",
      "state": {
       "icon": "compress",
       "layout": "IPY_MODEL_3f5a02c098d947ef82f60676533dee94",
       "style": "IPY_MODEL_947acdf1c044400da57b7625d22eb4e3",
       "tooltip": null
      }
     },
     "1ce478c08fdd47dea3d29858ed5b3bd7": {
      "model_module": "@jupyter-widgets/controls",
      "model_module_version": "2.0.0",
      "model_name": "HBoxModel",
      "state": {
       "children": [
        "IPY_MODEL_3e2e05a2a9f6471ab596a9389978509b",
        "IPY_MODEL_a70352225f60483b95102af2771e1589"
       ],
       "layout": "IPY_MODEL_5ccbe612d7d64242914ee70774f9a5ac"
      }
     },
     "1d248490d67f428b935ac2bbcfbae99f": {
      "model_module": "@jupyter-widgets/base",
      "model_module_version": "2.0.0",
      "model_name": "LayoutModel",
      "state": {}
     },
     "1d6851c494ed42ffb45ae79a0b52c905": {
      "model_module": "@jupyter-widgets/controls",
      "model_module_version": "2.0.0",
      "model_name": "ButtonModel",
      "state": {
       "icon": "compress",
       "layout": "IPY_MODEL_4aa4c162413e401085eccf1815a5ae5e",
       "style": "IPY_MODEL_a714543f65ba4bf2bcc34022f7b41435",
       "tooltip": null
      }
     },
     "1dc96d1aeb554de0bbdb9f12268716ce": {
      "model_module": "@jupyter-widgets/controls",
      "model_module_version": "2.0.0",
      "model_name": "IntSliderModel",
      "state": {
       "behavior": "drag-tap",
       "layout": "IPY_MODEL_b313a29a51434e7291f04c63f556fa55",
       "max": 0,
       "style": "IPY_MODEL_5b1fb852e9e844448e878bbee0d7c7ef"
      }
     },
     "1de9eaad46bd43df844e4b7de14c494e": {
      "model_module": "@jupyter-widgets/controls",
      "model_module_version": "2.0.0",
      "model_name": "ButtonStyleModel",
      "state": {
       "font_family": null,
       "font_size": null,
       "font_style": null,
       "font_variant": null,
       "font_weight": null,
       "text_color": null,
       "text_decoration": null
      }
     },
     "1eb512965dc94f90a3e4f28484adb4bf": {
      "model_module": "@jupyter-widgets/controls",
      "model_module_version": "2.0.0",
      "model_name": "DescriptionStyleModel",
      "state": {
       "description_width": ""
      }
     },
     "1ed5b7f1985342c69cceb40cdc5f9e8d": {
      "model_module": "@jupyter-widgets/controls",
      "model_module_version": "2.0.0",
      "model_name": "LinkModel",
      "state": {
       "source": [
        "IPY_MODEL_2e7752c986c146e38ad7fd058d41441f",
        "value"
       ],
       "target": [
        "IPY_MODEL_6cffb0b2f61e4c52a82f37fc7faf2c10",
        "frame"
       ]
      }
     },
     "1ed5f821207a428da18b271a1f5e68ef": {
      "model_module": "nglview-js-widgets",
      "model_module_version": "3.0.8",
      "model_name": "NGLModel",
      "state": {
       "_camera_orientation": [
        20.283246487951367,
        0,
        0,
        0,
        0,
        20.283246487951367,
        0,
        0,
        0,
        0,
        20.283246487951367,
        0,
        -19.729999542236328,
        -20,
        -20.270000457763672,
        1
       ],
       "_camera_str": "orthographic",
       "_gui_theme": null,
       "_ibtn_fullscreen": "IPY_MODEL_2ecda16fc137437a813c11425f34b314",
       "_igui": null,
       "_iplayer": "IPY_MODEL_c318c2eddf724809bbd2839967cf806c",
       "_ngl_color_dict": {},
       "_ngl_coordinate_resource": {},
       "_ngl_full_stage_parameters": {
        "ambientColor": 14540253,
        "ambientIntensity": 0.2,
        "backgroundColor": "white",
        "cameraEyeSep": 0.3,
        "cameraFov": 40,
        "cameraType": "orthographic",
        "clipDist": -100,
        "clipFar": 100,
        "clipMode": "scene",
        "clipNear": 0,
        "clipScale": "relative",
        "fogFar": 100,
        "fogNear": 50,
        "hoverTimeout": 0,
        "impostor": true,
        "lightColor": 14540253,
        "lightIntensity": 1,
        "mousePreset": "default",
        "panSpeed": 1,
        "quality": "medium",
        "rotateSpeed": 2,
        "sampleLevel": 3,
        "tooltip": true,
        "workerDefault": true,
        "zoomSpeed": 1.2
       },
       "_ngl_msg_archive": [
        {
         "args": [
          {
           "binary": false,
           "data": "TITLE     MOL_GMX.gro created by acpype (Rev: 0) on Thu Feb 15 00:22:45 2018\nREMARK    THIS IS A SIMULATION BOX\nCRYST1   40.000   40.000   40.000  90.00  90.00  90.00 P 1           1\nMODEL        1\nATOM      1  C1  TOL     1      20.000  21.200  19.990  1.00  0.00            \nATOM      2  C2  TOL     1      20.720  20.000  19.990  1.00  0.00            \nATOM      3  C3  TOL     1      20.000  18.800  19.990  1.00  0.00            \nATOM      4  C4  TOL     1      18.610  18.800  20.000  1.00  0.00            \nATOM      5  C5  TOL     1      17.910  20.000  20.010  1.00  0.00            \nATOM      6  C6  TOL     1      18.610  21.200  20.000  1.00  0.00            \nATOM      7  C7  TOL     1      22.230  20.000  20.010  1.00  0.00            \nATOM      8  H1  TOL     1      22.630  19.120  19.510  1.00  0.00            \nATOM      9  H2  TOL     1      22.630  20.880  19.510  1.00  0.00            \nATOM     10  H3  TOL     1      22.610  20.000  21.030  1.00  0.00            \nATOM     11  H4  TOL     1      20.540  17.860  19.980  1.00  0.00            \nATOM     12  H5  TOL     1      18.080  17.860  20.000  1.00  0.00            \nATOM     13  H6  TOL     1      16.830  20.000  20.020  1.00  0.00            \nATOM     14  H7  TOL     1      18.080  22.140  20.000  1.00  0.00            \nATOM     15  H8  TOL     1      20.540  22.140  19.980  1.00  0.00            \nTER\nENDMDL\n",
           "type": "blob"
          }
         ],
         "kwargs": {
          "defaultRepresentation": true,
          "ext": "pdb"
         },
         "methodName": "loadFile",
         "reconstruc_color_scheme": false,
         "target": "Stage",
         "type": "call_method"
        },
        {
         "args": [
          "400px",
          "400px"
         ],
         "kwargs": {},
         "methodName": "setSize",
         "reconstruc_color_scheme": false,
         "target": "Widget",
         "type": "call_method"
        },
        {
         "args": [
          {
           "backgroundColor": "white",
           "clipDist": -100,
           "sampleLevel": 3
          }
         ],
         "kwargs": {},
         "methodName": "setParameters",
         "reconstruc_color_scheme": false,
         "target": "Widget",
         "type": "call_method"
        },
        {
         "args": [],
         "kwargs": {
          "cameraType": "orthographic"
         },
         "methodName": "setParameters",
         "reconstruc_color_scheme": false,
         "target": "Stage",
         "type": "call_method"
        }
       ],
       "_ngl_original_stage_parameters": {
        "ambientColor": 14540253,
        "ambientIntensity": 0.2,
        "backgroundColor": "white",
        "cameraEyeSep": 0.3,
        "cameraFov": 40,
        "cameraType": "perspective",
        "clipDist": 10,
        "clipFar": 100,
        "clipMode": "scene",
        "clipNear": 0,
        "clipScale": "relative",
        "fogFar": 100,
        "fogNear": 50,
        "hoverTimeout": 0,
        "impostor": true,
        "lightColor": 14540253,
        "lightIntensity": 1,
        "mousePreset": "default",
        "panSpeed": 1,
        "quality": "medium",
        "rotateSpeed": 2,
        "sampleLevel": 0,
        "tooltip": true,
        "workerDefault": true,
        "zoomSpeed": 1.2
       },
       "_ngl_repr_dict": {
        "0": {
         "0": {
          "params": {
           "aspectRatio": 1.5,
           "assembly": "default",
           "bondScale": 0.3,
           "bondSpacing": 0.75,
           "clipCenter": {
            "x": 0,
            "y": 0,
            "z": 0
           },
           "clipNear": 0,
           "clipRadius": 0,
           "colorMode": "hcl",
           "colorReverse": false,
           "colorScale": "",
           "colorScheme": "element",
           "colorValue": 9474192,
           "cylinderOnly": false,
           "defaultAssembly": "",
           "depthWrite": true,
           "diffuse": 16777215,
           "diffuseInterior": false,
           "disableImpostor": false,
           "disablePicking": false,
           "flatShaded": false,
           "interiorColor": 2236962,
           "interiorDarkening": 0,
           "lazy": false,
           "lineOnly": false,
           "linewidth": 2,
           "matrix": {
            "elements": [
             1,
             0,
             0,
             0,
             0,
             1,
             0,
             0,
             0,
             0,
             1,
             0,
             0,
             0,
             0,
             1
            ]
           },
           "metalness": 0,
           "multipleBond": "off",
           "opacity": 1,
           "openEnded": true,
           "quality": "high",
           "radialSegments": 20,
           "radiusData": {},
           "radiusScale": 2,
           "radiusSize": 0.15,
           "radiusType": "size",
           "roughness": 0.4,
           "sele": "",
           "side": "double",
           "sphereDetail": 2,
           "useInteriorColor": true,
           "visible": true,
           "wireframe": false
          },
          "type": "ball+stick"
         }
        }
       },
       "_ngl_serialize": false,
       "_ngl_version": "2.0.0-dev.39",
       "_ngl_view_id": [
        "8476F6CA-6903-412C-A6AF-C28736559DB0"
       ],
       "_player_dict": {},
       "_scene_position": {},
       "_scene_rotation": {},
       "_synced_model_ids": [],
       "_synced_repr_model_ids": [],
       "_view_height": "",
       "_view_width": "",
       "background": "white",
       "frame": 0,
       "gui_style": null,
       "layout": "IPY_MODEL_b5952397f94e45f38073b86fe99a747d",
       "max_frame": 0,
       "n_components": 1,
       "picked": {}
      }
     },
     "1edc45aa33274026be34bbfc67fcced8": {
      "model_module": "@jupyter-widgets/base",
      "model_module_version": "2.0.0",
      "model_name": "LayoutModel",
      "state": {}
     },
     "1f2a61f2c17642ea851501044444ff30": {
      "model_module": "@jupyter-widgets/controls",
      "model_module_version": "2.0.0",
      "model_name": "LinkModel",
      "state": {
       "source": [
        "IPY_MODEL_7dcbb0edf40d4daa838024f15b68ffa4",
        "max"
       ],
       "target": [
        "IPY_MODEL_2974d983e4044156b3a5af655522f17b",
        "max_frame"
       ]
      }
     },
     "1f5f73894670477da7c1e90b15659737": {
      "model_module": "@jupyter-widgets/controls",
      "model_module_version": "2.0.0",
      "model_name": "IntSliderModel",
      "state": {
       "behavior": "drag-tap",
       "layout": "IPY_MODEL_19641618db7a4ce7aab5a47b6719307c",
       "max": 0,
       "style": "IPY_MODEL_9bc37ccfaac143139ba92e6eec08adfc"
      }
     },
     "1fe21028425d4f7dbdf97a268cba4adc": {
      "model_module": "@jupyter-widgets/controls",
      "model_module_version": "2.0.0",
      "model_name": "ButtonModel",
      "state": {
       "icon": "compress",
       "layout": "IPY_MODEL_d8e5e82592064dcfac2582a2d66fa40a",
       "style": "IPY_MODEL_c4dd6a6b184042898beb3ede40a13b42",
       "tooltip": null
      }
     },
     "1ff512ed2c224601ae4bc841da95d001": {
      "model_module": "@jupyter-widgets/controls",
      "model_module_version": "2.0.0",
      "model_name": "SliderStyleModel",
      "state": {
       "description_width": ""
      }
     },
     "205dd1df726d4bf390385acbb0e964a2": {
      "model_module": "@jupyter-widgets/controls",
      "model_module_version": "2.0.0",
      "model_name": "HBoxModel",
      "state": {
       "children": [
        "IPY_MODEL_34db2a64b0364712b34f3bf39ed418f6",
        "IPY_MODEL_9721200de472448b8cc6e4483071e850"
       ],
       "layout": "IPY_MODEL_3a07aba8a548462db3b7496b3ee14bfa"
      }
     },
     "207bc5ef3ce94778933bc99310d88877": {
      "model_module": "@jupyter-widgets/controls",
      "model_module_version": "2.0.0",
      "model_name": "HBoxModel",
      "state": {
       "children": [
        "IPY_MODEL_c8a67fb27d724293b3bbf02f74d5c5aa",
        "IPY_MODEL_aa30fb295551411499fe5a05fc778221"
       ],
       "layout": "IPY_MODEL_29ba6ba3fb0a4665afe5902fe86e475a"
      }
     },
     "20ecd914affa46dd9906ae39a30bdbed": {
      "model_module": "@jupyter-widgets/controls",
      "model_module_version": "2.0.0",
      "model_name": "ImageModel",
      "state": {
       "layout": "IPY_MODEL_4b8852c387ba43979bb38a7b3d3080dc",
       "width": "900.0"
      }
     },
     "210292688b8e4acab371ccf05a62d9c5": {
      "model_module": "@jupyter-widgets/controls",
      "model_module_version": "2.0.0",
      "model_name": "IntSliderModel",
      "state": {
       "behavior": "drag-tap",
       "layout": "IPY_MODEL_8dc85e3f4627455a8071c0b11d4fdb78",
       "max": 0,
       "style": "IPY_MODEL_9c652edb25494cbb838722a416d9fb2c"
      }
     },
     "2133a3bbdea44c66a9c61df457c8b63d": {
      "model_module": "@jupyter-widgets/base",
      "model_module_version": "2.0.0",
      "model_name": "LayoutModel",
      "state": {
       "width": "34px"
      }
     },
     "21734f6f5ba64eed8803b8e281e80f17": {
      "model_module": "@jupyter-widgets/base",
      "model_module_version": "2.0.0",
      "model_name": "LayoutModel",
      "state": {
       "width": "34px"
      }
     },
     "21798ad7e2be49f0a030035b53e751c5": {
      "model_module": "@jupyter-widgets/controls",
      "model_module_version": "2.0.0",
      "model_name": "PlayModel",
      "state": {
       "layout": "IPY_MODEL_bda39c1236de4b06a27d5a685368b3eb",
       "max": 0,
       "style": "IPY_MODEL_77e9593cc97d42ccbe2468aa23e17891"
      }
     },
     "21e43f6569594f91ae878064252e7f9f": {
      "model_module": "@jupyter-widgets/controls",
      "model_module_version": "2.0.0",
      "model_name": "ImageModel",
      "state": {
       "layout": "IPY_MODEL_13c364f089324b67a5e692a8f806f7c1",
       "width": "900.0"
      }
     },
     "22176f1dc0334a59a3a3875411b57383": {
      "model_module": "@jupyter-widgets/controls",
      "model_module_version": "2.0.0",
      "model_name": "PlayModel",
      "state": {
       "layout": "IPY_MODEL_193ae5e0a23d4cfeb44b23a4e7967f69",
       "max": 0,
       "style": "IPY_MODEL_007cd01fb0184c6dacc4a69b17de2fb0"
      }
     },
     "225ddbb0e0b04d6389daf78a44ce31e1": {
      "model_module": "@jupyter-widgets/controls",
      "model_module_version": "2.0.0",
      "model_name": "HBoxModel",
      "state": {
       "children": [
        "IPY_MODEL_c770e344679e4578a8b5d26da900a10c",
        "IPY_MODEL_7900676d76b44b749562f38d0fa6c46c"
       ],
       "layout": "IPY_MODEL_11143a285f7b445a97f1d724d20cee19"
      }
     },
     "22698e12993d4c6d9439d5ea094a8ef3": {
      "model_module": "nglview-js-widgets",
      "model_module_version": "3.0.8",
      "model_name": "NGLModel",
      "state": {
       "_camera_orientation": [
        23.58639885647993,
        0,
        0,
        0,
        0,
        23.58639885647993,
        0,
        0,
        0,
        0,
        23.58639885647993,
        0,
        -0.35699987411499023,
        0.14499998092651367,
        -0.09600001573562622,
        1
       ],
       "_camera_str": "orthographic",
       "_gui_theme": null,
       "_ibtn_fullscreen": "IPY_MODEL_d818ff4754cc438b86a3cf8269f3f053",
       "_igui": null,
       "_iplayer": "IPY_MODEL_e8eba682880841969012725d6a637202",
       "_ngl_color_dict": {},
       "_ngl_coordinate_resource": {},
       "_ngl_full_stage_parameters": {
        "ambientColor": 14540253,
        "ambientIntensity": 0.2,
        "backgroundColor": "white",
        "cameraEyeSep": 0.3,
        "cameraFov": 40,
        "cameraType": "orthographic",
        "clipDist": 10,
        "clipFar": 100,
        "clipMode": "scene",
        "clipNear": 0,
        "clipScale": "relative",
        "fogFar": 100,
        "fogNear": 50,
        "hoverTimeout": 0,
        "impostor": true,
        "lightColor": 14540253,
        "lightIntensity": 1,
        "mousePreset": "default",
        "panSpeed": 1,
        "quality": "medium",
        "rotateSpeed": 2,
        "sampleLevel": 0,
        "tooltip": true,
        "workerDefault": true,
        "zoomSpeed": 1.2
       },
       "_ngl_msg_archive": [
        {
         "args": [
          {
           "binary": false,
           "data": "HETATM    1  C1  SUR     1       5.068  -1.116   0.968  1.00  0.00           C\nHETATM    2  C2  SUR     1       3.683  -0.937   0.400  1.00  0.00           C\nHETATM    3  N1  SUR     1       2.956   0.117   0.730  1.00  0.00           N\nHETATM    4  C3  SUR     1       1.738   0.281   0.234  1.00  0.00           C\nHETATM    5  N2  SUR     1       1.206  -0.596  -0.604  1.00  0.00           N\nHETATM    6  C4  SUR     1       1.880  -1.672  -0.975  1.00  0.00           C\nHETATM    7  C5  SUR     1       3.159  -1.871  -0.480  1.00  0.00           C\nHETATM    8  N3  SUR     1       1.004   1.396   0.601  1.00  0.00           N\nHETATM    9  S1  SUR     1      -0.342   1.824  -0.265  1.00  0.00           S\nHETATM   10  O1  SUR     1      -0.884   2.957   0.398  1.00  0.00           O\nHETATM   11  O2  SUR     1       0.048   1.778  -1.631  1.00  0.00           O\nHETATM   12  C6  SUR     1      -1.529   0.538  -0.063  1.00  0.00           C\nHETATM   13  C7  SUR     1      -2.436   0.594   0.979  1.00  0.00           C\nHETATM   14  C8  SUR     1      -3.368  -0.412   1.141  1.00  0.00           C\nHETATM   15  C9  SUR     1      -3.394  -1.481   0.255  1.00  0.00           C\nHETATM   16  C10 SUR     1      -2.481  -1.535  -0.791  1.00  0.00           C\nHETATM   17  C11 SUR     1      -1.556  -0.523  -0.950  1.00  0.00           C\nHETATM   18  N4  SUR     1      -4.335  -2.501   0.415  1.00  0.00           N\nHETATM   19  H1  SUR     1       5.008  -1.679   1.899  1.00  0.00           H\nHETATM   20  H2  SUR     1       5.686  -1.659   0.253  1.00  0.00           H\nHETATM   21  H3  SUR     1       5.510  -0.139   1.162  1.00  0.00           H\nHETATM   22  H4  SUR     1       1.441  -2.384  -1.658  1.00  0.00           H\nHETATM   23  H5  SUR     1       3.732  -2.741  -0.767  1.00  0.00           H\nHETATM   24  H6  SUR     1       1.277   1.927   1.366  1.00  0.00           H\nHETATM   25  H7  SUR     1      -2.416   1.426   1.668  1.00  0.00           H\nHETATM   26  H8  SUR     1      -4.076  -0.367   1.955  1.00  0.00           H\nHETATM   27  H9  SUR     1      -2.499  -2.365  -1.482  1.00  0.00           H\nHETATM   28  H10 SUR     1      -0.846  -0.564  -1.763  1.00  0.00           H\nHETATM   29  H11 SUR     1      -4.972  -2.463   1.146  1.00  0.00           H\nHETATM   30  H12 SUR     1      -4.352  -3.247  -0.204  1.00  0.00           H\nCONECT    1   20   19   21    2\nCONECT   16   15   17   27\nCONECT   17   12   28   16\nCONECT    2    7    3    1\nCONECT    4    5    8    3\nCONECT    6    5    7   22\nCONECT    7    6    2   23\nCONECT   12    9   17   13\nCONECT   13   14   12   25\nCONECT   14   26   15   13\nCONECT   15   14   18   16\nCONECT   19    1\nCONECT   28   17\nCONECT   29   18\nCONECT   30   18\nCONECT   20    1\nCONECT   21    1\nCONECT   22    6\nCONECT   23    7\nCONECT   24    8\nCONECT   25   13\nCONECT   26   14\nCONECT   27   16\nCONECT    3    4    2\nCONECT    5    4    6\nCONECT    8    4    9   24\nCONECT   18   15   30   29\nCONECT   10    9\nCONECT   11    9\nCONECT    9    8   10   12   11\nEND\n",
           "type": "blob"
          }
         ],
         "kwargs": {
          "defaultRepresentation": true,
          "ext": "pdb"
         },
         "methodName": "loadFile",
         "reconstruc_color_scheme": false,
         "target": "Stage",
         "type": "call_method"
        },
        {
         "args": [
          "unitcell"
         ],
         "component_index": 0,
         "kwargs": {
          "opacity": 1,
          "sele": "all"
         },
         "methodName": "addRepresentation",
         "reconstruc_color_scheme": false,
         "target": "compList",
         "type": "call_method"
        },
        {
         "args": [],
         "kwargs": {
          "cameraType": "orthographic"
         },
         "methodName": "setParameters",
         "reconstruc_color_scheme": false,
         "target": "Stage",
         "type": "call_method"
        }
       ],
       "_ngl_original_stage_parameters": {
        "ambientColor": 14540253,
        "ambientIntensity": 0.2,
        "backgroundColor": "white",
        "cameraEyeSep": 0.3,
        "cameraFov": 40,
        "cameraType": "perspective",
        "clipDist": 10,
        "clipFar": 100,
        "clipMode": "scene",
        "clipNear": 0,
        "clipScale": "relative",
        "fogFar": 100,
        "fogNear": 50,
        "hoverTimeout": 0,
        "impostor": true,
        "lightColor": 14540253,
        "lightIntensity": 1,
        "mousePreset": "default",
        "panSpeed": 1,
        "quality": "medium",
        "rotateSpeed": 2,
        "sampleLevel": 0,
        "tooltip": true,
        "workerDefault": true,
        "zoomSpeed": 1.2
       },
       "_ngl_repr_dict": {
        "0": {
         "0": {
          "params": {
           "aspectRatio": 1.5,
           "assembly": "default",
           "bondScale": 0.3,
           "bondSpacing": 0.75,
           "clipCenter": {
            "x": 0,
            "y": 0,
            "z": 0
           },
           "clipNear": 0,
           "clipRadius": 0,
           "colorMode": "hcl",
           "colorReverse": false,
           "colorScale": "",
           "colorScheme": "element",
           "colorValue": 9474192,
           "cylinderOnly": false,
           "defaultAssembly": "",
           "depthWrite": true,
           "diffuse": 16777215,
           "diffuseInterior": false,
           "disableImpostor": false,
           "disablePicking": false,
           "flatShaded": false,
           "interiorColor": 2236962,
           "interiorDarkening": 0,
           "lazy": false,
           "lineOnly": false,
           "linewidth": 2,
           "matrix": {
            "elements": [
             1,
             0,
             0,
             0,
             0,
             1,
             0,
             0,
             0,
             0,
             1,
             0,
             0,
             0,
             0,
             1
            ]
           },
           "metalness": 0,
           "multipleBond": "off",
           "opacity": 1,
           "openEnded": true,
           "quality": "high",
           "radialSegments": 20,
           "radiusData": {},
           "radiusScale": 2,
           "radiusSize": 0.15,
           "radiusType": "size",
           "roughness": 0.4,
           "sele": "",
           "side": "double",
           "sphereDetail": 2,
           "useInteriorColor": true,
           "visible": true,
           "wireframe": false
          },
          "type": "ball+stick"
         },
         "1": {
          "params": {
           "clipCenter": {
            "x": 0,
            "y": 0,
            "z": 0
           },
           "clipNear": 0,
           "clipRadius": 0,
           "colorMode": "hcl",
           "colorReverse": false,
           "colorScale": "",
           "colorScheme": "element",
           "colorValue": "orange",
           "defaultAssembly": "",
           "depthWrite": true,
           "diffuse": 16777215,
           "diffuseInterior": false,
           "disableImpostor": false,
           "disablePicking": false,
           "flatShaded": false,
           "interiorColor": 2236962,
           "interiorDarkening": 0,
           "lazy": false,
           "matrix": {
            "elements": [
             1,
             0,
             0,
             0,
             0,
             1,
             0,
             0,
             0,
             0,
             1,
             0,
             0,
             0,
             0,
             1
            ]
           },
           "metalness": 0,
           "opacity": 1,
           "quality": "medium",
           "radialSegments": 10,
           "radiusData": {},
           "radiusScale": 1,
           "radiusSize": 0.5,
           "radiusType": "vdw",
           "roughness": 0.4,
           "sele": "all",
           "side": "double",
           "sphereDetail": 1,
           "useInteriorColor": true,
           "visible": true,
           "wireframe": false
          },
          "type": "unitcell"
         }
        }
       },
       "_ngl_serialize": false,
       "_ngl_version": "2.0.0-dev.39",
       "_ngl_view_id": [
        "83E25FBA-7957-4E78-96A3-10CF346BCCEB"
       ],
       "_player_dict": {},
       "_scene_position": {},
       "_scene_rotation": {},
       "_synced_model_ids": [],
       "_synced_repr_model_ids": [],
       "_view_height": "",
       "_view_width": "",
       "background": "white",
       "frame": 0,
       "gui_style": null,
       "layout": "IPY_MODEL_e83fd5ed9ae3418cb643ee19d9b91491",
       "max_frame": 0,
       "n_components": 1,
       "picked": {}
      }
     },
     "22f91ef3150d44cb82dab6e14fb751be": {
      "model_module": "@jupyter-widgets/base",
      "model_module_version": "2.0.0",
      "model_name": "LayoutModel",
      "state": {}
     },
     "23422dd782d9447b8ba4a0e01b940f62": {
      "model_module": "@jupyter-widgets/base",
      "model_module_version": "2.0.0",
      "model_name": "LayoutModel",
      "state": {}
     },
     "24075162ad6f40eca0977103d9927e90": {
      "model_module": "@jupyter-widgets/controls",
      "model_module_version": "2.0.0",
      "model_name": "HBoxModel",
      "state": {
       "children": [
        "IPY_MODEL_e02503f67ecb4fb883d058a114c98c30",
        "IPY_MODEL_2d0b3a25b87e4a9a9ab2102e749179de"
       ],
       "layout": "IPY_MODEL_5ec7e261f1234432bbe04d4c56597c7d"
      }
     },
     "24aa906c2ebb46798570345e08112b7b": {
      "model_module": "@jupyter-widgets/controls",
      "model_module_version": "2.0.0",
      "model_name": "IntSliderModel",
      "state": {
       "behavior": "drag-tap",
       "layout": "IPY_MODEL_99bbd019befb469a959f1ec3c49789b7",
       "max": 0,
       "style": "IPY_MODEL_fc88310b2547421a9b8beb4157fa1b39"
      }
     },
     "24ce3a74c3b846b589c46088be903810": {
      "model_module": "@jupyter-widgets/controls",
      "model_module_version": "2.0.0",
      "model_name": "IntSliderModel",
      "state": {
       "behavior": "drag-tap",
       "layout": "IPY_MODEL_5edf1d8f991f4f5aaaf3ff6d7dbd92bb",
       "max": 0,
       "style": "IPY_MODEL_6a32b22b148d4c0dbdfa12836dced2fe"
      }
     },
     "26cecc14c7fa4f3cbb2f2d1de7344601": {
      "model_module": "@jupyter-widgets/controls",
      "model_module_version": "2.0.0",
      "model_name": "LinkModel",
      "state": {
       "source": [
        "IPY_MODEL_7f213aaaf1e944bb9bf6a9827c608821",
        "max"
       ],
       "target": [
        "IPY_MODEL_77bca2ae89a44e71a6da41cdfa36c0e2",
        "max_frame"
       ]
      }
     },
     "2705190c59c648fd9a898bdaff93fdd8": {
      "model_module": "@jupyter-widgets/controls",
      "model_module_version": "2.0.0",
      "model_name": "ButtonModel",
      "state": {
       "icon": "compress",
       "layout": "IPY_MODEL_fc83ca1c6203456282a0902aad3abac8",
       "style": "IPY_MODEL_96999cab61a04fa687c4c852e6e5fccf",
       "tooltip": null
      }
     },
     "272671131f4142c58701fbb73b98b835": {
      "model_module": "@jupyter-widgets/controls",
      "model_module_version": "2.0.0",
      "model_name": "ButtonStyleModel",
      "state": {
       "font_family": null,
       "font_size": null,
       "font_style": null,
       "font_variant": null,
       "font_weight": null,
       "text_color": null,
       "text_decoration": null
      }
     },
     "277e80b357ae4d8ebcf7a31a458a5847": {
      "model_module": "@jupyter-widgets/base",
      "model_module_version": "2.0.0",
      "model_name": "LayoutModel",
      "state": {}
     },
     "27be999f41f641239fd69ba1b91fc971": {
      "model_module": "@jupyter-widgets/controls",
      "model_module_version": "2.0.0",
      "model_name": "SliderStyleModel",
      "state": {
       "description_width": ""
      }
     },
     "29267163eee1482297d10fb39c96ce58": {
      "model_module": "@jupyter-widgets/controls",
      "model_module_version": "2.0.0",
      "model_name": "DescriptionStyleModel",
      "state": {
       "description_width": ""
      }
     },
     "2974d983e4044156b3a5af655522f17b": {
      "model_module": "nglview-js-widgets",
      "model_module_version": "3.0.8",
      "model_name": "NGLModel",
      "state": {
       "_camera_orientation": [
        15.629220793519146,
        -9.293192823815028,
        -27.53722864362797,
        0,
        -10.319177163565879,
        27.454839574867343,
        -15.122212253168076,
        0,
        27.16941252399465,
        15.773499545196653,
        10.097260620748251,
        0,
        -19.729999542236328,
        -20,
        -20.270000457763672,
        1
       ],
       "_camera_str": "orthographic",
       "_gui_theme": null,
       "_ibtn_fullscreen": "IPY_MODEL_5dec48e540134b59959e8d9e7bf905b3",
       "_igui": null,
       "_iplayer": "IPY_MODEL_c48ef099804840d3b625b63feb1e28d8",
       "_ngl_color_dict": {},
       "_ngl_coordinate_resource": {},
       "_ngl_full_stage_parameters": {
        "ambientColor": 14540253,
        "ambientIntensity": 0.2,
        "backgroundColor": "white",
        "cameraEyeSep": 0.3,
        "cameraFov": 40,
        "cameraType": "orthographic",
        "clipDist": -100,
        "clipFar": 100,
        "clipMode": "scene",
        "clipNear": 0,
        "clipScale": "relative",
        "fogFar": 100,
        "fogNear": 50,
        "hoverTimeout": 0,
        "impostor": true,
        "lightColor": 14540253,
        "lightIntensity": 1,
        "mousePreset": "default",
        "panSpeed": 1,
        "quality": "medium",
        "rotateSpeed": 2,
        "sampleLevel": 3,
        "tooltip": true,
        "workerDefault": true,
        "zoomSpeed": 1.2
       },
       "_ngl_msg_archive": [
        {
         "args": [
          {
           "binary": false,
           "data": "TITLE     MOL_GMX.gro created by acpype (Rev: 0) on Thu Feb 15 00:22:45 2018\nREMARK    THIS IS A SIMULATION BOX\nCRYST1   40.000   40.000   40.000  90.00  90.00  90.00 P 1           1\nMODEL        1\nATOM      1  C1  TOL     1      20.000  21.200  19.990  1.00  0.00            \nATOM      2  C2  TOL     1      20.720  20.000  19.990  1.00  0.00            \nATOM      3  C3  TOL     1      20.000  18.800  19.990  1.00  0.00            \nATOM      4  C4  TOL     1      18.610  18.800  20.000  1.00  0.00            \nATOM      5  C5  TOL     1      17.910  20.000  20.010  1.00  0.00            \nATOM      6  C6  TOL     1      18.610  21.200  20.000  1.00  0.00            \nATOM      7  C7  TOL     1      22.230  20.000  20.010  1.00  0.00            \nATOM      8  H1  TOL     1      22.630  19.120  19.510  1.00  0.00            \nATOM      9  H2  TOL     1      22.630  20.880  19.510  1.00  0.00            \nATOM     10  H3  TOL     1      22.610  20.000  21.030  1.00  0.00            \nATOM     11  H4  TOL     1      20.540  17.860  19.980  1.00  0.00            \nATOM     12  H5  TOL     1      18.080  17.860  20.000  1.00  0.00            \nATOM     13  H6  TOL     1      16.830  20.000  20.020  1.00  0.00            \nATOM     14  H7  TOL     1      18.080  22.140  20.000  1.00  0.00            \nATOM     15  H8  TOL     1      20.540  22.140  19.980  1.00  0.00            \nTER\nENDMDL\n",
           "type": "blob"
          }
         ],
         "kwargs": {
          "defaultRepresentation": true,
          "ext": "pdb"
         },
         "methodName": "loadFile",
         "reconstruc_color_scheme": false,
         "target": "Stage",
         "type": "call_method"
        },
        {
         "args": [
          "200px",
          "200px"
         ],
         "kwargs": {},
         "methodName": "setSize",
         "reconstruc_color_scheme": false,
         "target": "Widget",
         "type": "call_method"
        },
        {
         "args": [
          {
           "backgroundColor": "white",
           "clipDist": -100,
           "sampleLevel": 3
          }
         ],
         "kwargs": {},
         "methodName": "setParameters",
         "reconstruc_color_scheme": false,
         "target": "Widget",
         "type": "call_method"
        },
        {
         "args": [
          "unitcell"
         ],
         "component_index": 0,
         "kwargs": {
          "sele": "all"
         },
         "methodName": "addRepresentation",
         "reconstruc_color_scheme": false,
         "target": "compList",
         "type": "call_method"
        },
        {
         "args": [],
         "kwargs": {
          "cameraType": "orthographic"
         },
         "methodName": "setParameters",
         "reconstruc_color_scheme": false,
         "target": "Stage",
         "type": "call_method"
        }
       ],
       "_ngl_original_stage_parameters": {
        "ambientColor": 14540253,
        "ambientIntensity": 0.2,
        "backgroundColor": "white",
        "cameraEyeSep": 0.3,
        "cameraFov": 40,
        "cameraType": "perspective",
        "clipDist": 10,
        "clipFar": 100,
        "clipMode": "scene",
        "clipNear": 0,
        "clipScale": "relative",
        "fogFar": 100,
        "fogNear": 50,
        "hoverTimeout": 0,
        "impostor": true,
        "lightColor": 14540253,
        "lightIntensity": 1,
        "mousePreset": "default",
        "panSpeed": 1,
        "quality": "medium",
        "rotateSpeed": 2,
        "sampleLevel": 0,
        "tooltip": true,
        "workerDefault": true,
        "zoomSpeed": 1.2
       },
       "_ngl_repr_dict": {
        "0": {
         "0": {
          "params": {
           "aspectRatio": 1.5,
           "assembly": "default",
           "bondScale": 0.3,
           "bondSpacing": 0.75,
           "clipCenter": {
            "x": 0,
            "y": 0,
            "z": 0
           },
           "clipNear": 0,
           "clipRadius": 0,
           "colorMode": "hcl",
           "colorReverse": false,
           "colorScale": "",
           "colorScheme": "element",
           "colorValue": 9474192,
           "cylinderOnly": false,
           "defaultAssembly": "",
           "depthWrite": true,
           "diffuse": 16777215,
           "diffuseInterior": false,
           "disableImpostor": false,
           "disablePicking": false,
           "flatShaded": false,
           "interiorColor": 2236962,
           "interiorDarkening": 0,
           "lazy": false,
           "lineOnly": false,
           "linewidth": 2,
           "matrix": {
            "elements": [
             1,
             0,
             0,
             0,
             0,
             1,
             0,
             0,
             0,
             0,
             1,
             0,
             0,
             0,
             0,
             1
            ]
           },
           "metalness": 0,
           "multipleBond": "off",
           "opacity": 1,
           "openEnded": true,
           "quality": "high",
           "radialSegments": 20,
           "radiusData": {},
           "radiusScale": 2,
           "radiusSize": 0.15,
           "radiusType": "size",
           "roughness": 0.4,
           "sele": "",
           "side": "double",
           "sphereDetail": 2,
           "useInteriorColor": true,
           "visible": true,
           "wireframe": false
          },
          "type": "ball+stick"
         },
         "1": {
          "params": {
           "clipCenter": {
            "x": 0,
            "y": 0,
            "z": 0
           },
           "clipNear": 0,
           "clipRadius": 0,
           "colorMode": "hcl",
           "colorReverse": false,
           "colorScale": "",
           "colorScheme": "element",
           "colorValue": "orange",
           "defaultAssembly": "",
           "depthWrite": true,
           "diffuse": 16777215,
           "diffuseInterior": false,
           "disableImpostor": false,
           "disablePicking": false,
           "flatShaded": false,
           "interiorColor": 2236962,
           "interiorDarkening": 0,
           "lazy": false,
           "matrix": {
            "elements": [
             1,
             0,
             0,
             0,
             0,
             1,
             0,
             0,
             0,
             0,
             1,
             0,
             0,
             0,
             0,
             1
            ]
           },
           "metalness": 0,
           "opacity": 1,
           "quality": "medium",
           "radialSegments": 10,
           "radiusData": {},
           "radiusScale": 1,
           "radiusSize": 0.19999999122077702,
           "radiusType": "vdw",
           "roughness": 0.4,
           "sele": "all",
           "side": "double",
           "sphereDetail": 1,
           "useInteriorColor": true,
           "visible": true,
           "wireframe": false
          },
          "type": "unitcell"
         }
        }
       },
       "_ngl_serialize": false,
       "_ngl_version": "2.0.0-dev.39",
       "_ngl_view_id": [
        "24911F60-338D-42BD-8E53-A18850881A24"
       ],
       "_player_dict": {},
       "_scene_position": {},
       "_scene_rotation": {},
       "_synced_model_ids": [],
       "_synced_repr_model_ids": [],
       "_view_height": "",
       "_view_width": "",
       "background": "white",
       "frame": 0,
       "gui_style": null,
       "layout": "IPY_MODEL_68da013d95964fc19dfed948b1bd7870",
       "max_frame": 0,
       "n_components": 1,
       "picked": {}
      }
     },
     "29ba6ba3fb0a4665afe5902fe86e475a": {
      "model_module": "@jupyter-widgets/base",
      "model_module_version": "2.0.0",
      "model_name": "LayoutModel",
      "state": {}
     },
     "29cb8dff61cb48bda3aea25cc2fb2d80": {
      "model_module": "@jupyter-widgets/base",
      "model_module_version": "2.0.0",
      "model_name": "LayoutModel",
      "state": {}
     },
     "2a8b4879c1ed45c987e442b6d8efab8f": {
      "model_module": "nglview-js-widgets",
      "model_module_version": "3.0.8",
      "model_name": "NGLModel",
      "state": {
       "_camera_orientation": [
        69.09460016741157,
        0,
        0,
        0,
        0,
        69.09460016741157,
        0,
        0,
        0,
        0,
        69.09460016741157,
        0,
        -16.692500591278076,
        -18.34999942779541,
        -17.6729998588562,
        1
       ],
       "_camera_str": "orthographic",
       "_gui_theme": null,
       "_ibtn_fullscreen": "IPY_MODEL_8810e2bd4b2741c6b87ee9cba9491e25",
       "_igui": null,
       "_iplayer": "IPY_MODEL_205dd1df726d4bf390385acbb0e964a2",
       "_ngl_color_dict": {},
       "_ngl_coordinate_resource": {},
       "_ngl_full_stage_parameters": {
        "ambientColor": 14540253,
        "ambientIntensity": 0.2,
        "backgroundColor": "white",
        "cameraEyeSep": 0.3,
        "cameraFov": 40,
        "cameraType": "orthographic",
        "clipDist": -100,
        "clipFar": 100,
        "clipMode": "scene",
        "clipNear": 0,
        "clipScale": "relative",
        "fogFar": 100,
        "fogNear": 50,
        "hoverTimeout": 0,
        "impostor": true,
        "lightColor": 14540253,
        "lightIntensity": 1,
        "mousePreset": "default",
        "panSpeed": 1,
        "quality": "medium",
        "rotateSpeed": 2,
        "sampleLevel": 3,
        "tooltip": true,
        "workerDefault": true,
        "zoomSpeed": 1.2
       },
       "_ngl_msg_archive": [
        {
         "args": [
          {
           "binary": false,
           "data": "TITLE     Great Red Oystrich Makes All Chemists Sane\nREMARK    THIS IS A SIMULATION BOX\nCRYST1   35.000   35.000   35.000  90.00  90.00  90.00 P 1           1\nMODEL        1\nATOM      1  C1  SUR     1      19.077  20.843  20.922  1.00  1.00           C\nATOM      2  C2  SUR     1      18.701  19.620  20.124  1.00  1.00           C\nATOM      3  N1  SUR     1      19.283  19.374  18.963  1.00  1.00           N\nATOM      4  C3  SUR     1      18.958  18.301  18.257  1.00  1.00           C\nATOM      5  N2  SUR     1      18.045  17.440  18.682  1.00  1.00           N\nATOM      6  C4  SUR     1      17.425  17.628  19.836  1.00  1.00           C\nATOM      7  C5  SUR     1      17.746  18.736  20.602  1.00  1.00           C\nATOM      8  N3  SUR     1      19.587  18.073  17.044  1.00  1.00           N\nATOM      9  S1  SUR     1      19.485  16.585  16.324  1.00  1.00           S\nATOM     10  O1  SUR     1      20.179  16.705  15.090  1.00  1.00           O\nATOM     11  O2  SUR     1      19.780  15.642  17.346  1.00  1.00           O\nATOM     12  C6  SUR     1      17.796  16.319  15.900  1.00  1.00           C\nATOM     13  C7  SUR     1      17.324  16.720  14.664  1.00  1.00           C\nATOM     14  C8  SUR     1      16.001  16.513  14.328  1.00  1.00           C\nATOM     15  C9  SUR     1      15.144  15.902  15.233  1.00  1.00           C\nATOM     16  C10 SUR     1      15.620  15.501  16.475  1.00  1.00           C\nATOM     17  C11 SUR     1      16.946  15.705  16.802  1.00  1.00           C\nATOM     18  N4  SUR     1      13.804  15.691  14.897  1.00  1.00           N\nATOM     19  H1  SUR     1      18.437  21.675  20.633  1.00  1.00           H\nATOM     20  H2  SUR     1      18.950  20.636  21.984  1.00  1.00           H\nATOM     21  H3  SUR     1      20.118  21.099  20.724  1.00  1.00           H\nATOM     22  H4  SUR     1      16.681  16.923  20.177  1.00  1.00           H\nATOM     23  H5  SUR     1      17.255  18.913  21.549  1.00  1.00           H\nATOM     24  H6  SUR     1      20.087  18.786  16.616  1.00  1.00           H\nATOM     25  H7  SUR     1      17.991  17.195  13.959  1.00  1.00           H\nATOM     26  H8  SUR     1      15.633  16.826  13.362  1.00  1.00           H\nATOM     27  H9  SUR     1      14.956  15.025  17.181  1.00  1.00           H\nATOM     28  H10 SUR     1      17.318  15.394  17.767  1.00  1.00           H\nATOM     29  H11 SUR     1      13.471  15.972  14.030  1.00  1.00           H\nATOM     30  H12 SUR     1      13.206  15.264  15.530  1.00  1.00           H\nTER\nENDMDL\n",
           "type": "blob"
          }
         ],
         "kwargs": {
          "defaultRepresentation": true,
          "ext": "pdb"
         },
         "methodName": "loadFile",
         "reconstruc_color_scheme": false,
         "target": "Stage",
         "type": "call_method"
        },
        {
         "args": [
          "600.0px",
          "600.0px"
         ],
         "kwargs": {},
         "methodName": "setSize",
         "reconstruc_color_scheme": false,
         "target": "Widget",
         "type": "call_method"
        },
        {
         "args": [
          {
           "backgroundColor": "white",
           "clipDist": -100,
           "sampleLevel": 3
          }
         ],
         "kwargs": {},
         "methodName": "setParameters",
         "reconstruc_color_scheme": false,
         "target": "Widget",
         "type": "call_method"
        },
        {
         "args": [
          "unitcell"
         ],
         "component_index": 0,
         "kwargs": {
          "sele": "all"
         },
         "methodName": "addRepresentation",
         "reconstruc_color_scheme": false,
         "target": "compList",
         "type": "call_method"
        },
        {
         "args": [],
         "kwargs": {
          "cameraType": "orthographic"
         },
         "methodName": "setParameters",
         "reconstruc_color_scheme": false,
         "target": "Stage",
         "type": "call_method"
        }
       ],
       "_ngl_original_stage_parameters": {
        "ambientColor": 14540253,
        "ambientIntensity": 0.2,
        "backgroundColor": "white",
        "cameraEyeSep": 0.3,
        "cameraFov": 40,
        "cameraType": "perspective",
        "clipDist": 10,
        "clipFar": 100,
        "clipMode": "scene",
        "clipNear": 0,
        "clipScale": "relative",
        "fogFar": 100,
        "fogNear": 50,
        "hoverTimeout": 0,
        "impostor": true,
        "lightColor": 14540253,
        "lightIntensity": 1,
        "mousePreset": "default",
        "panSpeed": 1,
        "quality": "medium",
        "rotateSpeed": 2,
        "sampleLevel": 0,
        "tooltip": true,
        "workerDefault": true,
        "zoomSpeed": 1.2
       },
       "_ngl_repr_dict": {
        "0": {
         "0": {
          "params": {
           "aspectRatio": 1.5,
           "assembly": "default",
           "bondScale": 0.3,
           "bondSpacing": 0.75,
           "clipCenter": {
            "x": 0,
            "y": 0,
            "z": 0
           },
           "clipNear": 0,
           "clipRadius": 0,
           "colorMode": "hcl",
           "colorReverse": false,
           "colorScale": "",
           "colorScheme": "element",
           "colorValue": 9474192,
           "cylinderOnly": false,
           "defaultAssembly": "",
           "depthWrite": true,
           "diffuse": 16777215,
           "diffuseInterior": false,
           "disableImpostor": false,
           "disablePicking": false,
           "flatShaded": false,
           "interiorColor": 2236962,
           "interiorDarkening": 0,
           "lazy": false,
           "lineOnly": false,
           "linewidth": 2,
           "matrix": {
            "elements": [
             1,
             0,
             0,
             0,
             0,
             1,
             0,
             0,
             0,
             0,
             1,
             0,
             0,
             0,
             0,
             1
            ]
           },
           "metalness": 0,
           "multipleBond": "off",
           "opacity": 1,
           "openEnded": true,
           "quality": "high",
           "radialSegments": 20,
           "radiusData": {},
           "radiusScale": 2,
           "radiusSize": 0.15,
           "radiusType": "size",
           "roughness": 0.4,
           "sele": "",
           "side": "double",
           "sphereDetail": 2,
           "useInteriorColor": true,
           "visible": true,
           "wireframe": false
          },
          "type": "ball+stick"
         },
         "1": {
          "params": {
           "clipCenter": {
            "x": 0,
            "y": 0,
            "z": 0
           },
           "clipNear": 0,
           "clipRadius": 0,
           "colorMode": "hcl",
           "colorReverse": false,
           "colorScale": "",
           "colorScheme": "element",
           "colorValue": "orange",
           "defaultAssembly": "",
           "depthWrite": true,
           "diffuse": 16777215,
           "diffuseInterior": false,
           "disableImpostor": false,
           "disablePicking": false,
           "flatShaded": false,
           "interiorColor": 2236962,
           "interiorDarkening": 0,
           "lazy": false,
           "matrix": {
            "elements": [
             1,
             0,
             0,
             0,
             0,
             1,
             0,
             0,
             0,
             0,
             1,
             0,
             0,
             0,
             0,
             1
            ]
           },
           "metalness": 0,
           "opacity": 1,
           "quality": "medium",
           "radialSegments": 10,
           "radiusData": {},
           "radiusScale": 1,
           "radiusSize": 0.17499999231817992,
           "radiusType": "vdw",
           "roughness": 0.4,
           "sele": "all",
           "side": "double",
           "sphereDetail": 1,
           "useInteriorColor": true,
           "visible": true,
           "wireframe": false
          },
          "type": "unitcell"
         }
        }
       },
       "_ngl_serialize": false,
       "_ngl_version": "2.0.0-dev.39",
       "_ngl_view_id": [
        "D54B5B11-F913-4F00-B746-BE6C0FBFD28E"
       ],
       "_player_dict": {},
       "_scene_position": {},
       "_scene_rotation": {},
       "_synced_model_ids": [],
       "_synced_repr_model_ids": [],
       "_view_height": "",
       "_view_width": "",
       "background": "white",
       "frame": 0,
       "gui_style": null,
       "layout": "IPY_MODEL_c3a4b2ca2b39400a87e7c999eed6c379",
       "max_frame": 0,
       "n_components": 1,
       "picked": {}
      }
     },
     "2aaca15c65cc454ab1843760f56ec6f9": {
      "model_module": "@jupyter-widgets/controls",
      "model_module_version": "2.0.0",
      "model_name": "ButtonModel",
      "state": {
       "icon": "compress",
       "layout": "IPY_MODEL_a29189f2a20b483da0aa47fde3d514fc",
       "style": "IPY_MODEL_84e3995dc173485bb65d7b75884edc7a",
       "tooltip": null
      }
     },
     "2b0d09d2614c45b1b60cf151516f486f": {
      "model_module": "@jupyter-widgets/base",
      "model_module_version": "2.0.0",
      "model_name": "LayoutModel",
      "state": {}
     },
     "2ca7b2b031004590855cfafff5de5220": {
      "model_module": "@jupyter-widgets/controls",
      "model_module_version": "2.0.0",
      "model_name": "ImageModel",
      "state": {
       "layout": "IPY_MODEL_a06c0ecf506c4a459f96b08f4da01a6f",
       "width": "900.0"
      }
     },
     "2cb581b1927c4d12b25090246fd7b017": {
      "model_module": "@jupyter-widgets/base",
      "model_module_version": "2.0.0",
      "model_name": "LayoutModel",
      "state": {}
     },
     "2d0b3a25b87e4a9a9ab2102e749179de": {
      "model_module": "@jupyter-widgets/controls",
      "model_module_version": "2.0.0",
      "model_name": "IntSliderModel",
      "state": {
       "behavior": "drag-tap",
       "layout": "IPY_MODEL_6dbc6f5cb437465b9da7d13e7d0cd0cf",
       "max": 0,
       "style": "IPY_MODEL_83de1583f1414fdc8181fe9c9998e55f"
      }
     },
     "2d97ae2bc1ac4489ac4d536745e0fdaa": {
      "model_module": "@jupyter-widgets/controls",
      "model_module_version": "2.0.0",
      "model_name": "IntSliderModel",
      "state": {
       "behavior": "drag-tap",
       "layout": "IPY_MODEL_6bcc32753c324f4f8bbb99a1799924ff",
       "max": 0,
       "style": "IPY_MODEL_84e687996ced44589e9acf017b9d86a2"
      }
     },
     "2e3fbc0c49a34a3bbd39f9573f810a37": {
      "model_module": "@jupyter-widgets/base",
      "model_module_version": "2.0.0",
      "model_name": "LayoutModel",
      "state": {}
     },
     "2e6b47867f0547aab1f82aefcff7d1d2": {
      "model_module": "@jupyter-widgets/controls",
      "model_module_version": "2.0.0",
      "model_name": "LinkModel",
      "state": {
       "source": [
        "IPY_MODEL_aa30fb295551411499fe5a05fc778221",
        "max"
       ],
       "target": [
        "IPY_MODEL_8723512fe87245b2827478c9075e3379",
        "max_frame"
       ]
      }
     },
     "2e7752c986c146e38ad7fd058d41441f": {
      "model_module": "@jupyter-widgets/controls",
      "model_module_version": "2.0.0",
      "model_name": "PlayModel",
      "state": {
       "layout": "IPY_MODEL_1edc45aa33274026be34bbfc67fcced8",
       "max": 0,
       "style": "IPY_MODEL_9f87fdccd29442c1a686030969cb2579"
      }
     },
     "2ecda16fc137437a813c11425f34b314": {
      "model_module": "@jupyter-widgets/controls",
      "model_module_version": "2.0.0",
      "model_name": "ButtonModel",
      "state": {
       "icon": "compress",
       "layout": "IPY_MODEL_b915ce26bd7843bb927180b972e5bad3",
       "style": "IPY_MODEL_aa216fff721348cfb6f327136b9ff175",
       "tooltip": null
      }
     },
     "2f673d3adc404669b819c480de5e32be": {
      "model_module": "@jupyter-widgets/base",
      "model_module_version": "2.0.0",
      "model_name": "LayoutModel",
      "state": {
       "width": "34px"
      }
     },
     "2f9884a3df3a4be7866a37f9a217902b": {
      "model_module": "@jupyter-widgets/base",
      "model_module_version": "2.0.0",
      "model_name": "LayoutModel",
      "state": {}
     },
     "2fa907cea32a4c4da25c4742d19d6c49": {
      "model_module": "@jupyter-widgets/base",
      "model_module_version": "2.0.0",
      "model_name": "LayoutModel",
      "state": {}
     },
     "2fb762adaef74a35ad14d0445ae2a698": {
      "model_module": "@jupyter-widgets/base",
      "model_module_version": "2.0.0",
      "model_name": "LayoutModel",
      "state": {}
     },
     "2fce6f9538864c0d869c0321b2914fcc": {
      "model_module": "@jupyter-widgets/base",
      "model_module_version": "2.0.0",
      "model_name": "LayoutModel",
      "state": {
       "width": "34px"
      }
     },
     "2fdc7acdf3084f0b8175aefd91e452e3": {
      "model_module": "@jupyter-widgets/controls",
      "model_module_version": "2.0.0",
      "model_name": "LinkModel",
      "state": {
       "source": [
        "IPY_MODEL_f070c7449d744c6eb8ec90772c11eda4",
        "max"
       ],
       "target": [
        "IPY_MODEL_faf8aca06b80466da32c925eb1036e2e",
        "max_frame"
       ]
      }
     },
     "3009895b14894749a045a1e3dcb0ad4c": {
      "model_module": "@jupyter-widgets/base",
      "model_module_version": "2.0.0",
      "model_name": "LayoutModel",
      "state": {}
     },
     "304a1f0a7cc64014a936470643bb35b4": {
      "model_module": "@jupyter-widgets/controls",
      "model_module_version": "2.0.0",
      "model_name": "ButtonModel",
      "state": {
       "icon": "compress",
       "layout": "IPY_MODEL_19033db41bfc48338a7f932fbcf2e23e",
       "style": "IPY_MODEL_00172a1f05194eefbfc4b51d4b7efdd1",
       "tooltip": null
      }
     },
     "307b2bedf642401a807257915adb3f9e": {
      "model_module": "@jupyter-widgets/base",
      "model_module_version": "2.0.0",
      "model_name": "LayoutModel",
      "state": {}
     },
     "30bd8ff7206946bd9d104d503c686f88": {
      "model_module": "@jupyter-widgets/controls",
      "model_module_version": "2.0.0",
      "model_name": "LinkModel",
      "state": {
       "source": [
        "IPY_MODEL_10003318e84d4ec1a3a715d31a940b12",
        "max"
       ],
       "target": [
        "IPY_MODEL_185853e5acbc47dba420c3f405de44e7",
        "max_frame"
       ]
      }
     },
     "32425814c1f341c5aea16cb1762f4480": {
      "model_module": "@jupyter-widgets/base",
      "model_module_version": "2.0.0",
      "model_name": "LayoutModel",
      "state": {}
     },
     "33153bfbdff042a2af78b68cb406f997": {
      "model_module": "@jupyter-widgets/controls",
      "model_module_version": "2.0.0",
      "model_name": "HBoxModel",
      "state": {
       "children": [
        "IPY_MODEL_8723512fe87245b2827478c9075e3379",
        "IPY_MODEL_1ed5f821207a428da18b271a1f5e68ef"
       ],
       "layout": "IPY_MODEL_0f1ba4f635eb4fb293a0ac76afe95fbf"
      }
     },
     "331cd50e53724f3fa7da24bf18725e37": {
      "model_module": "@jupyter-widgets/controls",
      "model_module_version": "2.0.0",
      "model_name": "LinkModel",
      "state": {
       "source": [
        "IPY_MODEL_9281bc8272264a0d8f6991388faddd72",
        "max"
       ],
       "target": [
        "IPY_MODEL_7468de2f7aad4bad9f6a97a2937641cd",
        "max_frame"
       ]
      }
     },
     "332852e045304c60ab6dc61e7863a01b": {
      "model_module": "@jupyter-widgets/controls",
      "model_module_version": "2.0.0",
      "model_name": "VBoxModel",
      "state": {
       "children": [
        "IPY_MODEL_da779ed5966b46a9bea4410321f37487"
       ],
       "layout": "IPY_MODEL_c43523152f7443ab9ac0ea871b980aa7"
      }
     },
     "33af5fe318f14f49919ebedbd1cacc11": {
      "model_module": "@jupyter-widgets/controls",
      "model_module_version": "2.0.0",
      "model_name": "LinkModel",
      "state": {
       "source": [
        "IPY_MODEL_9721200de472448b8cc6e4483071e850",
        "max"
       ],
       "target": [
        "IPY_MODEL_2a8b4879c1ed45c987e442b6d8efab8f",
        "max_frame"
       ]
      }
     },
     "34231210afc1403e9f9e69b8f49e3e8b": {
      "model_module": "@jupyter-widgets/controls",
      "model_module_version": "2.0.0",
      "model_name": "LinkModel",
      "state": {
       "source": [
        "IPY_MODEL_10003318e84d4ec1a3a715d31a940b12",
        "value"
       ],
       "target": [
        "IPY_MODEL_d96a922c533e4cf4baa171ec2ecab9e5",
        "value"
       ]
      }
     },
     "34aae4e35a054c4586e1c1fcf2a8495c": {
      "model_module": "@jupyter-widgets/controls",
      "model_module_version": "2.0.0",
      "model_name": "HBoxModel",
      "state": {
       "children": [
        "IPY_MODEL_9a20b2bd56dd4d6a8c6c1b54ce5c95e7",
        "IPY_MODEL_d728b53be55347a297aff8d1d9dc2bd2"
       ],
       "layout": "IPY_MODEL_e8a59b5a10754b038c928bee0c5b43ee"
      }
     },
     "34db2a64b0364712b34f3bf39ed418f6": {
      "model_module": "@jupyter-widgets/controls",
      "model_module_version": "2.0.0",
      "model_name": "PlayModel",
      "state": {
       "layout": "IPY_MODEL_42edfaabc6c3480a839dd25f1eb4d5c0",
       "max": 0,
       "style": "IPY_MODEL_70d5d2a194df4ee9a1d0284f7e6e96cf"
      }
     },
     "350cbbeb4915434299090b2f86b227f1": {
      "model_module": "@jupyter-widgets/controls",
      "model_module_version": "2.0.0",
      "model_name": "DescriptionStyleModel",
      "state": {
       "description_width": ""
      }
     },
     "3556f5afd38e492a8211561fd2d4d8b7": {
      "model_module": "@jupyter-widgets/controls",
      "model_module_version": "2.0.0",
      "model_name": "PlayModel",
      "state": {
       "layout": "IPY_MODEL_6cb7287e2d814cd3aef0d139973905f1",
       "max": 0,
       "style": "IPY_MODEL_a8a6940e1b2d42fda2b1e5f32ef7b07e"
      }
     },
     "35cc157b92b44f03a978a2490ee63278": {
      "model_module": "@jupyter-widgets/base",
      "model_module_version": "2.0.0",
      "model_name": "LayoutModel",
      "state": {
       "width": "34px"
      }
     },
     "360308e9b9494b3e9ecaa2ef15b2917d": {
      "model_module": "@jupyter-widgets/controls",
      "model_module_version": "2.0.0",
      "model_name": "ButtonStyleModel",
      "state": {
       "font_family": null,
       "font_size": null,
       "font_style": null,
       "font_variant": null,
       "font_weight": null,
       "text_color": null,
       "text_decoration": null
      }
     },
     "36db3af83f9f41d7959dd39f625182cc": {
      "model_module": "@jupyter-widgets/controls",
      "model_module_version": "2.0.0",
      "model_name": "LinkModel",
      "state": {
       "source": [
        "IPY_MODEL_cec09e6f091045da8b8ca96ab04964f4",
        "value"
       ],
       "target": [
        "IPY_MODEL_440f843445ec43b38d1436519a9bf7ed",
        "frame"
       ]
      }
     },
     "37d1f83b1faf4d89820ed4f7202dd552": {
      "model_module": "@jupyter-widgets/controls",
      "model_module_version": "2.0.0",
      "model_name": "LinkModel",
      "state": {
       "source": [
        "IPY_MODEL_a981454dfdc14326a723022e582f30cf",
        "max"
       ],
       "target": [
        "IPY_MODEL_b3e46ce4fbb84e6bbc70d18ccaafae06",
        "max_frame"
       ]
      }
     },
     "37dc0d9542084357beac45e954cc9587": {
      "model_module": "@jupyter-widgets/controls",
      "model_module_version": "2.0.0",
      "model_name": "LinkModel",
      "state": {
       "source": [
        "IPY_MODEL_22176f1dc0334a59a3a3875411b57383",
        "value"
       ],
       "target": [
        "IPY_MODEL_f2618dd9874d4fdb8fffe45458c34a95",
        "frame"
       ]
      }
     },
     "3848b4d85de64c5daf1018680af89405": {
      "model_module": "@jupyter-widgets/controls",
      "model_module_version": "2.0.0",
      "model_name": "IntSliderModel",
      "state": {
       "behavior": "drag-tap",
       "layout": "IPY_MODEL_618238881a704c15857fc88716807a78",
       "max": 0,
       "style": "IPY_MODEL_9f46f3f1983447c7bf73f2ec0edfa17a"
      }
     },
     "395b51455c9b472da3604abb02584ca6": {
      "model_module": "@jupyter-widgets/controls",
      "model_module_version": "2.0.0",
      "model_name": "ImageModel",
      "state": {
       "layout": "IPY_MODEL_187aefdd61804eb8bfc28f4d340fd0a4",
       "width": "900.0"
      }
     },
     "39e9b1c829e24af2b2d7b1755eb34fad": {
      "model_module": "nglview-js-widgets",
      "model_module_version": "3.0.8",
      "model_name": "NGLModel",
      "state": {
       "_camera_orientation": [
        20.283246487951367,
        0,
        0,
        0,
        0,
        20.283246487951367,
        0,
        0,
        0,
        0,
        20.283246487951367,
        0,
        -19.729999542236328,
        -20,
        -20.270000457763672,
        1
       ],
       "_camera_str": "orthographic",
       "_gui_theme": null,
       "_ibtn_fullscreen": "IPY_MODEL_1ca0fedc6f0b42379b3bcb6d048b85f9",
       "_igui": null,
       "_iplayer": "IPY_MODEL_61cf1a3dafdf4c9d8e81d398c3e9488c",
       "_ngl_color_dict": {},
       "_ngl_coordinate_resource": {},
       "_ngl_full_stage_parameters": {
        "ambientColor": 14540253,
        "ambientIntensity": 0.2,
        "backgroundColor": "white",
        "cameraEyeSep": 0.3,
        "cameraFov": 40,
        "cameraType": "orthographic",
        "clipDist": -100,
        "clipFar": 100,
        "clipMode": "scene",
        "clipNear": 0,
        "clipScale": "relative",
        "fogFar": 100,
        "fogNear": 50,
        "hoverTimeout": 0,
        "impostor": true,
        "lightColor": 14540253,
        "lightIntensity": 1,
        "mousePreset": "default",
        "panSpeed": 1,
        "quality": "medium",
        "rotateSpeed": 2,
        "sampleLevel": 3,
        "tooltip": true,
        "workerDefault": true,
        "zoomSpeed": 1.2
       },
       "_ngl_msg_archive": [
        {
         "args": [
          {
           "binary": false,
           "data": "TITLE     MOL_GMX.gro created by acpype (Rev: 0) on Thu Feb 15 00:22:45 2018\nREMARK    THIS IS A SIMULATION BOX\nCRYST1   40.000   40.000   40.000  90.00  90.00  90.00 P 1           1\nMODEL        1\nATOM      1  C1  TOL     1      20.000  21.200  19.990  1.00  0.00            \nATOM      2  C2  TOL     1      20.720  20.000  19.990  1.00  0.00            \nATOM      3  C3  TOL     1      20.000  18.800  19.990  1.00  0.00            \nATOM      4  C4  TOL     1      18.610  18.800  20.000  1.00  0.00            \nATOM      5  C5  TOL     1      17.910  20.000  20.010  1.00  0.00            \nATOM      6  C6  TOL     1      18.610  21.200  20.000  1.00  0.00            \nATOM      7  C7  TOL     1      22.230  20.000  20.010  1.00  0.00            \nATOM      8  H1  TOL     1      22.630  19.120  19.510  1.00  0.00            \nATOM      9  H2  TOL     1      22.630  20.880  19.510  1.00  0.00            \nATOM     10  H3  TOL     1      22.610  20.000  21.030  1.00  0.00            \nATOM     11  H4  TOL     1      20.540  17.860  19.980  1.00  0.00            \nATOM     12  H5  TOL     1      18.080  17.860  20.000  1.00  0.00            \nATOM     13  H6  TOL     1      16.830  20.000  20.020  1.00  0.00            \nATOM     14  H7  TOL     1      18.080  22.140  20.000  1.00  0.00            \nATOM     15  H8  TOL     1      20.540  22.140  19.980  1.00  0.00            \nTER\nENDMDL\n",
           "type": "blob"
          }
         ],
         "kwargs": {
          "defaultRepresentation": true,
          "ext": "pdb"
         },
         "methodName": "loadFile",
         "reconstruc_color_scheme": false,
         "target": "Stage",
         "type": "call_method"
        },
        {
         "args": [
          "400px",
          "400px"
         ],
         "kwargs": {},
         "methodName": "setSize",
         "reconstruc_color_scheme": false,
         "target": "Widget",
         "type": "call_method"
        },
        {
         "args": [
          {
           "backgroundColor": "white",
           "clipDist": -100,
           "sampleLevel": 3
          }
         ],
         "kwargs": {},
         "methodName": "setParameters",
         "reconstruc_color_scheme": false,
         "target": "Widget",
         "type": "call_method"
        },
        {
         "args": [
          "unitcell"
         ],
         "component_index": 0,
         "kwargs": {
          "sele": "all"
         },
         "methodName": "addRepresentation",
         "reconstruc_color_scheme": false,
         "target": "compList",
         "type": "call_method"
        },
        {
         "args": [],
         "kwargs": {
          "cameraType": "orthographic"
         },
         "methodName": "setParameters",
         "reconstruc_color_scheme": false,
         "target": "Stage",
         "type": "call_method"
        }
       ],
       "_ngl_original_stage_parameters": {
        "ambientColor": 14540253,
        "ambientIntensity": 0.2,
        "backgroundColor": "white",
        "cameraEyeSep": 0.3,
        "cameraFov": 40,
        "cameraType": "perspective",
        "clipDist": 10,
        "clipFar": 100,
        "clipMode": "scene",
        "clipNear": 0,
        "clipScale": "relative",
        "fogFar": 100,
        "fogNear": 50,
        "hoverTimeout": 0,
        "impostor": true,
        "lightColor": 14540253,
        "lightIntensity": 1,
        "mousePreset": "default",
        "panSpeed": 1,
        "quality": "medium",
        "rotateSpeed": 2,
        "sampleLevel": 0,
        "tooltip": true,
        "workerDefault": true,
        "zoomSpeed": 1.2
       },
       "_ngl_repr_dict": {
        "0": {
         "0": {
          "params": {
           "aspectRatio": 1.5,
           "assembly": "default",
           "bondScale": 0.3,
           "bondSpacing": 0.75,
           "clipCenter": {
            "x": 0,
            "y": 0,
            "z": 0
           },
           "clipNear": 0,
           "clipRadius": 0,
           "colorMode": "hcl",
           "colorReverse": false,
           "colorScale": "",
           "colorScheme": "element",
           "colorValue": 9474192,
           "cylinderOnly": false,
           "defaultAssembly": "",
           "depthWrite": true,
           "diffuse": 16777215,
           "diffuseInterior": false,
           "disableImpostor": false,
           "disablePicking": false,
           "flatShaded": false,
           "interiorColor": 2236962,
           "interiorDarkening": 0,
           "lazy": false,
           "lineOnly": false,
           "linewidth": 2,
           "matrix": {
            "elements": [
             1,
             0,
             0,
             0,
             0,
             1,
             0,
             0,
             0,
             0,
             1,
             0,
             0,
             0,
             0,
             1
            ]
           },
           "metalness": 0,
           "multipleBond": "off",
           "opacity": 1,
           "openEnded": true,
           "quality": "high",
           "radialSegments": 20,
           "radiusData": {},
           "radiusScale": 2,
           "radiusSize": 0.15,
           "radiusType": "size",
           "roughness": 0.4,
           "sele": "",
           "side": "double",
           "sphereDetail": 2,
           "useInteriorColor": true,
           "visible": true,
           "wireframe": false
          },
          "type": "ball+stick"
         },
         "1": {
          "params": {
           "clipCenter": {
            "x": 0,
            "y": 0,
            "z": 0
           },
           "clipNear": 0,
           "clipRadius": 0,
           "colorMode": "hcl",
           "colorReverse": false,
           "colorScale": "",
           "colorScheme": "element",
           "colorValue": "orange",
           "defaultAssembly": "",
           "depthWrite": true,
           "diffuse": 16777215,
           "diffuseInterior": false,
           "disableImpostor": false,
           "disablePicking": false,
           "flatShaded": false,
           "interiorColor": 2236962,
           "interiorDarkening": 0,
           "lazy": false,
           "matrix": {
            "elements": [
             1,
             0,
             0,
             0,
             0,
             1,
             0,
             0,
             0,
             0,
             1,
             0,
             0,
             0,
             0,
             1
            ]
           },
           "metalness": 0,
           "opacity": 1,
           "quality": "medium",
           "radialSegments": 10,
           "radiusData": {},
           "radiusScale": 1,
           "radiusSize": 0.19999999122077702,
           "radiusType": "vdw",
           "roughness": 0.4,
           "sele": "all",
           "side": "double",
           "sphereDetail": 1,
           "useInteriorColor": true,
           "visible": true,
           "wireframe": false
          },
          "type": "unitcell"
         }
        }
       },
       "_ngl_serialize": false,
       "_ngl_version": "2.0.0-dev.39",
       "_ngl_view_id": [
        "C2A32683-70BC-46C6-9DEE-2D354ECD59B8"
       ],
       "_player_dict": {},
       "_scene_position": {},
       "_scene_rotation": {},
       "_synced_model_ids": [],
       "_synced_repr_model_ids": [],
       "_view_height": "",
       "_view_width": "",
       "background": "white",
       "frame": 0,
       "gui_style": null,
       "layout": "IPY_MODEL_b439cae0e59e44978ac2536835411609",
       "max_frame": 0,
       "n_components": 1,
       "picked": {}
      }
     },
     "3a07aba8a548462db3b7496b3ee14bfa": {
      "model_module": "@jupyter-widgets/base",
      "model_module_version": "2.0.0",
      "model_name": "LayoutModel",
      "state": {}
     },
     "3a51ad6632e741b3b082281c7cdc5eea": {
      "model_module": "@jupyter-widgets/controls",
      "model_module_version": "2.0.0",
      "model_name": "IntSliderModel",
      "state": {
       "behavior": "drag-tap",
       "layout": "IPY_MODEL_d2a34f3176924fd5861fb5bfbf59665e",
       "max": 0,
       "style": "IPY_MODEL_1ff512ed2c224601ae4bc841da95d001"
      }
     },
     "3b493f6d0c3a4f048f765fae05126ce4": {
      "model_module": "@jupyter-widgets/controls",
      "model_module_version": "2.0.0",
      "model_name": "ButtonModel",
      "state": {
       "icon": "compress",
       "layout": "IPY_MODEL_c95c50ee06d647eb8955a60616e84930",
       "style": "IPY_MODEL_3df629fd4bb24cd0b3670e968f4cfac5",
       "tooltip": null
      }
     },
     "3b679be779dd4e15aa33c637b056deb7": {
      "model_module": "@jupyter-widgets/base",
      "model_module_version": "2.0.0",
      "model_name": "LayoutModel",
      "state": {}
     },
     "3b72b0a62a034882af1c2e0ade887e73": {
      "model_module": "@jupyter-widgets/base",
      "model_module_version": "2.0.0",
      "model_name": "LayoutModel",
      "state": {}
     },
     "3b8d43abb81942aeb9dc4f394691a0bd": {
      "model_module": "@jupyter-widgets/controls",
      "model_module_version": "2.0.0",
      "model_name": "LinkModel",
      "state": {
       "source": [
        "IPY_MODEL_09e2872a4ae546349e246e13a2f75250",
        "value"
       ],
       "target": [
        "IPY_MODEL_c770e344679e4578a8b5d26da900a10c",
        "frame"
       ]
      }
     },
     "3bcab62599a844e693b8d223676b0edd": {
      "model_module": "@jupyter-widgets/controls",
      "model_module_version": "2.0.0",
      "model_name": "SliderStyleModel",
      "state": {
       "description_width": ""
      }
     },
     "3c4884d6ae624020986c62dad184c622": {
      "model_module": "@jupyter-widgets/controls",
      "model_module_version": "2.0.0",
      "model_name": "LinkModel",
      "state": {
       "source": [
        "IPY_MODEL_f00db5060036428184173526be0c05ad",
        "max"
       ],
       "target": [
        "IPY_MODEL_0665194fff954a44b5ebd60b6587b098",
        "max_frame"
       ]
      }
     },
     "3c5c83a7164d41d4ad117e228d63f0ab": {
      "model_module": "@jupyter-widgets/base",
      "model_module_version": "2.0.0",
      "model_name": "LayoutModel",
      "state": {}
     },
     "3ce111d763654ba8820896337b4730d0": {
      "model_module": "@jupyter-widgets/base",
      "model_module_version": "2.0.0",
      "model_name": "LayoutModel",
      "state": {}
     },
     "3d7dd31ca9894b96bea01a5728bc7857": {
      "model_module": "@jupyter-widgets/base",
      "model_module_version": "2.0.0",
      "model_name": "LayoutModel",
      "state": {}
     },
     "3dbc1a2751a2411ea16e861a9d33d323": {
      "model_module": "@jupyter-widgets/controls",
      "model_module_version": "2.0.0",
      "model_name": "LinkModel",
      "state": {
       "source": [
        "IPY_MODEL_24aa906c2ebb46798570345e08112b7b",
        "max"
       ],
       "target": [
        "IPY_MODEL_39e9b1c829e24af2b2d7b1755eb34fad",
        "max_frame"
       ]
      }
     },
     "3df629fd4bb24cd0b3670e968f4cfac5": {
      "model_module": "@jupyter-widgets/controls",
      "model_module_version": "2.0.0",
      "model_name": "ButtonStyleModel",
      "state": {
       "font_family": null,
       "font_size": null,
       "font_style": null,
       "font_variant": null,
       "font_weight": null,
       "text_color": null,
       "text_decoration": null
      }
     },
     "3e2e05a2a9f6471ab596a9389978509b": {
      "model_module": "nglview-js-widgets",
      "model_module_version": "3.0.8",
      "model_name": "NGLModel",
      "state": {
       "_camera_orientation": [
        28.403140029603975,
        0,
        0,
        0,
        0,
        28.403140029603975,
        0,
        0,
        0,
        0,
        28.403140029603975,
        0,
        -0.35699987411499023,
        0.14499998092651367,
        -0.09600001573562622,
        1
       ],
       "_camera_str": "orthographic",
       "_gui_theme": null,
       "_ibtn_fullscreen": "IPY_MODEL_2705190c59c648fd9a898bdaff93fdd8",
       "_igui": null,
       "_iplayer": "IPY_MODEL_6d43b85ffdfd431181aa9b255e700a82",
       "_ngl_color_dict": {},
       "_ngl_coordinate_resource": {},
       "_ngl_full_stage_parameters": {
        "ambientColor": 14540253,
        "ambientIntensity": 0.2,
        "backgroundColor": "white",
        "cameraEyeSep": 0.3,
        "cameraFov": 40,
        "cameraType": "orthographic",
        "clipDist": -100,
        "clipFar": 100,
        "clipMode": "scene",
        "clipNear": 0,
        "clipScale": "relative",
        "fogFar": 100,
        "fogNear": 50,
        "hoverTimeout": 0,
        "impostor": true,
        "lightColor": 14540253,
        "lightIntensity": 1,
        "mousePreset": "default",
        "panSpeed": 1,
        "quality": "medium",
        "rotateSpeed": 2,
        "sampleLevel": 3,
        "tooltip": true,
        "workerDefault": true,
        "zoomSpeed": 1.2
       },
       "_ngl_msg_archive": [
        {
         "args": [
          {
           "binary": false,
           "data": "HETATM    1  C1  SUR     1       5.068  -1.116   0.968  1.00  0.00           C\nHETATM    2  C2  SUR     1       3.683  -0.937   0.400  1.00  0.00           C\nHETATM    3  N1  SUR     1       2.956   0.117   0.730  1.00  0.00           N\nHETATM    4  C3  SUR     1       1.738   0.281   0.234  1.00  0.00           C\nHETATM    5  N2  SUR     1       1.206  -0.596  -0.604  1.00  0.00           N\nHETATM    6  C4  SUR     1       1.880  -1.672  -0.975  1.00  0.00           C\nHETATM    7  C5  SUR     1       3.159  -1.871  -0.480  1.00  0.00           C\nHETATM    8  N3  SUR     1       1.004   1.396   0.601  1.00  0.00           N\nHETATM    9  S1  SUR     1      -0.342   1.824  -0.265  1.00  0.00           S\nHETATM   10  O1  SUR     1      -0.884   2.957   0.398  1.00  0.00           O\nHETATM   11  O2  SUR     1       0.048   1.778  -1.631  1.00  0.00           O\nHETATM   12  C6  SUR     1      -1.529   0.538  -0.063  1.00  0.00           C\nHETATM   13  C7  SUR     1      -2.436   0.594   0.979  1.00  0.00           C\nHETATM   14  C8  SUR     1      -3.368  -0.412   1.141  1.00  0.00           C\nHETATM   15  C9  SUR     1      -3.394  -1.481   0.255  1.00  0.00           C\nHETATM   16  C10 SUR     1      -2.481  -1.535  -0.791  1.00  0.00           C\nHETATM   17  C11 SUR     1      -1.556  -0.523  -0.950  1.00  0.00           C\nHETATM   18  N4  SUR     1      -4.335  -2.501   0.415  1.00  0.00           N\nHETATM   19  H1  SUR     1       5.008  -1.679   1.899  1.00  0.00           H\nHETATM   20  H2  SUR     1       5.686  -1.659   0.253  1.00  0.00           H\nHETATM   21  H3  SUR     1       5.510  -0.139   1.162  1.00  0.00           H\nHETATM   22  H4  SUR     1       1.441  -2.384  -1.658  1.00  0.00           H\nHETATM   23  H5  SUR     1       3.732  -2.741  -0.767  1.00  0.00           H\nHETATM   24  H6  SUR     1       1.277   1.927   1.366  1.00  0.00           H\nHETATM   25  H7  SUR     1      -2.416   1.426   1.668  1.00  0.00           H\nHETATM   26  H8  SUR     1      -4.076  -0.367   1.955  1.00  0.00           H\nHETATM   27  H9  SUR     1      -2.499  -2.365  -1.482  1.00  0.00           H\nHETATM   28  H10 SUR     1      -0.846  -0.564  -1.763  1.00  0.00           H\nHETATM   29  H11 SUR     1      -4.972  -2.463   1.146  1.00  0.00           H\nHETATM   30  H12 SUR     1      -4.352  -3.247  -0.204  1.00  0.00           H\nCONECT    1   20   19   21    2\nCONECT   16   15   17   27\nCONECT   17   12   28   16\nCONECT    2    7    3    1\nCONECT    4    5    8    3\nCONECT    6    5    7   22\nCONECT    7    6    2   23\nCONECT   12    9   17   13\nCONECT   13   14   12   25\nCONECT   14   26   15   13\nCONECT   15   14   18   16\nCONECT   19    1\nCONECT   28   17\nCONECT   29   18\nCONECT   30   18\nCONECT   20    1\nCONECT   21    1\nCONECT   22    6\nCONECT   23    7\nCONECT   24    8\nCONECT   25   13\nCONECT   26   14\nCONECT   27   16\nCONECT    3    4    2\nCONECT    5    4    6\nCONECT    8    4    9   24\nCONECT   18   15   30   29\nCONECT   10    9\nCONECT   11    9\nCONECT    9    8   10   12   11\nEND\n",
           "type": "blob"
          }
         ],
         "kwargs": {
          "defaultRepresentation": true,
          "ext": "pdb"
         },
         "methodName": "loadFile",
         "reconstruc_color_scheme": false,
         "target": "Stage",
         "type": "call_method"
        },
        {
         "args": [
          "300px",
          "300px"
         ],
         "kwargs": {},
         "methodName": "setSize",
         "reconstruc_color_scheme": false,
         "target": "Widget",
         "type": "call_method"
        },
        {
         "args": [
          {
           "backgroundColor": "white",
           "clipDist": -100,
           "sampleLevel": 3
          }
         ],
         "kwargs": {},
         "methodName": "setParameters",
         "reconstruc_color_scheme": false,
         "target": "Widget",
         "type": "call_method"
        },
        {
         "args": [],
         "kwargs": {
          "cameraType": "orthographic"
         },
         "methodName": "setParameters",
         "reconstruc_color_scheme": false,
         "target": "Stage",
         "type": "call_method"
        }
       ],
       "_ngl_original_stage_parameters": {
        "ambientColor": 14540253,
        "ambientIntensity": 0.2,
        "backgroundColor": "white",
        "cameraEyeSep": 0.3,
        "cameraFov": 40,
        "cameraType": "perspective",
        "clipDist": 10,
        "clipFar": 100,
        "clipMode": "scene",
        "clipNear": 0,
        "clipScale": "relative",
        "fogFar": 100,
        "fogNear": 50,
        "hoverTimeout": 0,
        "impostor": true,
        "lightColor": 14540253,
        "lightIntensity": 1,
        "mousePreset": "default",
        "panSpeed": 1,
        "quality": "medium",
        "rotateSpeed": 2,
        "sampleLevel": 0,
        "tooltip": true,
        "workerDefault": true,
        "zoomSpeed": 1.2
       },
       "_ngl_repr_dict": {
        "0": {
         "0": {
          "params": {
           "aspectRatio": 1.5,
           "assembly": "default",
           "bondScale": 0.3,
           "bondSpacing": 0.75,
           "clipCenter": {
            "x": 0,
            "y": 0,
            "z": 0
           },
           "clipNear": 0,
           "clipRadius": 0,
           "colorMode": "hcl",
           "colorReverse": false,
           "colorScale": "",
           "colorScheme": "element",
           "colorValue": 9474192,
           "cylinderOnly": false,
           "defaultAssembly": "",
           "depthWrite": true,
           "diffuse": 16777215,
           "diffuseInterior": false,
           "disableImpostor": false,
           "disablePicking": false,
           "flatShaded": false,
           "interiorColor": 2236962,
           "interiorDarkening": 0,
           "lazy": false,
           "lineOnly": false,
           "linewidth": 2,
           "matrix": {
            "elements": [
             1,
             0,
             0,
             0,
             0,
             1,
             0,
             0,
             0,
             0,
             1,
             0,
             0,
             0,
             0,
             1
            ]
           },
           "metalness": 0,
           "multipleBond": "off",
           "opacity": 1,
           "openEnded": true,
           "quality": "high",
           "radialSegments": 20,
           "radiusData": {},
           "radiusScale": 2,
           "radiusSize": 0.15,
           "radiusType": "size",
           "roughness": 0.4,
           "sele": "",
           "side": "double",
           "sphereDetail": 2,
           "useInteriorColor": true,
           "visible": true,
           "wireframe": false
          },
          "type": "ball+stick"
         }
        }
       },
       "_ngl_serialize": false,
       "_ngl_version": "2.0.0-dev.39",
       "_ngl_view_id": [
        "3B175D1C-DEEC-4CB8-916E-EC0CEEA436C1"
       ],
       "_player_dict": {},
       "_scene_position": {},
       "_scene_rotation": {},
       "_synced_model_ids": [],
       "_synced_repr_model_ids": [],
       "_view_height": "",
       "_view_width": "",
       "background": "white",
       "frame": 0,
       "gui_style": null,
       "layout": "IPY_MODEL_433078a424014481807b7c8f81520e3a",
       "max_frame": 0,
       "n_components": 1,
       "picked": {}
      }
     },
     "3e77a91306a4474ea7435f3a29b35427": {
      "model_module": "@jupyter-widgets/controls",
      "model_module_version": "2.0.0",
      "model_name": "ImageModel",
      "state": {
       "layout": "IPY_MODEL_6d76248a32264442acad2dd6b1116092",
       "width": "900.0"
      }
     },
     "3e86a681e62e4d529f1fe2828b0557bb": {
      "model_module": "@jupyter-widgets/controls",
      "model_module_version": "2.0.0",
      "model_name": "DescriptionStyleModel",
      "state": {
       "description_width": ""
      }
     },
     "3e9b85d63a3b4b779afdeb12ccc32c90": {
      "model_module": "@jupyter-widgets/controls",
      "model_module_version": "2.0.0",
      "model_name": "HBoxModel",
      "state": {
       "children": [
        "IPY_MODEL_bbd0d668346a43869b1fdb9c0d1858d2",
        "IPY_MODEL_a981454dfdc14326a723022e582f30cf"
       ],
       "layout": "IPY_MODEL_29cb8dff61cb48bda3aea25cc2fb2d80"
      }
     },
     "3ead7d776cc4455dac3c3a6757d14205": {
      "model_module": "@jupyter-widgets/controls",
      "model_module_version": "2.0.0",
      "model_name": "LinkModel",
      "state": {
       "source": [
        "IPY_MODEL_e02503f67ecb4fb883d058a114c98c30",
        "max"
       ],
       "target": [
        "IPY_MODEL_00fff8dfe528489a83b1216fa685dde9",
        "max_frame"
       ]
      }
     },
     "3eb0afe20f504385a2259ea50e6f680d": {
      "model_module": "@jupyter-widgets/controls",
      "model_module_version": "2.0.0",
      "model_name": "HBoxModel",
      "state": {
       "children": [
        "IPY_MODEL_e4ee3d2a9c214963bc1fd01447cfee07",
        "IPY_MODEL_44339c22863344a7a1b2881ffbed2a79"
       ],
       "layout": "IPY_MODEL_5e9a5cd254214d9da949033e03957ad2"
      }
     },
     "3eb24a689fce477992d20fcd17bb0ce1": {
      "model_module": "@jupyter-widgets/controls",
      "model_module_version": "2.0.0",
      "model_name": "DescriptionStyleModel",
      "state": {
       "description_width": ""
      }
     },
     "3f220aadcef343008156d42d4792bd15": {
      "model_module": "@jupyter-widgets/base",
      "model_module_version": "2.0.0",
      "model_name": "LayoutModel",
      "state": {}
     },
     "3f560652b93b4be5887e3392d477f026": {
      "model_module": "@jupyter-widgets/controls",
      "model_module_version": "2.0.0",
      "model_name": "ButtonModel",
      "state": {
       "icon": "compress",
       "layout": "IPY_MODEL_c796c277b1e04692b7220bb86f4bea39",
       "style": "IPY_MODEL_4d4b9ea79b254faba439358e45981c5e",
       "tooltip": null
      }
     },
     "3f5a02c098d947ef82f60676533dee94": {
      "model_module": "@jupyter-widgets/base",
      "model_module_version": "2.0.0",
      "model_name": "LayoutModel",
      "state": {
       "width": "34px"
      }
     },
     "3f6b534107154a07abb23704fe4e7ca2": {
      "model_module": "@jupyter-widgets/controls",
      "model_module_version": "2.0.0",
      "model_name": "ButtonStyleModel",
      "state": {
       "font_family": null,
       "font_size": null,
       "font_style": null,
       "font_variant": null,
       "font_weight": null,
       "text_color": null,
       "text_decoration": null
      }
     },
     "3f72601323ff4f33a9602a14e60163a7": {
      "model_module": "@jupyter-widgets/controls",
      "model_module_version": "2.0.0",
      "model_name": "PlayModel",
      "state": {
       "layout": "IPY_MODEL_4e9cb3b11edd44e6a788571fe48ab7aa",
       "max": 0,
       "style": "IPY_MODEL_7e9edde9c05a468f9a334beee5bf2735"
      }
     },
     "3fc61f12311f4325b59480c52f89d256": {
      "model_module": "@jupyter-widgets/controls",
      "model_module_version": "2.0.0",
      "model_name": "HBoxModel",
      "state": {
       "children": [
        "IPY_MODEL_e6c95788a1524ee09e91cd6851fd2dde",
        "IPY_MODEL_2d97ae2bc1ac4489ac4d536745e0fdaa"
       ],
       "layout": "IPY_MODEL_e7f04d99c83145738a562116d0f3900f"
      }
     },
     "3fe819ed93fc45ddb75339b5870c159f": {
      "model_module": "@jupyter-widgets/controls",
      "model_module_version": "2.0.0",
      "model_name": "DescriptionStyleModel",
      "state": {
       "description_width": ""
      }
     },
     "401c0267659f4213ba8594c73884e003": {
      "model_module": "@jupyter-widgets/base",
      "model_module_version": "2.0.0",
      "model_name": "LayoutModel",
      "state": {}
     },
     "40355f6ffc134a40b5c4009041c34e65": {
      "model_module": "@jupyter-widgets/controls",
      "model_module_version": "2.0.0",
      "model_name": "ButtonModel",
      "state": {
       "icon": "compress",
       "layout": "IPY_MODEL_2fce6f9538864c0d869c0321b2914fcc",
       "style": "IPY_MODEL_9e2464ead7894aa3960526578e2090a2",
       "tooltip": null
      }
     },
     "40358fd0264744ed8b495da40bbe687b": {
      "model_module": "@jupyter-widgets/controls",
      "model_module_version": "2.0.0",
      "model_name": "LinkModel",
      "state": {
       "source": [
        "IPY_MODEL_d728b53be55347a297aff8d1d9dc2bd2",
        "max"
       ],
       "target": [
        "IPY_MODEL_0744b35d324d4c5fa62632870be28fcf",
        "max_frame"
       ]
      }
     },
     "408d308943ec43d7af72ba000b78b38a": {
      "model_module": "@jupyter-widgets/base",
      "model_module_version": "2.0.0",
      "model_name": "LayoutModel",
      "state": {
       "width": "34px"
      }
     },
     "4138e22dfa7c4ae4aed1caaf01c4d50d": {
      "model_module": "@jupyter-widgets/base",
      "model_module_version": "2.0.0",
      "model_name": "LayoutModel",
      "state": {}
     },
     "414aa3b00af9405daf069619eca1bd08": {
      "model_module": "@jupyter-widgets/controls",
      "model_module_version": "2.0.0",
      "model_name": "IntSliderModel",
      "state": {
       "behavior": "drag-tap",
       "layout": "IPY_MODEL_541f69859fab4a5688b8b01f30e4920c",
       "max": 0,
       "style": "IPY_MODEL_9dfece5a47784bf1931b6dd7a678880a"
      }
     },
     "418c4f54616a4b278819c6d80b5f0bc9": {
      "model_module": "@jupyter-widgets/base",
      "model_module_version": "2.0.0",
      "model_name": "LayoutModel",
      "state": {}
     },
     "419b39a5a2794b02a543e2b032eff417": {
      "model_module": "@jupyter-widgets/controls",
      "model_module_version": "2.0.0",
      "model_name": "LinkModel",
      "state": {
       "source": [
        "IPY_MODEL_c8a67fb27d724293b3bbf02f74d5c5aa",
        "max"
       ],
       "target": [
        "IPY_MODEL_8723512fe87245b2827478c9075e3379",
        "max_frame"
       ]
      }
     },
     "41ead5ba5e444a6492e01804604d5bf4": {
      "model_module": "@jupyter-widgets/base",
      "model_module_version": "2.0.0",
      "model_name": "LayoutModel",
      "state": {}
     },
     "42edfaabc6c3480a839dd25f1eb4d5c0": {
      "model_module": "@jupyter-widgets/base",
      "model_module_version": "2.0.0",
      "model_name": "LayoutModel",
      "state": {}
     },
     "431ddda001ab480f91f20cf5c5332188": {
      "model_module": "@jupyter-widgets/base",
      "model_module_version": "2.0.0",
      "model_name": "LayoutModel",
      "state": {}
     },
     "433078a424014481807b7c8f81520e3a": {
      "model_module": "@jupyter-widgets/base",
      "model_module_version": "2.0.0",
      "model_name": "LayoutModel",
      "state": {}
     },
     "4341b7e2f07041079878125a049b2c77": {
      "model_module": "@jupyter-widgets/base",
      "model_module_version": "2.0.0",
      "model_name": "LayoutModel",
      "state": {}
     },
     "440f843445ec43b38d1436519a9bf7ed": {
      "model_module": "nglview-js-widgets",
      "model_module_version": "3.0.8",
      "model_name": "NGLModel",
      "state": {
       "_camera_orientation": [
        16.11495032699648,
        -3.3271176586882807,
        -11.859542661277946,
        0,
        11.435136394184928,
        11.299195118856584,
        12.368344004085015,
        0,
        4.577785457600033,
        -16.512678942020383,
        10.85289834804204,
        0,
        -19.729999542236328,
        -20,
        -20.270000457763672,
        1
       ],
       "_camera_str": "orthographic",
       "_gui_theme": null,
       "_ibtn_fullscreen": "IPY_MODEL_304a1f0a7cc64014a936470643bb35b4",
       "_igui": null,
       "_iplayer": "IPY_MODEL_b677b592738b43da957d9d4a2036ca88",
       "_ngl_color_dict": {},
       "_ngl_coordinate_resource": {},
       "_ngl_full_stage_parameters": {
        "ambientColor": 14540253,
        "ambientIntensity": 0.2,
        "backgroundColor": "white",
        "cameraEyeSep": 0.3,
        "cameraFov": 40,
        "cameraType": "orthographic",
        "clipDist": -100,
        "clipFar": 100,
        "clipMode": "scene",
        "clipNear": 0,
        "clipScale": "relative",
        "fogFar": 100,
        "fogNear": 50,
        "hoverTimeout": 0,
        "impostor": true,
        "lightColor": 14540253,
        "lightIntensity": 1,
        "mousePreset": "default",
        "panSpeed": 1,
        "quality": "medium",
        "rotateSpeed": 2,
        "sampleLevel": 3,
        "tooltip": true,
        "workerDefault": true,
        "zoomSpeed": 1.2
       },
       "_ngl_msg_archive": [
        {
         "args": [
          {
           "binary": false,
           "data": "TITLE     MOL_GMX.gro created by acpype (Rev: 0) on Thu Feb 15 00:22:45 2018\nREMARK    THIS IS A SIMULATION BOX\nCRYST1   40.000   40.000   40.000  90.00  90.00  90.00 P 1           1\nMODEL        1\nATOM      1  C1  TOL     1      20.000  21.200  19.990  1.00  0.00            \nATOM      2  C2  TOL     1      20.720  20.000  19.990  1.00  0.00            \nATOM      3  C3  TOL     1      20.000  18.800  19.990  1.00  0.00            \nATOM      4  C4  TOL     1      18.610  18.800  20.000  1.00  0.00            \nATOM      5  C5  TOL     1      17.910  20.000  20.010  1.00  0.00            \nATOM      6  C6  TOL     1      18.610  21.200  20.000  1.00  0.00            \nATOM      7  C7  TOL     1      22.230  20.000  20.010  1.00  0.00            \nATOM      8  H1  TOL     1      22.630  19.120  19.510  1.00  0.00            \nATOM      9  H2  TOL     1      22.630  20.880  19.510  1.00  0.00            \nATOM     10  H3  TOL     1      22.610  20.000  21.030  1.00  0.00            \nATOM     11  H4  TOL     1      20.540  17.860  19.980  1.00  0.00            \nATOM     12  H5  TOL     1      18.080  17.860  20.000  1.00  0.00            \nATOM     13  H6  TOL     1      16.830  20.000  20.020  1.00  0.00            \nATOM     14  H7  TOL     1      18.080  22.140  20.000  1.00  0.00            \nATOM     15  H8  TOL     1      20.540  22.140  19.980  1.00  0.00            \nTER\nENDMDL\n",
           "type": "blob"
          }
         ],
         "kwargs": {
          "defaultRepresentation": true,
          "ext": "pdb"
         },
         "methodName": "loadFile",
         "reconstruc_color_scheme": false,
         "target": "Stage",
         "type": "call_method"
        },
        {
         "args": [
          "200px",
          "200px"
         ],
         "kwargs": {},
         "methodName": "setSize",
         "reconstruc_color_scheme": false,
         "target": "Widget",
         "type": "call_method"
        },
        {
         "args": [
          {
           "backgroundColor": "white",
           "clipDist": -100,
           "sampleLevel": 3
          }
         ],
         "kwargs": {},
         "methodName": "setParameters",
         "reconstruc_color_scheme": false,
         "target": "Widget",
         "type": "call_method"
        },
        {
         "args": [
          "unitcell"
         ],
         "component_index": 0,
         "kwargs": {
          "sele": "all"
         },
         "methodName": "addRepresentation",
         "reconstruc_color_scheme": false,
         "target": "compList",
         "type": "call_method"
        },
        {
         "args": [],
         "kwargs": {
          "cameraType": "orthographic"
         },
         "methodName": "setParameters",
         "reconstruc_color_scheme": false,
         "target": "Stage",
         "type": "call_method"
        }
       ],
       "_ngl_original_stage_parameters": {
        "ambientColor": 14540253,
        "ambientIntensity": 0.2,
        "backgroundColor": "white",
        "cameraEyeSep": 0.3,
        "cameraFov": 40,
        "cameraType": "perspective",
        "clipDist": 10,
        "clipFar": 100,
        "clipMode": "scene",
        "clipNear": 0,
        "clipScale": "relative",
        "fogFar": 100,
        "fogNear": 50,
        "hoverTimeout": 0,
        "impostor": true,
        "lightColor": 14540253,
        "lightIntensity": 1,
        "mousePreset": "default",
        "panSpeed": 1,
        "quality": "medium",
        "rotateSpeed": 2,
        "sampleLevel": 0,
        "tooltip": true,
        "workerDefault": true,
        "zoomSpeed": 1.2
       },
       "_ngl_repr_dict": {
        "0": {
         "0": {
          "params": {
           "aspectRatio": 1.5,
           "assembly": "default",
           "bondScale": 0.3,
           "bondSpacing": 0.75,
           "clipCenter": {
            "x": 0,
            "y": 0,
            "z": 0
           },
           "clipNear": 0,
           "clipRadius": 0,
           "colorMode": "hcl",
           "colorReverse": false,
           "colorScale": "",
           "colorScheme": "element",
           "colorValue": 9474192,
           "cylinderOnly": false,
           "defaultAssembly": "",
           "depthWrite": true,
           "diffuse": 16777215,
           "diffuseInterior": false,
           "disableImpostor": false,
           "disablePicking": false,
           "flatShaded": false,
           "interiorColor": 2236962,
           "interiorDarkening": 0,
           "lazy": false,
           "lineOnly": false,
           "linewidth": 2,
           "matrix": {
            "elements": [
             1,
             0,
             0,
             0,
             0,
             1,
             0,
             0,
             0,
             0,
             1,
             0,
             0,
             0,
             0,
             1
            ]
           },
           "metalness": 0,
           "multipleBond": "off",
           "opacity": 1,
           "openEnded": true,
           "quality": "high",
           "radialSegments": 20,
           "radiusData": {},
           "radiusScale": 2,
           "radiusSize": 0.15,
           "radiusType": "size",
           "roughness": 0.4,
           "sele": "",
           "side": "double",
           "sphereDetail": 2,
           "useInteriorColor": true,
           "visible": true,
           "wireframe": false
          },
          "type": "ball+stick"
         },
         "1": {
          "params": {
           "clipCenter": {
            "x": 0,
            "y": 0,
            "z": 0
           },
           "clipNear": 0,
           "clipRadius": 0,
           "colorMode": "hcl",
           "colorReverse": false,
           "colorScale": "",
           "colorScheme": "element",
           "colorValue": "orange",
           "defaultAssembly": "",
           "depthWrite": true,
           "diffuse": 16777215,
           "diffuseInterior": false,
           "disableImpostor": false,
           "disablePicking": false,
           "flatShaded": false,
           "interiorColor": 2236962,
           "interiorDarkening": 0,
           "lazy": false,
           "matrix": {
            "elements": [
             1,
             0,
             0,
             0,
             0,
             1,
             0,
             0,
             0,
             0,
             1,
             0,
             0,
             0,
             0,
             1
            ]
           },
           "metalness": 0,
           "opacity": 1,
           "quality": "medium",
           "radialSegments": 10,
           "radiusData": {},
           "radiusScale": 1,
           "radiusSize": 0.19999999122077702,
           "radiusType": "vdw",
           "roughness": 0.4,
           "sele": "all",
           "side": "double",
           "sphereDetail": 1,
           "useInteriorColor": true,
           "visible": true,
           "wireframe": false
          },
          "type": "unitcell"
         }
        }
       },
       "_ngl_serialize": false,
       "_ngl_version": "2.0.0-dev.39",
       "_ngl_view_id": [
        "038EDCBA-1E93-4437-A3F9-CDCD226B1FC8"
       ],
       "_player_dict": {},
       "_scene_position": {},
       "_scene_rotation": {},
       "_synced_model_ids": [],
       "_synced_repr_model_ids": [],
       "_view_height": "",
       "_view_width": "",
       "background": "white",
       "frame": 0,
       "gui_style": null,
       "layout": "IPY_MODEL_d4dbea4a246c4ec799369324494ba758",
       "max_frame": 0,
       "n_components": 1,
       "picked": {}
      }
     },
     "44339c22863344a7a1b2881ffbed2a79": {
      "model_module": "@jupyter-widgets/controls",
      "model_module_version": "2.0.0",
      "model_name": "IntSliderModel",
      "state": {
       "behavior": "drag-tap",
       "layout": "IPY_MODEL_adf3bbeab2cf4047b40e85269b115727",
       "max": 0,
       "style": "IPY_MODEL_70fd424262fd40199a94f1e7de71f598"
      }
     },
     "44b853c7eb654b2a876c79de6159c607": {
      "model_module": "@jupyter-widgets/base",
      "model_module_version": "2.0.0",
      "model_name": "LayoutModel",
      "state": {
       "width": "34px"
      }
     },
     "44bf3cb2732d4198ae4391d5ae485afc": {
      "model_module": "@jupyter-widgets/controls",
      "model_module_version": "2.0.0",
      "model_name": "ButtonModel",
      "state": {
       "icon": "compress",
       "layout": "IPY_MODEL_44b853c7eb654b2a876c79de6159c607",
       "style": "IPY_MODEL_468c7342f86a4d69baf9c0a847b9147d",
       "tooltip": null
      }
     },
     "46220f0188b94483add71c8a6cfe8449": {
      "model_module": "@jupyter-widgets/base",
      "model_module_version": "2.0.0",
      "model_name": "LayoutModel",
      "state": {}
     },
     "4660adf7c71a42d482d48d89ee4e7b88": {
      "model_module": "@jupyter-widgets/base",
      "model_module_version": "2.0.0",
      "model_name": "LayoutModel",
      "state": {}
     },
     "468a7097dd0848969730a8aca0a5a4b7": {
      "model_module": "@jupyter-widgets/controls",
      "model_module_version": "2.0.0",
      "model_name": "HBoxModel",
      "state": {
       "children": [
        "IPY_MODEL_ebc42a649ead41899dbe303e276b36ae",
        "IPY_MODEL_f070c7449d744c6eb8ec90772c11eda4"
       ],
       "layout": "IPY_MODEL_57d751f0d96c4b84876d9b9f7a1a433a"
      }
     },
     "468c7342f86a4d69baf9c0a847b9147d": {
      "model_module": "@jupyter-widgets/controls",
      "model_module_version": "2.0.0",
      "model_name": "ButtonStyleModel",
      "state": {
       "font_family": null,
       "font_size": null,
       "font_style": null,
       "font_variant": null,
       "font_weight": null,
       "text_color": null,
       "text_decoration": null
      }
     },
     "46dadeb0b8754f0eaf07f0803026c92e": {
      "model_module": "nglview-js-widgets",
      "model_module_version": "3.0.8",
      "model_name": "NGLModel",
      "state": {
       "_camera_orientation": [
        28.403140029603975,
        0,
        0,
        0,
        0,
        28.403140029603975,
        0,
        0,
        0,
        0,
        28.403140029603975,
        0,
        -0.35699987411499023,
        0.14499998092651367,
        -0.09600001573562622,
        1
       ],
       "_camera_str": "orthographic",
       "_gui_theme": null,
       "_ibtn_fullscreen": "IPY_MODEL_59e5a4eccb744a75870f63f0fa2fdc99",
       "_igui": null,
       "_iplayer": "IPY_MODEL_653c4535c7db49899bc06c3595f2d336",
       "_ngl_color_dict": {},
       "_ngl_coordinate_resource": {},
       "_ngl_full_stage_parameters": {
        "ambientColor": 14540253,
        "ambientIntensity": 0.2,
        "backgroundColor": "white",
        "cameraEyeSep": 0.3,
        "cameraFov": 40,
        "cameraType": "orthographic",
        "clipDist": -100,
        "clipFar": 100,
        "clipMode": "scene",
        "clipNear": 0,
        "clipScale": "relative",
        "fogFar": 100,
        "fogNear": 50,
        "hoverTimeout": 0,
        "impostor": true,
        "lightColor": 14540253,
        "lightIntensity": 1,
        "mousePreset": "default",
        "panSpeed": 1,
        "quality": "medium",
        "rotateSpeed": 2,
        "sampleLevel": 3,
        "tooltip": true,
        "workerDefault": true,
        "zoomSpeed": 1.2
       },
       "_ngl_msg_archive": [
        {
         "args": [
          {
           "binary": false,
           "data": "HETATM    1  C1  SUR     1       5.068  -1.116   0.968  1.00  0.00           C\nHETATM    2  C2  SUR     1       3.683  -0.937   0.400  1.00  0.00           C\nHETATM    3  N1  SUR     1       2.956   0.117   0.730  1.00  0.00           N\nHETATM    4  C3  SUR     1       1.738   0.281   0.234  1.00  0.00           C\nHETATM    5  N2  SUR     1       1.206  -0.596  -0.604  1.00  0.00           N\nHETATM    6  C4  SUR     1       1.880  -1.672  -0.975  1.00  0.00           C\nHETATM    7  C5  SUR     1       3.159  -1.871  -0.480  1.00  0.00           C\nHETATM    8  N3  SUR     1       1.004   1.396   0.601  1.00  0.00           N\nHETATM    9  S1  SUR     1      -0.342   1.824  -0.265  1.00  0.00           S\nHETATM   10  O1  SUR     1      -0.884   2.957   0.398  1.00  0.00           O\nHETATM   11  O2  SUR     1       0.048   1.778  -1.631  1.00  0.00           O\nHETATM   12  C6  SUR     1      -1.529   0.538  -0.063  1.00  0.00           C\nHETATM   13  C7  SUR     1      -2.436   0.594   0.979  1.00  0.00           C\nHETATM   14  C8  SUR     1      -3.368  -0.412   1.141  1.00  0.00           C\nHETATM   15  C9  SUR     1      -3.394  -1.481   0.255  1.00  0.00           C\nHETATM   16  C10 SUR     1      -2.481  -1.535  -0.791  1.00  0.00           C\nHETATM   17  C11 SUR     1      -1.556  -0.523  -0.950  1.00  0.00           C\nHETATM   18  N4  SUR     1      -4.335  -2.501   0.415  1.00  0.00           N\nHETATM   19  H1  SUR     1       5.008  -1.679   1.899  1.00  0.00           H\nHETATM   20  H2  SUR     1       5.686  -1.659   0.253  1.00  0.00           H\nHETATM   21  H3  SUR     1       5.510  -0.139   1.162  1.00  0.00           H\nHETATM   22  H4  SUR     1       1.441  -2.384  -1.658  1.00  0.00           H\nHETATM   23  H5  SUR     1       3.732  -2.741  -0.767  1.00  0.00           H\nHETATM   24  H6  SUR     1       1.277   1.927   1.366  1.00  0.00           H\nHETATM   25  H7  SUR     1      -2.416   1.426   1.668  1.00  0.00           H\nHETATM   26  H8  SUR     1      -4.076  -0.367   1.955  1.00  0.00           H\nHETATM   27  H9  SUR     1      -2.499  -2.365  -1.482  1.00  0.00           H\nHETATM   28  H10 SUR     1      -0.846  -0.564  -1.763  1.00  0.00           H\nHETATM   29  H11 SUR     1      -4.972  -2.463   1.146  1.00  0.00           H\nHETATM   30  H12 SUR     1      -4.352  -3.247  -0.204  1.00  0.00           H\nCONECT    1   20   19   21    2\nCONECT   16   15   17   27\nCONECT   17   12   28   16\nCONECT    2    7    3    1\nCONECT    4    5    8    3\nCONECT    6    5    7   22\nCONECT    7    6    2   23\nCONECT   12    9   17   13\nCONECT   13   14   12   25\nCONECT   14   26   15   13\nCONECT   15   14   18   16\nCONECT   19    1\nCONECT   28   17\nCONECT   29   18\nCONECT   30   18\nCONECT   20    1\nCONECT   21    1\nCONECT   22    6\nCONECT   23    7\nCONECT   24    8\nCONECT   25   13\nCONECT   26   14\nCONECT   27   16\nCONECT    3    4    2\nCONECT    5    4    6\nCONECT    8    4    9   24\nCONECT   18   15   30   29\nCONECT   10    9\nCONECT   11    9\nCONECT    9    8   10   12   11\nEND\n",
           "type": "blob"
          }
         ],
         "kwargs": {
          "defaultRepresentation": true,
          "ext": "pdb"
         },
         "methodName": "loadFile",
         "reconstruc_color_scheme": false,
         "target": "Stage",
         "type": "call_method"
        },
        {
         "args": [
          "300.0px",
          "300.0px"
         ],
         "kwargs": {},
         "methodName": "setSize",
         "reconstruc_color_scheme": false,
         "target": "Widget",
         "type": "call_method"
        },
        {
         "args": [
          {
           "backgroundColor": "white",
           "clipDist": -100,
           "sampleLevel": 3
          }
         ],
         "kwargs": {},
         "methodName": "setParameters",
         "reconstruc_color_scheme": false,
         "target": "Widget",
         "type": "call_method"
        },
        {
         "args": [],
         "kwargs": {
          "cameraType": "orthographic"
         },
         "methodName": "setParameters",
         "reconstruc_color_scheme": false,
         "target": "Stage",
         "type": "call_method"
        }
       ],
       "_ngl_original_stage_parameters": {
        "ambientColor": 14540253,
        "ambientIntensity": 0.2,
        "backgroundColor": "white",
        "cameraEyeSep": 0.3,
        "cameraFov": 40,
        "cameraType": "perspective",
        "clipDist": 10,
        "clipFar": 100,
        "clipMode": "scene",
        "clipNear": 0,
        "clipScale": "relative",
        "fogFar": 100,
        "fogNear": 50,
        "hoverTimeout": 0,
        "impostor": true,
        "lightColor": 14540253,
        "lightIntensity": 1,
        "mousePreset": "default",
        "panSpeed": 1,
        "quality": "medium",
        "rotateSpeed": 2,
        "sampleLevel": 0,
        "tooltip": true,
        "workerDefault": true,
        "zoomSpeed": 1.2
       },
       "_ngl_repr_dict": {
        "0": {
         "0": {
          "params": {
           "aspectRatio": 1.5,
           "assembly": "default",
           "bondScale": 0.3,
           "bondSpacing": 0.75,
           "clipCenter": {
            "x": 0,
            "y": 0,
            "z": 0
           },
           "clipNear": 0,
           "clipRadius": 0,
           "colorMode": "hcl",
           "colorReverse": false,
           "colorScale": "",
           "colorScheme": "element",
           "colorValue": 9474192,
           "cylinderOnly": false,
           "defaultAssembly": "",
           "depthWrite": true,
           "diffuse": 16777215,
           "diffuseInterior": false,
           "disableImpostor": false,
           "disablePicking": false,
           "flatShaded": false,
           "interiorColor": 2236962,
           "interiorDarkening": 0,
           "lazy": false,
           "lineOnly": false,
           "linewidth": 2,
           "matrix": {
            "elements": [
             1,
             0,
             0,
             0,
             0,
             1,
             0,
             0,
             0,
             0,
             1,
             0,
             0,
             0,
             0,
             1
            ]
           },
           "metalness": 0,
           "multipleBond": "off",
           "opacity": 1,
           "openEnded": true,
           "quality": "high",
           "radialSegments": 20,
           "radiusData": {},
           "radiusScale": 2,
           "radiusSize": 0.15,
           "radiusType": "size",
           "roughness": 0.4,
           "sele": "",
           "side": "double",
           "sphereDetail": 2,
           "useInteriorColor": true,
           "visible": true,
           "wireframe": false
          },
          "type": "ball+stick"
         }
        }
       },
       "_ngl_serialize": false,
       "_ngl_version": "2.0.0-dev.39",
       "_ngl_view_id": [
        "6BC423AA-F8BA-40D4-AAA1-5D86C5D8B2F8"
       ],
       "_player_dict": {},
       "_scene_position": {},
       "_scene_rotation": {},
       "_synced_model_ids": [],
       "_synced_repr_model_ids": [],
       "_view_height": "",
       "_view_width": "",
       "background": "white",
       "frame": 0,
       "gui_style": null,
       "layout": "IPY_MODEL_c00c8a953a144b60a6c258cfb68db55c",
       "max_frame": 0,
       "n_components": 1,
       "picked": {}
      }
     },
     "4753b93361cd48c4ab716a302c7b9eed": {
      "model_module": "@jupyter-widgets/base",
      "model_module_version": "2.0.0",
      "model_name": "LayoutModel",
      "state": {
       "width": "34px"
      }
     },
     "4796b046bb3444be8f6b98ca5d4e3f6a": {
      "model_module": "@jupyter-widgets/base",
      "model_module_version": "2.0.0",
      "model_name": "LayoutModel",
      "state": {}
     },
     "47b5a7035b5b4b738614dbe77d1270ba": {
      "model_module": "@jupyter-widgets/base",
      "model_module_version": "2.0.0",
      "model_name": "LayoutModel",
      "state": {}
     },
     "47d45bd9d0d84e758e9345086a5598d4": {
      "model_module": "@jupyter-widgets/base",
      "model_module_version": "2.0.0",
      "model_name": "LayoutModel",
      "state": {}
     },
     "4843581e26bd407daaafafb0c3f17c36": {
      "model_module": "@jupyter-widgets/controls",
      "model_module_version": "2.0.0",
      "model_name": "LinkModel",
      "state": {
       "source": [
        "IPY_MODEL_09e2872a4ae546349e246e13a2f75250",
        "value"
       ],
       "target": [
        "IPY_MODEL_fe4b42522d8344e293a5b272485c5810",
        "value"
       ]
      }
     },
     "48750f6104eb4f228e2c780ea88104c2": {
      "model_module": "nglview-js-widgets",
      "model_module_version": "3.0.8",
      "model_name": "NGLModel",
      "state": {
       "_camera_orientation": [
        20.283246487951367,
        0,
        0,
        0,
        0,
        20.283246487951367,
        0,
        0,
        0,
        0,
        20.283246487951367,
        0,
        -19.729999542236328,
        -20,
        -20.270000457763672,
        1
       ],
       "_camera_str": "orthographic",
       "_gui_theme": null,
       "_ibtn_fullscreen": "IPY_MODEL_0d327007a8fa447d94d4df66d5bc6380",
       "_igui": null,
       "_iplayer": "IPY_MODEL_54dd11f1288b4d98be122b42393ab6e4",
       "_ngl_color_dict": {},
       "_ngl_coordinate_resource": {},
       "_ngl_full_stage_parameters": {
        "ambientColor": 14540253,
        "ambientIntensity": 0.2,
        "backgroundColor": "white",
        "cameraEyeSep": 0.3,
        "cameraFov": 40,
        "cameraType": "orthographic",
        "clipDist": 10,
        "clipFar": 100,
        "clipMode": "scene",
        "clipNear": 0,
        "clipScale": "relative",
        "fogFar": 100,
        "fogNear": 50,
        "hoverTimeout": 0,
        "impostor": true,
        "lightColor": 14540253,
        "lightIntensity": 1,
        "mousePreset": "default",
        "panSpeed": 1,
        "quality": "medium",
        "rotateSpeed": 2,
        "sampleLevel": 0,
        "tooltip": true,
        "workerDefault": true,
        "zoomSpeed": 1.2
       },
       "_ngl_msg_archive": [
        {
         "args": [
          {
           "binary": false,
           "data": "TITLE     MOL_GMX.gro created by acpype (Rev: 0) on Thu Feb 15 00:22:45 2018\nREMARK    THIS IS A SIMULATION BOX\nCRYST1   40.000   40.000   40.000  90.00  90.00  90.00 P 1           1\nMODEL        1\nATOM      1  C1  TOL     1      20.000  21.200  19.990  1.00  0.00            \nATOM      2  C2  TOL     1      20.720  20.000  19.990  1.00  0.00            \nATOM      3  C3  TOL     1      20.000  18.800  19.990  1.00  0.00            \nATOM      4  C4  TOL     1      18.610  18.800  20.000  1.00  0.00            \nATOM      5  C5  TOL     1      17.910  20.000  20.010  1.00  0.00            \nATOM      6  C6  TOL     1      18.610  21.200  20.000  1.00  0.00            \nATOM      7  C7  TOL     1      22.230  20.000  20.010  1.00  0.00            \nATOM      8  H1  TOL     1      22.630  19.120  19.510  1.00  0.00            \nATOM      9  H2  TOL     1      22.630  20.880  19.510  1.00  0.00            \nATOM     10  H3  TOL     1      22.610  20.000  21.030  1.00  0.00            \nATOM     11  H4  TOL     1      20.540  17.860  19.980  1.00  0.00            \nATOM     12  H5  TOL     1      18.080  17.860  20.000  1.00  0.00            \nATOM     13  H6  TOL     1      16.830  20.000  20.020  1.00  0.00            \nATOM     14  H7  TOL     1      18.080  22.140  20.000  1.00  0.00            \nATOM     15  H8  TOL     1      20.540  22.140  19.980  1.00  0.00            \nTER\nENDMDL\n",
           "type": "blob"
          }
         ],
         "kwargs": {
          "defaultRepresentation": true,
          "ext": "pdb"
         },
         "methodName": "loadFile",
         "reconstruc_color_scheme": false,
         "target": "Stage",
         "type": "call_method"
        },
        {
         "args": [],
         "kwargs": {
          "cameraType": "orthographic"
         },
         "methodName": "setParameters",
         "reconstruc_color_scheme": false,
         "target": "Stage",
         "type": "call_method"
        }
       ],
       "_ngl_original_stage_parameters": {
        "ambientColor": 14540253,
        "ambientIntensity": 0.2,
        "backgroundColor": "white",
        "cameraEyeSep": 0.3,
        "cameraFov": 40,
        "cameraType": "perspective",
        "clipDist": 10,
        "clipFar": 100,
        "clipMode": "scene",
        "clipNear": 0,
        "clipScale": "relative",
        "fogFar": 100,
        "fogNear": 50,
        "hoverTimeout": 0,
        "impostor": true,
        "lightColor": 14540253,
        "lightIntensity": 1,
        "mousePreset": "default",
        "panSpeed": 1,
        "quality": "medium",
        "rotateSpeed": 2,
        "sampleLevel": 0,
        "tooltip": true,
        "workerDefault": true,
        "zoomSpeed": 1.2
       },
       "_ngl_repr_dict": {
        "0": {
         "0": {
          "params": {
           "aspectRatio": 1.5,
           "assembly": "default",
           "bondScale": 0.3,
           "bondSpacing": 0.75,
           "clipCenter": {
            "x": 0,
            "y": 0,
            "z": 0
           },
           "clipNear": 0,
           "clipRadius": 0,
           "colorMode": "hcl",
           "colorReverse": false,
           "colorScale": "",
           "colorScheme": "element",
           "colorValue": 9474192,
           "cylinderOnly": false,
           "defaultAssembly": "",
           "depthWrite": true,
           "diffuse": 16777215,
           "diffuseInterior": false,
           "disableImpostor": false,
           "disablePicking": false,
           "flatShaded": false,
           "interiorColor": 2236962,
           "interiorDarkening": 0,
           "lazy": false,
           "lineOnly": false,
           "linewidth": 2,
           "matrix": {
            "elements": [
             1,
             0,
             0,
             0,
             0,
             1,
             0,
             0,
             0,
             0,
             1,
             0,
             0,
             0,
             0,
             1
            ]
           },
           "metalness": 0,
           "multipleBond": "off",
           "opacity": 1,
           "openEnded": true,
           "quality": "high",
           "radialSegments": 20,
           "radiusData": {},
           "radiusScale": 2,
           "radiusSize": 0.15,
           "radiusType": "size",
           "roughness": 0.4,
           "sele": "",
           "side": "double",
           "sphereDetail": 2,
           "useInteriorColor": true,
           "visible": true,
           "wireframe": false
          },
          "type": "ball+stick"
         }
        }
       },
       "_ngl_serialize": false,
       "_ngl_version": "2.0.0-dev.39",
       "_ngl_view_id": [
        "E3BE490E-87A5-4680-A3B4-7947DED71051"
       ],
       "_player_dict": {},
       "_scene_position": {},
       "_scene_rotation": {},
       "_synced_model_ids": [],
       "_synced_repr_model_ids": [],
       "_view_height": "",
       "_view_width": "",
       "background": "white",
       "frame": 0,
       "gui_style": null,
       "layout": "IPY_MODEL_5ce0ab791ee94c77b3ea0fd4f6cc9b59",
       "max_frame": 0,
       "n_components": 1,
       "picked": {}
      }
     },
     "48895093e12c410ea4c61d9b148081f5": {
      "model_module": "@jupyter-widgets/controls",
      "model_module_version": "2.0.0",
      "model_name": "ImageModel",
      "state": {
       "layout": "IPY_MODEL_ce5a84f73a804cb695a8ac5cbd0ab518",
       "width": "900.0"
      }
     },
     "49924465da0b495eb57d4f47d07145b0": {
      "model_module": "@jupyter-widgets/controls",
      "model_module_version": "2.0.0",
      "model_name": "LinkModel",
      "state": {
       "source": [
        "IPY_MODEL_bbd0d668346a43869b1fdb9c0d1858d2",
        "max"
       ],
       "target": [
        "IPY_MODEL_b3e46ce4fbb84e6bbc70d18ccaafae06",
        "max_frame"
       ]
      }
     },
     "4aa4c162413e401085eccf1815a5ae5e": {
      "model_module": "@jupyter-widgets/base",
      "model_module_version": "2.0.0",
      "model_name": "LayoutModel",
      "state": {
       "width": "34px"
      }
     },
     "4b33da13d42148929c44bf05694be4b4": {
      "model_module": "@jupyter-widgets/controls",
      "model_module_version": "2.0.0",
      "model_name": "DescriptionStyleModel",
      "state": {
       "description_width": ""
      }
     },
     "4b8852c387ba43979bb38a7b3d3080dc": {
      "model_module": "@jupyter-widgets/base",
      "model_module_version": "2.0.0",
      "model_name": "LayoutModel",
      "state": {}
     },
     "4c5f20dda3ea48bdbf6d98fe5ed17c29": {
      "model_module": "@jupyter-widgets/base",
      "model_module_version": "2.0.0",
      "model_name": "LayoutModel",
      "state": {}
     },
     "4c6cb56099674eebaaa8ff8b5f222cc5": {
      "model_module": "@jupyter-widgets/controls",
      "model_module_version": "2.0.0",
      "model_name": "LinkModel",
      "state": {
       "source": [
        "IPY_MODEL_db3f708e87f448e6b0ba569cbc6d2efd",
        "value"
       ],
       "target": [
        "IPY_MODEL_3e2e05a2a9f6471ab596a9389978509b",
        "frame"
       ]
      }
     },
     "4cde29539f2e4a959c7af5d5acca85b1": {
      "model_module": "@jupyter-widgets/controls",
      "model_module_version": "2.0.0",
      "model_name": "HBoxModel",
      "state": {
       "children": [
        "IPY_MODEL_b3e46ce4fbb84e6bbc70d18ccaafae06"
       ],
       "layout": "IPY_MODEL_b05d1069c36f4037859de54740e5fb70"
      }
     },
     "4d4b9ea79b254faba439358e45981c5e": {
      "model_module": "@jupyter-widgets/controls",
      "model_module_version": "2.0.0",
      "model_name": "ButtonStyleModel",
      "state": {
       "font_family": null,
       "font_size": null,
       "font_style": null,
       "font_variant": null,
       "font_weight": null,
       "text_color": null,
       "text_decoration": null
      }
     },
     "4d69e6e753cb43039db9c2c72d0a1493": {
      "model_module": "@jupyter-widgets/controls",
      "model_module_version": "2.0.0",
      "model_name": "DescriptionStyleModel",
      "state": {
       "description_width": ""
      }
     },
     "4e9cb3b11edd44e6a788571fe48ab7aa": {
      "model_module": "@jupyter-widgets/base",
      "model_module_version": "2.0.0",
      "model_name": "LayoutModel",
      "state": {}
     },
     "4f71fe5ffb08438e923b049dd8a73921": {
      "model_module": "@jupyter-widgets/controls",
      "model_module_version": "2.0.0",
      "model_name": "LinkModel",
      "state": {
       "source": [
        "IPY_MODEL_ba95f974f5cf469fa233633366ae2f03",
        "value"
       ],
       "target": [
        "IPY_MODEL_51f5b7b722be4bbbac606e42e6077a5d",
        "frame"
       ]
      }
     },
     "4fc45816f34e4a9b82b73e73acc6fa54": {
      "model_module": "@jupyter-widgets/base",
      "model_module_version": "2.0.0",
      "model_name": "LayoutModel",
      "state": {}
     },
     "5065892e21f24b2fbc59adc1a1edbdf8": {
      "model_module": "@jupyter-widgets/base",
      "model_module_version": "2.0.0",
      "model_name": "LayoutModel",
      "state": {}
     },
     "50e65eee2b304329ae632971eb08ccc0": {
      "model_module": "@jupyter-widgets/base",
      "model_module_version": "2.0.0",
      "model_name": "LayoutModel",
      "state": {}
     },
     "515350edc5b8487eb6e04b2814492c24": {
      "model_module": "@jupyter-widgets/controls",
      "model_module_version": "2.0.0",
      "model_name": "DescriptionStyleModel",
      "state": {
       "description_width": ""
      }
     },
     "51deda4f9473473c948929e030905238": {
      "model_module": "@jupyter-widgets/base",
      "model_module_version": "2.0.0",
      "model_name": "LayoutModel",
      "state": {}
     },
     "51f5b7b722be4bbbac606e42e6077a5d": {
      "model_module": "nglview-js-widgets",
      "model_module_version": "3.0.8",
      "model_name": "NGLModel",
      "state": {
       "_camera_orientation": [
        28.403140029603975,
        0,
        0,
        0,
        0,
        28.403140029603975,
        0,
        0,
        0,
        0,
        28.403140029603975,
        0,
        -0.35699987411499023,
        0.14499998092651367,
        -0.09600001573562622,
        1
       ],
       "_camera_str": "orthographic",
       "_gui_theme": null,
       "_ibtn_fullscreen": "IPY_MODEL_57e8c117dc3047088835b80e245c475c",
       "_igui": null,
       "_iplayer": "IPY_MODEL_d4b8caafb8ee4b82908e446682dfa850",
       "_ngl_color_dict": {},
       "_ngl_coordinate_resource": {},
       "_ngl_full_stage_parameters": {
        "ambientColor": 14540253,
        "ambientIntensity": 0.2,
        "backgroundColor": "white",
        "cameraEyeSep": 0.3,
        "cameraFov": 40,
        "cameraType": "orthographic",
        "clipDist": -100,
        "clipFar": 100,
        "clipMode": "scene",
        "clipNear": 0,
        "clipScale": "relative",
        "fogFar": 100,
        "fogNear": 50,
        "hoverTimeout": 0,
        "impostor": true,
        "lightColor": 14540253,
        "lightIntensity": 1,
        "mousePreset": "default",
        "panSpeed": 1,
        "quality": "medium",
        "rotateSpeed": 2,
        "sampleLevel": 3,
        "tooltip": true,
        "workerDefault": true,
        "zoomSpeed": 1.2
       },
       "_ngl_msg_archive": [
        {
         "args": [
          {
           "binary": false,
           "data": "HETATM    1  C1  SUR     1       5.068  -1.116   0.968  1.00  0.00           C\nHETATM    2  C2  SUR     1       3.683  -0.937   0.400  1.00  0.00           C\nHETATM    3  N1  SUR     1       2.956   0.117   0.730  1.00  0.00           N\nHETATM    4  C3  SUR     1       1.738   0.281   0.234  1.00  0.00           C\nHETATM    5  N2  SUR     1       1.206  -0.596  -0.604  1.00  0.00           N\nHETATM    6  C4  SUR     1       1.880  -1.672  -0.975  1.00  0.00           C\nHETATM    7  C5  SUR     1       3.159  -1.871  -0.480  1.00  0.00           C\nHETATM    8  N3  SUR     1       1.004   1.396   0.601  1.00  0.00           N\nHETATM    9  S1  SUR     1      -0.342   1.824  -0.265  1.00  0.00           S\nHETATM   10  O1  SUR     1      -0.884   2.957   0.398  1.00  0.00           O\nHETATM   11  O2  SUR     1       0.048   1.778  -1.631  1.00  0.00           O\nHETATM   12  C6  SUR     1      -1.529   0.538  -0.063  1.00  0.00           C\nHETATM   13  C7  SUR     1      -2.436   0.594   0.979  1.00  0.00           C\nHETATM   14  C8  SUR     1      -3.368  -0.412   1.141  1.00  0.00           C\nHETATM   15  C9  SUR     1      -3.394  -1.481   0.255  1.00  0.00           C\nHETATM   16  C10 SUR     1      -2.481  -1.535  -0.791  1.00  0.00           C\nHETATM   17  C11 SUR     1      -1.556  -0.523  -0.950  1.00  0.00           C\nHETATM   18  N4  SUR     1      -4.335  -2.501   0.415  1.00  0.00           N\nHETATM   19  H1  SUR     1       5.008  -1.679   1.899  1.00  0.00           H\nHETATM   20  H2  SUR     1       5.686  -1.659   0.253  1.00  0.00           H\nHETATM   21  H3  SUR     1       5.510  -0.139   1.162  1.00  0.00           H\nHETATM   22  H4  SUR     1       1.441  -2.384  -1.658  1.00  0.00           H\nHETATM   23  H5  SUR     1       3.732  -2.741  -0.767  1.00  0.00           H\nHETATM   24  H6  SUR     1       1.277   1.927   1.366  1.00  0.00           H\nHETATM   25  H7  SUR     1      -2.416   1.426   1.668  1.00  0.00           H\nHETATM   26  H8  SUR     1      -4.076  -0.367   1.955  1.00  0.00           H\nHETATM   27  H9  SUR     1      -2.499  -2.365  -1.482  1.00  0.00           H\nHETATM   28  H10 SUR     1      -0.846  -0.564  -1.763  1.00  0.00           H\nHETATM   29  H11 SUR     1      -4.972  -2.463   1.146  1.00  0.00           H\nHETATM   30  H12 SUR     1      -4.352  -3.247  -0.204  1.00  0.00           H\nCONECT    1   20   19   21    2\nCONECT   16   15   17   27\nCONECT   17   12   28   16\nCONECT    2    7    3    1\nCONECT    4    5    8    3\nCONECT    6    5    7   22\nCONECT    7    6    2   23\nCONECT   12    9   17   13\nCONECT   13   14   12   25\nCONECT   14   26   15   13\nCONECT   15   14   18   16\nCONECT   19    1\nCONECT   28   17\nCONECT   29   18\nCONECT   30   18\nCONECT   20    1\nCONECT   21    1\nCONECT   22    6\nCONECT   23    7\nCONECT   24    8\nCONECT   25   13\nCONECT   26   14\nCONECT   27   16\nCONECT    3    4    2\nCONECT    5    4    6\nCONECT    8    4    9   24\nCONECT   18   15   30   29\nCONECT   10    9\nCONECT   11    9\nCONECT    9    8   10   12   11\nEND\n",
           "type": "blob"
          }
         ],
         "kwargs": {
          "defaultRepresentation": true,
          "ext": "pdb"
         },
         "methodName": "loadFile",
         "reconstruc_color_scheme": false,
         "target": "Stage",
         "type": "call_method"
        },
        {
         "args": [
          "200px",
          "200px"
         ],
         "kwargs": {},
         "methodName": "setSize",
         "reconstruc_color_scheme": false,
         "target": "Widget",
         "type": "call_method"
        },
        {
         "args": [
          {
           "backgroundColor": "white",
           "clipDist": -100,
           "sampleLevel": 3
          }
         ],
         "kwargs": {},
         "methodName": "setParameters",
         "reconstruc_color_scheme": false,
         "target": "Widget",
         "type": "call_method"
        },
        {
         "args": [
          "unitcell"
         ],
         "component_index": 0,
         "kwargs": {
          "sele": "all"
         },
         "methodName": "addRepresentation",
         "reconstruc_color_scheme": false,
         "target": "compList",
         "type": "call_method"
        },
        {
         "args": [],
         "kwargs": {
          "cameraType": "orthographic"
         },
         "methodName": "setParameters",
         "reconstruc_color_scheme": false,
         "target": "Stage",
         "type": "call_method"
        }
       ],
       "_ngl_original_stage_parameters": {
        "ambientColor": 14540253,
        "ambientIntensity": 0.2,
        "backgroundColor": "white",
        "cameraEyeSep": 0.3,
        "cameraFov": 40,
        "cameraType": "perspective",
        "clipDist": 10,
        "clipFar": 100,
        "clipMode": "scene",
        "clipNear": 0,
        "clipScale": "relative",
        "fogFar": 100,
        "fogNear": 50,
        "hoverTimeout": 0,
        "impostor": true,
        "lightColor": 14540253,
        "lightIntensity": 1,
        "mousePreset": "default",
        "panSpeed": 1,
        "quality": "medium",
        "rotateSpeed": 2,
        "sampleLevel": 0,
        "tooltip": true,
        "workerDefault": true,
        "zoomSpeed": 1.2
       },
       "_ngl_repr_dict": {
        "0": {
         "0": {
          "params": {
           "aspectRatio": 1.5,
           "assembly": "default",
           "bondScale": 0.3,
           "bondSpacing": 0.75,
           "clipCenter": {
            "x": 0,
            "y": 0,
            "z": 0
           },
           "clipNear": 0,
           "clipRadius": 0,
           "colorMode": "hcl",
           "colorReverse": false,
           "colorScale": "",
           "colorScheme": "element",
           "colorValue": 9474192,
           "cylinderOnly": false,
           "defaultAssembly": "",
           "depthWrite": true,
           "diffuse": 16777215,
           "diffuseInterior": false,
           "disableImpostor": false,
           "disablePicking": false,
           "flatShaded": false,
           "interiorColor": 2236962,
           "interiorDarkening": 0,
           "lazy": false,
           "lineOnly": false,
           "linewidth": 2,
           "matrix": {
            "elements": [
             1,
             0,
             0,
             0,
             0,
             1,
             0,
             0,
             0,
             0,
             1,
             0,
             0,
             0,
             0,
             1
            ]
           },
           "metalness": 0,
           "multipleBond": "off",
           "opacity": 1,
           "openEnded": true,
           "quality": "high",
           "radialSegments": 20,
           "radiusData": {},
           "radiusScale": 2,
           "radiusSize": 0.15,
           "radiusType": "size",
           "roughness": 0.4,
           "sele": "",
           "side": "double",
           "sphereDetail": 2,
           "useInteriorColor": true,
           "visible": true,
           "wireframe": false
          },
          "type": "ball+stick"
         },
         "1": {
          "params": {
           "clipCenter": {
            "x": 0,
            "y": 0,
            "z": 0
           },
           "clipNear": 0,
           "clipRadius": 0,
           "colorMode": "hcl",
           "colorReverse": false,
           "colorScale": "",
           "colorScheme": "element",
           "colorValue": "orange",
           "defaultAssembly": "",
           "depthWrite": true,
           "diffuse": 16777215,
           "diffuseInterior": false,
           "disableImpostor": false,
           "disablePicking": false,
           "flatShaded": false,
           "interiorColor": 2236962,
           "interiorDarkening": 0,
           "lazy": false,
           "matrix": {
            "elements": [
             1,
             0,
             0,
             0,
             0,
             1,
             0,
             0,
             0,
             0,
             1,
             0,
             0,
             0,
             0,
             1
            ]
           },
           "metalness": 0,
           "opacity": 1,
           "quality": "medium",
           "radialSegments": 10,
           "radiusData": {},
           "radiusScale": 1,
           "radiusSize": 0.5,
           "radiusType": "vdw",
           "roughness": 0.4,
           "sele": "all",
           "side": "double",
           "sphereDetail": 1,
           "useInteriorColor": true,
           "visible": true,
           "wireframe": false
          },
          "type": "unitcell"
         }
        }
       },
       "_ngl_serialize": false,
       "_ngl_version": "2.0.0-dev.39",
       "_ngl_view_id": [
        "B72234C9-35AC-4FFE-822B-7E366B1B91FF"
       ],
       "_player_dict": {},
       "_scene_position": {},
       "_scene_rotation": {},
       "_synced_model_ids": [],
       "_synced_repr_model_ids": [],
       "_view_height": "",
       "_view_width": "",
       "background": "white",
       "frame": 0,
       "gui_style": null,
       "layout": "IPY_MODEL_897328b199b545b9b843dcc2171cb045",
       "max_frame": 0,
       "n_components": 1,
       "picked": {}
      }
     },
     "52faa6c7992e424396799f3b5e4f44f2": {
      "model_module": "@jupyter-widgets/controls",
      "model_module_version": "2.0.0",
      "model_name": "LinkModel",
      "state": {
       "source": [
        "IPY_MODEL_e6c95788a1524ee09e91cd6851fd2dde",
        "value"
       ],
       "target": [
        "IPY_MODEL_2d97ae2bc1ac4489ac4d536745e0fdaa",
        "value"
       ]
      }
     },
     "532b1133cadc46c1ab7b7310ff1fa7df": {
      "model_module": "@jupyter-widgets/controls",
      "model_module_version": "2.0.0",
      "model_name": "DescriptionStyleModel",
      "state": {
       "description_width": ""
      }
     },
     "533bdc6f69744f17a28452934a9c456b": {
      "model_module": "@jupyter-widgets/controls",
      "model_module_version": "2.0.0",
      "model_name": "LinkModel",
      "state": {
       "source": [
        "IPY_MODEL_ebc42a649ead41899dbe303e276b36ae",
        "max"
       ],
       "target": [
        "IPY_MODEL_faf8aca06b80466da32c925eb1036e2e",
        "max_frame"
       ]
      }
     },
     "53e0d3d6708948e9bbe8ee66a83ccba3": {
      "model_module": "@jupyter-widgets/base",
      "model_module_version": "2.0.0",
      "model_name": "LayoutModel",
      "state": {}
     },
     "541f69859fab4a5688b8b01f30e4920c": {
      "model_module": "@jupyter-widgets/base",
      "model_module_version": "2.0.0",
      "model_name": "LayoutModel",
      "state": {}
     },
     "54bc2cc4d3344b7abaa9d8a124a7485a": {
      "model_module": "@jupyter-widgets/controls",
      "model_module_version": "2.0.0",
      "model_name": "LinkModel",
      "state": {
       "source": [
        "IPY_MODEL_ebc42a649ead41899dbe303e276b36ae",
        "value"
       ],
       "target": [
        "IPY_MODEL_faf8aca06b80466da32c925eb1036e2e",
        "frame"
       ]
      }
     },
     "54dd11f1288b4d98be122b42393ab6e4": {
      "model_module": "@jupyter-widgets/controls",
      "model_module_version": "2.0.0",
      "model_name": "HBoxModel",
      "state": {
       "children": [
        "IPY_MODEL_1794b5f369584dfb955b8b7396d1db1a",
        "IPY_MODEL_3a51ad6632e741b3b082281c7cdc5eea"
       ],
       "layout": "IPY_MODEL_60ff2ba34c774e2b96ae553cb1b5b742"
      }
     },
     "54fd655c375046cf99f729179c2401c7": {
      "model_module": "@jupyter-widgets/base",
      "model_module_version": "2.0.0",
      "model_name": "LayoutModel",
      "state": {
       "width": "34px"
      }
     },
     "553240ad85f54ee182b8846c4a06be83": {
      "model_module": "@jupyter-widgets/controls",
      "model_module_version": "2.0.0",
      "model_name": "SliderStyleModel",
      "state": {
       "description_width": ""
      }
     },
     "55536ff3e55a43e89c934203cf64da46": {
      "model_module": "@jupyter-widgets/controls",
      "model_module_version": "2.0.0",
      "model_name": "LinkModel",
      "state": {
       "source": [
        "IPY_MODEL_9a20b2bd56dd4d6a8c6c1b54ce5c95e7",
        "max"
       ],
       "target": [
        "IPY_MODEL_0744b35d324d4c5fa62632870be28fcf",
        "max_frame"
       ]
      }
     },
     "55a303f8223142d4bd75ecf4491c1f13": {
      "model_module": "@jupyter-widgets/controls",
      "model_module_version": "2.0.0",
      "model_name": "LinkModel",
      "state": {
       "source": [
        "IPY_MODEL_db3f708e87f448e6b0ba569cbc6d2efd",
        "value"
       ],
       "target": [
        "IPY_MODEL_993eca102f2f404eab76cfdc198852b2",
        "value"
       ]
      }
     },
     "55bab598021542d2a7e73a4ceddae07c": {
      "model_module": "@jupyter-widgets/controls",
      "model_module_version": "2.0.0",
      "model_name": "VBoxModel",
      "state": {
       "children": [
        "IPY_MODEL_33153bfbdff042a2af78b68cb406f997"
       ],
       "layout": "IPY_MODEL_e3d2f044162f425791e35f03bc7bf662"
      }
     },
     "5683d9bf5b444b7db32c047b45797c38": {
      "model_module": "@jupyter-widgets/controls",
      "model_module_version": "2.0.0",
      "model_name": "LinkModel",
      "state": {
       "source": [
        "IPY_MODEL_34db2a64b0364712b34f3bf39ed418f6",
        "max"
       ],
       "target": [
        "IPY_MODEL_2a8b4879c1ed45c987e442b6d8efab8f",
        "max_frame"
       ]
      }
     },
     "56f28889fd92476090025f56a42d9165": {
      "model_module": "@jupyter-widgets/base",
      "model_module_version": "2.0.0",
      "model_name": "LayoutModel",
      "state": {}
     },
     "57d751f0d96c4b84876d9b9f7a1a433a": {
      "model_module": "@jupyter-widgets/base",
      "model_module_version": "2.0.0",
      "model_name": "LayoutModel",
      "state": {}
     },
     "57e8c117dc3047088835b80e245c475c": {
      "model_module": "@jupyter-widgets/controls",
      "model_module_version": "2.0.0",
      "model_name": "ButtonModel",
      "state": {
       "icon": "compress",
       "layout": "IPY_MODEL_c37b76eef7fc4c9c92fb503d4b45e777",
       "style": "IPY_MODEL_817ba5924269465bb9411cacbee1919b",
       "tooltip": null
      }
     },
     "58164fa956bd4866b54c5ea33f6d93f4": {
      "model_module": "@jupyter-widgets/controls",
      "model_module_version": "2.0.0",
      "model_name": "ImageModel",
      "state": {
       "layout": "IPY_MODEL_14081ca6ee014df4b70fa1befee8135e",
       "width": "900.0"
      }
     },
     "588f703e21be4f5da5a90f6657addf80": {
      "model_module": "@jupyter-widgets/controls",
      "model_module_version": "2.0.0",
      "model_name": "LinkModel",
      "state": {
       "source": [
        "IPY_MODEL_df3361a1933a4d0180ca826e01f1febe",
        "value"
       ],
       "target": [
        "IPY_MODEL_b991308bee5542069bbeb33a9cf82c08",
        "value"
       ]
      }
     },
     "5896cf9b73944893ae39174f4b80e66b": {
      "model_module": "@jupyter-widgets/base",
      "model_module_version": "2.0.0",
      "model_name": "LayoutModel",
      "state": {}
     },
     "59e5a4eccb744a75870f63f0fa2fdc99": {
      "model_module": "@jupyter-widgets/controls",
      "model_module_version": "2.0.0",
      "model_name": "ButtonModel",
      "state": {
       "icon": "compress",
       "layout": "IPY_MODEL_b999d7e2f633406dae111e3812ed8257",
       "style": "IPY_MODEL_634880e8abb74a0ca8ad349999fac9ba",
       "tooltip": null
      }
     },
     "5a12142fed3f4c22916997c71ee3b210": {
      "model_module": "@jupyter-widgets/controls",
      "model_module_version": "2.0.0",
      "model_name": "ButtonModel",
      "state": {
       "icon": "compress",
       "layout": "IPY_MODEL_606965ded1e644faa36a853c3bc3606a",
       "style": "IPY_MODEL_272671131f4142c58701fbb73b98b835",
       "tooltip": null
      }
     },
     "5a40b22995be431b9d7cb2f2d38d932e": {
      "model_module": "@jupyter-widgets/base",
      "model_module_version": "2.0.0",
      "model_name": "LayoutModel",
      "state": {}
     },
     "5a4377f8235742a8a608dc938c394568": {
      "model_module": "@jupyter-widgets/controls",
      "model_module_version": "2.0.0",
      "model_name": "LinkModel",
      "state": {
       "source": [
        "IPY_MODEL_ca2e905796394ad8a41b826daa584078",
        "value"
       ],
       "target": [
        "IPY_MODEL_3848b4d85de64c5daf1018680af89405",
        "value"
       ]
      }
     },
     "5a93d60cba9c43429ce96b0afcd99db6": {
      "model_module": "@jupyter-widgets/controls",
      "model_module_version": "2.0.0",
      "model_name": "ImageModel",
      "state": {
       "layout": "IPY_MODEL_085ce48eb37c4c288de81af45c8efc34",
       "width": "900.0"
      }
     },
     "5a97a031c1e144eba38f45ef9847b8fa": {
      "model_module": "@jupyter-widgets/controls",
      "model_module_version": "2.0.0",
      "model_name": "LinkModel",
      "state": {
       "source": [
        "IPY_MODEL_e9ef52e3b647475c9b34ba0762d15699",
        "max"
       ],
       "target": [
        "IPY_MODEL_ed00a2e01ae9483d950da64cc57f4175",
        "max_frame"
       ]
      }
     },
     "5b1fb852e9e844448e878bbee0d7c7ef": {
      "model_module": "@jupyter-widgets/controls",
      "model_module_version": "2.0.0",
      "model_name": "SliderStyleModel",
      "state": {
       "description_width": ""
      }
     },
     "5b71ece012a24104a390b6bdef5bb082": {
      "model_module": "@jupyter-widgets/controls",
      "model_module_version": "2.0.0",
      "model_name": "ButtonModel",
      "state": {
       "icon": "compress",
       "layout": "IPY_MODEL_2f673d3adc404669b819c480de5e32be",
       "style": "IPY_MODEL_d39c7786633f47358e6001cc6ba0f31a",
       "tooltip": null
      }
     },
     "5ba9b0be1ca54977b69a87c445a63047": {
      "model_module": "@jupyter-widgets/controls",
      "model_module_version": "2.0.0",
      "model_name": "HBoxModel",
      "state": {
       "children": [
        "IPY_MODEL_21798ad7e2be49f0a030035b53e751c5",
        "IPY_MODEL_185a8691f3e74b949765dbdb9ac9e363"
       ],
       "layout": "IPY_MODEL_32425814c1f341c5aea16cb1762f4480"
      }
     },
     "5ccbe612d7d64242914ee70774f9a5ac": {
      "model_module": "@jupyter-widgets/base",
      "model_module_version": "2.0.0",
      "model_name": "LayoutModel",
      "state": {}
     },
     "5ce0ab791ee94c77b3ea0fd4f6cc9b59": {
      "model_module": "@jupyter-widgets/base",
      "model_module_version": "2.0.0",
      "model_name": "LayoutModel",
      "state": {}
     },
     "5dec48e540134b59959e8d9e7bf905b3": {
      "model_module": "@jupyter-widgets/controls",
      "model_module_version": "2.0.0",
      "model_name": "ButtonModel",
      "state": {
       "icon": "compress",
       "layout": "IPY_MODEL_4753b93361cd48c4ab716a302c7b9eed",
       "style": "IPY_MODEL_1de9eaad46bd43df844e4b7de14c494e",
       "tooltip": null
      }
     },
     "5e79a97d66bb4608a8c6ecce636a1379": {
      "model_module": "@jupyter-widgets/controls",
      "model_module_version": "2.0.0",
      "model_name": "LinkModel",
      "state": {
       "source": [
        "IPY_MODEL_e02503f67ecb4fb883d058a114c98c30",
        "value"
       ],
       "target": [
        "IPY_MODEL_00fff8dfe528489a83b1216fa685dde9",
        "frame"
       ]
      }
     },
     "5e9a5cd254214d9da949033e03957ad2": {
      "model_module": "@jupyter-widgets/base",
      "model_module_version": "2.0.0",
      "model_name": "LayoutModel",
      "state": {}
     },
     "5ec7e261f1234432bbe04d4c56597c7d": {
      "model_module": "@jupyter-widgets/base",
      "model_module_version": "2.0.0",
      "model_name": "LayoutModel",
      "state": {}
     },
     "5edf1d8f991f4f5aaaf3ff6d7dbd92bb": {
      "model_module": "@jupyter-widgets/base",
      "model_module_version": "2.0.0",
      "model_name": "LayoutModel",
      "state": {}
     },
     "5f696e30327746f196e4bf2f601d8526": {
      "model_module": "@jupyter-widgets/base",
      "model_module_version": "2.0.0",
      "model_name": "LayoutModel",
      "state": {}
     },
     "5f9679a727c24ae9a9ce581b727e5104": {
      "model_module": "@jupyter-widgets/base",
      "model_module_version": "2.0.0",
      "model_name": "LayoutModel",
      "state": {}
     },
     "606965ded1e644faa36a853c3bc3606a": {
      "model_module": "@jupyter-widgets/base",
      "model_module_version": "2.0.0",
      "model_name": "LayoutModel",
      "state": {
       "width": "34px"
      }
     },
     "60e5764fef7b4142836da5c9a83179c0": {
      "model_module": "@jupyter-widgets/base",
      "model_module_version": "2.0.0",
      "model_name": "LayoutModel",
      "state": {}
     },
     "60ff2ba34c774e2b96ae553cb1b5b742": {
      "model_module": "@jupyter-widgets/base",
      "model_module_version": "2.0.0",
      "model_name": "LayoutModel",
      "state": {}
     },
     "618238881a704c15857fc88716807a78": {
      "model_module": "@jupyter-widgets/base",
      "model_module_version": "2.0.0",
      "model_name": "LayoutModel",
      "state": {}
     },
     "6187f6ffb541459180b84c03553b0e73": {
      "model_module": "@jupyter-widgets/controls",
      "model_module_version": "2.0.0",
      "model_name": "LinkModel",
      "state": {
       "source": [
        "IPY_MODEL_df3361a1933a4d0180ca826e01f1febe",
        "max"
       ],
       "target": [
        "IPY_MODEL_b40e0b7349614d03a7603d297de7f5fe",
        "max_frame"
       ]
      }
     },
     "61cf1a3dafdf4c9d8e81d398c3e9488c": {
      "model_module": "@jupyter-widgets/controls",
      "model_module_version": "2.0.0",
      "model_name": "HBoxModel",
      "state": {
       "children": [
        "IPY_MODEL_f245b3cb7538457888e1256945d07cdc",
        "IPY_MODEL_24aa906c2ebb46798570345e08112b7b"
       ],
       "layout": "IPY_MODEL_00b69e23524e46a19f15b63151ecf0f2"
      }
     },
     "62395d386371419298fe9f4754683813": {
      "model_module": "@jupyter-widgets/controls",
      "model_module_version": "2.0.0",
      "model_name": "DescriptionStyleModel",
      "state": {
       "description_width": ""
      }
     },
     "6240eb10ac77419b93c63e00eb79af43": {
      "model_module": "@jupyter-widgets/controls",
      "model_module_version": "2.0.0",
      "model_name": "SliderStyleModel",
      "state": {
       "description_width": ""
      }
     },
     "62bfcf0849ad44c798cccd6b664ba556": {
      "model_module": "@jupyter-widgets/controls",
      "model_module_version": "2.0.0",
      "model_name": "ImageModel",
      "state": {
       "layout": "IPY_MODEL_2b0d09d2614c45b1b60cf151516f486f",
       "width": "900.0"
      }
     },
     "62dce3d073574ccfae75e5ab65b5487f": {
      "model_module": "@jupyter-widgets/base",
      "model_module_version": "2.0.0",
      "model_name": "LayoutModel",
      "state": {}
     },
     "633a59d08ac743989413a5be0fd2cc89": {
      "model_module": "@jupyter-widgets/base",
      "model_module_version": "2.0.0",
      "model_name": "LayoutModel",
      "state": {}
     },
     "634880e8abb74a0ca8ad349999fac9ba": {
      "model_module": "@jupyter-widgets/controls",
      "model_module_version": "2.0.0",
      "model_name": "ButtonStyleModel",
      "state": {
       "font_family": null,
       "font_size": null,
       "font_style": null,
       "font_variant": null,
       "font_weight": null,
       "text_color": null,
       "text_decoration": null
      }
     },
     "636c6ad00e9a4c7c817db07028ba4eec": {
      "model_module": "@jupyter-widgets/base",
      "model_module_version": "2.0.0",
      "model_name": "LayoutModel",
      "state": {}
     },
     "63ba8c0c1d884be6a4e1bf7506c92d6b": {
      "model_module": "@jupyter-widgets/controls",
      "model_module_version": "2.0.0",
      "model_name": "ButtonStyleModel",
      "state": {
       "font_family": null,
       "font_size": null,
       "font_style": null,
       "font_variant": null,
       "font_weight": null,
       "text_color": null,
       "text_decoration": null
      }
     },
     "640bd1756b3b47f2b728036b0aff7486": {
      "model_module": "@jupyter-widgets/controls",
      "model_module_version": "2.0.0",
      "model_name": "LinkModel",
      "state": {
       "source": [
        "IPY_MODEL_9281bc8272264a0d8f6991388faddd72",
        "value"
       ],
       "target": [
        "IPY_MODEL_df5a7671f4af44eeba931b5d031394a7",
        "value"
       ]
      }
     },
     "653c4535c7db49899bc06c3595f2d336": {
      "model_module": "@jupyter-widgets/controls",
      "model_module_version": "2.0.0",
      "model_name": "HBoxModel",
      "state": {
       "children": [
        "IPY_MODEL_9a01cd0612fe409faca39370f43aa0b1",
        "IPY_MODEL_de26e53224a246509643ec161adfc905"
       ],
       "layout": "IPY_MODEL_158d93a842dc460aab5d96f9cc894ff1"
      }
     },
     "654c7211d33743638bdff0506c9aa3ea": {
      "model_module": "@jupyter-widgets/controls",
      "model_module_version": "2.0.0",
      "model_name": "LinkModel",
      "state": {
       "source": [
        "IPY_MODEL_3848b4d85de64c5daf1018680af89405",
        "max"
       ],
       "target": [
        "IPY_MODEL_22698e12993d4c6d9439d5ea094a8ef3",
        "max_frame"
       ]
      }
     },
     "65a27e9f81f6472585faca3db3af6f6d": {
      "model_module": "@jupyter-widgets/controls",
      "model_module_version": "2.0.0",
      "model_name": "ImageModel",
      "state": {
       "layout": "IPY_MODEL_41ead5ba5e444a6492e01804604d5bf4",
       "width": "900.0"
      }
     },
     "65b0de12f40040368c093c349db8ac70": {
      "model_module": "@jupyter-widgets/controls",
      "model_module_version": "2.0.0",
      "model_name": "ButtonModel",
      "state": {
       "icon": "compress",
       "layout": "IPY_MODEL_d19270ac0ffc40d99e92c8d303aadf8e",
       "style": "IPY_MODEL_91c0ac82ee7f4a95a4f0c2cf0840fefe",
       "tooltip": null
      }
     },
     "669e8852824c4a62a46050ba8223b32e": {
      "model_module": "@jupyter-widgets/base",
      "model_module_version": "2.0.0",
      "model_name": "LayoutModel",
      "state": {}
     },
     "679e2bbef4084f44bbdbbf4d4adaa442": {
      "model_module": "@jupyter-widgets/controls",
      "model_module_version": "2.0.0",
      "model_name": "ButtonStyleModel",
      "state": {
       "font_family": null,
       "font_size": null,
       "font_style": null,
       "font_variant": null,
       "font_weight": null,
       "text_color": null,
       "text_decoration": null
      }
     },
     "67a38a5083fc4c82b3c75802bf9c98ec": {
      "model_module": "@jupyter-widgets/base",
      "model_module_version": "2.0.0",
      "model_name": "LayoutModel",
      "state": {}
     },
     "681dbe04a7864ae1802bbd9e258a9608": {
      "model_module": "@jupyter-widgets/controls",
      "model_module_version": "2.0.0",
      "model_name": "SliderStyleModel",
      "state": {
       "description_width": ""
      }
     },
     "686687db824f49e7aa1b7cf6be014a54": {
      "model_module": "@jupyter-widgets/base",
      "model_module_version": "2.0.0",
      "model_name": "LayoutModel",
      "state": {}
     },
     "68da013d95964fc19dfed948b1bd7870": {
      "model_module": "@jupyter-widgets/base",
      "model_module_version": "2.0.0",
      "model_name": "LayoutModel",
      "state": {}
     },
     "6931940ad6674b078e089bbc9d3af6ae": {
      "model_module": "@jupyter-widgets/base",
      "model_module_version": "2.0.0",
      "model_name": "LayoutModel",
      "state": {}
     },
     "69411d68318a4abb973afebc2b81f59b": {
      "model_module": "@jupyter-widgets/base",
      "model_module_version": "2.0.0",
      "model_name": "LayoutModel",
      "state": {}
     },
     "69c308ff5813493a8b33cc88d9aaf634": {
      "model_module": "@jupyter-widgets/controls",
      "model_module_version": "2.0.0",
      "model_name": "IntSliderModel",
      "state": {
       "behavior": "drag-tap",
       "layout": "IPY_MODEL_50e65eee2b304329ae632971eb08ccc0",
       "max": 0,
       "style": "IPY_MODEL_ba8761b2b0a64ea5bbebeaf42d793228"
      }
     },
     "6a32b22b148d4c0dbdfa12836dced2fe": {
      "model_module": "@jupyter-widgets/controls",
      "model_module_version": "2.0.0",
      "model_name": "SliderStyleModel",
      "state": {
       "description_width": ""
      }
     },
     "6a4d261eb2584628acf036402a6f0cbd": {
      "model_module": "@jupyter-widgets/controls",
      "model_module_version": "2.0.0",
      "model_name": "ButtonStyleModel",
      "state": {
       "font_family": null,
       "font_size": null,
       "font_style": null,
       "font_variant": null,
       "font_weight": null,
       "text_color": null,
       "text_decoration": null
      }
     },
     "6a663896216945abbecec5958e426963": {
      "model_module": "@jupyter-widgets/base",
      "model_module_version": "2.0.0",
      "model_name": "LayoutModel",
      "state": {}
     },
     "6b5df363b5634a4ca77341ecc53efce4": {
      "model_module": "@jupyter-widgets/controls",
      "model_module_version": "2.0.0",
      "model_name": "VBoxModel",
      "state": {
       "children": [
        "IPY_MODEL_a858c44902c64031800b251377b59ca2"
       ],
       "layout": "IPY_MODEL_418c4f54616a4b278819c6d80b5f0bc9"
      }
     },
     "6bcc32753c324f4f8bbb99a1799924ff": {
      "model_module": "@jupyter-widgets/base",
      "model_module_version": "2.0.0",
      "model_name": "LayoutModel",
      "state": {}
     },
     "6c0371664dcd4b9f892358df9157cdf2": {
      "model_module": "@jupyter-widgets/controls",
      "model_module_version": "2.0.0",
      "model_name": "ButtonModel",
      "state": {
       "icon": "compress",
       "layout": "IPY_MODEL_fabe180c1d844606a2665e66844c76b8",
       "style": "IPY_MODEL_c08c981735104487b1f0dda3585f6c76",
       "tooltip": null
      }
     },
     "6c659908d6474e1592dd3c8915dc3389": {
      "model_module": "@jupyter-widgets/controls",
      "model_module_version": "2.0.0",
      "model_name": "LinkModel",
      "state": {
       "source": [
        "IPY_MODEL_21798ad7e2be49f0a030035b53e751c5",
        "max"
       ],
       "target": [
        "IPY_MODEL_7900676d76b44b749562f38d0fa6c46c",
        "max_frame"
       ]
      }
     },
     "6cafe828ee2f4e53be93efc02bc627ff": {
      "model_module": "@jupyter-widgets/controls",
      "model_module_version": "2.0.0",
      "model_name": "HBoxModel",
      "state": {
       "children": [
        "IPY_MODEL_2a8b4879c1ed45c987e442b6d8efab8f"
       ],
       "layout": "IPY_MODEL_05845095e85c4f4e800faf660831221b"
      }
     },
     "6cb7287e2d814cd3aef0d139973905f1": {
      "model_module": "@jupyter-widgets/base",
      "model_module_version": "2.0.0",
      "model_name": "LayoutModel",
      "state": {}
     },
     "6cbd517e6277429dbbf338ea68b28d29": {
      "model_module": "@jupyter-widgets/controls",
      "model_module_version": "2.0.0",
      "model_name": "LinkModel",
      "state": {
       "source": [
        "IPY_MODEL_a755b468981f48c4b38e41d31ad8e6d7",
        "max"
       ],
       "target": [
        "IPY_MODEL_1ed5f821207a428da18b271a1f5e68ef",
        "max_frame"
       ]
      }
     },
     "6cffb0b2f61e4c52a82f37fc7faf2c10": {
      "model_module": "nglview-js-widgets",
      "model_module_version": "3.0.8",
      "model_name": "NGLModel",
      "state": {
       "_camera_orientation": [
        -8.468962862758062,
        17.879930066160984,
        4.471560907491868,
        0,
        -18.43017403213546,
        -8.24892208984608,
        -1.9219931300198727,
        0,
        0.12426288833998358,
        -4.865539361246026,
        19.690636697418846,
        0,
        -19.729999542236328,
        -20,
        -20.270000457763672,
        1
       ],
       "_camera_str": "orthographic",
       "_gui_theme": null,
       "_ibtn_fullscreen": "IPY_MODEL_797c0528ff084fef8d5da58f9df793fc",
       "_igui": null,
       "_iplayer": "IPY_MODEL_7ca4e00091924196a1367973684216da",
       "_ngl_color_dict": {},
       "_ngl_coordinate_resource": {},
       "_ngl_full_stage_parameters": {
        "ambientColor": 14540253,
        "ambientIntensity": 0.2,
        "backgroundColor": "white",
        "cameraEyeSep": 0.3,
        "cameraFov": 40,
        "cameraType": "orthographic",
        "clipDist": -100,
        "clipFar": 100,
        "clipMode": "scene",
        "clipNear": 0,
        "clipScale": "relative",
        "fogFar": 100,
        "fogNear": 50,
        "hoverTimeout": 0,
        "impostor": true,
        "lightColor": 14540253,
        "lightIntensity": 1,
        "mousePreset": "default",
        "panSpeed": 1,
        "quality": "medium",
        "rotateSpeed": 2,
        "sampleLevel": 3,
        "tooltip": true,
        "workerDefault": true,
        "zoomSpeed": 1.2
       },
       "_ngl_msg_archive": [
        {
         "args": [
          {
           "binary": false,
           "data": "TITLE     MOL_GMX.gro created by acpype (Rev: 0) on Thu Feb 15 00:22:45 2018\nREMARK    THIS IS A SIMULATION BOX\nCRYST1   40.000   40.000   40.000  90.00  90.00  90.00 P 1           1\nMODEL        1\nATOM      1  C1  TOL     1      20.000  21.200  19.990  1.00  0.00            \nATOM      2  C2  TOL     1      20.720  20.000  19.990  1.00  0.00            \nATOM      3  C3  TOL     1      20.000  18.800  19.990  1.00  0.00            \nATOM      4  C4  TOL     1      18.610  18.800  20.000  1.00  0.00            \nATOM      5  C5  TOL     1      17.910  20.000  20.010  1.00  0.00            \nATOM      6  C6  TOL     1      18.610  21.200  20.000  1.00  0.00            \nATOM      7  C7  TOL     1      22.230  20.000  20.010  1.00  0.00            \nATOM      8  H1  TOL     1      22.630  19.120  19.510  1.00  0.00            \nATOM      9  H2  TOL     1      22.630  20.880  19.510  1.00  0.00            \nATOM     10  H3  TOL     1      22.610  20.000  21.030  1.00  0.00            \nATOM     11  H4  TOL     1      20.540  17.860  19.980  1.00  0.00            \nATOM     12  H5  TOL     1      18.080  17.860  20.000  1.00  0.00            \nATOM     13  H6  TOL     1      16.830  20.000  20.020  1.00  0.00            \nATOM     14  H7  TOL     1      18.080  22.140  20.000  1.00  0.00            \nATOM     15  H8  TOL     1      20.540  22.140  19.980  1.00  0.00            \nTER\nENDMDL\n",
           "type": "blob"
          }
         ],
         "kwargs": {
          "defaultRepresentation": true,
          "ext": "pdb"
         },
         "methodName": "loadFile",
         "reconstruc_color_scheme": false,
         "target": "Stage",
         "type": "call_method"
        },
        {
         "args": [
          "300px",
          "300px"
         ],
         "kwargs": {},
         "methodName": "setSize",
         "reconstruc_color_scheme": false,
         "target": "Widget",
         "type": "call_method"
        },
        {
         "args": [
          {
           "backgroundColor": "white",
           "clipDist": -100,
           "sampleLevel": 3
          }
         ],
         "kwargs": {},
         "methodName": "setParameters",
         "reconstruc_color_scheme": false,
         "target": "Widget",
         "type": "call_method"
        },
        {
         "args": [],
         "kwargs": {
          "cameraType": "orthographic"
         },
         "methodName": "setParameters",
         "reconstruc_color_scheme": false,
         "target": "Stage",
         "type": "call_method"
        }
       ],
       "_ngl_original_stage_parameters": {
        "ambientColor": 14540253,
        "ambientIntensity": 0.2,
        "backgroundColor": "white",
        "cameraEyeSep": 0.3,
        "cameraFov": 40,
        "cameraType": "perspective",
        "clipDist": 10,
        "clipFar": 100,
        "clipMode": "scene",
        "clipNear": 0,
        "clipScale": "relative",
        "fogFar": 100,
        "fogNear": 50,
        "hoverTimeout": 0,
        "impostor": true,
        "lightColor": 14540253,
        "lightIntensity": 1,
        "mousePreset": "default",
        "panSpeed": 1,
        "quality": "medium",
        "rotateSpeed": 2,
        "sampleLevel": 0,
        "tooltip": true,
        "workerDefault": true,
        "zoomSpeed": 1.2
       },
       "_ngl_repr_dict": {
        "0": {
         "0": {
          "params": {
           "aspectRatio": 1.5,
           "assembly": "default",
           "bondScale": 0.3,
           "bondSpacing": 0.75,
           "clipCenter": {
            "x": 0,
            "y": 0,
            "z": 0
           },
           "clipNear": 0,
           "clipRadius": 0,
           "colorMode": "hcl",
           "colorReverse": false,
           "colorScale": "",
           "colorScheme": "element",
           "colorValue": 9474192,
           "cylinderOnly": false,
           "defaultAssembly": "",
           "depthWrite": true,
           "diffuse": 16777215,
           "diffuseInterior": false,
           "disableImpostor": false,
           "disablePicking": false,
           "flatShaded": false,
           "interiorColor": 2236962,
           "interiorDarkening": 0,
           "lazy": false,
           "lineOnly": false,
           "linewidth": 2,
           "matrix": {
            "elements": [
             1,
             0,
             0,
             0,
             0,
             1,
             0,
             0,
             0,
             0,
             1,
             0,
             0,
             0,
             0,
             1
            ]
           },
           "metalness": 0,
           "multipleBond": "off",
           "opacity": 1,
           "openEnded": true,
           "quality": "high",
           "radialSegments": 20,
           "radiusData": {},
           "radiusScale": 2,
           "radiusSize": 0.15,
           "radiusType": "size",
           "roughness": 0.4,
           "sele": "",
           "side": "double",
           "sphereDetail": 2,
           "useInteriorColor": true,
           "visible": true,
           "wireframe": false
          },
          "type": "ball+stick"
         }
        }
       },
       "_ngl_serialize": false,
       "_ngl_version": "2.0.0-dev.39",
       "_ngl_view_id": [
        "B94AC08B-4D68-4A8C-A493-2B11ED917DC9"
       ],
       "_player_dict": {},
       "_scene_position": {},
       "_scene_rotation": {},
       "_synced_model_ids": [],
       "_synced_repr_model_ids": [],
       "_view_height": "",
       "_view_width": "",
       "background": "white",
       "frame": 0,
       "gui_style": null,
       "layout": "IPY_MODEL_bd1f613fcb894be4ad23ec11b3362c52",
       "max_frame": 0,
       "n_components": 1,
       "picked": {}
      }
     },
     "6d43b85ffdfd431181aa9b255e700a82": {
      "model_module": "@jupyter-widgets/controls",
      "model_module_version": "2.0.0",
      "model_name": "HBoxModel",
      "state": {
       "children": [
        "IPY_MODEL_db3f708e87f448e6b0ba569cbc6d2efd",
        "IPY_MODEL_993eca102f2f404eab76cfdc198852b2"
       ],
       "layout": "IPY_MODEL_c41e43679b9f43e6997f0baad4ddf018"
      }
     },
     "6d76248a32264442acad2dd6b1116092": {
      "model_module": "@jupyter-widgets/base",
      "model_module_version": "2.0.0",
      "model_name": "LayoutModel",
      "state": {}
     },
     "6dbc6f5cb437465b9da7d13e7d0cd0cf": {
      "model_module": "@jupyter-widgets/base",
      "model_module_version": "2.0.0",
      "model_name": "LayoutModel",
      "state": {}
     },
     "6f1139957b5840fba3a56fbbc382ee9d": {
      "model_module": "@jupyter-widgets/controls",
      "model_module_version": "2.0.0",
      "model_name": "LinkModel",
      "state": {
       "source": [
        "IPY_MODEL_9921cd17b7834399b7803fd4582f8a4b",
        "max"
       ],
       "target": [
        "IPY_MODEL_a70352225f60483b95102af2771e1589",
        "max_frame"
       ]
      }
     },
     "704ee2b3d52c4d67b8a0990fa5c329f9": {
      "model_module": "@jupyter-widgets/base",
      "model_module_version": "2.0.0",
      "model_name": "LayoutModel",
      "state": {}
     },
     "70d5d2a194df4ee9a1d0284f7e6e96cf": {
      "model_module": "@jupyter-widgets/controls",
      "model_module_version": "2.0.0",
      "model_name": "DescriptionStyleModel",
      "state": {
       "description_width": ""
      }
     },
     "70fd424262fd40199a94f1e7de71f598": {
      "model_module": "@jupyter-widgets/controls",
      "model_module_version": "2.0.0",
      "model_name": "SliderStyleModel",
      "state": {
       "description_width": ""
      }
     },
     "71358357fb6f4c14ac21c5e9459f5eec": {
      "model_module": "@jupyter-widgets/base",
      "model_module_version": "2.0.0",
      "model_name": "LayoutModel",
      "state": {}
     },
     "717268102f1b46be99d1b4c90206be58": {
      "model_module": "@jupyter-widgets/base",
      "model_module_version": "2.0.0",
      "model_name": "LayoutModel",
      "state": {}
     },
     "7178e23e14ba4524bc726e246765738e": {
      "model_module": "@jupyter-widgets/controls",
      "model_module_version": "2.0.0",
      "model_name": "LinkModel",
      "state": {
       "source": [
        "IPY_MODEL_3f72601323ff4f33a9602a14e60163a7",
        "value"
       ],
       "target": [
        "IPY_MODEL_839ed00b5d5e4025be16f0e0fbc1cf77",
        "frame"
       ]
      }
     },
     "72711ea2a5d34802badf94e665cfd379": {
      "model_module": "@jupyter-widgets/controls",
      "model_module_version": "2.0.0",
      "model_name": "DescriptionStyleModel",
      "state": {
       "description_width": ""
      }
     },
     "72bf0c0d0aad40e9b06fe0260ef336cd": {
      "model_module": "@jupyter-widgets/controls",
      "model_module_version": "2.0.0",
      "model_name": "LinkModel",
      "state": {
       "source": [
        "IPY_MODEL_e6c95788a1524ee09e91cd6851fd2dde",
        "value"
       ],
       "target": [
        "IPY_MODEL_cc1dd3fb30c04863b12929e977e28299",
        "frame"
       ]
      }
     },
     "741733ee2b924e4f8ccd2769ca7a35f6": {
      "model_module": "@jupyter-widgets/controls",
      "model_module_version": "2.0.0",
      "model_name": "LinkModel",
      "state": {
       "source": [
        "IPY_MODEL_44339c22863344a7a1b2881ffbed2a79",
        "max"
       ],
       "target": [
        "IPY_MODEL_b8065678535249378203da581b610c01",
        "max_frame"
       ]
      }
     },
     "7468de2f7aad4bad9f6a97a2937641cd": {
      "model_module": "nglview-js-widgets",
      "model_module_version": "3.0.8",
      "model_name": "NGLModel",
      "state": {
       "_camera_orientation": [
        28.403140029603975,
        0,
        0,
        0,
        0,
        28.403140029603975,
        0,
        0,
        0,
        0,
        28.403140029603975,
        0,
        -0.35699987411499023,
        0.14499998092651367,
        -0.09600001573562622,
        1
       ],
       "_camera_str": "orthographic",
       "_gui_theme": null,
       "_ibtn_fullscreen": "IPY_MODEL_f1b0ecc0eb314c3cb6d2d9bb831b55d3",
       "_igui": null,
       "_iplayer": "IPY_MODEL_9b3aa8fd666f423d8805a9bf2d7231ce",
       "_ngl_color_dict": {},
       "_ngl_coordinate_resource": {},
       "_ngl_full_stage_parameters": {
        "ambientColor": 14540253,
        "ambientIntensity": 0.2,
        "backgroundColor": "white",
        "cameraEyeSep": 0.3,
        "cameraFov": 40,
        "cameraType": "orthographic",
        "clipDist": -100,
        "clipFar": 100,
        "clipMode": "scene",
        "clipNear": 0,
        "clipScale": "relative",
        "fogFar": 100,
        "fogNear": 50,
        "hoverTimeout": 0,
        "impostor": true,
        "lightColor": 14540253,
        "lightIntensity": 1,
        "mousePreset": "default",
        "panSpeed": 1,
        "quality": "medium",
        "rotateSpeed": 2,
        "sampleLevel": 3,
        "tooltip": true,
        "workerDefault": true,
        "zoomSpeed": 1.2
       },
       "_ngl_msg_archive": [
        {
         "args": [
          {
           "binary": false,
           "data": "HETATM    1  C1  SUR     1       5.068  -1.116   0.968  1.00  0.00           C\nHETATM    2  C2  SUR     1       3.683  -0.937   0.400  1.00  0.00           C\nHETATM    3  N1  SUR     1       2.956   0.117   0.730  1.00  0.00           N\nHETATM    4  C3  SUR     1       1.738   0.281   0.234  1.00  0.00           C\nHETATM    5  N2  SUR     1       1.206  -0.596  -0.604  1.00  0.00           N\nHETATM    6  C4  SUR     1       1.880  -1.672  -0.975  1.00  0.00           C\nHETATM    7  C5  SUR     1       3.159  -1.871  -0.480  1.00  0.00           C\nHETATM    8  N3  SUR     1       1.004   1.396   0.601  1.00  0.00           N\nHETATM    9  S1  SUR     1      -0.342   1.824  -0.265  1.00  0.00           S\nHETATM   10  O1  SUR     1      -0.884   2.957   0.398  1.00  0.00           O\nHETATM   11  O2  SUR     1       0.048   1.778  -1.631  1.00  0.00           O\nHETATM   12  C6  SUR     1      -1.529   0.538  -0.063  1.00  0.00           C\nHETATM   13  C7  SUR     1      -2.436   0.594   0.979  1.00  0.00           C\nHETATM   14  C8  SUR     1      -3.368  -0.412   1.141  1.00  0.00           C\nHETATM   15  C9  SUR     1      -3.394  -1.481   0.255  1.00  0.00           C\nHETATM   16  C10 SUR     1      -2.481  -1.535  -0.791  1.00  0.00           C\nHETATM   17  C11 SUR     1      -1.556  -0.523  -0.950  1.00  0.00           C\nHETATM   18  N4  SUR     1      -4.335  -2.501   0.415  1.00  0.00           N\nHETATM   19  H1  SUR     1       5.008  -1.679   1.899  1.00  0.00           H\nHETATM   20  H2  SUR     1       5.686  -1.659   0.253  1.00  0.00           H\nHETATM   21  H3  SUR     1       5.510  -0.139   1.162  1.00  0.00           H\nHETATM   22  H4  SUR     1       1.441  -2.384  -1.658  1.00  0.00           H\nHETATM   23  H5  SUR     1       3.732  -2.741  -0.767  1.00  0.00           H\nHETATM   24  H6  SUR     1       1.277   1.927   1.366  1.00  0.00           H\nHETATM   25  H7  SUR     1      -2.416   1.426   1.668  1.00  0.00           H\nHETATM   26  H8  SUR     1      -4.076  -0.367   1.955  1.00  0.00           H\nHETATM   27  H9  SUR     1      -2.499  -2.365  -1.482  1.00  0.00           H\nHETATM   28  H10 SUR     1      -0.846  -0.564  -1.763  1.00  0.00           H\nHETATM   29  H11 SUR     1      -4.972  -2.463   1.146  1.00  0.00           H\nHETATM   30  H12 SUR     1      -4.352  -3.247  -0.204  1.00  0.00           H\nCONECT    1   20   19   21    2\nCONECT   16   15   17   27\nCONECT   17   12   28   16\nCONECT    2    7    3    1\nCONECT    4    5    8    3\nCONECT    6    5    7   22\nCONECT    7    6    2   23\nCONECT   12    9   17   13\nCONECT   13   14   12   25\nCONECT   14   26   15   13\nCONECT   15   14   18   16\nCONECT   19    1\nCONECT   28   17\nCONECT   29   18\nCONECT   30   18\nCONECT   20    1\nCONECT   21    1\nCONECT   22    6\nCONECT   23    7\nCONECT   24    8\nCONECT   25   13\nCONECT   26   14\nCONECT   27   16\nCONECT    3    4    2\nCONECT    5    4    6\nCONECT    8    4    9   24\nCONECT   18   15   30   29\nCONECT   10    9\nCONECT   11    9\nCONECT    9    8   10   12   11\nEND\n",
           "type": "blob"
          }
         ],
         "kwargs": {
          "defaultRepresentation": true,
          "ext": "pdb"
         },
         "methodName": "loadFile",
         "reconstruc_color_scheme": false,
         "target": "Stage",
         "type": "call_method"
        },
        {
         "args": [
          "200px",
          "200px"
         ],
         "kwargs": {},
         "methodName": "setSize",
         "reconstruc_color_scheme": false,
         "target": "Widget",
         "type": "call_method"
        },
        {
         "args": [
          {
           "backgroundColor": "white",
           "clipDist": -100,
           "sampleLevel": 3
          }
         ],
         "kwargs": {},
         "methodName": "setParameters",
         "reconstruc_color_scheme": false,
         "target": "Widget",
         "type": "call_method"
        },
        {
         "args": [
          "unitcell"
         ],
         "component_index": 0,
         "kwargs": {
          "sele": "all"
         },
         "methodName": "addRepresentation",
         "reconstruc_color_scheme": false,
         "target": "compList",
         "type": "call_method"
        },
        {
         "args": [],
         "kwargs": {
          "cameraType": "orthographic"
         },
         "methodName": "setParameters",
         "reconstruc_color_scheme": false,
         "target": "Stage",
         "type": "call_method"
        }
       ],
       "_ngl_original_stage_parameters": {
        "ambientColor": 14540253,
        "ambientIntensity": 0.2,
        "backgroundColor": "white",
        "cameraEyeSep": 0.3,
        "cameraFov": 40,
        "cameraType": "perspective",
        "clipDist": 10,
        "clipFar": 100,
        "clipMode": "scene",
        "clipNear": 0,
        "clipScale": "relative",
        "fogFar": 100,
        "fogNear": 50,
        "hoverTimeout": 0,
        "impostor": true,
        "lightColor": 14540253,
        "lightIntensity": 1,
        "mousePreset": "default",
        "panSpeed": 1,
        "quality": "medium",
        "rotateSpeed": 2,
        "sampleLevel": 0,
        "tooltip": true,
        "workerDefault": true,
        "zoomSpeed": 1.2
       },
       "_ngl_repr_dict": {
        "0": {
         "0": {
          "params": {
           "aspectRatio": 1.5,
           "assembly": "default",
           "bondScale": 0.3,
           "bondSpacing": 0.75,
           "clipCenter": {
            "x": 0,
            "y": 0,
            "z": 0
           },
           "clipNear": 0,
           "clipRadius": 0,
           "colorMode": "hcl",
           "colorReverse": false,
           "colorScale": "",
           "colorScheme": "element",
           "colorValue": 9474192,
           "cylinderOnly": false,
           "defaultAssembly": "",
           "depthWrite": true,
           "diffuse": 16777215,
           "diffuseInterior": false,
           "disableImpostor": false,
           "disablePicking": false,
           "flatShaded": false,
           "interiorColor": 2236962,
           "interiorDarkening": 0,
           "lazy": false,
           "lineOnly": false,
           "linewidth": 2,
           "matrix": {
            "elements": [
             1,
             0,
             0,
             0,
             0,
             1,
             0,
             0,
             0,
             0,
             1,
             0,
             0,
             0,
             0,
             1
            ]
           },
           "metalness": 0,
           "multipleBond": "off",
           "opacity": 1,
           "openEnded": true,
           "quality": "high",
           "radialSegments": 20,
           "radiusData": {},
           "radiusScale": 2,
           "radiusSize": 0.15,
           "radiusType": "size",
           "roughness": 0.4,
           "sele": "",
           "side": "double",
           "sphereDetail": 2,
           "useInteriorColor": true,
           "visible": true,
           "wireframe": false
          },
          "type": "ball+stick"
         },
         "1": {
          "params": {
           "clipCenter": {
            "x": 0,
            "y": 0,
            "z": 0
           },
           "clipNear": 0,
           "clipRadius": 0,
           "colorMode": "hcl",
           "colorReverse": false,
           "colorScale": "",
           "colorScheme": "element",
           "colorValue": "orange",
           "defaultAssembly": "",
           "depthWrite": true,
           "diffuse": 16777215,
           "diffuseInterior": false,
           "disableImpostor": false,
           "disablePicking": false,
           "flatShaded": false,
           "interiorColor": 2236962,
           "interiorDarkening": 0,
           "lazy": false,
           "matrix": {
            "elements": [
             1,
             0,
             0,
             0,
             0,
             1,
             0,
             0,
             0,
             0,
             1,
             0,
             0,
             0,
             0,
             1
            ]
           },
           "metalness": 0,
           "opacity": 1,
           "quality": "medium",
           "radialSegments": 10,
           "radiusData": {},
           "radiusScale": 1,
           "radiusSize": 0.5,
           "radiusType": "vdw",
           "roughness": 0.4,
           "sele": "all",
           "side": "double",
           "sphereDetail": 1,
           "useInteriorColor": true,
           "visible": true,
           "wireframe": false
          },
          "type": "unitcell"
         }
        }
       },
       "_ngl_serialize": false,
       "_ngl_version": "2.0.0-dev.39",
       "_ngl_view_id": [
        "37780EBE-8980-416C-9C17-2C54AC81899F"
       ],
       "_player_dict": {},
       "_scene_position": {},
       "_scene_rotation": {},
       "_synced_model_ids": [],
       "_synced_repr_model_ids": [],
       "_view_height": "",
       "_view_width": "",
       "background": "white",
       "frame": 0,
       "gui_style": null,
       "layout": "IPY_MODEL_f6d7c8637d3a410abe7c38aa4d7a84bc",
       "max_frame": 0,
       "n_components": 1,
       "picked": {}
      }
     },
     "754ecf87e12b49d08d8470b4034bef5c": {
      "model_module": "@jupyter-widgets/controls",
      "model_module_version": "2.0.0",
      "model_name": "ImageModel",
      "state": {
       "layout": "IPY_MODEL_87772125616a41e48ac9d4389df7e5d0",
       "width": "900.0"
      }
     },
     "75f2352c72144b06bf553d3b45849a99": {
      "model_module": "@jupyter-widgets/base",
      "model_module_version": "2.0.0",
      "model_name": "LayoutModel",
      "state": {}
     },
     "76a838c8726b4619b521155e1997fe89": {
      "model_module": "@jupyter-widgets/base",
      "model_module_version": "2.0.0",
      "model_name": "LayoutModel",
      "state": {}
     },
     "777a6dcf51a54b47b0ce67806869aa9d": {
      "model_module": "@jupyter-widgets/controls",
      "model_module_version": "2.0.0",
      "model_name": "LinkModel",
      "state": {
       "source": [
        "IPY_MODEL_c7a1b76786844686a16d4fef2d4eaf5f",
        "value"
       ],
       "target": [
        "IPY_MODEL_9921cd17b7834399b7803fd4582f8a4b",
        "value"
       ]
      }
     },
     "77bca2ae89a44e71a6da41cdfa36c0e2": {
      "model_module": "nglview-js-widgets",
      "model_module_version": "3.0.8",
      "model_name": "NGLModel",
      "state": {
       "_camera_orientation": [
        28.327075332257767,
        -2.0765857207226817,
        -0.05439123433523552,
        0,
        2.0390274661987813,
        27.937764002374863,
        -4.697028111581446,
        0,
        0.3969050944102931,
        4.680544608631565,
        28.01202120615241,
        0,
        -0.35699987411499023,
        0.14499998092651367,
        -0.09600001573562622,
        1
       ],
       "_camera_str": "orthographic",
       "_gui_theme": null,
       "_ibtn_fullscreen": "IPY_MODEL_1d6851c494ed42ffb45ae79a0b52c905",
       "_igui": null,
       "_iplayer": "IPY_MODEL_90eeadf23d404b2e92d3c111e62cac95",
       "_ngl_color_dict": {},
       "_ngl_coordinate_resource": {},
       "_ngl_full_stage_parameters": {
        "ambientColor": 14540253,
        "ambientIntensity": 0.2,
        "backgroundColor": "white",
        "cameraEyeSep": 0.3,
        "cameraFov": 40,
        "cameraType": "orthographic",
        "clipDist": -100,
        "clipFar": 100,
        "clipMode": "scene",
        "clipNear": 0,
        "clipScale": "relative",
        "fogFar": 100,
        "fogNear": 50,
        "hoverTimeout": 0,
        "impostor": true,
        "lightColor": 14540253,
        "lightIntensity": 1,
        "mousePreset": "default",
        "panSpeed": 1,
        "quality": "medium",
        "rotateSpeed": 2,
        "sampleLevel": 3,
        "tooltip": true,
        "workerDefault": true,
        "zoomSpeed": 1.2
       },
       "_ngl_msg_archive": [
        {
         "args": [
          {
           "binary": false,
           "data": "HETATM    1  C1  SUR     1       5.068  -1.116   0.968  1.00  0.00           C\nHETATM    2  C2  SUR     1       3.683  -0.937   0.400  1.00  0.00           C\nHETATM    3  N1  SUR     1       2.956   0.117   0.730  1.00  0.00           N\nHETATM    4  C3  SUR     1       1.738   0.281   0.234  1.00  0.00           C\nHETATM    5  N2  SUR     1       1.206  -0.596  -0.604  1.00  0.00           N\nHETATM    6  C4  SUR     1       1.880  -1.672  -0.975  1.00  0.00           C\nHETATM    7  C5  SUR     1       3.159  -1.871  -0.480  1.00  0.00           C\nHETATM    8  N3  SUR     1       1.004   1.396   0.601  1.00  0.00           N\nHETATM    9  S1  SUR     1      -0.342   1.824  -0.265  1.00  0.00           S\nHETATM   10  O1  SUR     1      -0.884   2.957   0.398  1.00  0.00           O\nHETATM   11  O2  SUR     1       0.048   1.778  -1.631  1.00  0.00           O\nHETATM   12  C6  SUR     1      -1.529   0.538  -0.063  1.00  0.00           C\nHETATM   13  C7  SUR     1      -2.436   0.594   0.979  1.00  0.00           C\nHETATM   14  C8  SUR     1      -3.368  -0.412   1.141  1.00  0.00           C\nHETATM   15  C9  SUR     1      -3.394  -1.481   0.255  1.00  0.00           C\nHETATM   16  C10 SUR     1      -2.481  -1.535  -0.791  1.00  0.00           C\nHETATM   17  C11 SUR     1      -1.556  -0.523  -0.950  1.00  0.00           C\nHETATM   18  N4  SUR     1      -4.335  -2.501   0.415  1.00  0.00           N\nHETATM   19  H1  SUR     1       5.008  -1.679   1.899  1.00  0.00           H\nHETATM   20  H2  SUR     1       5.686  -1.659   0.253  1.00  0.00           H\nHETATM   21  H3  SUR     1       5.510  -0.139   1.162  1.00  0.00           H\nHETATM   22  H4  SUR     1       1.441  -2.384  -1.658  1.00  0.00           H\nHETATM   23  H5  SUR     1       3.732  -2.741  -0.767  1.00  0.00           H\nHETATM   24  H6  SUR     1       1.277   1.927   1.366  1.00  0.00           H\nHETATM   25  H7  SUR     1      -2.416   1.426   1.668  1.00  0.00           H\nHETATM   26  H8  SUR     1      -4.076  -0.367   1.955  1.00  0.00           H\nHETATM   27  H9  SUR     1      -2.499  -2.365  -1.482  1.00  0.00           H\nHETATM   28  H10 SUR     1      -0.846  -0.564  -1.763  1.00  0.00           H\nHETATM   29  H11 SUR     1      -4.972  -2.463   1.146  1.00  0.00           H\nHETATM   30  H12 SUR     1      -4.352  -3.247  -0.204  1.00  0.00           H\nCONECT    1   20   19   21    2\nCONECT   16   15   17   27\nCONECT   17   12   28   16\nCONECT    2    7    3    1\nCONECT    4    5    8    3\nCONECT    6    5    7   22\nCONECT    7    6    2   23\nCONECT   12    9   17   13\nCONECT   13   14   12   25\nCONECT   14   26   15   13\nCONECT   15   14   18   16\nCONECT   19    1\nCONECT   28   17\nCONECT   29   18\nCONECT   30   18\nCONECT   20    1\nCONECT   21    1\nCONECT   22    6\nCONECT   23    7\nCONECT   24    8\nCONECT   25   13\nCONECT   26   14\nCONECT   27   16\nCONECT    3    4    2\nCONECT    5    4    6\nCONECT    8    4    9   24\nCONECT   18   15   30   29\nCONECT   10    9\nCONECT   11    9\nCONECT    9    8   10   12   11\nEND\n",
           "type": "blob"
          }
         ],
         "kwargs": {
          "defaultRepresentation": true,
          "ext": "pdb"
         },
         "methodName": "loadFile",
         "reconstruc_color_scheme": false,
         "target": "Stage",
         "type": "call_method"
        },
        {
         "args": [
          "200px",
          "200px"
         ],
         "kwargs": {},
         "methodName": "setSize",
         "reconstruc_color_scheme": false,
         "target": "Widget",
         "type": "call_method"
        },
        {
         "args": [
          {
           "backgroundColor": "white",
           "clipDist": -100,
           "sampleLevel": 3
          }
         ],
         "kwargs": {},
         "methodName": "setParameters",
         "reconstruc_color_scheme": false,
         "target": "Widget",
         "type": "call_method"
        },
        {
         "args": [
          "unitcell"
         ],
         "component_index": 0,
         "kwargs": {
          "sele": "all"
         },
         "methodName": "addRepresentation",
         "reconstruc_color_scheme": false,
         "target": "compList",
         "type": "call_method"
        },
        {
         "args": [],
         "kwargs": {
          "cameraType": "orthographic"
         },
         "methodName": "setParameters",
         "reconstruc_color_scheme": false,
         "target": "Stage",
         "type": "call_method"
        }
       ],
       "_ngl_original_stage_parameters": {
        "ambientColor": 14540253,
        "ambientIntensity": 0.2,
        "backgroundColor": "white",
        "cameraEyeSep": 0.3,
        "cameraFov": 40,
        "cameraType": "perspective",
        "clipDist": 10,
        "clipFar": 100,
        "clipMode": "scene",
        "clipNear": 0,
        "clipScale": "relative",
        "fogFar": 100,
        "fogNear": 50,
        "hoverTimeout": 0,
        "impostor": true,
        "lightColor": 14540253,
        "lightIntensity": 1,
        "mousePreset": "default",
        "panSpeed": 1,
        "quality": "medium",
        "rotateSpeed": 2,
        "sampleLevel": 0,
        "tooltip": true,
        "workerDefault": true,
        "zoomSpeed": 1.2
       },
       "_ngl_repr_dict": {
        "0": {
         "0": {
          "params": {
           "aspectRatio": 1.5,
           "assembly": "default",
           "bondScale": 0.3,
           "bondSpacing": 0.75,
           "clipCenter": {
            "x": 0,
            "y": 0,
            "z": 0
           },
           "clipNear": 0,
           "clipRadius": 0,
           "colorMode": "hcl",
           "colorReverse": false,
           "colorScale": "",
           "colorScheme": "element",
           "colorValue": 9474192,
           "cylinderOnly": false,
           "defaultAssembly": "",
           "depthWrite": true,
           "diffuse": 16777215,
           "diffuseInterior": false,
           "disableImpostor": false,
           "disablePicking": false,
           "flatShaded": false,
           "interiorColor": 2236962,
           "interiorDarkening": 0,
           "lazy": false,
           "lineOnly": false,
           "linewidth": 2,
           "matrix": {
            "elements": [
             1,
             0,
             0,
             0,
             0,
             1,
             0,
             0,
             0,
             0,
             1,
             0,
             0,
             0,
             0,
             1
            ]
           },
           "metalness": 0,
           "multipleBond": "off",
           "opacity": 1,
           "openEnded": true,
           "quality": "high",
           "radialSegments": 20,
           "radiusData": {},
           "radiusScale": 2,
           "radiusSize": 0.15,
           "radiusType": "size",
           "roughness": 0.4,
           "sele": "",
           "side": "double",
           "sphereDetail": 2,
           "useInteriorColor": true,
           "visible": true,
           "wireframe": false
          },
          "type": "ball+stick"
         },
         "1": {
          "params": {
           "clipCenter": {
            "x": 0,
            "y": 0,
            "z": 0
           },
           "clipNear": 0,
           "clipRadius": 0,
           "colorMode": "hcl",
           "colorReverse": false,
           "colorScale": "",
           "colorScheme": "element",
           "colorValue": "orange",
           "defaultAssembly": "",
           "depthWrite": true,
           "diffuse": 16777215,
           "diffuseInterior": false,
           "disableImpostor": false,
           "disablePicking": false,
           "flatShaded": false,
           "interiorColor": 2236962,
           "interiorDarkening": 0,
           "lazy": false,
           "matrix": {
            "elements": [
             1,
             0,
             0,
             0,
             0,
             1,
             0,
             0,
             0,
             0,
             1,
             0,
             0,
             0,
             0,
             1
            ]
           },
           "metalness": 0,
           "opacity": 1,
           "quality": "medium",
           "radialSegments": 10,
           "radiusData": {},
           "radiusScale": 1,
           "radiusSize": 0.5,
           "radiusType": "vdw",
           "roughness": 0.4,
           "sele": "all",
           "side": "double",
           "sphereDetail": 1,
           "useInteriorColor": true,
           "visible": true,
           "wireframe": false
          },
          "type": "unitcell"
         }
        }
       },
       "_ngl_serialize": false,
       "_ngl_version": "2.0.0-dev.39",
       "_ngl_view_id": [
        "DC779836-489C-498C-9CDF-D39AE1FE0170"
       ],
       "_player_dict": {},
       "_scene_position": {},
       "_scene_rotation": {},
       "_synced_model_ids": [],
       "_synced_repr_model_ids": [],
       "_view_height": "",
       "_view_width": "",
       "background": "white",
       "frame": 0,
       "gui_style": null,
       "layout": "IPY_MODEL_71358357fb6f4c14ac21c5e9459f5eec",
       "max_frame": 0,
       "n_components": 1,
       "picked": {}
      }
     },
     "77e9593cc97d42ccbe2468aa23e17891": {
      "model_module": "@jupyter-widgets/controls",
      "model_module_version": "2.0.0",
      "model_name": "DescriptionStyleModel",
      "state": {
       "description_width": ""
      }
     },
     "783324c072034d0f97f7d70c03ada83d": {
      "model_module": "@jupyter-widgets/controls",
      "model_module_version": "2.0.0",
      "model_name": "LinkModel",
      "state": {
       "source": [
        "IPY_MODEL_dd6d94f3607a429391c9e4f4ea5ecb53",
        "value"
       ],
       "target": [
        "IPY_MODEL_f00db5060036428184173526be0c05ad",
        "value"
       ]
      }
     },
     "78440ef9d29a46df914f2b06b4e50e74": {
      "model_module": "@jupyter-widgets/base",
      "model_module_version": "2.0.0",
      "model_name": "LayoutModel",
      "state": {}
     },
     "786be7e9344b4561acbeb5834e87892a": {
      "model_module": "@jupyter-widgets/controls",
      "model_module_version": "2.0.0",
      "model_name": "ButtonStyleModel",
      "state": {
       "font_family": null,
       "font_size": null,
       "font_style": null,
       "font_variant": null,
       "font_weight": null,
       "text_color": null,
       "text_decoration": null
      }
     },
     "78da0edeab564650b10fc73c0ecbbd89": {
      "model_module": "@jupyter-widgets/base",
      "model_module_version": "2.0.0",
      "model_name": "LayoutModel",
      "state": {}
     },
     "7900676d76b44b749562f38d0fa6c46c": {
      "model_module": "nglview-js-widgets",
      "model_module_version": "3.0.8",
      "model_name": "NGLModel",
      "state": {
       "_camera_orientation": [
        20.283246487951367,
        0,
        0,
        0,
        0,
        20.283246487951367,
        0,
        0,
        0,
        0,
        20.283246487951367,
        0,
        -19.729999542236328,
        -20,
        -20.270000457763672,
        1
       ],
       "_camera_str": "orthographic",
       "_gui_theme": null,
       "_ibtn_fullscreen": "IPY_MODEL_65b0de12f40040368c093c349db8ac70",
       "_igui": null,
       "_iplayer": "IPY_MODEL_5ba9b0be1ca54977b69a87c445a63047",
       "_ngl_color_dict": {},
       "_ngl_coordinate_resource": {},
       "_ngl_full_stage_parameters": {
        "ambientColor": 14540253,
        "ambientIntensity": 0.2,
        "backgroundColor": "white",
        "cameraEyeSep": 0.3,
        "cameraFov": 40,
        "cameraType": "orthographic",
        "clipDist": -100,
        "clipFar": 100,
        "clipMode": "scene",
        "clipNear": 0,
        "clipScale": "relative",
        "fogFar": 100,
        "fogNear": 50,
        "hoverTimeout": 0,
        "impostor": true,
        "lightColor": 14540253,
        "lightIntensity": 1,
        "mousePreset": "default",
        "panSpeed": 1,
        "quality": "medium",
        "rotateSpeed": 2,
        "sampleLevel": 3,
        "tooltip": true,
        "workerDefault": true,
        "zoomSpeed": 1.2
       },
       "_ngl_msg_archive": [
        {
         "args": [
          {
           "binary": false,
           "data": "TITLE     MOL_GMX.gro created by acpype (Rev: 0) on Thu Feb 15 00:22:45 2018\nREMARK    THIS IS A SIMULATION BOX\nCRYST1   40.000   40.000   40.000  90.00  90.00  90.00 P 1           1\nMODEL        1\nATOM      1  C1  TOL     1      20.000  21.200  19.990  1.00  0.00            \nATOM      2  C2  TOL     1      20.720  20.000  19.990  1.00  0.00            \nATOM      3  C3  TOL     1      20.000  18.800  19.990  1.00  0.00            \nATOM      4  C4  TOL     1      18.610  18.800  20.000  1.00  0.00            \nATOM      5  C5  TOL     1      17.910  20.000  20.010  1.00  0.00            \nATOM      6  C6  TOL     1      18.610  21.200  20.000  1.00  0.00            \nATOM      7  C7  TOL     1      22.230  20.000  20.010  1.00  0.00            \nATOM      8  H1  TOL     1      22.630  19.120  19.510  1.00  0.00            \nATOM      9  H2  TOL     1      22.630  20.880  19.510  1.00  0.00            \nATOM     10  H3  TOL     1      22.610  20.000  21.030  1.00  0.00            \nATOM     11  H4  TOL     1      20.540  17.860  19.980  1.00  0.00            \nATOM     12  H5  TOL     1      18.080  17.860  20.000  1.00  0.00            \nATOM     13  H6  TOL     1      16.830  20.000  20.020  1.00  0.00            \nATOM     14  H7  TOL     1      18.080  22.140  20.000  1.00  0.00            \nATOM     15  H8  TOL     1      20.540  22.140  19.980  1.00  0.00            \nTER\nENDMDL\n",
           "type": "blob"
          }
         ],
         "kwargs": {
          "defaultRepresentation": true,
          "ext": "pdb"
         },
         "methodName": "loadFile",
         "reconstruc_color_scheme": false,
         "target": "Stage",
         "type": "call_method"
        },
        {
         "args": [
          "300.0px",
          "300.0px"
         ],
         "kwargs": {},
         "methodName": "setSize",
         "reconstruc_color_scheme": false,
         "target": "Widget",
         "type": "call_method"
        },
        {
         "args": [
          {
           "backgroundColor": "white",
           "clipDist": -100,
           "sampleLevel": 3
          }
         ],
         "kwargs": {},
         "methodName": "setParameters",
         "reconstruc_color_scheme": false,
         "target": "Widget",
         "type": "call_method"
        },
        {
         "args": [],
         "kwargs": {
          "cameraType": "orthographic"
         },
         "methodName": "setParameters",
         "reconstruc_color_scheme": false,
         "target": "Stage",
         "type": "call_method"
        }
       ],
       "_ngl_original_stage_parameters": {
        "ambientColor": 14540253,
        "ambientIntensity": 0.2,
        "backgroundColor": "white",
        "cameraEyeSep": 0.3,
        "cameraFov": 40,
        "cameraType": "perspective",
        "clipDist": 10,
        "clipFar": 100,
        "clipMode": "scene",
        "clipNear": 0,
        "clipScale": "relative",
        "fogFar": 100,
        "fogNear": 50,
        "hoverTimeout": 0,
        "impostor": true,
        "lightColor": 14540253,
        "lightIntensity": 1,
        "mousePreset": "default",
        "panSpeed": 1,
        "quality": "medium",
        "rotateSpeed": 2,
        "sampleLevel": 0,
        "tooltip": true,
        "workerDefault": true,
        "zoomSpeed": 1.2
       },
       "_ngl_repr_dict": {
        "0": {
         "0": {
          "params": {
           "aspectRatio": 1.5,
           "assembly": "default",
           "bondScale": 0.3,
           "bondSpacing": 0.75,
           "clipCenter": {
            "x": 0,
            "y": 0,
            "z": 0
           },
           "clipNear": 0,
           "clipRadius": 0,
           "colorMode": "hcl",
           "colorReverse": false,
           "colorScale": "",
           "colorScheme": "element",
           "colorValue": 9474192,
           "cylinderOnly": false,
           "defaultAssembly": "",
           "depthWrite": true,
           "diffuse": 16777215,
           "diffuseInterior": false,
           "disableImpostor": false,
           "disablePicking": false,
           "flatShaded": false,
           "interiorColor": 2236962,
           "interiorDarkening": 0,
           "lazy": false,
           "lineOnly": false,
           "linewidth": 2,
           "matrix": {
            "elements": [
             1,
             0,
             0,
             0,
             0,
             1,
             0,
             0,
             0,
             0,
             1,
             0,
             0,
             0,
             0,
             1
            ]
           },
           "metalness": 0,
           "multipleBond": "off",
           "opacity": 1,
           "openEnded": true,
           "quality": "high",
           "radialSegments": 20,
           "radiusData": {},
           "radiusScale": 2,
           "radiusSize": 0.15,
           "radiusType": "size",
           "roughness": 0.4,
           "sele": "",
           "side": "double",
           "sphereDetail": 2,
           "useInteriorColor": true,
           "visible": true,
           "wireframe": false
          },
          "type": "ball+stick"
         }
        }
       },
       "_ngl_serialize": false,
       "_ngl_version": "2.0.0-dev.39",
       "_ngl_view_id": [
        "95C34CA0-DCAF-48DD-891B-91FF63E882CE"
       ],
       "_player_dict": {},
       "_scene_position": {},
       "_scene_rotation": {},
       "_synced_model_ids": [],
       "_synced_repr_model_ids": [],
       "_view_height": "",
       "_view_width": "",
       "background": "white",
       "frame": 0,
       "gui_style": null,
       "layout": "IPY_MODEL_2fb762adaef74a35ad14d0445ae2a698",
       "max_frame": 0,
       "n_components": 1,
       "picked": {}
      }
     },
     "797c0528ff084fef8d5da58f9df793fc": {
      "model_module": "@jupyter-widgets/controls",
      "model_module_version": "2.0.0",
      "model_name": "ButtonModel",
      "state": {
       "icon": "compress",
       "layout": "IPY_MODEL_54fd655c375046cf99f729179c2401c7",
       "style": "IPY_MODEL_360308e9b9494b3e9ecaa2ef15b2917d",
       "tooltip": null
      }
     },
     "7a000d1351c9401ba90b87d03efdf944": {
      "model_module": "@jupyter-widgets/controls",
      "model_module_version": "2.0.0",
      "model_name": "LinkModel",
      "state": {
       "source": [
        "IPY_MODEL_c7a1b76786844686a16d4fef2d4eaf5f",
        "value"
       ],
       "target": [
        "IPY_MODEL_a70352225f60483b95102af2771e1589",
        "frame"
       ]
      }
     },
     "7a49a66581574eea8f824f9b98520a3a": {
      "model_module": "@jupyter-widgets/base",
      "model_module_version": "2.0.0",
      "model_name": "LayoutModel",
      "state": {}
     },
     "7ac11e3292b343ef970a8871a535513b": {
      "model_module": "@jupyter-widgets/controls",
      "model_module_version": "2.0.0",
      "model_name": "SliderStyleModel",
      "state": {
       "description_width": ""
      }
     },
     "7baa30d2e1da4b2f9dd7cdbfc74313d0": {
      "model_module": "@jupyter-widgets/controls",
      "model_module_version": "2.0.0",
      "model_name": "LinkModel",
      "state": {
       "source": [
        "IPY_MODEL_7f213aaaf1e944bb9bf6a9827c608821",
        "value"
       ],
       "target": [
        "IPY_MODEL_77bca2ae89a44e71a6da41cdfa36c0e2",
        "frame"
       ]
      }
     },
     "7bc7c55742ce4950ace3ea005ff9ef31": {
      "model_module": "@jupyter-widgets/base",
      "model_module_version": "2.0.0",
      "model_name": "LayoutModel",
      "state": {}
     },
     "7be366d6d8124a178bc5640a19718b21": {
      "model_module": "@jupyter-widgets/controls",
      "model_module_version": "2.0.0",
      "model_name": "HBoxModel",
      "state": {
       "children": [
        "IPY_MODEL_77bca2ae89a44e71a6da41cdfa36c0e2",
        "IPY_MODEL_c64adb80ee1f4bd584da6393cb3a3c3b"
       ],
       "layout": "IPY_MODEL_7bc7c55742ce4950ace3ea005ff9ef31"
      }
     },
     "7ca4e00091924196a1367973684216da": {
      "model_module": "@jupyter-widgets/controls",
      "model_module_version": "2.0.0",
      "model_name": "HBoxModel",
      "state": {
       "children": [
        "IPY_MODEL_2e7752c986c146e38ad7fd058d41441f",
        "IPY_MODEL_1dc96d1aeb554de0bbdb9f12268716ce"
       ],
       "layout": "IPY_MODEL_e4946b5132fb449eb7f1c07f2abdddf8"
      }
     },
     "7db4a76f38fd4cd3bb3972f736fecc4d": {
      "model_module": "@jupyter-widgets/controls",
      "model_module_version": "2.0.0",
      "model_name": "DescriptionStyleModel",
      "state": {
       "description_width": ""
      }
     },
     "7dcbb0edf40d4daa838024f15b68ffa4": {
      "model_module": "@jupyter-widgets/controls",
      "model_module_version": "2.0.0",
      "model_name": "IntSliderModel",
      "state": {
       "behavior": "drag-tap",
       "layout": "IPY_MODEL_cb9360331f7e401f8adfbc96cb3c8292",
       "max": 0,
       "style": "IPY_MODEL_27be999f41f641239fd69ba1b91fc971"
      }
     },
     "7e9edde9c05a468f9a334beee5bf2735": {
      "model_module": "@jupyter-widgets/controls",
      "model_module_version": "2.0.0",
      "model_name": "DescriptionStyleModel",
      "state": {
       "description_width": ""
      }
     },
     "7ed78f6dcd4240ee8117f44f6a857339": {
      "model_module": "@jupyter-widgets/controls",
      "model_module_version": "2.0.0",
      "model_name": "LinkModel",
      "state": {
       "source": [
        "IPY_MODEL_e6c95788a1524ee09e91cd6851fd2dde",
        "max"
       ],
       "target": [
        "IPY_MODEL_cc1dd3fb30c04863b12929e977e28299",
        "max_frame"
       ]
      }
     },
     "7f213aaaf1e944bb9bf6a9827c608821": {
      "model_module": "@jupyter-widgets/controls",
      "model_module_version": "2.0.0",
      "model_name": "PlayModel",
      "state": {
       "layout": "IPY_MODEL_f58dacf076ff4e1fba1dcd01de519b0a",
       "max": 0,
       "style": "IPY_MODEL_7db4a76f38fd4cd3bb3972f736fecc4d"
      }
     },
     "7f5dea5d505a4fd6ac0c962a9c84b405": {
      "model_module": "@jupyter-widgets/base",
      "model_module_version": "2.0.0",
      "model_name": "LayoutModel",
      "state": {}
     },
     "816575049fe34a15a80034e089f4f267": {
      "model_module": "@jupyter-widgets/controls",
      "model_module_version": "2.0.0",
      "model_name": "LinkModel",
      "state": {
       "source": [
        "IPY_MODEL_bbd0d668346a43869b1fdb9c0d1858d2",
        "value"
       ],
       "target": [
        "IPY_MODEL_b3e46ce4fbb84e6bbc70d18ccaafae06",
        "frame"
       ]
      }
     },
     "817ba5924269465bb9411cacbee1919b": {
      "model_module": "@jupyter-widgets/controls",
      "model_module_version": "2.0.0",
      "model_name": "ButtonStyleModel",
      "state": {
       "font_family": null,
       "font_size": null,
       "font_style": null,
       "font_variant": null,
       "font_weight": null,
       "text_color": null,
       "text_decoration": null
      }
     },
     "820379bda9564fbf81ef7e1da96654db": {
      "model_module": "@jupyter-widgets/controls",
      "model_module_version": "2.0.0",
      "model_name": "HBoxModel",
      "state": {
       "children": [
        "IPY_MODEL_09e2872a4ae546349e246e13a2f75250",
        "IPY_MODEL_fe4b42522d8344e293a5b272485c5810"
       ],
       "layout": "IPY_MODEL_4138e22dfa7c4ae4aed1caaf01c4d50d"
      }
     },
     "823d94bd124c432883f04dedbded921c": {
      "model_module": "@jupyter-widgets/controls",
      "model_module_version": "2.0.0",
      "model_name": "LinkModel",
      "state": {
       "source": [
        "IPY_MODEL_f245b3cb7538457888e1256945d07cdc",
        "value"
       ],
       "target": [
        "IPY_MODEL_24aa906c2ebb46798570345e08112b7b",
        "value"
       ]
      }
     },
     "82b0b975c16d402f83df170e2941599a": {
      "model_module": "@jupyter-widgets/controls",
      "model_module_version": "2.0.0",
      "model_name": "LinkModel",
      "state": {
       "source": [
        "IPY_MODEL_993eca102f2f404eab76cfdc198852b2",
        "max"
       ],
       "target": [
        "IPY_MODEL_3e2e05a2a9f6471ab596a9389978509b",
        "max_frame"
       ]
      }
     },
     "82daa3f65fa94c32950f0a4587aec68e": {
      "model_module": "@jupyter-widgets/controls",
      "model_module_version": "2.0.0",
      "model_name": "DescriptionStyleModel",
      "state": {
       "description_width": ""
      }
     },
     "82f46a6e08d24c0caf2fd023b46fe10f": {
      "model_module": "nglview-js-widgets",
      "model_module_version": "3.0.8",
      "model_name": "NGLModel",
      "state": {
       "_camera_orientation": [
        28.403140029603975,
        0,
        0,
        0,
        0,
        28.403140029603975,
        0,
        0,
        0,
        0,
        28.403140029603975,
        0,
        -0.35699987411499023,
        0.14499998092651367,
        -0.09600001573562622,
        1
       ],
       "_camera_str": "orthographic",
       "_gui_theme": null,
       "_ibtn_fullscreen": "IPY_MODEL_8500624d46b8457788d3754d6fb391e5",
       "_igui": null,
       "_iplayer": "IPY_MODEL_97ca6932ebcc406ba34b414c5ddf4da5",
       "_ngl_color_dict": {},
       "_ngl_coordinate_resource": {},
       "_ngl_full_stage_parameters": {
        "ambientColor": 14540253,
        "ambientIntensity": 0.2,
        "backgroundColor": "white",
        "cameraEyeSep": 0.3,
        "cameraFov": 40,
        "cameraType": "orthographic",
        "clipDist": -100,
        "clipFar": 100,
        "clipMode": "scene",
        "clipNear": 0,
        "clipScale": "relative",
        "fogFar": 100,
        "fogNear": 50,
        "hoverTimeout": 0,
        "impostor": true,
        "lightColor": 14540253,
        "lightIntensity": 1,
        "mousePreset": "default",
        "panSpeed": 1,
        "quality": "medium",
        "rotateSpeed": 2,
        "sampleLevel": 3,
        "tooltip": true,
        "workerDefault": true,
        "zoomSpeed": 1.2
       },
       "_ngl_msg_archive": [
        {
         "args": [
          {
           "binary": false,
           "data": "HETATM    1  C1  SUR     1       5.068  -1.116   0.968  1.00  0.00           C\nHETATM    2  C2  SUR     1       3.683  -0.937   0.400  1.00  0.00           C\nHETATM    3  N1  SUR     1       2.956   0.117   0.730  1.00  0.00           N\nHETATM    4  C3  SUR     1       1.738   0.281   0.234  1.00  0.00           C\nHETATM    5  N2  SUR     1       1.206  -0.596  -0.604  1.00  0.00           N\nHETATM    6  C4  SUR     1       1.880  -1.672  -0.975  1.00  0.00           C\nHETATM    7  C5  SUR     1       3.159  -1.871  -0.480  1.00  0.00           C\nHETATM    8  N3  SUR     1       1.004   1.396   0.601  1.00  0.00           N\nHETATM    9  S1  SUR     1      -0.342   1.824  -0.265  1.00  0.00           S\nHETATM   10  O1  SUR     1      -0.884   2.957   0.398  1.00  0.00           O\nHETATM   11  O2  SUR     1       0.048   1.778  -1.631  1.00  0.00           O\nHETATM   12  C6  SUR     1      -1.529   0.538  -0.063  1.00  0.00           C\nHETATM   13  C7  SUR     1      -2.436   0.594   0.979  1.00  0.00           C\nHETATM   14  C8  SUR     1      -3.368  -0.412   1.141  1.00  0.00           C\nHETATM   15  C9  SUR     1      -3.394  -1.481   0.255  1.00  0.00           C\nHETATM   16  C10 SUR     1      -2.481  -1.535  -0.791  1.00  0.00           C\nHETATM   17  C11 SUR     1      -1.556  -0.523  -0.950  1.00  0.00           C\nHETATM   18  N4  SUR     1      -4.335  -2.501   0.415  1.00  0.00           N\nHETATM   19  H1  SUR     1       5.008  -1.679   1.899  1.00  0.00           H\nHETATM   20  H2  SUR     1       5.686  -1.659   0.253  1.00  0.00           H\nHETATM   21  H3  SUR     1       5.510  -0.139   1.162  1.00  0.00           H\nHETATM   22  H4  SUR     1       1.441  -2.384  -1.658  1.00  0.00           H\nHETATM   23  H5  SUR     1       3.732  -2.741  -0.767  1.00  0.00           H\nHETATM   24  H6  SUR     1       1.277   1.927   1.366  1.00  0.00           H\nHETATM   25  H7  SUR     1      -2.416   1.426   1.668  1.00  0.00           H\nHETATM   26  H8  SUR     1      -4.076  -0.367   1.955  1.00  0.00           H\nHETATM   27  H9  SUR     1      -2.499  -2.365  -1.482  1.00  0.00           H\nHETATM   28  H10 SUR     1      -0.846  -0.564  -1.763  1.00  0.00           H\nHETATM   29  H11 SUR     1      -4.972  -2.463   1.146  1.00  0.00           H\nHETATM   30  H12 SUR     1      -4.352  -3.247  -0.204  1.00  0.00           H\nCONECT    1   20   19   21    2\nCONECT   16   15   17   27\nCONECT   17   12   28   16\nCONECT    2    7    3    1\nCONECT    4    5    8    3\nCONECT    6    5    7   22\nCONECT    7    6    2   23\nCONECT   12    9   17   13\nCONECT   13   14   12   25\nCONECT   14   26   15   13\nCONECT   15   14   18   16\nCONECT   19    1\nCONECT   28   17\nCONECT   29   18\nCONECT   30   18\nCONECT   20    1\nCONECT   21    1\nCONECT   22    6\nCONECT   23    7\nCONECT   24    8\nCONECT   25   13\nCONECT   26   14\nCONECT   27   16\nCONECT    3    4    2\nCONECT    5    4    6\nCONECT    8    4    9   24\nCONECT   18   15   30   29\nCONECT   10    9\nCONECT   11    9\nCONECT    9    8   10   12   11\nEND\n",
           "type": "blob"
          }
         ],
         "kwargs": {
          "defaultRepresentation": true,
          "ext": "pdb"
         },
         "methodName": "loadFile",
         "reconstruc_color_scheme": false,
         "target": "Stage",
         "type": "call_method"
        },
        {
         "args": [
          "400px",
          "400px"
         ],
         "kwargs": {},
         "methodName": "setSize",
         "reconstruc_color_scheme": false,
         "target": "Widget",
         "type": "call_method"
        },
        {
         "args": [
          {
           "backgroundColor": "white",
           "clipDist": -100,
           "sampleLevel": 3
          }
         ],
         "kwargs": {},
         "methodName": "setParameters",
         "reconstruc_color_scheme": false,
         "target": "Widget",
         "type": "call_method"
        },
        {
         "args": [
          "unitcell"
         ],
         "component_index": 0,
         "kwargs": {
          "sele": "all"
         },
         "methodName": "addRepresentation",
         "reconstruc_color_scheme": false,
         "target": "compList",
         "type": "call_method"
        },
        {
         "args": [],
         "kwargs": {
          "cameraType": "orthographic"
         },
         "methodName": "setParameters",
         "reconstruc_color_scheme": false,
         "target": "Stage",
         "type": "call_method"
        }
       ],
       "_ngl_original_stage_parameters": {
        "ambientColor": 14540253,
        "ambientIntensity": 0.2,
        "backgroundColor": "white",
        "cameraEyeSep": 0.3,
        "cameraFov": 40,
        "cameraType": "perspective",
        "clipDist": 10,
        "clipFar": 100,
        "clipMode": "scene",
        "clipNear": 0,
        "clipScale": "relative",
        "fogFar": 100,
        "fogNear": 50,
        "hoverTimeout": 0,
        "impostor": true,
        "lightColor": 14540253,
        "lightIntensity": 1,
        "mousePreset": "default",
        "panSpeed": 1,
        "quality": "medium",
        "rotateSpeed": 2,
        "sampleLevel": 0,
        "tooltip": true,
        "workerDefault": true,
        "zoomSpeed": 1.2
       },
       "_ngl_repr_dict": {
        "0": {
         "0": {
          "params": {
           "aspectRatio": 1.5,
           "assembly": "default",
           "bondScale": 0.3,
           "bondSpacing": 0.75,
           "clipCenter": {
            "x": 0,
            "y": 0,
            "z": 0
           },
           "clipNear": 0,
           "clipRadius": 0,
           "colorMode": "hcl",
           "colorReverse": false,
           "colorScale": "",
           "colorScheme": "element",
           "colorValue": 9474192,
           "cylinderOnly": false,
           "defaultAssembly": "",
           "depthWrite": true,
           "diffuse": 16777215,
           "diffuseInterior": false,
           "disableImpostor": false,
           "disablePicking": false,
           "flatShaded": false,
           "interiorColor": 2236962,
           "interiorDarkening": 0,
           "lazy": false,
           "lineOnly": false,
           "linewidth": 2,
           "matrix": {
            "elements": [
             1,
             0,
             0,
             0,
             0,
             1,
             0,
             0,
             0,
             0,
             1,
             0,
             0,
             0,
             0,
             1
            ]
           },
           "metalness": 0,
           "multipleBond": "off",
           "opacity": 1,
           "openEnded": true,
           "quality": "high",
           "radialSegments": 20,
           "radiusData": {},
           "radiusScale": 2,
           "radiusSize": 0.15,
           "radiusType": "size",
           "roughness": 0.4,
           "sele": "",
           "side": "double",
           "sphereDetail": 2,
           "useInteriorColor": true,
           "visible": true,
           "wireframe": false
          },
          "type": "ball+stick"
         },
         "1": {
          "params": {
           "clipCenter": {
            "x": 0,
            "y": 0,
            "z": 0
           },
           "clipNear": 0,
           "clipRadius": 0,
           "colorMode": "hcl",
           "colorReverse": false,
           "colorScale": "",
           "colorScheme": "element",
           "colorValue": "orange",
           "defaultAssembly": "",
           "depthWrite": true,
           "diffuse": 16777215,
           "diffuseInterior": false,
           "disableImpostor": false,
           "disablePicking": false,
           "flatShaded": false,
           "interiorColor": 2236962,
           "interiorDarkening": 0,
           "lazy": false,
           "matrix": {
            "elements": [
             1,
             0,
             0,
             0,
             0,
             1,
             0,
             0,
             0,
             0,
             1,
             0,
             0,
             0,
             0,
             1
            ]
           },
           "metalness": 0,
           "opacity": 1,
           "quality": "medium",
           "radialSegments": 10,
           "radiusData": {},
           "radiusScale": 1,
           "radiusSize": 0.5,
           "radiusType": "vdw",
           "roughness": 0.4,
           "sele": "all",
           "side": "double",
           "sphereDetail": 1,
           "useInteriorColor": true,
           "visible": true,
           "wireframe": false
          },
          "type": "unitcell"
         }
        }
       },
       "_ngl_serialize": false,
       "_ngl_version": "2.0.0-dev.39",
       "_ngl_view_id": [
        "86C74EB9-B40A-4C6B-B12C-E9FECD54A270"
       ],
       "_player_dict": {},
       "_scene_position": {},
       "_scene_rotation": {},
       "_synced_model_ids": [],
       "_synced_repr_model_ids": [],
       "_view_height": "",
       "_view_width": "",
       "background": "white",
       "frame": 0,
       "gui_style": null,
       "layout": "IPY_MODEL_b1d321dbeddb47be9b72c24283498991",
       "max_frame": 0,
       "n_components": 1,
       "picked": {}
      }
     },
     "8347299c3ed24f9e800331481d18cd28": {
      "model_module": "@jupyter-widgets/controls",
      "model_module_version": "2.0.0",
      "model_name": "VBoxModel",
      "state": {
       "children": [
        "IPY_MODEL_6cafe828ee2f4e53be93efc02bc627ff"
       ],
       "layout": "IPY_MODEL_1bf72ddaa1b04f03b06fc76de08b24ef"
      }
     },
     "839ed00b5d5e4025be16f0e0fbc1cf77": {
      "model_module": "nglview-js-widgets",
      "model_module_version": "3.0.8",
      "model_name": "NGLModel",
      "state": {
       "_camera_orientation": [
        28.403140029603975,
        0,
        0,
        0,
        0,
        28.403140029603975,
        0,
        0,
        0,
        0,
        28.403140029603975,
        0,
        -0.35699987411499023,
        0.14499998092651367,
        -0.09600001573562622,
        1
       ],
       "_camera_str": "orthographic",
       "_gui_theme": null,
       "_ibtn_fullscreen": "IPY_MODEL_d12f731b554e4dddb62944b3765451b9",
       "_igui": null,
       "_iplayer": "IPY_MODEL_d423662462b04f999eae7a4b8e9701da",
       "_ngl_color_dict": {},
       "_ngl_coordinate_resource": {},
       "_ngl_full_stage_parameters": {
        "ambientColor": 14540253,
        "ambientIntensity": 0.2,
        "backgroundColor": "white",
        "cameraEyeSep": 0.3,
        "cameraFov": 40,
        "cameraType": "orthographic",
        "clipDist": -100,
        "clipFar": 100,
        "clipMode": "scene",
        "clipNear": 0,
        "clipScale": "relative",
        "fogFar": 100,
        "fogNear": 50,
        "hoverTimeout": 0,
        "impostor": true,
        "lightColor": 14540253,
        "lightIntensity": 1,
        "mousePreset": "default",
        "panSpeed": 1,
        "quality": "medium",
        "rotateSpeed": 2,
        "sampleLevel": 3,
        "tooltip": true,
        "workerDefault": true,
        "zoomSpeed": 1.2
       },
       "_ngl_msg_archive": [
        {
         "args": [
          {
           "binary": false,
           "data": "HETATM    1  C1  SUR     1       5.068  -1.116   0.968  1.00  0.00           C\nHETATM    2  C2  SUR     1       3.683  -0.937   0.400  1.00  0.00           C\nHETATM    3  N1  SUR     1       2.956   0.117   0.730  1.00  0.00           N\nHETATM    4  C3  SUR     1       1.738   0.281   0.234  1.00  0.00           C\nHETATM    5  N2  SUR     1       1.206  -0.596  -0.604  1.00  0.00           N\nHETATM    6  C4  SUR     1       1.880  -1.672  -0.975  1.00  0.00           C\nHETATM    7  C5  SUR     1       3.159  -1.871  -0.480  1.00  0.00           C\nHETATM    8  N3  SUR     1       1.004   1.396   0.601  1.00  0.00           N\nHETATM    9  S1  SUR     1      -0.342   1.824  -0.265  1.00  0.00           S\nHETATM   10  O1  SUR     1      -0.884   2.957   0.398  1.00  0.00           O\nHETATM   11  O2  SUR     1       0.048   1.778  -1.631  1.00  0.00           O\nHETATM   12  C6  SUR     1      -1.529   0.538  -0.063  1.00  0.00           C\nHETATM   13  C7  SUR     1      -2.436   0.594   0.979  1.00  0.00           C\nHETATM   14  C8  SUR     1      -3.368  -0.412   1.141  1.00  0.00           C\nHETATM   15  C9  SUR     1      -3.394  -1.481   0.255  1.00  0.00           C\nHETATM   16  C10 SUR     1      -2.481  -1.535  -0.791  1.00  0.00           C\nHETATM   17  C11 SUR     1      -1.556  -0.523  -0.950  1.00  0.00           C\nHETATM   18  N4  SUR     1      -4.335  -2.501   0.415  1.00  0.00           N\nHETATM   19  H1  SUR     1       5.008  -1.679   1.899  1.00  0.00           H\nHETATM   20  H2  SUR     1       5.686  -1.659   0.253  1.00  0.00           H\nHETATM   21  H3  SUR     1       5.510  -0.139   1.162  1.00  0.00           H\nHETATM   22  H4  SUR     1       1.441  -2.384  -1.658  1.00  0.00           H\nHETATM   23  H5  SUR     1       3.732  -2.741  -0.767  1.00  0.00           H\nHETATM   24  H6  SUR     1       1.277   1.927   1.366  1.00  0.00           H\nHETATM   25  H7  SUR     1      -2.416   1.426   1.668  1.00  0.00           H\nHETATM   26  H8  SUR     1      -4.076  -0.367   1.955  1.00  0.00           H\nHETATM   27  H9  SUR     1      -2.499  -2.365  -1.482  1.00  0.00           H\nHETATM   28  H10 SUR     1      -0.846  -0.564  -1.763  1.00  0.00           H\nHETATM   29  H11 SUR     1      -4.972  -2.463   1.146  1.00  0.00           H\nHETATM   30  H12 SUR     1      -4.352  -3.247  -0.204  1.00  0.00           H\nCONECT    1   20   19   21    2\nCONECT   16   15   17   27\nCONECT   17   12   28   16\nCONECT    2    7    3    1\nCONECT    4    5    8    3\nCONECT    6    5    7   22\nCONECT    7    6    2   23\nCONECT   12    9   17   13\nCONECT   13   14   12   25\nCONECT   14   26   15   13\nCONECT   15   14   18   16\nCONECT   19    1\nCONECT   28   17\nCONECT   29   18\nCONECT   30   18\nCONECT   20    1\nCONECT   21    1\nCONECT   22    6\nCONECT   23    7\nCONECT   24    8\nCONECT   25   13\nCONECT   26   14\nCONECT   27   16\nCONECT    3    4    2\nCONECT    5    4    6\nCONECT    8    4    9   24\nCONECT   18   15   30   29\nCONECT   10    9\nCONECT   11    9\nCONECT    9    8   10   12   11\nEND\n",
           "type": "blob"
          }
         ],
         "kwargs": {
          "defaultRepresentation": true,
          "ext": "pdb"
         },
         "methodName": "loadFile",
         "reconstruc_color_scheme": false,
         "target": "Stage",
         "type": "call_method"
        },
        {
         "args": [
          "250.0px",
          "250.0px"
         ],
         "kwargs": {},
         "methodName": "setSize",
         "reconstruc_color_scheme": false,
         "target": "Widget",
         "type": "call_method"
        },
        {
         "args": [
          {
           "backgroundColor": "white",
           "clipDist": -100,
           "sampleLevel": 3
          }
         ],
         "kwargs": {},
         "methodName": "setParameters",
         "reconstruc_color_scheme": false,
         "target": "Widget",
         "type": "call_method"
        },
        {
         "args": [],
         "kwargs": {
          "cameraType": "orthographic"
         },
         "methodName": "setParameters",
         "reconstruc_color_scheme": false,
         "target": "Stage",
         "type": "call_method"
        }
       ],
       "_ngl_original_stage_parameters": {
        "ambientColor": 14540253,
        "ambientIntensity": 0.2,
        "backgroundColor": "white",
        "cameraEyeSep": 0.3,
        "cameraFov": 40,
        "cameraType": "perspective",
        "clipDist": 10,
        "clipFar": 100,
        "clipMode": "scene",
        "clipNear": 0,
        "clipScale": "relative",
        "fogFar": 100,
        "fogNear": 50,
        "hoverTimeout": 0,
        "impostor": true,
        "lightColor": 14540253,
        "lightIntensity": 1,
        "mousePreset": "default",
        "panSpeed": 1,
        "quality": "medium",
        "rotateSpeed": 2,
        "sampleLevel": 0,
        "tooltip": true,
        "workerDefault": true,
        "zoomSpeed": 1.2
       },
       "_ngl_repr_dict": {
        "0": {
         "0": {
          "params": {
           "aspectRatio": 1.5,
           "assembly": "default",
           "bondScale": 0.3,
           "bondSpacing": 0.75,
           "clipCenter": {
            "x": 0,
            "y": 0,
            "z": 0
           },
           "clipNear": 0,
           "clipRadius": 0,
           "colorMode": "hcl",
           "colorReverse": false,
           "colorScale": "",
           "colorScheme": "element",
           "colorValue": 9474192,
           "cylinderOnly": false,
           "defaultAssembly": "",
           "depthWrite": true,
           "diffuse": 16777215,
           "diffuseInterior": false,
           "disableImpostor": false,
           "disablePicking": false,
           "flatShaded": false,
           "interiorColor": 2236962,
           "interiorDarkening": 0,
           "lazy": false,
           "lineOnly": false,
           "linewidth": 2,
           "matrix": {
            "elements": [
             1,
             0,
             0,
             0,
             0,
             1,
             0,
             0,
             0,
             0,
             1,
             0,
             0,
             0,
             0,
             1
            ]
           },
           "metalness": 0,
           "multipleBond": "off",
           "opacity": 1,
           "openEnded": true,
           "quality": "high",
           "radialSegments": 20,
           "radiusData": {},
           "radiusScale": 2,
           "radiusSize": 0.15,
           "radiusType": "size",
           "roughness": 0.4,
           "sele": "",
           "side": "double",
           "sphereDetail": 2,
           "useInteriorColor": true,
           "visible": true,
           "wireframe": false
          },
          "type": "ball+stick"
         }
        }
       },
       "_ngl_serialize": false,
       "_ngl_version": "2.0.0-dev.39",
       "_ngl_view_id": [
        "D47468D3-FF57-478A-8F5F-F326FF1A0F37"
       ],
       "_player_dict": {},
       "_scene_position": {},
       "_scene_rotation": {},
       "_synced_model_ids": [],
       "_synced_repr_model_ids": [],
       "_view_height": "",
       "_view_width": "",
       "background": "white",
       "frame": 0,
       "gui_style": null,
       "layout": "IPY_MODEL_60e5764fef7b4142836da5c9a83179c0",
       "max_frame": 0,
       "n_components": 1,
       "picked": {}
      }
     },
     "83de1583f1414fdc8181fe9c9998e55f": {
      "model_module": "@jupyter-widgets/controls",
      "model_module_version": "2.0.0",
      "model_name": "SliderStyleModel",
      "state": {
       "description_width": ""
      }
     },
     "848ca1835857468ebbfed98498a0cd9c": {
      "model_module": "@jupyter-widgets/controls",
      "model_module_version": "2.0.0",
      "model_name": "DescriptionStyleModel",
      "state": {
       "description_width": ""
      }
     },
     "84aa4e7f213e497b9cf163495b5a39b8": {
      "model_module": "@jupyter-widgets/base",
      "model_module_version": "2.0.0",
      "model_name": "LayoutModel",
      "state": {}
     },
     "84e3995dc173485bb65d7b75884edc7a": {
      "model_module": "@jupyter-widgets/controls",
      "model_module_version": "2.0.0",
      "model_name": "ButtonStyleModel",
      "state": {
       "font_family": null,
       "font_size": null,
       "font_style": null,
       "font_variant": null,
       "font_weight": null,
       "text_color": null,
       "text_decoration": null
      }
     },
     "84e687996ced44589e9acf017b9d86a2": {
      "model_module": "@jupyter-widgets/controls",
      "model_module_version": "2.0.0",
      "model_name": "SliderStyleModel",
      "state": {
       "description_width": ""
      }
     },
     "8500624d46b8457788d3754d6fb391e5": {
      "model_module": "@jupyter-widgets/controls",
      "model_module_version": "2.0.0",
      "model_name": "ButtonModel",
      "state": {
       "icon": "compress",
       "layout": "IPY_MODEL_f7d35b88cd984f64bd32ee92cd6ae362",
       "style": "IPY_MODEL_cc25a260094c4f6188ebb3c70f6f3a2e",
       "tooltip": null
      }
     },
     "853098a5756a4cdf916f55a5dc34ca87": {
      "model_module": "@jupyter-widgets/base",
      "model_module_version": "2.0.0",
      "model_name": "LayoutModel",
      "state": {}
     },
     "857d755095774c01b661cb9a23daa171": {
      "model_module": "@jupyter-widgets/controls",
      "model_module_version": "2.0.0",
      "model_name": "ImageModel",
      "state": {
       "layout": "IPY_MODEL_07683838b6144cb197fd8a98c603f552",
       "width": "900.0"
      }
     },
     "86db7e97b28643fa86639c31a6fd00c8": {
      "model_module": "@jupyter-widgets/controls",
      "model_module_version": "2.0.0",
      "model_name": "LinkModel",
      "state": {
       "source": [
        "IPY_MODEL_210292688b8e4acab371ccf05a62d9c5",
        "max"
       ],
       "target": [
        "IPY_MODEL_77bca2ae89a44e71a6da41cdfa36c0e2",
        "max_frame"
       ]
      }
     },
     "8723512fe87245b2827478c9075e3379": {
      "model_module": "nglview-js-widgets",
      "model_module_version": "3.0.8",
      "model_name": "NGLModel",
      "state": {
       "_camera_orientation": [
        19.02237073136052,
        6.0064894004137575,
        -20.21904697018849,
        0,
        -20.934444784946994,
        8.701950289506936,
        -17.110331564474464,
        0,
        2.5761981379502186,
        26.361648464824064,
        10.2550015559411,
        0,
        -0.35699987411499023,
        0.14499998092651367,
        -0.09600001573562622,
        1
       ],
       "_camera_str": "orthographic",
       "_gui_theme": null,
       "_ibtn_fullscreen": "IPY_MODEL_cfd8f5bc9c8f415a83def1fb14d0ba65",
       "_igui": null,
       "_iplayer": "IPY_MODEL_207bc5ef3ce94778933bc99310d88877",
       "_ngl_color_dict": {},
       "_ngl_coordinate_resource": {},
       "_ngl_full_stage_parameters": {
        "ambientColor": 14540253,
        "ambientIntensity": 0.2,
        "backgroundColor": "white",
        "cameraEyeSep": 0.3,
        "cameraFov": 40,
        "cameraType": "orthographic",
        "clipDist": -100,
        "clipFar": 100,
        "clipMode": "scene",
        "clipNear": 0,
        "clipScale": "relative",
        "fogFar": 100,
        "fogNear": 50,
        "hoverTimeout": 0,
        "impostor": true,
        "lightColor": 14540253,
        "lightIntensity": 1,
        "mousePreset": "default",
        "panSpeed": 1,
        "quality": "medium",
        "rotateSpeed": 2,
        "sampleLevel": 3,
        "tooltip": true,
        "workerDefault": true,
        "zoomSpeed": 1.2
       },
       "_ngl_msg_archive": [
        {
         "args": [
          {
           "binary": false,
           "data": "HETATM    1  C1  SUR     1       5.068  -1.116   0.968  1.00  0.00           C\nHETATM    2  C2  SUR     1       3.683  -0.937   0.400  1.00  0.00           C\nHETATM    3  N1  SUR     1       2.956   0.117   0.730  1.00  0.00           N\nHETATM    4  C3  SUR     1       1.738   0.281   0.234  1.00  0.00           C\nHETATM    5  N2  SUR     1       1.206  -0.596  -0.604  1.00  0.00           N\nHETATM    6  C4  SUR     1       1.880  -1.672  -0.975  1.00  0.00           C\nHETATM    7  C5  SUR     1       3.159  -1.871  -0.480  1.00  0.00           C\nHETATM    8  N3  SUR     1       1.004   1.396   0.601  1.00  0.00           N\nHETATM    9  S1  SUR     1      -0.342   1.824  -0.265  1.00  0.00           S\nHETATM   10  O1  SUR     1      -0.884   2.957   0.398  1.00  0.00           O\nHETATM   11  O2  SUR     1       0.048   1.778  -1.631  1.00  0.00           O\nHETATM   12  C6  SUR     1      -1.529   0.538  -0.063  1.00  0.00           C\nHETATM   13  C7  SUR     1      -2.436   0.594   0.979  1.00  0.00           C\nHETATM   14  C8  SUR     1      -3.368  -0.412   1.141  1.00  0.00           C\nHETATM   15  C9  SUR     1      -3.394  -1.481   0.255  1.00  0.00           C\nHETATM   16  C10 SUR     1      -2.481  -1.535  -0.791  1.00  0.00           C\nHETATM   17  C11 SUR     1      -1.556  -0.523  -0.950  1.00  0.00           C\nHETATM   18  N4  SUR     1      -4.335  -2.501   0.415  1.00  0.00           N\nHETATM   19  H1  SUR     1       5.008  -1.679   1.899  1.00  0.00           H\nHETATM   20  H2  SUR     1       5.686  -1.659   0.253  1.00  0.00           H\nHETATM   21  H3  SUR     1       5.510  -0.139   1.162  1.00  0.00           H\nHETATM   22  H4  SUR     1       1.441  -2.384  -1.658  1.00  0.00           H\nHETATM   23  H5  SUR     1       3.732  -2.741  -0.767  1.00  0.00           H\nHETATM   24  H6  SUR     1       1.277   1.927   1.366  1.00  0.00           H\nHETATM   25  H7  SUR     1      -2.416   1.426   1.668  1.00  0.00           H\nHETATM   26  H8  SUR     1      -4.076  -0.367   1.955  1.00  0.00           H\nHETATM   27  H9  SUR     1      -2.499  -2.365  -1.482  1.00  0.00           H\nHETATM   28  H10 SUR     1      -0.846  -0.564  -1.763  1.00  0.00           H\nHETATM   29  H11 SUR     1      -4.972  -2.463   1.146  1.00  0.00           H\nHETATM   30  H12 SUR     1      -4.352  -3.247  -0.204  1.00  0.00           H\nCONECT    1   20   19   21    2\nCONECT   16   15   17   27\nCONECT   17   12   28   16\nCONECT    2    7    3    1\nCONECT    4    5    8    3\nCONECT    6    5    7   22\nCONECT    7    6    2   23\nCONECT   12    9   17   13\nCONECT   13   14   12   25\nCONECT   14   26   15   13\nCONECT   15   14   18   16\nCONECT   19    1\nCONECT   28   17\nCONECT   29   18\nCONECT   30   18\nCONECT   20    1\nCONECT   21    1\nCONECT   22    6\nCONECT   23    7\nCONECT   24    8\nCONECT   25   13\nCONECT   26   14\nCONECT   27   16\nCONECT    3    4    2\nCONECT    5    4    6\nCONECT    8    4    9   24\nCONECT   18   15   30   29\nCONECT   10    9\nCONECT   11    9\nCONECT    9    8   10   12   11\nEND\n",
           "type": "blob"
          }
         ],
         "kwargs": {
          "defaultRepresentation": true,
          "ext": "pdb"
         },
         "methodName": "loadFile",
         "reconstruc_color_scheme": false,
         "target": "Stage",
         "type": "call_method"
        },
        {
         "args": [
          "400px",
          "400px"
         ],
         "kwargs": {},
         "methodName": "setSize",
         "reconstruc_color_scheme": false,
         "target": "Widget",
         "type": "call_method"
        },
        {
         "args": [
          {
           "backgroundColor": "white",
           "clipDist": -100,
           "sampleLevel": 3
          }
         ],
         "kwargs": {},
         "methodName": "setParameters",
         "reconstruc_color_scheme": false,
         "target": "Widget",
         "type": "call_method"
        },
        {
         "args": [],
         "kwargs": {
          "cameraType": "orthographic"
         },
         "methodName": "setParameters",
         "reconstruc_color_scheme": false,
         "target": "Stage",
         "type": "call_method"
        }
       ],
       "_ngl_original_stage_parameters": {
        "ambientColor": 14540253,
        "ambientIntensity": 0.2,
        "backgroundColor": "white",
        "cameraEyeSep": 0.3,
        "cameraFov": 40,
        "cameraType": "perspective",
        "clipDist": 10,
        "clipFar": 100,
        "clipMode": "scene",
        "clipNear": 0,
        "clipScale": "relative",
        "fogFar": 100,
        "fogNear": 50,
        "hoverTimeout": 0,
        "impostor": true,
        "lightColor": 14540253,
        "lightIntensity": 1,
        "mousePreset": "default",
        "panSpeed": 1,
        "quality": "medium",
        "rotateSpeed": 2,
        "sampleLevel": 0,
        "tooltip": true,
        "workerDefault": true,
        "zoomSpeed": 1.2
       },
       "_ngl_repr_dict": {
        "0": {
         "0": {
          "params": {
           "aspectRatio": 1.5,
           "assembly": "default",
           "bondScale": 0.3,
           "bondSpacing": 0.75,
           "clipCenter": {
            "x": 0,
            "y": 0,
            "z": 0
           },
           "clipNear": 0,
           "clipRadius": 0,
           "colorMode": "hcl",
           "colorReverse": false,
           "colorScale": "",
           "colorScheme": "element",
           "colorValue": 9474192,
           "cylinderOnly": false,
           "defaultAssembly": "",
           "depthWrite": true,
           "diffuse": 16777215,
           "diffuseInterior": false,
           "disableImpostor": false,
           "disablePicking": false,
           "flatShaded": false,
           "interiorColor": 2236962,
           "interiorDarkening": 0,
           "lazy": false,
           "lineOnly": false,
           "linewidth": 2,
           "matrix": {
            "elements": [
             1,
             0,
             0,
             0,
             0,
             1,
             0,
             0,
             0,
             0,
             1,
             0,
             0,
             0,
             0,
             1
            ]
           },
           "metalness": 0,
           "multipleBond": "off",
           "opacity": 1,
           "openEnded": true,
           "quality": "high",
           "radialSegments": 20,
           "radiusData": {},
           "radiusScale": 2,
           "radiusSize": 0.15,
           "radiusType": "size",
           "roughness": 0.4,
           "sele": "",
           "side": "double",
           "sphereDetail": 2,
           "useInteriorColor": true,
           "visible": true,
           "wireframe": false
          },
          "type": "ball+stick"
         }
        }
       },
       "_ngl_serialize": false,
       "_ngl_version": "2.0.0-dev.39",
       "_ngl_view_id": [
        "8F519897-F6A1-4732-BB2F-F59FE2AD4A81"
       ],
       "_player_dict": {},
       "_scene_position": {},
       "_scene_rotation": {},
       "_synced_model_ids": [],
       "_synced_repr_model_ids": [],
       "_view_height": "",
       "_view_width": "",
       "background": "white",
       "frame": 0,
       "gui_style": null,
       "layout": "IPY_MODEL_3c5c83a7164d41d4ad117e228d63f0ab",
       "max_frame": 0,
       "n_components": 1,
       "picked": {}
      }
     },
     "873241677d9549ef843ea865f72a4d39": {
      "model_module": "@jupyter-widgets/controls",
      "model_module_version": "2.0.0",
      "model_name": "ImageModel",
      "state": {
       "layout": "IPY_MODEL_b74d6667d8f249549086bf988c9dda7d",
       "width": "900.0"
      }
     },
     "875df29e6e9c403b9dae00e91884f4d0": {
      "model_module": "@jupyter-widgets/controls",
      "model_module_version": "2.0.0",
      "model_name": "LinkModel",
      "state": {
       "source": [
        "IPY_MODEL_df3361a1933a4d0180ca826e01f1febe",
        "value"
       ],
       "target": [
        "IPY_MODEL_b40e0b7349614d03a7603d297de7f5fe",
        "frame"
       ]
      }
     },
     "87772125616a41e48ac9d4389df7e5d0": {
      "model_module": "@jupyter-widgets/base",
      "model_module_version": "2.0.0",
      "model_name": "LayoutModel",
      "state": {}
     },
     "8810e2bd4b2741c6b87ee9cba9491e25": {
      "model_module": "@jupyter-widgets/controls",
      "model_module_version": "2.0.0",
      "model_name": "ButtonModel",
      "state": {
       "icon": "compress",
       "layout": "IPY_MODEL_b907f7e76845426597c3b0b3c89a7a05",
       "style": "IPY_MODEL_3f6b534107154a07abb23704fe4e7ca2",
       "tooltip": null
      }
     },
     "88c8a8cceff94cd0a1f734b593715c7d": {
      "model_module": "@jupyter-widgets/controls",
      "model_module_version": "2.0.0",
      "model_name": "HBoxModel",
      "state": {
       "children": [
        "IPY_MODEL_0744b35d324d4c5fa62632870be28fcf"
       ],
       "layout": "IPY_MODEL_f33af92a87a8491e940f02152a769bfa"
      }
     },
     "897328b199b545b9b843dcc2171cb045": {
      "model_module": "@jupyter-widgets/base",
      "model_module_version": "2.0.0",
      "model_name": "LayoutModel",
      "state": {}
     },
     "89c93f306b7e424fa9b92d8c5c316754": {
      "model_module": "@jupyter-widgets/base",
      "model_module_version": "2.0.0",
      "model_name": "LayoutModel",
      "state": {}
     },
     "8b632d9a7a44457ba68334f53ea8c52d": {
      "model_module": "@jupyter-widgets/controls",
      "model_module_version": "2.0.0",
      "model_name": "SliderStyleModel",
      "state": {
       "description_width": ""
      }
     },
     "8bfd19a645e242ab8e09dd65c490fa72": {
      "model_module": "@jupyter-widgets/base",
      "model_module_version": "2.0.0",
      "model_name": "LayoutModel",
      "state": {}
     },
     "8c311fbd96704614a54574312f3d7f91": {
      "model_module": "@jupyter-widgets/base",
      "model_module_version": "2.0.0",
      "model_name": "LayoutModel",
      "state": {}
     },
     "8c3ef300d1ac4763b74491ad4e88d99d": {
      "model_module": "@jupyter-widgets/base",
      "model_module_version": "2.0.0",
      "model_name": "LayoutModel",
      "state": {}
     },
     "8d75566cf59f4ca1bb501d66b872b92a": {
      "model_module": "@jupyter-widgets/controls",
      "model_module_version": "2.0.0",
      "model_name": "LinkModel",
      "state": {
       "source": [
        "IPY_MODEL_22176f1dc0334a59a3a3875411b57383",
        "max"
       ],
       "target": [
        "IPY_MODEL_f2618dd9874d4fdb8fffe45458c34a95",
        "max_frame"
       ]
      }
     },
     "8dc85e3f4627455a8071c0b11d4fdb78": {
      "model_module": "@jupyter-widgets/base",
      "model_module_version": "2.0.0",
      "model_name": "LayoutModel",
      "state": {}
     },
     "8e3fc6a826e64c7ebb8fb3a8ffafc61a": {
      "model_module": "@jupyter-widgets/base",
      "model_module_version": "2.0.0",
      "model_name": "LayoutModel",
      "state": {}
     },
     "8e4adc519eaa4cb19842deec996dcd34": {
      "model_module": "@jupyter-widgets/controls",
      "model_module_version": "2.0.0",
      "model_name": "LinkModel",
      "state": {
       "source": [
        "IPY_MODEL_1946d65a913f4fe48192c513d89440ed",
        "value"
       ],
       "target": [
        "IPY_MODEL_c64adb80ee1f4bd584da6393cb3a3c3b",
        "frame"
       ]
      }
     },
     "8e51ff7e24254817a434cca916a1b24f": {
      "model_module": "@jupyter-widgets/base",
      "model_module_version": "2.0.0",
      "model_name": "LayoutModel",
      "state": {}
     },
     "8e770060652f4dc6aaa9c7e27be60e40": {
      "model_module": "@jupyter-widgets/base",
      "model_module_version": "2.0.0",
      "model_name": "LayoutModel",
      "state": {}
     },
     "8e822445c125452aaea94150db44b436": {
      "model_module": "@jupyter-widgets/controls",
      "model_module_version": "2.0.0",
      "model_name": "SliderStyleModel",
      "state": {
       "description_width": ""
      }
     },
     "9060e5e01a094c3a8e88cda1cf56065c": {
      "model_module": "@jupyter-widgets/controls",
      "model_module_version": "2.0.0",
      "model_name": "SliderStyleModel",
      "state": {
       "description_width": ""
      }
     },
     "907cded3b9ad40af9ce49a9b1c12648a": {
      "model_module": "@jupyter-widgets/controls",
      "model_module_version": "2.0.0",
      "model_name": "ImageModel",
      "state": {
       "layout": "IPY_MODEL_f5a58481569b46898f97393233670558",
       "width": "900.0"
      }
     },
     "90eeadf23d404b2e92d3c111e62cac95": {
      "model_module": "@jupyter-widgets/controls",
      "model_module_version": "2.0.0",
      "model_name": "HBoxModel",
      "state": {
       "children": [
        "IPY_MODEL_7f213aaaf1e944bb9bf6a9827c608821",
        "IPY_MODEL_210292688b8e4acab371ccf05a62d9c5"
       ],
       "layout": "IPY_MODEL_fc30dd236f4e4b1cb04256fe9e76d8c1"
      }
     },
     "91ac8a04ce2b4ba097c3cf56963cc5e6": {
      "model_module": "@jupyter-widgets/base",
      "model_module_version": "2.0.0",
      "model_name": "LayoutModel",
      "state": {}
     },
     "91c0ac82ee7f4a95a4f0c2cf0840fefe": {
      "model_module": "@jupyter-widgets/controls",
      "model_module_version": "2.0.0",
      "model_name": "ButtonStyleModel",
      "state": {
       "font_family": null,
       "font_size": null,
       "font_style": null,
       "font_variant": null,
       "font_weight": null,
       "text_color": null,
       "text_decoration": null
      }
     },
     "9281bc8272264a0d8f6991388faddd72": {
      "model_module": "@jupyter-widgets/controls",
      "model_module_version": "2.0.0",
      "model_name": "PlayModel",
      "state": {
       "layout": "IPY_MODEL_4fc45816f34e4a9b82b73e73acc6fa54",
       "max": 0,
       "style": "IPY_MODEL_848ca1835857468ebbfed98498a0cd9c"
      }
     },
     "928afce5d81840eabf1bc3eb5a493b70": {
      "model_module": "@jupyter-widgets/base",
      "model_module_version": "2.0.0",
      "model_name": "LayoutModel",
      "state": {}
     },
     "928ddd7a31a441418dfdb51d1078eb47": {
      "model_module": "@jupyter-widgets/controls",
      "model_module_version": "2.0.0",
      "model_name": "LinkModel",
      "state": {
       "source": [
        "IPY_MODEL_dd6d94f3607a429391c9e4f4ea5ecb53",
        "max"
       ],
       "target": [
        "IPY_MODEL_0665194fff954a44b5ebd60b6587b098",
        "max_frame"
       ]
      }
     },
     "93f21a2cda0a4e6aa5a8935a7be4522c": {
      "model_module": "@jupyter-widgets/controls",
      "model_module_version": "2.0.0",
      "model_name": "ImageModel",
      "state": {
       "layout": "IPY_MODEL_7a49a66581574eea8f824f9b98520a3a",
       "width": "900.0"
      }
     },
     "940d045a407e48149a27c50c19f9c006": {
      "model_module": "@jupyter-widgets/base",
      "model_module_version": "2.0.0",
      "model_name": "LayoutModel",
      "state": {}
     },
     "947acdf1c044400da57b7625d22eb4e3": {
      "model_module": "@jupyter-widgets/controls",
      "model_module_version": "2.0.0",
      "model_name": "ButtonStyleModel",
      "state": {
       "font_family": null,
       "font_size": null,
       "font_style": null,
       "font_variant": null,
       "font_weight": null,
       "text_color": null,
       "text_decoration": null
      }
     },
     "94b43c8e12794041affafbe0f19df7c0": {
      "model_module": "@jupyter-widgets/base",
      "model_module_version": "2.0.0",
      "model_name": "LayoutModel",
      "state": {}
     },
     "958befa666944c49933c6481a2b51e77": {
      "model_module": "@jupyter-widgets/controls",
      "model_module_version": "2.0.0",
      "model_name": "SliderStyleModel",
      "state": {
       "description_width": ""
      }
     },
     "9612256a170548c18ceac23cd695e259": {
      "model_module": "@jupyter-widgets/controls",
      "model_module_version": "2.0.0",
      "model_name": "LinkModel",
      "state": {
       "source": [
        "IPY_MODEL_3a51ad6632e741b3b082281c7cdc5eea",
        "max"
       ],
       "target": [
        "IPY_MODEL_48750f6104eb4f228e2c780ea88104c2",
        "max_frame"
       ]
      }
     },
     "96999cab61a04fa687c4c852e6e5fccf": {
      "model_module": "@jupyter-widgets/controls",
      "model_module_version": "2.0.0",
      "model_name": "ButtonStyleModel",
      "state": {
       "font_family": null,
       "font_size": null,
       "font_style": null,
       "font_variant": null,
       "font_weight": null,
       "text_color": null,
       "text_decoration": null
      }
     },
     "970192d52813478d8071d2d14fcf9bbf": {
      "model_module": "@jupyter-widgets/controls",
      "model_module_version": "2.0.0",
      "model_name": "LinkModel",
      "state": {
       "source": [
        "IPY_MODEL_9a01cd0612fe409faca39370f43aa0b1",
        "value"
       ],
       "target": [
        "IPY_MODEL_de26e53224a246509643ec161adfc905",
        "value"
       ]
      }
     },
     "9721200de472448b8cc6e4483071e850": {
      "model_module": "@jupyter-widgets/controls",
      "model_module_version": "2.0.0",
      "model_name": "IntSliderModel",
      "state": {
       "behavior": "drag-tap",
       "layout": "IPY_MODEL_3b679be779dd4e15aa33c637b056deb7",
       "max": 0,
       "style": "IPY_MODEL_a51ef297d4da4dbba5651bf4684bf8c4"
      }
     },
     "97ca6932ebcc406ba34b414c5ddf4da5": {
      "model_module": "@jupyter-widgets/controls",
      "model_module_version": "2.0.0",
      "model_name": "HBoxModel",
      "state": {
       "children": [
        "IPY_MODEL_0d3907768d4b426fa9b0ca9c47d5f51c",
        "IPY_MODEL_d4813c4aa28f4f7a81a5a35ba866b177"
       ],
       "layout": "IPY_MODEL_c3d23502192840fd8f2e6712234af76d"
      }
     },
     "987ae09c805f448d909f15dafa91c347": {
      "model_module": "@jupyter-widgets/base",
      "model_module_version": "2.0.0",
      "model_name": "LayoutModel",
      "state": {}
     },
     "9921cd17b7834399b7803fd4582f8a4b": {
      "model_module": "@jupyter-widgets/controls",
      "model_module_version": "2.0.0",
      "model_name": "IntSliderModel",
      "state": {
       "behavior": "drag-tap",
       "layout": "IPY_MODEL_2fa907cea32a4c4da25c4742d19d6c49",
       "max": 0,
       "style": "IPY_MODEL_0d1600233db849d59638a66662803351"
      }
     },
     "993eca102f2f404eab76cfdc198852b2": {
      "model_module": "@jupyter-widgets/controls",
      "model_module_version": "2.0.0",
      "model_name": "IntSliderModel",
      "state": {
       "behavior": "drag-tap",
       "layout": "IPY_MODEL_3ce111d763654ba8820896337b4730d0",
       "max": 0,
       "style": "IPY_MODEL_3bcab62599a844e693b8d223676b0edd"
      }
     },
     "9942ae8b4fa146b08f63cda1ccb7af7c": {
      "model_module": "@jupyter-widgets/base",
      "model_module_version": "2.0.0",
      "model_name": "LayoutModel",
      "state": {}
     },
     "99ab27fe8964420d8faa2e02b6081356": {
      "model_module": "@jupyter-widgets/controls",
      "model_module_version": "2.0.0",
      "model_name": "LinkModel",
      "state": {
       "source": [
        "IPY_MODEL_ba95f974f5cf469fa233633366ae2f03",
        "max"
       ],
       "target": [
        "IPY_MODEL_51f5b7b722be4bbbac606e42e6077a5d",
        "max_frame"
       ]
      }
     },
     "99bbd019befb469a959f1ec3c49789b7": {
      "model_module": "@jupyter-widgets/base",
      "model_module_version": "2.0.0",
      "model_name": "LayoutModel",
      "state": {}
     },
     "9a01cd0612fe409faca39370f43aa0b1": {
      "model_module": "@jupyter-widgets/controls",
      "model_module_version": "2.0.0",
      "model_name": "PlayModel",
      "state": {
       "layout": "IPY_MODEL_6931940ad6674b078e089bbc9d3af6ae",
       "max": 0,
       "style": "IPY_MODEL_fca06353ea1344a0bf0a38a7fbec2dd2"
      }
     },
     "9a20b2bd56dd4d6a8c6c1b54ce5c95e7": {
      "model_module": "@jupyter-widgets/controls",
      "model_module_version": "2.0.0",
      "model_name": "PlayModel",
      "state": {
       "layout": "IPY_MODEL_08e5516c6631436791c2c324745a1c9b",
       "max": 0,
       "style": "IPY_MODEL_ba329e98cff24020915817a7d0f485f4"
      }
     },
     "9ace9dc04ace4c17bff17900de3872aa": {
      "model_module": "@jupyter-widgets/controls",
      "model_module_version": "2.0.0",
      "model_name": "LinkModel",
      "state": {
       "source": [
        "IPY_MODEL_16f6e3c73fa14db3b725c338ff9457f9",
        "max"
       ],
       "target": [
        "IPY_MODEL_f159149cccf94f2fb002fa3f49124712",
        "max_frame"
       ]
      }
     },
     "9b3aa8fd666f423d8805a9bf2d7231ce": {
      "model_module": "@jupyter-widgets/controls",
      "model_module_version": "2.0.0",
      "model_name": "HBoxModel",
      "state": {
       "children": [
        "IPY_MODEL_9281bc8272264a0d8f6991388faddd72",
        "IPY_MODEL_df5a7671f4af44eeba931b5d031394a7"
       ],
       "layout": "IPY_MODEL_a1253682f95640d28cafa581c57d1fd6"
      }
     },
     "9b79fdfb722649d0859cf7515f1f46bd": {
      "model_module": "@jupyter-widgets/controls",
      "model_module_version": "2.0.0",
      "model_name": "VBoxModel",
      "state": {
       "children": [
        "IPY_MODEL_88c8a8cceff94cd0a1f734b593715c7d"
       ],
       "layout": "IPY_MODEL_b6d71ff542f647418937955b1abc7202"
      }
     },
     "9bc37ccfaac143139ba92e6eec08adfc": {
      "model_module": "@jupyter-widgets/controls",
      "model_module_version": "2.0.0",
      "model_name": "SliderStyleModel",
      "state": {
       "description_width": ""
      }
     },
     "9bee188219e549a99a8b418113d418a7": {
      "model_module": "@jupyter-widgets/controls",
      "model_module_version": "2.0.0",
      "model_name": "ImageModel",
      "state": {
       "layout": "IPY_MODEL_d22e904b84424ca8864a831669fe4f08",
       "width": "900.0"
      }
     },
     "9c09d78ba1814feda1864c4b094ee36d": {
      "model_module": "@jupyter-widgets/controls",
      "model_module_version": "2.0.0",
      "model_name": "HBoxModel",
      "state": {
       "children": [
        "IPY_MODEL_46dadeb0b8754f0eaf07f0803026c92e",
        "IPY_MODEL_ed00a2e01ae9483d950da64cc57f4175"
       ],
       "layout": "IPY_MODEL_bccad5a9628f48b4b7d75c15bcc54dc2"
      }
     },
     "9c652edb25494cbb838722a416d9fb2c": {
      "model_module": "@jupyter-widgets/controls",
      "model_module_version": "2.0.0",
      "model_name": "SliderStyleModel",
      "state": {
       "description_width": ""
      }
     },
     "9c84649c14ad4becaf92c803ec5a55c1": {
      "model_module": "@jupyter-widgets/controls",
      "model_module_version": "2.0.0",
      "model_name": "LinkModel",
      "state": {
       "source": [
        "IPY_MODEL_df5a7671f4af44eeba931b5d031394a7",
        "max"
       ],
       "target": [
        "IPY_MODEL_7468de2f7aad4bad9f6a97a2937641cd",
        "max_frame"
       ]
      }
     },
     "9caac6d74dea498c805c0048afd5f173": {
      "model_module": "@jupyter-widgets/base",
      "model_module_version": "2.0.0",
      "model_name": "LayoutModel",
      "state": {}
     },
     "9dfece5a47784bf1931b6dd7a678880a": {
      "model_module": "@jupyter-widgets/controls",
      "model_module_version": "2.0.0",
      "model_name": "SliderStyleModel",
      "state": {
       "description_width": ""
      }
     },
     "9e2464ead7894aa3960526578e2090a2": {
      "model_module": "@jupyter-widgets/controls",
      "model_module_version": "2.0.0",
      "model_name": "ButtonStyleModel",
      "state": {
       "font_family": null,
       "font_size": null,
       "font_style": null,
       "font_variant": null,
       "font_weight": null,
       "text_color": null,
       "text_decoration": null
      }
     },
     "9e6b36769c8b4db7a1e560f56a96c545": {
      "model_module": "@jupyter-widgets/base",
      "model_module_version": "2.0.0",
      "model_name": "LayoutModel",
      "state": {}
     },
     "9ec0d763016445cf87a3c2e2b980d75f": {
      "model_module": "@jupyter-widgets/controls",
      "model_module_version": "2.0.0",
      "model_name": "LinkModel",
      "state": {
       "source": [
        "IPY_MODEL_24ce3a74c3b846b589c46088be903810",
        "max"
       ],
       "target": [
        "IPY_MODEL_839ed00b5d5e4025be16f0e0fbc1cf77",
        "max_frame"
       ]
      }
     },
     "9f46f3f1983447c7bf73f2ec0edfa17a": {
      "model_module": "@jupyter-widgets/controls",
      "model_module_version": "2.0.0",
      "model_name": "SliderStyleModel",
      "state": {
       "description_width": ""
      }
     },
     "9f5af68fc8264e59b45c596083553381": {
      "model_module": "@jupyter-widgets/base",
      "model_module_version": "2.0.0",
      "model_name": "LayoutModel",
      "state": {}
     },
     "9f87fdccd29442c1a686030969cb2579": {
      "model_module": "@jupyter-widgets/controls",
      "model_module_version": "2.0.0",
      "model_name": "DescriptionStyleModel",
      "state": {
       "description_width": ""
      }
     },
     "9fb03b48928d44a1a0ece8b81e3933b7": {
      "model_module": "@jupyter-widgets/controls",
      "model_module_version": "2.0.0",
      "model_name": "LinkModel",
      "state": {
       "source": [
        "IPY_MODEL_a755b468981f48c4b38e41d31ad8e6d7",
        "value"
       ],
       "target": [
        "IPY_MODEL_1ed5f821207a428da18b271a1f5e68ef",
        "frame"
       ]
      }
     },
     "a020243a14dd4df798f2329f8e297e59": {
      "model_module": "@jupyter-widgets/base",
      "model_module_version": "2.0.0",
      "model_name": "LayoutModel",
      "state": {}
     },
     "a0279a0f54424fdca219321f0b3404f2": {
      "model_module": "@jupyter-widgets/controls",
      "model_module_version": "2.0.0",
      "model_name": "LinkModel",
      "state": {
       "source": [
        "IPY_MODEL_df19eb6bb3094250bc6b7eea1ef809d7",
        "max"
       ],
       "target": [
        "IPY_MODEL_f159149cccf94f2fb002fa3f49124712",
        "max_frame"
       ]
      }
     },
     "a06c0ecf506c4a459f96b08f4da01a6f": {
      "model_module": "@jupyter-widgets/base",
      "model_module_version": "2.0.0",
      "model_name": "LayoutModel",
      "state": {}
     },
     "a0a38ebdd11e46c1b0fa8de49a6de750": {
      "model_module": "@jupyter-widgets/controls",
      "model_module_version": "2.0.0",
      "model_name": "LinkModel",
      "state": {
       "source": [
        "IPY_MODEL_69c308ff5813493a8b33cc88d9aaf634",
        "max"
       ],
       "target": [
        "IPY_MODEL_1ed5f821207a428da18b271a1f5e68ef",
        "max_frame"
       ]
      }
     },
     "a1026f4fb02b4d89ab2ef92fcaea6f3e": {
      "model_module": "@jupyter-widgets/controls",
      "model_module_version": "2.0.0",
      "model_name": "HBoxModel",
      "state": {
       "children": [
        "IPY_MODEL_dd6d94f3607a429391c9e4f4ea5ecb53",
        "IPY_MODEL_f00db5060036428184173526be0c05ad"
       ],
       "layout": "IPY_MODEL_b1fa4dca327d4ea6a08c69d9b63c4440"
      }
     },
     "a1253682f95640d28cafa581c57d1fd6": {
      "model_module": "@jupyter-widgets/base",
      "model_module_version": "2.0.0",
      "model_name": "LayoutModel",
      "state": {}
     },
     "a26fee04ab3e4a3da264f8da0500e459": {
      "model_module": "@jupyter-widgets/base",
      "model_module_version": "2.0.0",
      "model_name": "LayoutModel",
      "state": {}
     },
     "a29189f2a20b483da0aa47fde3d514fc": {
      "model_module": "@jupyter-widgets/base",
      "model_module_version": "2.0.0",
      "model_name": "LayoutModel",
      "state": {
       "width": "34px"
      }
     },
     "a2befbcc12d84bbaa7debf0ef9037049": {
      "model_module": "@jupyter-widgets/controls",
      "model_module_version": "2.0.0",
      "model_name": "ImageModel",
      "state": {
       "layout": "IPY_MODEL_16629b3110d24112bf4a2f3fa59b4b76",
       "width": "900.0"
      }
     },
     "a3025c9ab3934316b69f2ace7f3fb994": {
      "model_module": "@jupyter-widgets/controls",
      "model_module_version": "2.0.0",
      "model_name": "HBoxModel",
      "state": {
       "children": [
        "IPY_MODEL_1946d65a913f4fe48192c513d89440ed",
        "IPY_MODEL_cfb488d788014c51b7e16a8136bf1a2b"
       ],
       "layout": "IPY_MODEL_15fb2492aa304269b53164e839fa5660"
      }
     },
     "a31ffae2347c43b585db4169da747051": {
      "model_module": "@jupyter-widgets/controls",
      "model_module_version": "2.0.0",
      "model_name": "DescriptionStyleModel",
      "state": {
       "description_width": ""
      }
     },
     "a48abe078165485d838b44c87e459098": {
      "model_module": "@jupyter-widgets/controls",
      "model_module_version": "2.0.0",
      "model_name": "LinkModel",
      "state": {
       "source": [
        "IPY_MODEL_e4ee3d2a9c214963bc1fd01447cfee07",
        "value"
       ],
       "target": [
        "IPY_MODEL_44339c22863344a7a1b2881ffbed2a79",
        "value"
       ]
      }
     },
     "a51ef297d4da4dbba5651bf4684bf8c4": {
      "model_module": "@jupyter-widgets/controls",
      "model_module_version": "2.0.0",
      "model_name": "SliderStyleModel",
      "state": {
       "description_width": ""
      }
     },
     "a6be1de825214c0297646044a859e308": {
      "model_module": "@jupyter-widgets/controls",
      "model_module_version": "2.0.0",
      "model_name": "LinkModel",
      "state": {
       "source": [
        "IPY_MODEL_3f72601323ff4f33a9602a14e60163a7",
        "value"
       ],
       "target": [
        "IPY_MODEL_24ce3a74c3b846b589c46088be903810",
        "value"
       ]
      }
     },
     "a70352225f60483b95102af2771e1589": {
      "model_module": "nglview-js-widgets",
      "model_module_version": "3.0.8",
      "model_name": "NGLModel",
      "state": {
       "_camera_orientation": [
        20.283246487951367,
        0,
        0,
        0,
        0,
        20.283246487951367,
        0,
        0,
        0,
        0,
        20.283246487951367,
        0,
        -19.729999542236328,
        -20,
        -20.270000457763672,
        1
       ],
       "_camera_str": "orthographic",
       "_gui_theme": null,
       "_ibtn_fullscreen": "IPY_MODEL_3f560652b93b4be5887e3392d477f026",
       "_igui": null,
       "_iplayer": "IPY_MODEL_ec73d1c0bd1a4a8397e5db3e943b07dd",
       "_ngl_color_dict": {},
       "_ngl_coordinate_resource": {},
       "_ngl_full_stage_parameters": {
        "ambientColor": 14540253,
        "ambientIntensity": 0.2,
        "backgroundColor": "white",
        "cameraEyeSep": 0.3,
        "cameraFov": 40,
        "cameraType": "orthographic",
        "clipDist": -100,
        "clipFar": 100,
        "clipMode": "scene",
        "clipNear": 0,
        "clipScale": "relative",
        "fogFar": 100,
        "fogNear": 50,
        "hoverTimeout": 0,
        "impostor": true,
        "lightColor": 14540253,
        "lightIntensity": 1,
        "mousePreset": "default",
        "panSpeed": 1,
        "quality": "medium",
        "rotateSpeed": 2,
        "sampleLevel": 3,
        "tooltip": true,
        "workerDefault": true,
        "zoomSpeed": 1.2
       },
       "_ngl_msg_archive": [
        {
         "args": [
          {
           "binary": false,
           "data": "TITLE     MOL_GMX.gro created by acpype (Rev: 0) on Thu Feb 15 00:22:45 2018\nREMARK    THIS IS A SIMULATION BOX\nCRYST1   40.000   40.000   40.000  90.00  90.00  90.00 P 1           1\nMODEL        1\nATOM      1  C1  TOL     1      20.000  21.200  19.990  1.00  0.00            \nATOM      2  C2  TOL     1      20.720  20.000  19.990  1.00  0.00            \nATOM      3  C3  TOL     1      20.000  18.800  19.990  1.00  0.00            \nATOM      4  C4  TOL     1      18.610  18.800  20.000  1.00  0.00            \nATOM      5  C5  TOL     1      17.910  20.000  20.010  1.00  0.00            \nATOM      6  C6  TOL     1      18.610  21.200  20.000  1.00  0.00            \nATOM      7  C7  TOL     1      22.230  20.000  20.010  1.00  0.00            \nATOM      8  H1  TOL     1      22.630  19.120  19.510  1.00  0.00            \nATOM      9  H2  TOL     1      22.630  20.880  19.510  1.00  0.00            \nATOM     10  H3  TOL     1      22.610  20.000  21.030  1.00  0.00            \nATOM     11  H4  TOL     1      20.540  17.860  19.980  1.00  0.00            \nATOM     12  H5  TOL     1      18.080  17.860  20.000  1.00  0.00            \nATOM     13  H6  TOL     1      16.830  20.000  20.020  1.00  0.00            \nATOM     14  H7  TOL     1      18.080  22.140  20.000  1.00  0.00            \nATOM     15  H8  TOL     1      20.540  22.140  19.980  1.00  0.00            \nTER\nENDMDL\n",
           "type": "blob"
          }
         ],
         "kwargs": {
          "defaultRepresentation": true,
          "ext": "pdb"
         },
         "methodName": "loadFile",
         "reconstruc_color_scheme": false,
         "target": "Stage",
         "type": "call_method"
        },
        {
         "args": [
          "300px",
          "300px"
         ],
         "kwargs": {},
         "methodName": "setSize",
         "reconstruc_color_scheme": false,
         "target": "Widget",
         "type": "call_method"
        },
        {
         "args": [
          {
           "backgroundColor": "white",
           "clipDist": -100,
           "sampleLevel": 3
          }
         ],
         "kwargs": {},
         "methodName": "setParameters",
         "reconstruc_color_scheme": false,
         "target": "Widget",
         "type": "call_method"
        },
        {
         "args": [],
         "kwargs": {
          "cameraType": "orthographic"
         },
         "methodName": "setParameters",
         "reconstruc_color_scheme": false,
         "target": "Stage",
         "type": "call_method"
        }
       ],
       "_ngl_original_stage_parameters": {
        "ambientColor": 14540253,
        "ambientIntensity": 0.2,
        "backgroundColor": "white",
        "cameraEyeSep": 0.3,
        "cameraFov": 40,
        "cameraType": "perspective",
        "clipDist": 10,
        "clipFar": 100,
        "clipMode": "scene",
        "clipNear": 0,
        "clipScale": "relative",
        "fogFar": 100,
        "fogNear": 50,
        "hoverTimeout": 0,
        "impostor": true,
        "lightColor": 14540253,
        "lightIntensity": 1,
        "mousePreset": "default",
        "panSpeed": 1,
        "quality": "medium",
        "rotateSpeed": 2,
        "sampleLevel": 0,
        "tooltip": true,
        "workerDefault": true,
        "zoomSpeed": 1.2
       },
       "_ngl_repr_dict": {
        "0": {
         "0": {
          "params": {
           "aspectRatio": 1.5,
           "assembly": "default",
           "bondScale": 0.3,
           "bondSpacing": 0.75,
           "clipCenter": {
            "x": 0,
            "y": 0,
            "z": 0
           },
           "clipNear": 0,
           "clipRadius": 0,
           "colorMode": "hcl",
           "colorReverse": false,
           "colorScale": "",
           "colorScheme": "element",
           "colorValue": 9474192,
           "cylinderOnly": false,
           "defaultAssembly": "",
           "depthWrite": true,
           "diffuse": 16777215,
           "diffuseInterior": false,
           "disableImpostor": false,
           "disablePicking": false,
           "flatShaded": false,
           "interiorColor": 2236962,
           "interiorDarkening": 0,
           "lazy": false,
           "lineOnly": false,
           "linewidth": 2,
           "matrix": {
            "elements": [
             1,
             0,
             0,
             0,
             0,
             1,
             0,
             0,
             0,
             0,
             1,
             0,
             0,
             0,
             0,
             1
            ]
           },
           "metalness": 0,
           "multipleBond": "off",
           "opacity": 1,
           "openEnded": true,
           "quality": "high",
           "radialSegments": 20,
           "radiusData": {},
           "radiusScale": 2,
           "radiusSize": 0.15,
           "radiusType": "size",
           "roughness": 0.4,
           "sele": "",
           "side": "double",
           "sphereDetail": 2,
           "useInteriorColor": true,
           "visible": true,
           "wireframe": false
          },
          "type": "ball+stick"
         }
        }
       },
       "_ngl_serialize": false,
       "_ngl_version": "2.0.0-dev.39",
       "_ngl_view_id": [
        "9DE33B77-D869-4C31-B376-2B09E803DEF4"
       ],
       "_player_dict": {},
       "_scene_position": {},
       "_scene_rotation": {},
       "_synced_model_ids": [],
       "_synced_repr_model_ids": [],
       "_view_height": "",
       "_view_width": "",
       "background": "white",
       "frame": 0,
       "gui_style": null,
       "layout": "IPY_MODEL_b6d1492848ad4cfb9de7bd1309194228",
       "max_frame": 0,
       "n_components": 1,
       "picked": {}
      }
     },
     "a714543f65ba4bf2bcc34022f7b41435": {
      "model_module": "@jupyter-widgets/controls",
      "model_module_version": "2.0.0",
      "model_name": "ButtonStyleModel",
      "state": {
       "font_family": null,
       "font_size": null,
       "font_style": null,
       "font_variant": null,
       "font_weight": null,
       "text_color": null,
       "text_decoration": null
      }
     },
     "a755b468981f48c4b38e41d31ad8e6d7": {
      "model_module": "@jupyter-widgets/controls",
      "model_module_version": "2.0.0",
      "model_name": "PlayModel",
      "state": {
       "layout": "IPY_MODEL_1a6d6c093aed4b29ac2d05116e70295b",
       "max": 0,
       "style": "IPY_MODEL_532b1133cadc46c1ab7b7310ff1fa7df"
      }
     },
     "a858c44902c64031800b251377b59ca2": {
      "model_module": "@jupyter-widgets/controls",
      "model_module_version": "2.0.0",
      "model_name": "HBoxModel",
      "state": {
       "children": [
        "IPY_MODEL_51f5b7b722be4bbbac606e42e6077a5d",
        "IPY_MODEL_440f843445ec43b38d1436519a9bf7ed"
       ],
       "layout": "IPY_MODEL_12710d055cd0445eaf52d549c5059b98"
      }
     },
     "a8a6940e1b2d42fda2b1e5f32ef7b07e": {
      "model_module": "@jupyter-widgets/controls",
      "model_module_version": "2.0.0",
      "model_name": "DescriptionStyleModel",
      "state": {
       "description_width": ""
      }
     },
     "a9032b6e4acf41ad997109c6941f290d": {
      "model_module": "@jupyter-widgets/base",
      "model_module_version": "2.0.0",
      "model_name": "LayoutModel",
      "state": {}
     },
     "a981454dfdc14326a723022e582f30cf": {
      "model_module": "@jupyter-widgets/controls",
      "model_module_version": "2.0.0",
      "model_name": "IntSliderModel",
      "state": {
       "behavior": "drag-tap",
       "layout": "IPY_MODEL_cc8cab133c36447a92bc2b07cb8c937e",
       "max": 0,
       "style": "IPY_MODEL_e866d739e8cc451eab0e222685bebf6f"
      }
     },
     "a99e13361624476a80cf6a71cd6b2a97": {
      "model_module": "@jupyter-widgets/controls",
      "model_module_version": "2.0.0",
      "model_name": "LinkModel",
      "state": {
       "source": [
        "IPY_MODEL_ca2e905796394ad8a41b826daa584078",
        "max"
       ],
       "target": [
        "IPY_MODEL_22698e12993d4c6d9439d5ea094a8ef3",
        "max_frame"
       ]
      }
     },
     "aa216fff721348cfb6f327136b9ff175": {
      "model_module": "@jupyter-widgets/controls",
      "model_module_version": "2.0.0",
      "model_name": "ButtonStyleModel",
      "state": {
       "font_family": null,
       "font_size": null,
       "font_style": null,
       "font_variant": null,
       "font_weight": null,
       "text_color": null,
       "text_decoration": null
      }
     },
     "aa30fb295551411499fe5a05fc778221": {
      "model_module": "@jupyter-widgets/controls",
      "model_module_version": "2.0.0",
      "model_name": "IntSliderModel",
      "state": {
       "behavior": "drag-tap",
       "layout": "IPY_MODEL_8e3fc6a826e64c7ebb8fb3a8ffafc61a",
       "max": 0,
       "style": "IPY_MODEL_e7c3bc92224941adb6f6b79e27e52bb6"
      }
     },
     "aa7c3ef61e714526b7ecd472c8481966": {
      "model_module": "@jupyter-widgets/controls",
      "model_module_version": "2.0.0",
      "model_name": "HBoxModel",
      "state": {
       "children": [
        "IPY_MODEL_16f6e3c73fa14db3b725c338ff9457f9",
        "IPY_MODEL_df19eb6bb3094250bc6b7eea1ef809d7"
       ],
       "layout": "IPY_MODEL_bc12711b3b754d54b0beca898ad98ce0"
      }
     },
     "aaf6eb7a246e45b78d44b73e749fa7fa": {
      "model_module": "@jupyter-widgets/controls",
      "model_module_version": "2.0.0",
      "model_name": "VBoxModel",
      "state": {
       "children": [
        "IPY_MODEL_225ddbb0e0b04d6389daf78a44ce31e1"
       ],
       "layout": "IPY_MODEL_5065892e21f24b2fbc59adc1a1edbdf8"
      }
     },
     "ac130bbdc91049538ba72dbe9a6f524b": {
      "model_module": "@jupyter-widgets/base",
      "model_module_version": "2.0.0",
      "model_name": "LayoutModel",
      "state": {}
     },
     "ac6e2b69cb644da886e632881b513faa": {
      "model_module": "@jupyter-widgets/controls",
      "model_module_version": "2.0.0",
      "model_name": "ButtonStyleModel",
      "state": {
       "font_family": null,
       "font_size": null,
       "font_style": null,
       "font_variant": null,
       "font_weight": null,
       "text_color": null,
       "text_decoration": null
      }
     },
     "ad0ef489bc6b4274949bd960b0613adc": {
      "model_module": "@jupyter-widgets/base",
      "model_module_version": "2.0.0",
      "model_name": "LayoutModel",
      "state": {}
     },
     "adf3bbeab2cf4047b40e85269b115727": {
      "model_module": "@jupyter-widgets/base",
      "model_module_version": "2.0.0",
      "model_name": "LayoutModel",
      "state": {}
     },
     "ae6c156f3e88412aab80ee80e6d7db22": {
      "model_module": "@jupyter-widgets/controls",
      "model_module_version": "2.0.0",
      "model_name": "DescriptionStyleModel",
      "state": {
       "description_width": ""
      }
     },
     "af05296d416e47c4905d438b005df8c1": {
      "model_module": "@jupyter-widgets/controls",
      "model_module_version": "2.0.0",
      "model_name": "LinkModel",
      "state": {
       "source": [
        "IPY_MODEL_bbd0d668346a43869b1fdb9c0d1858d2",
        "value"
       ],
       "target": [
        "IPY_MODEL_a981454dfdc14326a723022e582f30cf",
        "value"
       ]
      }
     },
     "af86c9a7cb534927ab01105738c31728": {
      "model_module": "@jupyter-widgets/controls",
      "model_module_version": "2.0.0",
      "model_name": "LinkModel",
      "state": {
       "source": [
        "IPY_MODEL_c7a1b76786844686a16d4fef2d4eaf5f",
        "max"
       ],
       "target": [
        "IPY_MODEL_a70352225f60483b95102af2771e1589",
        "max_frame"
       ]
      }
     },
     "b02d3b72a0ae4778a7e77faf4bac5c85": {
      "model_module": "@jupyter-widgets/controls",
      "model_module_version": "2.0.0",
      "model_name": "ImageModel",
      "state": {
       "layout": "IPY_MODEL_53e0d3d6708948e9bbe8ee66a83ccba3",
       "width": "900.0"
      }
     },
     "b05d1069c36f4037859de54740e5fb70": {
      "model_module": "@jupyter-widgets/base",
      "model_module_version": "2.0.0",
      "model_name": "LayoutModel",
      "state": {}
     },
     "b0ff4bfd2fe4438286073392c6522cf9": {
      "model_module": "@jupyter-widgets/controls",
      "model_module_version": "2.0.0",
      "model_name": "LinkModel",
      "state": {
       "source": [
        "IPY_MODEL_0d3907768d4b426fa9b0ca9c47d5f51c",
        "value"
       ],
       "target": [
        "IPY_MODEL_82f46a6e08d24c0caf2fd023b46fe10f",
        "frame"
       ]
      }
     },
     "b13c3b7754d6491d918ecb26ee95dd48": {
      "model_module": "@jupyter-widgets/controls",
      "model_module_version": "2.0.0",
      "model_name": "ImageModel",
      "state": {
       "layout": "IPY_MODEL_a26fee04ab3e4a3da264f8da0500e459",
       "width": "900.0"
      }
     },
     "b1d321dbeddb47be9b72c24283498991": {
      "model_module": "@jupyter-widgets/base",
      "model_module_version": "2.0.0",
      "model_name": "LayoutModel",
      "state": {}
     },
     "b1f5a238f5f74666a8ac0275006202ea": {
      "model_module": "@jupyter-widgets/controls",
      "model_module_version": "2.0.0",
      "model_name": "ImageModel",
      "state": {
       "layout": "IPY_MODEL_b4433c5bac0240959f2071edec629cc4",
       "width": "900.0"
      }
     },
     "b1fa4dca327d4ea6a08c69d9b63c4440": {
      "model_module": "@jupyter-widgets/base",
      "model_module_version": "2.0.0",
      "model_name": "LayoutModel",
      "state": {}
     },
     "b287ec076f6646a9905d4e4b099c22c0": {
      "model_module": "@jupyter-widgets/controls",
      "model_module_version": "2.0.0",
      "model_name": "LinkModel",
      "state": {
       "source": [
        "IPY_MODEL_ca2e905796394ad8a41b826daa584078",
        "value"
       ],
       "target": [
        "IPY_MODEL_22698e12993d4c6d9439d5ea094a8ef3",
        "frame"
       ]
      }
     },
     "b313a29a51434e7291f04c63f556fa55": {
      "model_module": "@jupyter-widgets/base",
      "model_module_version": "2.0.0",
      "model_name": "LayoutModel",
      "state": {}
     },
     "b3e46ce4fbb84e6bbc70d18ccaafae06": {
      "model_module": "nglview-js-widgets",
      "model_module_version": "3.0.8",
      "model_name": "NGLModel",
      "state": {
       "_camera_orientation": [
        27.457212307695777,
        0,
        0,
        0,
        0,
        27.457212307695777,
        0,
        0,
        0,
        0,
        27.457212307695777,
        0,
        -17.38100004196167,
        -16.936999797821045,
        -17.436999797821045,
        1
       ],
       "_camera_str": "orthographic",
       "_gui_theme": null,
       "_ibtn_fullscreen": "IPY_MODEL_cfc5ac74ecbf461d9f9d476eacd2ce3c",
       "_igui": null,
       "_iplayer": "IPY_MODEL_3e9b85d63a3b4b779afdeb12ccc32c90",
       "_ngl_color_dict": {},
       "_ngl_coordinate_resource": {},
       "_ngl_full_stage_parameters": {
        "ambientColor": 14540253,
        "ambientIntensity": 0.2,
        "backgroundColor": "white",
        "cameraEyeSep": 0.3,
        "cameraFov": 40,
        "cameraType": "orthographic",
        "clipDist": -100,
        "clipFar": 100,
        "clipMode": "scene",
        "clipNear": 0,
        "clipScale": "relative",
        "fogFar": 100,
        "fogNear": 50,
        "hoverTimeout": 0,
        "impostor": true,
        "lightColor": 14540253,
        "lightIntensity": 1,
        "mousePreset": "default",
        "panSpeed": 1,
        "quality": "medium",
        "rotateSpeed": 2,
        "sampleLevel": 3,
        "tooltip": true,
        "workerDefault": true,
        "zoomSpeed": 1.2
       },
       "_ngl_msg_archive": [
        {
         "args": [
          {
           "binary": false,
           "data": "TITLE     GROningen MAchine for Chemical Simulation\nREMARK    THIS IS A SIMULATION BOX\nCRYST1   35.000   35.000   35.000  90.00  90.00  90.00 P 1           1\nMODEL        1\nATOM      1  C1  SUR     1      19.415  21.095  14.537  1.00  1.00           C\nATOM      2  C2  SUR     1      18.590  20.231  15.456  1.00  1.00           C\nATOM      3  N1  SUR     1      19.055  19.883  16.644  1.00  1.00           N\nATOM      4  C3  SUR     1      18.335  19.125  17.457  1.00  1.00           C\nATOM      5  N2  SUR     1      17.131  18.690  17.116  1.00  1.00           N\nATOM      6  C4  SUR     1      16.607  19.001  15.942  1.00  1.00           C\nATOM      7  C5  SUR     1      17.331  19.798  15.070  1.00  1.00           C\nATOM      8  N3  SUR     1      18.853  18.779  18.694  1.00  1.00           N\nATOM      9  S1  SUR     1      17.858  18.160  19.865  1.00  1.00           S\nATOM     10  O1  SUR     1      18.700  17.863  20.970  1.00  1.00           O\nATOM     11  O2  SUR     1      16.725  19.018  19.902  1.00  1.00           O\nATOM     12  C6  SUR     1      17.263  16.607  19.285  1.00  1.00           C\nATOM     13  C7  SUR     1      17.967  15.451  19.565  1.00  1.00           C\nATOM     14  C8  SUR     1      17.505  14.231  19.112  1.00  1.00           C\nATOM     15  C9  SUR     1      16.330  14.167  18.375  1.00  1.00           C\nATOM     16  C10 SUR     1      15.624  15.331  18.094  1.00  1.00           C\nATOM     17  C11 SUR     1      16.090  16.545  18.555  1.00  1.00           C\nATOM     18  N4  SUR     1      15.858  12.935  17.914  1.00  1.00           N\nATOM     19  H1  SUR     1      20.036  20.461  13.904  1.00  1.00           H\nATOM     20  H2  SUR     1      18.754  21.696  13.913  1.00  1.00           H\nATOM     21  H3  SUR     1      20.052  21.751  15.129  1.00  1.00           H\nATOM     22  H4  SUR     1      15.625  18.643  15.669  1.00  1.00           H\nATOM     23  H5  SUR     1      16.926  20.068  14.105  1.00  1.00           H\nATOM     24  H6  SUR     1      19.799  18.898  18.874  1.00  1.00           H\nATOM     25  H7  SUR     1      18.881  15.501  20.139  1.00  1.00           H\nATOM     26  H8  SUR     1      18.055  13.329  19.331  1.00  1.00           H\nATOM     27  H9  SUR     1      14.710  15.284  17.522  1.00  1.00           H\nATOM     28  H10 SUR     1      15.542  17.451  18.338  1.00  1.00           H\nATOM     29  H11 SUR     1      16.351  12.123  18.110  1.00  1.00           H\nATOM     30  H12 SUR     1      15.037  12.892  17.399  1.00  1.00           H\nTER\nENDMDL\n",
           "type": "blob"
          }
         ],
         "kwargs": {
          "defaultRepresentation": true,
          "ext": "pdb"
         },
         "methodName": "loadFile",
         "reconstruc_color_scheme": false,
         "target": "Stage",
         "type": "call_method"
        },
        {
         "args": [
          "600.0px",
          "600.0px"
         ],
         "kwargs": {},
         "methodName": "setSize",
         "reconstruc_color_scheme": false,
         "target": "Widget",
         "type": "call_method"
        },
        {
         "args": [
          {
           "backgroundColor": "white",
           "clipDist": -100,
           "sampleLevel": 3
          }
         ],
         "kwargs": {},
         "methodName": "setParameters",
         "reconstruc_color_scheme": false,
         "target": "Widget",
         "type": "call_method"
        },
        {
         "args": [
          "unitcell"
         ],
         "component_index": 0,
         "kwargs": {
          "sele": "all"
         },
         "methodName": "addRepresentation",
         "reconstruc_color_scheme": false,
         "target": "compList",
         "type": "call_method"
        },
        {
         "args": [],
         "kwargs": {
          "cameraType": "orthographic"
         },
         "methodName": "setParameters",
         "reconstruc_color_scheme": false,
         "target": "Stage",
         "type": "call_method"
        }
       ],
       "_ngl_original_stage_parameters": {
        "ambientColor": 14540253,
        "ambientIntensity": 0.2,
        "backgroundColor": "white",
        "cameraEyeSep": 0.3,
        "cameraFov": 40,
        "cameraType": "perspective",
        "clipDist": 10,
        "clipFar": 100,
        "clipMode": "scene",
        "clipNear": 0,
        "clipScale": "relative",
        "fogFar": 100,
        "fogNear": 50,
        "hoverTimeout": 0,
        "impostor": true,
        "lightColor": 14540253,
        "lightIntensity": 1,
        "mousePreset": "default",
        "panSpeed": 1,
        "quality": "medium",
        "rotateSpeed": 2,
        "sampleLevel": 0,
        "tooltip": true,
        "workerDefault": true,
        "zoomSpeed": 1.2
       },
       "_ngl_repr_dict": {
        "0": {
         "0": {
          "params": {
           "aspectRatio": 1.5,
           "assembly": "default",
           "bondScale": 0.3,
           "bondSpacing": 0.75,
           "clipCenter": {
            "x": 0,
            "y": 0,
            "z": 0
           },
           "clipNear": 0,
           "clipRadius": 0,
           "colorMode": "hcl",
           "colorReverse": false,
           "colorScale": "",
           "colorScheme": "element",
           "colorValue": 9474192,
           "cylinderOnly": false,
           "defaultAssembly": "",
           "depthWrite": true,
           "diffuse": 16777215,
           "diffuseInterior": false,
           "disableImpostor": false,
           "disablePicking": false,
           "flatShaded": false,
           "interiorColor": 2236962,
           "interiorDarkening": 0,
           "lazy": false,
           "lineOnly": false,
           "linewidth": 2,
           "matrix": {
            "elements": [
             1,
             0,
             0,
             0,
             0,
             1,
             0,
             0,
             0,
             0,
             1,
             0,
             0,
             0,
             0,
             1
            ]
           },
           "metalness": 0,
           "multipleBond": "off",
           "opacity": 1,
           "openEnded": true,
           "quality": "high",
           "radialSegments": 20,
           "radiusData": {},
           "radiusScale": 2,
           "radiusSize": 0.15,
           "radiusType": "size",
           "roughness": 0.4,
           "sele": "",
           "side": "double",
           "sphereDetail": 2,
           "useInteriorColor": true,
           "visible": true,
           "wireframe": false
          },
          "type": "ball+stick"
         },
         "1": {
          "params": {
           "clipCenter": {
            "x": 0,
            "y": 0,
            "z": 0
           },
           "clipNear": 0,
           "clipRadius": 0,
           "colorMode": "hcl",
           "colorReverse": false,
           "colorScale": "",
           "colorScheme": "element",
           "colorValue": "orange",
           "defaultAssembly": "",
           "depthWrite": true,
           "diffuse": 16777215,
           "diffuseInterior": false,
           "disableImpostor": false,
           "disablePicking": false,
           "flatShaded": false,
           "interiorColor": 2236962,
           "interiorDarkening": 0,
           "lazy": false,
           "matrix": {
            "elements": [
             1,
             0,
             0,
             0,
             0,
             1,
             0,
             0,
             0,
             0,
             1,
             0,
             0,
             0,
             0,
             1
            ]
           },
           "metalness": 0,
           "opacity": 1,
           "quality": "medium",
           "radialSegments": 10,
           "radiusData": {},
           "radiusScale": 1,
           "radiusSize": 0.17499999231817992,
           "radiusType": "vdw",
           "roughness": 0.4,
           "sele": "all",
           "side": "double",
           "sphereDetail": 1,
           "useInteriorColor": true,
           "visible": true,
           "wireframe": false
          },
          "type": "unitcell"
         }
        }
       },
       "_ngl_serialize": false,
       "_ngl_version": "2.0.0-dev.39",
       "_ngl_view_id": [
        "D760CCBA-0B6E-44D8-BD6A-2E9B88FCB1E4"
       ],
       "_player_dict": {},
       "_scene_position": {},
       "_scene_rotation": {},
       "_synced_model_ids": [],
       "_synced_repr_model_ids": [],
       "_view_height": "",
       "_view_width": "",
       "background": "white",
       "frame": 0,
       "gui_style": null,
       "layout": "IPY_MODEL_ecae720721ec45fc8a622e12d80ad5bf",
       "max_frame": 0,
       "n_components": 1,
       "picked": {}
      }
     },
     "b407c4da64914152bfa86ed1ccadfc48": {
      "model_module": "@jupyter-widgets/controls",
      "model_module_version": "2.0.0",
      "model_name": "LinkModel",
      "state": {
       "source": [
        "IPY_MODEL_e4ee3d2a9c214963bc1fd01447cfee07",
        "value"
       ],
       "target": [
        "IPY_MODEL_b8065678535249378203da581b610c01",
        "frame"
       ]
      }
     },
     "b40e0b7349614d03a7603d297de7f5fe": {
      "model_module": "nglview-js-widgets",
      "model_module_version": "3.0.8",
      "model_name": "NGLModel",
      "state": {
       "_camera_orientation": [
        28.403140029603975,
        0,
        0,
        0,
        0,
        28.403140029603975,
        0,
        0,
        0,
        0,
        28.403140029603975,
        0,
        -0.35699987411499023,
        0.14499998092651367,
        -0.09600001573562622,
        1
       ],
       "_camera_str": "orthographic",
       "_gui_theme": null,
       "_ibtn_fullscreen": "IPY_MODEL_e2e78d89698c4ff49170ca933830f5cf",
       "_igui": null,
       "_iplayer": "IPY_MODEL_b4b43058c0fc45d7910344b786af4004",
       "_ngl_color_dict": {},
       "_ngl_coordinate_resource": {},
       "_ngl_full_stage_parameters": {
        "ambientColor": 14540253,
        "ambientIntensity": 0.2,
        "backgroundColor": "white",
        "cameraEyeSep": 0.3,
        "cameraFov": 40,
        "cameraType": "orthographic",
        "clipDist": -100,
        "clipFar": 100,
        "clipMode": "scene",
        "clipNear": 0,
        "clipScale": "relative",
        "fogFar": 100,
        "fogNear": 50,
        "hoverTimeout": 0,
        "impostor": true,
        "lightColor": 14540253,
        "lightIntensity": 1,
        "mousePreset": "default",
        "panSpeed": 1,
        "quality": "medium",
        "rotateSpeed": 2,
        "sampleLevel": 3,
        "tooltip": true,
        "workerDefault": true,
        "zoomSpeed": 1.2
       },
       "_ngl_msg_archive": [
        {
         "args": [
          {
           "binary": false,
           "data": "HETATM    1  C1  SUR     1       5.068  -1.116   0.968  1.00  0.00           C\nHETATM    2  C2  SUR     1       3.683  -0.937   0.400  1.00  0.00           C\nHETATM    3  N1  SUR     1       2.956   0.117   0.730  1.00  0.00           N\nHETATM    4  C3  SUR     1       1.738   0.281   0.234  1.00  0.00           C\nHETATM    5  N2  SUR     1       1.206  -0.596  -0.604  1.00  0.00           N\nHETATM    6  C4  SUR     1       1.880  -1.672  -0.975  1.00  0.00           C\nHETATM    7  C5  SUR     1       3.159  -1.871  -0.480  1.00  0.00           C\nHETATM    8  N3  SUR     1       1.004   1.396   0.601  1.00  0.00           N\nHETATM    9  S1  SUR     1      -0.342   1.824  -0.265  1.00  0.00           S\nHETATM   10  O1  SUR     1      -0.884   2.957   0.398  1.00  0.00           O\nHETATM   11  O2  SUR     1       0.048   1.778  -1.631  1.00  0.00           O\nHETATM   12  C6  SUR     1      -1.529   0.538  -0.063  1.00  0.00           C\nHETATM   13  C7  SUR     1      -2.436   0.594   0.979  1.00  0.00           C\nHETATM   14  C8  SUR     1      -3.368  -0.412   1.141  1.00  0.00           C\nHETATM   15  C9  SUR     1      -3.394  -1.481   0.255  1.00  0.00           C\nHETATM   16  C10 SUR     1      -2.481  -1.535  -0.791  1.00  0.00           C\nHETATM   17  C11 SUR     1      -1.556  -0.523  -0.950  1.00  0.00           C\nHETATM   18  N4  SUR     1      -4.335  -2.501   0.415  1.00  0.00           N\nHETATM   19  H1  SUR     1       5.008  -1.679   1.899  1.00  0.00           H\nHETATM   20  H2  SUR     1       5.686  -1.659   0.253  1.00  0.00           H\nHETATM   21  H3  SUR     1       5.510  -0.139   1.162  1.00  0.00           H\nHETATM   22  H4  SUR     1       1.441  -2.384  -1.658  1.00  0.00           H\nHETATM   23  H5  SUR     1       3.732  -2.741  -0.767  1.00  0.00           H\nHETATM   24  H6  SUR     1       1.277   1.927   1.366  1.00  0.00           H\nHETATM   25  H7  SUR     1      -2.416   1.426   1.668  1.00  0.00           H\nHETATM   26  H8  SUR     1      -4.076  -0.367   1.955  1.00  0.00           H\nHETATM   27  H9  SUR     1      -2.499  -2.365  -1.482  1.00  0.00           H\nHETATM   28  H10 SUR     1      -0.846  -0.564  -1.763  1.00  0.00           H\nHETATM   29  H11 SUR     1      -4.972  -2.463   1.146  1.00  0.00           H\nHETATM   30  H12 SUR     1      -4.352  -3.247  -0.204  1.00  0.00           H\nCONECT    1   20   19   21    2\nCONECT   16   15   17   27\nCONECT   17   12   28   16\nCONECT    2    7    3    1\nCONECT    4    5    8    3\nCONECT    6    5    7   22\nCONECT    7    6    2   23\nCONECT   12    9   17   13\nCONECT   13   14   12   25\nCONECT   14   26   15   13\nCONECT   15   14   18   16\nCONECT   19    1\nCONECT   28   17\nCONECT   29   18\nCONECT   30   18\nCONECT   20    1\nCONECT   21    1\nCONECT   22    6\nCONECT   23    7\nCONECT   24    8\nCONECT   25   13\nCONECT   26   14\nCONECT   27   16\nCONECT    3    4    2\nCONECT    5    4    6\nCONECT    8    4    9   24\nCONECT   18   15   30   29\nCONECT   10    9\nCONECT   11    9\nCONECT    9    8   10   12   11\nEND\n",
           "type": "blob"
          }
         ],
         "kwargs": {
          "defaultRepresentation": true,
          "ext": "pdb"
         },
         "methodName": "loadFile",
         "reconstruc_color_scheme": false,
         "target": "Stage",
         "type": "call_method"
        },
        {
         "args": [
          "400px",
          "400px"
         ],
         "kwargs": {},
         "methodName": "setSize",
         "reconstruc_color_scheme": false,
         "target": "Widget",
         "type": "call_method"
        },
        {
         "args": [
          {
           "backgroundColor": "white",
           "clipDist": -100,
           "sampleLevel": 3
          }
         ],
         "kwargs": {},
         "methodName": "setParameters",
         "reconstruc_color_scheme": false,
         "target": "Widget",
         "type": "call_method"
        },
        {
         "args": [
          "unitcell"
         ],
         "component_index": 0,
         "kwargs": {
          "sele": "all"
         },
         "methodName": "addRepresentation",
         "reconstruc_color_scheme": false,
         "target": "compList",
         "type": "call_method"
        },
        {
         "args": [],
         "kwargs": {
          "cameraType": "orthographic"
         },
         "methodName": "setParameters",
         "reconstruc_color_scheme": false,
         "target": "Stage",
         "type": "call_method"
        }
       ],
       "_ngl_original_stage_parameters": {
        "ambientColor": 14540253,
        "ambientIntensity": 0.2,
        "backgroundColor": "white",
        "cameraEyeSep": 0.3,
        "cameraFov": 40,
        "cameraType": "perspective",
        "clipDist": 10,
        "clipFar": 100,
        "clipMode": "scene",
        "clipNear": 0,
        "clipScale": "relative",
        "fogFar": 100,
        "fogNear": 50,
        "hoverTimeout": 0,
        "impostor": true,
        "lightColor": 14540253,
        "lightIntensity": 1,
        "mousePreset": "default",
        "panSpeed": 1,
        "quality": "medium",
        "rotateSpeed": 2,
        "sampleLevel": 0,
        "tooltip": true,
        "workerDefault": true,
        "zoomSpeed": 1.2
       },
       "_ngl_repr_dict": {
        "0": {
         "0": {
          "params": {
           "aspectRatio": 1.5,
           "assembly": "default",
           "bondScale": 0.3,
           "bondSpacing": 0.75,
           "clipCenter": {
            "x": 0,
            "y": 0,
            "z": 0
           },
           "clipNear": 0,
           "clipRadius": 0,
           "colorMode": "hcl",
           "colorReverse": false,
           "colorScale": "",
           "colorScheme": "element",
           "colorValue": 9474192,
           "cylinderOnly": false,
           "defaultAssembly": "",
           "depthWrite": true,
           "diffuse": 16777215,
           "diffuseInterior": false,
           "disableImpostor": false,
           "disablePicking": false,
           "flatShaded": false,
           "interiorColor": 2236962,
           "interiorDarkening": 0,
           "lazy": false,
           "lineOnly": false,
           "linewidth": 2,
           "matrix": {
            "elements": [
             1,
             0,
             0,
             0,
             0,
             1,
             0,
             0,
             0,
             0,
             1,
             0,
             0,
             0,
             0,
             1
            ]
           },
           "metalness": 0,
           "multipleBond": "off",
           "opacity": 1,
           "openEnded": true,
           "quality": "high",
           "radialSegments": 20,
           "radiusData": {},
           "radiusScale": 2,
           "radiusSize": 0.15,
           "radiusType": "size",
           "roughness": 0.4,
           "sele": "",
           "side": "double",
           "sphereDetail": 2,
           "useInteriorColor": true,
           "visible": true,
           "wireframe": false
          },
          "type": "ball+stick"
         },
         "1": {
          "params": {
           "clipCenter": {
            "x": 0,
            "y": 0,
            "z": 0
           },
           "clipNear": 0,
           "clipRadius": 0,
           "colorMode": "hcl",
           "colorReverse": false,
           "colorScale": "",
           "colorScheme": "element",
           "colorValue": "orange",
           "defaultAssembly": "",
           "depthWrite": true,
           "diffuse": 16777215,
           "diffuseInterior": false,
           "disableImpostor": false,
           "disablePicking": false,
           "flatShaded": false,
           "interiorColor": 2236962,
           "interiorDarkening": 0,
           "lazy": false,
           "matrix": {
            "elements": [
             1,
             0,
             0,
             0,
             0,
             1,
             0,
             0,
             0,
             0,
             1,
             0,
             0,
             0,
             0,
             1
            ]
           },
           "metalness": 0,
           "opacity": 1,
           "quality": "medium",
           "radialSegments": 10,
           "radiusData": {},
           "radiusScale": 1,
           "radiusSize": 0.5,
           "radiusType": "vdw",
           "roughness": 0.4,
           "sele": "all",
           "side": "double",
           "sphereDetail": 1,
           "useInteriorColor": true,
           "visible": true,
           "wireframe": false
          },
          "type": "unitcell"
         }
        }
       },
       "_ngl_serialize": false,
       "_ngl_version": "2.0.0-dev.39",
       "_ngl_view_id": [
        "048AE83B-E0AD-4607-A971-035222C3A926"
       ],
       "_player_dict": {},
       "_scene_position": {},
       "_scene_rotation": {},
       "_synced_model_ids": [],
       "_synced_repr_model_ids": [],
       "_view_height": "",
       "_view_width": "",
       "background": "white",
       "frame": 0,
       "gui_style": null,
       "layout": "IPY_MODEL_75f2352c72144b06bf553d3b45849a99",
       "max_frame": 0,
       "n_components": 1,
       "picked": {}
      }
     },
     "b432214f13914724a0da47a10af41052": {
      "model_module": "@jupyter-widgets/controls",
      "model_module_version": "2.0.0",
      "model_name": "ImageModel",
      "state": {
       "layout": "IPY_MODEL_b78b1d3d4f8f4565a1f811b8254713df",
       "width": "900.0"
      }
     },
     "b439cae0e59e44978ac2536835411609": {
      "model_module": "@jupyter-widgets/base",
      "model_module_version": "2.0.0",
      "model_name": "LayoutModel",
      "state": {}
     },
     "b4433c5bac0240959f2071edec629cc4": {
      "model_module": "@jupyter-widgets/base",
      "model_module_version": "2.0.0",
      "model_name": "LayoutModel",
      "state": {}
     },
     "b47cd4dbfa7f402da0ed38390ed2dcf8": {
      "model_module": "@jupyter-widgets/controls",
      "model_module_version": "2.0.0",
      "model_name": "VBoxModel",
      "state": {
       "children": [
        "IPY_MODEL_13e81e57b62e45a28bce49a47f50247e"
       ],
       "layout": "IPY_MODEL_f14609ad52a9430dbc0247d758360ba1"
      }
     },
     "b4b43058c0fc45d7910344b786af4004": {
      "model_module": "@jupyter-widgets/controls",
      "model_module_version": "2.0.0",
      "model_name": "HBoxModel",
      "state": {
       "children": [
        "IPY_MODEL_df3361a1933a4d0180ca826e01f1febe",
        "IPY_MODEL_b991308bee5542069bbeb33a9cf82c08"
       ],
       "layout": "IPY_MODEL_123c0948565845098bf2932629bfa1c6"
      }
     },
     "b53fff8a23464d0ca2364840573b54ec": {
      "model_module": "@jupyter-widgets/base",
      "model_module_version": "2.0.0",
      "model_name": "LayoutModel",
      "state": {
       "width": "34px"
      }
     },
     "b5952397f94e45f38073b86fe99a747d": {
      "model_module": "@jupyter-widgets/base",
      "model_module_version": "2.0.0",
      "model_name": "LayoutModel",
      "state": {}
     },
     "b5bb2e2975404a77b259a766e12a8f12": {
      "model_module": "@jupyter-widgets/controls",
      "model_module_version": "2.0.0",
      "model_name": "ImageModel",
      "state": {
       "layout": "IPY_MODEL_d9c45d94e8664ed59ad475c5d86bb3cd",
       "width": "900.0"
      }
     },
     "b5ccbf244026418097514b1ea32add82": {
      "model_module": "@jupyter-widgets/base",
      "model_module_version": "2.0.0",
      "model_name": "LayoutModel",
      "state": {
       "width": "34px"
      }
     },
     "b66f3f6c0bc74d11b0a7690668bb5ce6": {
      "model_module": "nglview-js-widgets",
      "model_module_version": "3.0.8",
      "model_name": "ColormakerRegistryModel",
      "state": {
       "_msg_ar": [],
       "_msg_q": [],
       "_ready": true,
       "layout": "IPY_MODEL_bef2ed4a15944d75baa9454ca88b8678"
      }
     },
     "b677b592738b43da957d9d4a2036ca88": {
      "model_module": "@jupyter-widgets/controls",
      "model_module_version": "2.0.0",
      "model_name": "HBoxModel",
      "state": {
       "children": [
        "IPY_MODEL_cec09e6f091045da8b8ca96ab04964f4",
        "IPY_MODEL_004fb4dbe70f42729ba9c6a88526b037"
       ],
       "layout": "IPY_MODEL_23422dd782d9447b8ba4a0e01b940f62"
      }
     },
     "b6d1492848ad4cfb9de7bd1309194228": {
      "model_module": "@jupyter-widgets/base",
      "model_module_version": "2.0.0",
      "model_name": "LayoutModel",
      "state": {}
     },
     "b6d71ff542f647418937955b1abc7202": {
      "model_module": "@jupyter-widgets/base",
      "model_module_version": "2.0.0",
      "model_name": "LayoutModel",
      "state": {}
     },
     "b74d6667d8f249549086bf988c9dda7d": {
      "model_module": "@jupyter-widgets/base",
      "model_module_version": "2.0.0",
      "model_name": "LayoutModel",
      "state": {}
     },
     "b78b1d3d4f8f4565a1f811b8254713df": {
      "model_module": "@jupyter-widgets/base",
      "model_module_version": "2.0.0",
      "model_name": "LayoutModel",
      "state": {}
     },
     "b8065678535249378203da581b610c01": {
      "model_module": "nglview-js-widgets",
      "model_module_version": "3.0.8",
      "model_name": "NGLModel",
      "state": {
       "_camera_orientation": [
        59.503164150572175,
        0,
        0,
        0,
        0,
        59.503164150572175,
        0,
        0,
        0,
        0,
        59.503164150572175,
        0,
        -16.692500591278076,
        -18.34999942779541,
        -17.6729998588562,
        1
       ],
       "_camera_str": "orthographic",
       "_gui_theme": null,
       "_ibtn_fullscreen": "IPY_MODEL_12d80db5a4684dd99133bd4edb19c43f",
       "_igui": null,
       "_iplayer": "IPY_MODEL_3eb0afe20f504385a2259ea50e6f680d",
       "_ngl_color_dict": {},
       "_ngl_coordinate_resource": {},
       "_ngl_full_stage_parameters": {
        "ambientColor": 14540253,
        "ambientIntensity": 0.2,
        "backgroundColor": "white",
        "cameraEyeSep": 0.3,
        "cameraFov": 40,
        "cameraType": "orthographic",
        "clipDist": -100,
        "clipFar": 100,
        "clipMode": "scene",
        "clipNear": 0,
        "clipScale": "relative",
        "fogFar": 100,
        "fogNear": 50,
        "hoverTimeout": 0,
        "impostor": true,
        "lightColor": 14540253,
        "lightIntensity": 1,
        "mousePreset": "default",
        "panSpeed": 1,
        "quality": "medium",
        "rotateSpeed": 2,
        "sampleLevel": 3,
        "tooltip": true,
        "workerDefault": true,
        "zoomSpeed": 1.2
       },
       "_ngl_msg_archive": [
        {
         "args": [
          {
           "binary": false,
           "data": "TITLE     Gyas ROwers Mature At Cryogenic Speed\nREMARK    THIS IS A SIMULATION BOX\nCRYST1   35.000   35.000   35.000  90.00  90.00  90.00 P 1           1\nMODEL        1\nATOM      1  C1  SUR     1      19.077  20.843  20.922  1.00  1.00           C\nATOM      2  C2  SUR     1      18.701  19.620  20.124  1.00  1.00           C\nATOM      3  N1  SUR     1      19.283  19.374  18.963  1.00  1.00           N\nATOM      4  C3  SUR     1      18.958  18.301  18.257  1.00  1.00           C\nATOM      5  N2  SUR     1      18.045  17.440  18.682  1.00  1.00           N\nATOM      6  C4  SUR     1      17.425  17.628  19.836  1.00  1.00           C\nATOM      7  C5  SUR     1      17.746  18.736  20.602  1.00  1.00           C\nATOM      8  N3  SUR     1      19.587  18.073  17.044  1.00  1.00           N\nATOM      9  S1  SUR     1      19.485  16.585  16.324  1.00  1.00           S\nATOM     10  O1  SUR     1      20.179  16.705  15.090  1.00  1.00           O\nATOM     11  O2  SUR     1      19.780  15.642  17.346  1.00  1.00           O\nATOM     12  C6  SUR     1      17.796  16.319  15.900  1.00  1.00           C\nATOM     13  C7  SUR     1      17.324  16.720  14.664  1.00  1.00           C\nATOM     14  C8  SUR     1      16.001  16.513  14.328  1.00  1.00           C\nATOM     15  C9  SUR     1      15.144  15.902  15.233  1.00  1.00           C\nATOM     16  C10 SUR     1      15.620  15.501  16.475  1.00  1.00           C\nATOM     17  C11 SUR     1      16.946  15.705  16.802  1.00  1.00           C\nATOM     18  N4  SUR     1      13.804  15.691  14.897  1.00  1.00           N\nATOM     19  H1  SUR     1      18.437  21.675  20.633  1.00  1.00           H\nATOM     20  H2  SUR     1      18.950  20.636  21.984  1.00  1.00           H\nATOM     21  H3  SUR     1      20.118  21.099  20.724  1.00  1.00           H\nATOM     22  H4  SUR     1      16.681  16.923  20.177  1.00  1.00           H\nATOM     23  H5  SUR     1      17.255  18.913  21.549  1.00  1.00           H\nATOM     24  H6  SUR     1      20.087  18.786  16.616  1.00  1.00           H\nATOM     25  H7  SUR     1      17.991  17.195  13.959  1.00  1.00           H\nATOM     26  H8  SUR     1      15.633  16.826  13.362  1.00  1.00           H\nATOM     27  H9  SUR     1      14.956  15.025  17.181  1.00  1.00           H\nATOM     28  H10 SUR     1      17.318  15.394  17.767  1.00  1.00           H\nATOM     29  H11 SUR     1      13.471  15.972  14.030  1.00  1.00           H\nATOM     30  H12 SUR     1      13.206  15.264  15.530  1.00  1.00           H\nTER\nENDMDL\n",
           "type": "blob"
          }
         ],
         "kwargs": {
          "defaultRepresentation": true,
          "ext": "pdb"
         },
         "methodName": "loadFile",
         "reconstruc_color_scheme": false,
         "target": "Stage",
         "type": "call_method"
        },
        {
         "args": [
          "300px",
          "300px"
         ],
         "kwargs": {},
         "methodName": "setSize",
         "reconstruc_color_scheme": false,
         "target": "Widget",
         "type": "call_method"
        },
        {
         "args": [
          {
           "backgroundColor": "white",
           "clipDist": -100,
           "sampleLevel": 3
          }
         ],
         "kwargs": {},
         "methodName": "setParameters",
         "reconstruc_color_scheme": false,
         "target": "Widget",
         "type": "call_method"
        },
        {
         "args": [
          "unitcell"
         ],
         "component_index": 0,
         "kwargs": {
          "sele": "all"
         },
         "methodName": "addRepresentation",
         "reconstruc_color_scheme": false,
         "target": "compList",
         "type": "call_method"
        },
        {
         "args": [],
         "kwargs": {
          "cameraType": "orthographic"
         },
         "methodName": "setParameters",
         "reconstruc_color_scheme": false,
         "target": "Stage",
         "type": "call_method"
        }
       ],
       "_ngl_original_stage_parameters": {
        "ambientColor": 14540253,
        "ambientIntensity": 0.2,
        "backgroundColor": "white",
        "cameraEyeSep": 0.3,
        "cameraFov": 40,
        "cameraType": "perspective",
        "clipDist": 10,
        "clipFar": 100,
        "clipMode": "scene",
        "clipNear": 0,
        "clipScale": "relative",
        "fogFar": 100,
        "fogNear": 50,
        "hoverTimeout": 0,
        "impostor": true,
        "lightColor": 14540253,
        "lightIntensity": 1,
        "mousePreset": "default",
        "panSpeed": 1,
        "quality": "medium",
        "rotateSpeed": 2,
        "sampleLevel": 0,
        "tooltip": true,
        "workerDefault": true,
        "zoomSpeed": 1.2
       },
       "_ngl_repr_dict": {
        "0": {
         "0": {
          "params": {
           "aspectRatio": 1.5,
           "assembly": "default",
           "bondScale": 0.3,
           "bondSpacing": 0.75,
           "clipCenter": {
            "x": 0,
            "y": 0,
            "z": 0
           },
           "clipNear": 0,
           "clipRadius": 0,
           "colorMode": "hcl",
           "colorReverse": false,
           "colorScale": "",
           "colorScheme": "element",
           "colorValue": 9474192,
           "cylinderOnly": false,
           "defaultAssembly": "",
           "depthWrite": true,
           "diffuse": 16777215,
           "diffuseInterior": false,
           "disableImpostor": false,
           "disablePicking": false,
           "flatShaded": false,
           "interiorColor": 2236962,
           "interiorDarkening": 0,
           "lazy": false,
           "lineOnly": false,
           "linewidth": 2,
           "matrix": {
            "elements": [
             1,
             0,
             0,
             0,
             0,
             1,
             0,
             0,
             0,
             0,
             1,
             0,
             0,
             0,
             0,
             1
            ]
           },
           "metalness": 0,
           "multipleBond": "off",
           "opacity": 1,
           "openEnded": true,
           "quality": "high",
           "radialSegments": 20,
           "radiusData": {},
           "radiusScale": 2,
           "radiusSize": 0.15,
           "radiusType": "size",
           "roughness": 0.4,
           "sele": "",
           "side": "double",
           "sphereDetail": 2,
           "useInteriorColor": true,
           "visible": true,
           "wireframe": false
          },
          "type": "ball+stick"
         },
         "1": {
          "params": {
           "clipCenter": {
            "x": 0,
            "y": 0,
            "z": 0
           },
           "clipNear": 0,
           "clipRadius": 0,
           "colorMode": "hcl",
           "colorReverse": false,
           "colorScale": "",
           "colorScheme": "element",
           "colorValue": "orange",
           "defaultAssembly": "",
           "depthWrite": true,
           "diffuse": 16777215,
           "diffuseInterior": false,
           "disableImpostor": false,
           "disablePicking": false,
           "flatShaded": false,
           "interiorColor": 2236962,
           "interiorDarkening": 0,
           "lazy": false,
           "matrix": {
            "elements": [
             1,
             0,
             0,
             0,
             0,
             1,
             0,
             0,
             0,
             0,
             1,
             0,
             0,
             0,
             0,
             1
            ]
           },
           "metalness": 0,
           "opacity": 1,
           "quality": "medium",
           "radialSegments": 10,
           "radiusData": {},
           "radiusScale": 1,
           "radiusSize": 0.17499999231817992,
           "radiusType": "vdw",
           "roughness": 0.4,
           "sele": "all",
           "side": "double",
           "sphereDetail": 1,
           "useInteriorColor": true,
           "visible": true,
           "wireframe": false
          },
          "type": "unitcell"
         }
        }
       },
       "_ngl_serialize": false,
       "_ngl_version": "2.0.0-dev.39",
       "_ngl_view_id": [
        "EC62B417-EAB1-405D-B331-997FBFFF2636"
       ],
       "_player_dict": {},
       "_scene_position": {},
       "_scene_rotation": {},
       "_synced_model_ids": [],
       "_synced_repr_model_ids": [],
       "_view_height": "",
       "_view_width": "",
       "background": "white",
       "frame": 0,
       "gui_style": null,
       "layout": "IPY_MODEL_636c6ad00e9a4c7c817db07028ba4eec",
       "max_frame": 0,
       "n_components": 1,
       "picked": {}
      }
     },
     "b907f7e76845426597c3b0b3c89a7a05": {
      "model_module": "@jupyter-widgets/base",
      "model_module_version": "2.0.0",
      "model_name": "LayoutModel",
      "state": {
       "width": "34px"
      }
     },
     "b915ce26bd7843bb927180b972e5bad3": {
      "model_module": "@jupyter-widgets/base",
      "model_module_version": "2.0.0",
      "model_name": "LayoutModel",
      "state": {
       "width": "34px"
      }
     },
     "b991308bee5542069bbeb33a9cf82c08": {
      "model_module": "@jupyter-widgets/controls",
      "model_module_version": "2.0.0",
      "model_name": "IntSliderModel",
      "state": {
       "behavior": "drag-tap",
       "layout": "IPY_MODEL_3f220aadcef343008156d42d4792bd15",
       "max": 0,
       "style": "IPY_MODEL_0c23a8051b5444d78dc7fa00b3c913dd"
      }
     },
     "b999d7e2f633406dae111e3812ed8257": {
      "model_module": "@jupyter-widgets/base",
      "model_module_version": "2.0.0",
      "model_name": "LayoutModel",
      "state": {
       "width": "34px"
      }
     },
     "ba0eca2b201542b389bfe81ad1e964ce": {
      "model_module": "@jupyter-widgets/controls",
      "model_module_version": "2.0.0",
      "model_name": "LinkModel",
      "state": {
       "source": [
        "IPY_MODEL_22176f1dc0334a59a3a3875411b57383",
        "value"
       ],
       "target": [
        "IPY_MODEL_1f5f73894670477da7c1e90b15659737",
        "value"
       ]
      }
     },
     "ba329e98cff24020915817a7d0f485f4": {
      "model_module": "@jupyter-widgets/controls",
      "model_module_version": "2.0.0",
      "model_name": "DescriptionStyleModel",
      "state": {
       "description_width": ""
      }
     },
     "ba684cccef7a441a9cd6b14c8e83c946": {
      "model_module": "@jupyter-widgets/controls",
      "model_module_version": "2.0.0",
      "model_name": "ButtonModel",
      "state": {
       "icon": "compress",
       "layout": "IPY_MODEL_2133a3bbdea44c66a9c61df457c8b63d",
       "style": "IPY_MODEL_6a4d261eb2584628acf036402a6f0cbd",
       "tooltip": null
      }
     },
     "ba8761b2b0a64ea5bbebeaf42d793228": {
      "model_module": "@jupyter-widgets/controls",
      "model_module_version": "2.0.0",
      "model_name": "SliderStyleModel",
      "state": {
       "description_width": ""
      }
     },
     "ba95f974f5cf469fa233633366ae2f03": {
      "model_module": "@jupyter-widgets/controls",
      "model_module_version": "2.0.0",
      "model_name": "PlayModel",
      "state": {
       "layout": "IPY_MODEL_78da0edeab564650b10fc73c0ecbbd89",
       "max": 0,
       "style": "IPY_MODEL_e29c8496b19849189b41c2098181dcc3"
      }
     },
     "bb98fc112f974a09b8a45a3c89323156": {
      "model_module": "@jupyter-widgets/base",
      "model_module_version": "2.0.0",
      "model_name": "LayoutModel",
      "state": {}
     },
     "bbd0d668346a43869b1fdb9c0d1858d2": {
      "model_module": "@jupyter-widgets/controls",
      "model_module_version": "2.0.0",
      "model_name": "PlayModel",
      "state": {
       "layout": "IPY_MODEL_edc67a51dd1346f9958323376d2b60b0",
       "max": 0,
       "style": "IPY_MODEL_ffc49e9ad81b4eac940d4ad15dc35c7c"
      }
     },
     "bc12711b3b754d54b0beca898ad98ce0": {
      "model_module": "@jupyter-widgets/base",
      "model_module_version": "2.0.0",
      "model_name": "LayoutModel",
      "state": {}
     },
     "bccad5a9628f48b4b7d75c15bcc54dc2": {
      "model_module": "@jupyter-widgets/base",
      "model_module_version": "2.0.0",
      "model_name": "LayoutModel",
      "state": {}
     },
     "bd1f613fcb894be4ad23ec11b3362c52": {
      "model_module": "@jupyter-widgets/base",
      "model_module_version": "2.0.0",
      "model_name": "LayoutModel",
      "state": {}
     },
     "bd7eb31ca9554326b13d94e514b824fb": {
      "model_module": "@jupyter-widgets/controls",
      "model_module_version": "2.0.0",
      "model_name": "LinkModel",
      "state": {
       "source": [
        "IPY_MODEL_004fb4dbe70f42729ba9c6a88526b037",
        "max"
       ],
       "target": [
        "IPY_MODEL_440f843445ec43b38d1436519a9bf7ed",
        "max_frame"
       ]
      }
     },
     "bda39c1236de4b06a27d5a685368b3eb": {
      "model_module": "@jupyter-widgets/base",
      "model_module_version": "2.0.0",
      "model_name": "LayoutModel",
      "state": {}
     },
     "bdf3e68c17fa47a7955a212cecf58c47": {
      "model_module": "@jupyter-widgets/base",
      "model_module_version": "2.0.0",
      "model_name": "LayoutModel",
      "state": {}
     },
     "be1aa9e7018a44faad2625cb278d73f4": {
      "model_module": "@jupyter-widgets/controls",
      "model_module_version": "2.0.0",
      "model_name": "LinkModel",
      "state": {
       "source": [
        "IPY_MODEL_dd6d94f3607a429391c9e4f4ea5ecb53",
        "value"
       ],
       "target": [
        "IPY_MODEL_0665194fff954a44b5ebd60b6587b098",
        "frame"
       ]
      }
     },
     "be2a93ce9e1147528725119dcfefe739": {
      "model_module": "@jupyter-widgets/controls",
      "model_module_version": "2.0.0",
      "model_name": "LinkModel",
      "state": {
       "source": [
        "IPY_MODEL_9281bc8272264a0d8f6991388faddd72",
        "value"
       ],
       "target": [
        "IPY_MODEL_7468de2f7aad4bad9f6a97a2937641cd",
        "frame"
       ]
      }
     },
     "be4ed41b9765460a8b011c89167f050b": {
      "model_module": "@jupyter-widgets/base",
      "model_module_version": "2.0.0",
      "model_name": "LayoutModel",
      "state": {
       "width": "34px"
      }
     },
     "bebd4fce83e74e32b3d70841917e0d2e": {
      "model_module": "@jupyter-widgets/base",
      "model_module_version": "2.0.0",
      "model_name": "LayoutModel",
      "state": {}
     },
     "bef2ed4a15944d75baa9454ca88b8678": {
      "model_module": "@jupyter-widgets/base",
      "model_module_version": "2.0.0",
      "model_name": "LayoutModel",
      "state": {}
     },
     "bf9e81b62f014416b86c0e655ecd365d": {
      "model_module": "@jupyter-widgets/controls",
      "model_module_version": "2.0.0",
      "model_name": "LinkModel",
      "state": {
       "source": [
        "IPY_MODEL_2e7752c986c146e38ad7fd058d41441f",
        "max"
       ],
       "target": [
        "IPY_MODEL_6cffb0b2f61e4c52a82f37fc7faf2c10",
        "max_frame"
       ]
      }
     },
     "c00c8a953a144b60a6c258cfb68db55c": {
      "model_module": "@jupyter-widgets/base",
      "model_module_version": "2.0.0",
      "model_name": "LayoutModel",
      "state": {}
     },
     "c04b81143e3f45edb64475eb878b8b2d": {
      "model_module": "@jupyter-widgets/base",
      "model_module_version": "2.0.0",
      "model_name": "LayoutModel",
      "state": {}
     },
     "c05b7728e9ea4deeb19d627e79856637": {
      "model_module": "@jupyter-widgets/controls",
      "model_module_version": "2.0.0",
      "model_name": "LinkModel",
      "state": {
       "source": [
        "IPY_MODEL_7f213aaaf1e944bb9bf6a9827c608821",
        "value"
       ],
       "target": [
        "IPY_MODEL_210292688b8e4acab371ccf05a62d9c5",
        "value"
       ]
      }
     },
     "c08c981735104487b1f0dda3585f6c76": {
      "model_module": "@jupyter-widgets/controls",
      "model_module_version": "2.0.0",
      "model_name": "ButtonStyleModel",
      "state": {
       "font_family": null,
       "font_size": null,
       "font_style": null,
       "font_variant": null,
       "font_weight": null,
       "text_color": null,
       "text_decoration": null
      }
     },
     "c0ab9413bcc14bdda6db60393d766b5f": {
      "model_module": "@jupyter-widgets/base",
      "model_module_version": "2.0.0",
      "model_name": "LayoutModel",
      "state": {}
     },
     "c12085547fdb4aa3a93c5c04d99cc459": {
      "model_module": "@jupyter-widgets/controls",
      "model_module_version": "2.0.0",
      "model_name": "LinkModel",
      "state": {
       "source": [
        "IPY_MODEL_34db2a64b0364712b34f3bf39ed418f6",
        "value"
       ],
       "target": [
        "IPY_MODEL_2a8b4879c1ed45c987e442b6d8efab8f",
        "frame"
       ]
      }
     },
     "c25a7df770364ce995f640ccc7362aec": {
      "model_module": "@jupyter-widgets/controls",
      "model_module_version": "2.0.0",
      "model_name": "LinkModel",
      "state": {
       "source": [
        "IPY_MODEL_2d0b3a25b87e4a9a9ab2102e749179de",
        "max"
       ],
       "target": [
        "IPY_MODEL_00fff8dfe528489a83b1216fa685dde9",
        "max_frame"
       ]
      }
     },
     "c30ed74f74154d94aa4812c39c411980": {
      "model_module": "@jupyter-widgets/controls",
      "model_module_version": "2.0.0",
      "model_name": "LinkModel",
      "state": {
       "source": [
        "IPY_MODEL_e9ef52e3b647475c9b34ba0762d15699",
        "value"
       ],
       "target": [
        "IPY_MODEL_ed00a2e01ae9483d950da64cc57f4175",
        "frame"
       ]
      }
     },
     "c318c2eddf724809bbd2839967cf806c": {
      "model_module": "@jupyter-widgets/controls",
      "model_module_version": "2.0.0",
      "model_name": "HBoxModel",
      "state": {
       "children": [
        "IPY_MODEL_a755b468981f48c4b38e41d31ad8e6d7",
        "IPY_MODEL_69c308ff5813493a8b33cc88d9aaf634"
       ],
       "layout": "IPY_MODEL_ad0ef489bc6b4274949bd960b0613adc"
      }
     },
     "c37b76eef7fc4c9c92fb503d4b45e777": {
      "model_module": "@jupyter-widgets/base",
      "model_module_version": "2.0.0",
      "model_name": "LayoutModel",
      "state": {
       "width": "34px"
      }
     },
     "c3a4b2ca2b39400a87e7c999eed6c379": {
      "model_module": "@jupyter-widgets/base",
      "model_module_version": "2.0.0",
      "model_name": "LayoutModel",
      "state": {}
     },
     "c3c51f3ce1584759975c3b0a4439a690": {
      "model_module": "@jupyter-widgets/controls",
      "model_module_version": "2.0.0",
      "model_name": "VBoxModel",
      "state": {
       "children": [
        "IPY_MODEL_9c09d78ba1814feda1864c4b094ee36d"
       ],
       "layout": "IPY_MODEL_ebfe4126a9604168aa1dfa35b7b5ee00"
      }
     },
     "c3d23502192840fd8f2e6712234af76d": {
      "model_module": "@jupyter-widgets/base",
      "model_module_version": "2.0.0",
      "model_name": "LayoutModel",
      "state": {}
     },
     "c41e43679b9f43e6997f0baad4ddf018": {
      "model_module": "@jupyter-widgets/base",
      "model_module_version": "2.0.0",
      "model_name": "LayoutModel",
      "state": {}
     },
     "c43523152f7443ab9ac0ea871b980aa7": {
      "model_module": "@jupyter-widgets/base",
      "model_module_version": "2.0.0",
      "model_name": "LayoutModel",
      "state": {}
     },
     "c48ef099804840d3b625b63feb1e28d8": {
      "model_module": "@jupyter-widgets/controls",
      "model_module_version": "2.0.0",
      "model_name": "HBoxModel",
      "state": {
       "children": [
        "IPY_MODEL_3556f5afd38e492a8211561fd2d4d8b7",
        "IPY_MODEL_7dcbb0edf40d4daa838024f15b68ffa4"
       ],
       "layout": "IPY_MODEL_67a38a5083fc4c82b3c75802bf9c98ec"
      }
     },
     "c4dd6a6b184042898beb3ede40a13b42": {
      "model_module": "@jupyter-widgets/controls",
      "model_module_version": "2.0.0",
      "model_name": "ButtonStyleModel",
      "state": {
       "font_family": null,
       "font_size": null,
       "font_style": null,
       "font_variant": null,
       "font_weight": null,
       "text_color": null,
       "text_decoration": null
      }
     },
     "c61cfe7e62734504bf39dc2f4556a4a4": {
      "model_module": "@jupyter-widgets/controls",
      "model_module_version": "2.0.0",
      "model_name": "LinkModel",
      "state": {
       "source": [
        "IPY_MODEL_9a20b2bd56dd4d6a8c6c1b54ce5c95e7",
        "value"
       ],
       "target": [
        "IPY_MODEL_d728b53be55347a297aff8d1d9dc2bd2",
        "value"
       ]
      }
     },
     "c64adb80ee1f4bd584da6393cb3a3c3b": {
      "model_module": "nglview-js-widgets",
      "model_module_version": "3.0.8",
      "model_name": "NGLModel",
      "state": {
       "_camera_orientation": [
        13.099852148188692,
        11.178312692994995,
        10.716775966876147,
        0,
        11.375179326283249,
        2.578471514702218,
        -16.594181752462525,
        0,
        -10.507580933853733,
        16.727429511927074,
        -4.603686884771593,
        0,
        -19.729999542236328,
        -20,
        -20.270000457763672,
        1
       ],
       "_camera_str": "orthographic",
       "_gui_theme": null,
       "_ibtn_fullscreen": "IPY_MODEL_5a12142fed3f4c22916997c71ee3b210",
       "_igui": null,
       "_iplayer": "IPY_MODEL_a3025c9ab3934316b69f2ace7f3fb994",
       "_ngl_color_dict": {},
       "_ngl_coordinate_resource": {},
       "_ngl_full_stage_parameters": {
        "ambientColor": 14540253,
        "ambientIntensity": 0.2,
        "backgroundColor": "white",
        "cameraEyeSep": 0.3,
        "cameraFov": 40,
        "cameraType": "orthographic",
        "clipDist": -100,
        "clipFar": 100,
        "clipMode": "scene",
        "clipNear": 0,
        "clipScale": "relative",
        "fogFar": 100,
        "fogNear": 50,
        "hoverTimeout": 0,
        "impostor": true,
        "lightColor": 14540253,
        "lightIntensity": 1,
        "mousePreset": "default",
        "panSpeed": 1,
        "quality": "medium",
        "rotateSpeed": 2,
        "sampleLevel": 3,
        "tooltip": true,
        "workerDefault": true,
        "zoomSpeed": 1.2
       },
       "_ngl_msg_archive": [
        {
         "args": [
          {
           "binary": false,
           "data": "TITLE     MOL_GMX.gro created by acpype (Rev: 0) on Thu Feb 15 00:22:45 2018\nREMARK    THIS IS A SIMULATION BOX\nCRYST1   40.000   40.000   40.000  90.00  90.00  90.00 P 1           1\nMODEL        1\nATOM      1  C1  TOL     1      20.000  21.200  19.990  1.00  0.00            \nATOM      2  C2  TOL     1      20.720  20.000  19.990  1.00  0.00            \nATOM      3  C3  TOL     1      20.000  18.800  19.990  1.00  0.00            \nATOM      4  C4  TOL     1      18.610  18.800  20.000  1.00  0.00            \nATOM      5  C5  TOL     1      17.910  20.000  20.010  1.00  0.00            \nATOM      6  C6  TOL     1      18.610  21.200  20.000  1.00  0.00            \nATOM      7  C7  TOL     1      22.230  20.000  20.010  1.00  0.00            \nATOM      8  H1  TOL     1      22.630  19.120  19.510  1.00  0.00            \nATOM      9  H2  TOL     1      22.630  20.880  19.510  1.00  0.00            \nATOM     10  H3  TOL     1      22.610  20.000  21.030  1.00  0.00            \nATOM     11  H4  TOL     1      20.540  17.860  19.980  1.00  0.00            \nATOM     12  H5  TOL     1      18.080  17.860  20.000  1.00  0.00            \nATOM     13  H6  TOL     1      16.830  20.000  20.020  1.00  0.00            \nATOM     14  H7  TOL     1      18.080  22.140  20.000  1.00  0.00            \nATOM     15  H8  TOL     1      20.540  22.140  19.980  1.00  0.00            \nTER\nENDMDL\n",
           "type": "blob"
          }
         ],
         "kwargs": {
          "defaultRepresentation": true,
          "ext": "pdb"
         },
         "methodName": "loadFile",
         "reconstruc_color_scheme": false,
         "target": "Stage",
         "type": "call_method"
        },
        {
         "args": [
          "200px",
          "200px"
         ],
         "kwargs": {},
         "methodName": "setSize",
         "reconstruc_color_scheme": false,
         "target": "Widget",
         "type": "call_method"
        },
        {
         "args": [
          {
           "backgroundColor": "white",
           "clipDist": -100,
           "sampleLevel": 3
          }
         ],
         "kwargs": {},
         "methodName": "setParameters",
         "reconstruc_color_scheme": false,
         "target": "Widget",
         "type": "call_method"
        },
        {
         "args": [
          "unitcell"
         ],
         "component_index": 0,
         "kwargs": {
          "sele": "all"
         },
         "methodName": "addRepresentation",
         "reconstruc_color_scheme": false,
         "target": "compList",
         "type": "call_method"
        },
        {
         "args": [],
         "kwargs": {
          "cameraType": "orthographic"
         },
         "methodName": "setParameters",
         "reconstruc_color_scheme": false,
         "target": "Stage",
         "type": "call_method"
        }
       ],
       "_ngl_original_stage_parameters": {
        "ambientColor": 14540253,
        "ambientIntensity": 0.2,
        "backgroundColor": "white",
        "cameraEyeSep": 0.3,
        "cameraFov": 40,
        "cameraType": "perspective",
        "clipDist": 10,
        "clipFar": 100,
        "clipMode": "scene",
        "clipNear": 0,
        "clipScale": "relative",
        "fogFar": 100,
        "fogNear": 50,
        "hoverTimeout": 0,
        "impostor": true,
        "lightColor": 14540253,
        "lightIntensity": 1,
        "mousePreset": "default",
        "panSpeed": 1,
        "quality": "medium",
        "rotateSpeed": 2,
        "sampleLevel": 0,
        "tooltip": true,
        "workerDefault": true,
        "zoomSpeed": 1.2
       },
       "_ngl_repr_dict": {
        "0": {
         "0": {
          "params": {
           "aspectRatio": 1.5,
           "assembly": "default",
           "bondScale": 0.3,
           "bondSpacing": 0.75,
           "clipCenter": {
            "x": 0,
            "y": 0,
            "z": 0
           },
           "clipNear": 0,
           "clipRadius": 0,
           "colorMode": "hcl",
           "colorReverse": false,
           "colorScale": "",
           "colorScheme": "element",
           "colorValue": 9474192,
           "cylinderOnly": false,
           "defaultAssembly": "",
           "depthWrite": true,
           "diffuse": 16777215,
           "diffuseInterior": false,
           "disableImpostor": false,
           "disablePicking": false,
           "flatShaded": false,
           "interiorColor": 2236962,
           "interiorDarkening": 0,
           "lazy": false,
           "lineOnly": false,
           "linewidth": 2,
           "matrix": {
            "elements": [
             1,
             0,
             0,
             0,
             0,
             1,
             0,
             0,
             0,
             0,
             1,
             0,
             0,
             0,
             0,
             1
            ]
           },
           "metalness": 0,
           "multipleBond": "off",
           "opacity": 1,
           "openEnded": true,
           "quality": "high",
           "radialSegments": 20,
           "radiusData": {},
           "radiusScale": 2,
           "radiusSize": 0.15,
           "radiusType": "size",
           "roughness": 0.4,
           "sele": "",
           "side": "double",
           "sphereDetail": 2,
           "useInteriorColor": true,
           "visible": true,
           "wireframe": false
          },
          "type": "ball+stick"
         },
         "1": {
          "params": {
           "clipCenter": {
            "x": 0,
            "y": 0,
            "z": 0
           },
           "clipNear": 0,
           "clipRadius": 0,
           "colorMode": "hcl",
           "colorReverse": false,
           "colorScale": "",
           "colorScheme": "element",
           "colorValue": "orange",
           "defaultAssembly": "",
           "depthWrite": true,
           "diffuse": 16777215,
           "diffuseInterior": false,
           "disableImpostor": false,
           "disablePicking": false,
           "flatShaded": false,
           "interiorColor": 2236962,
           "interiorDarkening": 0,
           "lazy": false,
           "matrix": {
            "elements": [
             1,
             0,
             0,
             0,
             0,
             1,
             0,
             0,
             0,
             0,
             1,
             0,
             0,
             0,
             0,
             1
            ]
           },
           "metalness": 0,
           "opacity": 1,
           "quality": "medium",
           "radialSegments": 10,
           "radiusData": {},
           "radiusScale": 1,
           "radiusSize": 0.19999999122077702,
           "radiusType": "vdw",
           "roughness": 0.4,
           "sele": "all",
           "side": "double",
           "sphereDetail": 1,
           "useInteriorColor": true,
           "visible": true,
           "wireframe": false
          },
          "type": "unitcell"
         }
        }
       },
       "_ngl_serialize": false,
       "_ngl_version": "2.0.0-dev.39",
       "_ngl_view_id": [
        "993EB24A-0CE4-4370-8CA1-321A42AB8AA8"
       ],
       "_player_dict": {},
       "_scene_position": {},
       "_scene_rotation": {},
       "_synced_model_ids": [],
       "_synced_repr_model_ids": [],
       "_view_height": "",
       "_view_width": "",
       "background": "white",
       "frame": 0,
       "gui_style": null,
       "layout": "IPY_MODEL_62dce3d073574ccfae75e5ab65b5487f",
       "max_frame": 0,
       "n_components": 1,
       "picked": {}
      }
     },
     "c6aa9f0778504f29add993a35d8cc722": {
      "model_module": "@jupyter-widgets/controls",
      "model_module_version": "2.0.0",
      "model_name": "LinkModel",
      "state": {
       "source": [
        "IPY_MODEL_9a20b2bd56dd4d6a8c6c1b54ce5c95e7",
        "value"
       ],
       "target": [
        "IPY_MODEL_0744b35d324d4c5fa62632870be28fcf",
        "frame"
       ]
      }
     },
     "c770e344679e4578a8b5d26da900a10c": {
      "model_module": "nglview-js-widgets",
      "model_module_version": "3.0.8",
      "model_name": "NGLModel",
      "state": {
       "_camera_orientation": [
        28.403140029603975,
        0,
        0,
        0,
        0,
        28.403140029603975,
        0,
        0,
        0,
        0,
        28.403140029603975,
        0,
        -0.35699987411499023,
        0.14499998092651367,
        -0.09600001573562622,
        1
       ],
       "_camera_str": "orthographic",
       "_gui_theme": null,
       "_ibtn_fullscreen": "IPY_MODEL_40355f6ffc134a40b5c4009041c34e65",
       "_igui": null,
       "_iplayer": "IPY_MODEL_820379bda9564fbf81ef7e1da96654db",
       "_ngl_color_dict": {},
       "_ngl_coordinate_resource": {},
       "_ngl_full_stage_parameters": {
        "ambientColor": 14540253,
        "ambientIntensity": 0.2,
        "backgroundColor": "white",
        "cameraEyeSep": 0.3,
        "cameraFov": 40,
        "cameraType": "orthographic",
        "clipDist": -100,
        "clipFar": 100,
        "clipMode": "scene",
        "clipNear": 0,
        "clipScale": "relative",
        "fogFar": 100,
        "fogNear": 50,
        "hoverTimeout": 0,
        "impostor": true,
        "lightColor": 14540253,
        "lightIntensity": 1,
        "mousePreset": "default",
        "panSpeed": 1,
        "quality": "medium",
        "rotateSpeed": 2,
        "sampleLevel": 3,
        "tooltip": true,
        "workerDefault": true,
        "zoomSpeed": 1.2
       },
       "_ngl_msg_archive": [
        {
         "args": [
          {
           "binary": false,
           "data": "HETATM    1  C1  SUR     1       5.068  -1.116   0.968  1.00  0.00           C\nHETATM    2  C2  SUR     1       3.683  -0.937   0.400  1.00  0.00           C\nHETATM    3  N1  SUR     1       2.956   0.117   0.730  1.00  0.00           N\nHETATM    4  C3  SUR     1       1.738   0.281   0.234  1.00  0.00           C\nHETATM    5  N2  SUR     1       1.206  -0.596  -0.604  1.00  0.00           N\nHETATM    6  C4  SUR     1       1.880  -1.672  -0.975  1.00  0.00           C\nHETATM    7  C5  SUR     1       3.159  -1.871  -0.480  1.00  0.00           C\nHETATM    8  N3  SUR     1       1.004   1.396   0.601  1.00  0.00           N\nHETATM    9  S1  SUR     1      -0.342   1.824  -0.265  1.00  0.00           S\nHETATM   10  O1  SUR     1      -0.884   2.957   0.398  1.00  0.00           O\nHETATM   11  O2  SUR     1       0.048   1.778  -1.631  1.00  0.00           O\nHETATM   12  C6  SUR     1      -1.529   0.538  -0.063  1.00  0.00           C\nHETATM   13  C7  SUR     1      -2.436   0.594   0.979  1.00  0.00           C\nHETATM   14  C8  SUR     1      -3.368  -0.412   1.141  1.00  0.00           C\nHETATM   15  C9  SUR     1      -3.394  -1.481   0.255  1.00  0.00           C\nHETATM   16  C10 SUR     1      -2.481  -1.535  -0.791  1.00  0.00           C\nHETATM   17  C11 SUR     1      -1.556  -0.523  -0.950  1.00  0.00           C\nHETATM   18  N4  SUR     1      -4.335  -2.501   0.415  1.00  0.00           N\nHETATM   19  H1  SUR     1       5.008  -1.679   1.899  1.00  0.00           H\nHETATM   20  H2  SUR     1       5.686  -1.659   0.253  1.00  0.00           H\nHETATM   21  H3  SUR     1       5.510  -0.139   1.162  1.00  0.00           H\nHETATM   22  H4  SUR     1       1.441  -2.384  -1.658  1.00  0.00           H\nHETATM   23  H5  SUR     1       3.732  -2.741  -0.767  1.00  0.00           H\nHETATM   24  H6  SUR     1       1.277   1.927   1.366  1.00  0.00           H\nHETATM   25  H7  SUR     1      -2.416   1.426   1.668  1.00  0.00           H\nHETATM   26  H8  SUR     1      -4.076  -0.367   1.955  1.00  0.00           H\nHETATM   27  H9  SUR     1      -2.499  -2.365  -1.482  1.00  0.00           H\nHETATM   28  H10 SUR     1      -0.846  -0.564  -1.763  1.00  0.00           H\nHETATM   29  H11 SUR     1      -4.972  -2.463   1.146  1.00  0.00           H\nHETATM   30  H12 SUR     1      -4.352  -3.247  -0.204  1.00  0.00           H\nCONECT    1   20   19   21    2\nCONECT   16   15   17   27\nCONECT   17   12   28   16\nCONECT    2    7    3    1\nCONECT    4    5    8    3\nCONECT    6    5    7   22\nCONECT    7    6    2   23\nCONECT   12    9   17   13\nCONECT   13   14   12   25\nCONECT   14   26   15   13\nCONECT   15   14   18   16\nCONECT   19    1\nCONECT   28   17\nCONECT   29   18\nCONECT   30   18\nCONECT   20    1\nCONECT   21    1\nCONECT   22    6\nCONECT   23    7\nCONECT   24    8\nCONECT   25   13\nCONECT   26   14\nCONECT   27   16\nCONECT    3    4    2\nCONECT    5    4    6\nCONECT    8    4    9   24\nCONECT   18   15   30   29\nCONECT   10    9\nCONECT   11    9\nCONECT    9    8   10   12   11\nEND\n",
           "type": "blob"
          }
         ],
         "kwargs": {
          "defaultRepresentation": true,
          "ext": "pdb"
         },
         "methodName": "loadFile",
         "reconstruc_color_scheme": false,
         "target": "Stage",
         "type": "call_method"
        },
        {
         "args": [
          "300.0px",
          "300.0px"
         ],
         "kwargs": {},
         "methodName": "setSize",
         "reconstruc_color_scheme": false,
         "target": "Widget",
         "type": "call_method"
        },
        {
         "args": [
          {
           "backgroundColor": "white",
           "clipDist": -100,
           "sampleLevel": 3
          }
         ],
         "kwargs": {},
         "methodName": "setParameters",
         "reconstruc_color_scheme": false,
         "target": "Widget",
         "type": "call_method"
        },
        {
         "args": [],
         "kwargs": {
          "cameraType": "orthographic"
         },
         "methodName": "setParameters",
         "reconstruc_color_scheme": false,
         "target": "Stage",
         "type": "call_method"
        }
       ],
       "_ngl_original_stage_parameters": {
        "ambientColor": 14540253,
        "ambientIntensity": 0.2,
        "backgroundColor": "white",
        "cameraEyeSep": 0.3,
        "cameraFov": 40,
        "cameraType": "perspective",
        "clipDist": 10,
        "clipFar": 100,
        "clipMode": "scene",
        "clipNear": 0,
        "clipScale": "relative",
        "fogFar": 100,
        "fogNear": 50,
        "hoverTimeout": 0,
        "impostor": true,
        "lightColor": 14540253,
        "lightIntensity": 1,
        "mousePreset": "default",
        "panSpeed": 1,
        "quality": "medium",
        "rotateSpeed": 2,
        "sampleLevel": 0,
        "tooltip": true,
        "workerDefault": true,
        "zoomSpeed": 1.2
       },
       "_ngl_repr_dict": {
        "0": {
         "0": {
          "params": {
           "aspectRatio": 1.5,
           "assembly": "default",
           "bondScale": 0.3,
           "bondSpacing": 0.75,
           "clipCenter": {
            "x": 0,
            "y": 0,
            "z": 0
           },
           "clipNear": 0,
           "clipRadius": 0,
           "colorMode": "hcl",
           "colorReverse": false,
           "colorScale": "",
           "colorScheme": "element",
           "colorValue": 9474192,
           "cylinderOnly": false,
           "defaultAssembly": "",
           "depthWrite": true,
           "diffuse": 16777215,
           "diffuseInterior": false,
           "disableImpostor": false,
           "disablePicking": false,
           "flatShaded": false,
           "interiorColor": 2236962,
           "interiorDarkening": 0,
           "lazy": false,
           "lineOnly": false,
           "linewidth": 2,
           "matrix": {
            "elements": [
             1,
             0,
             0,
             0,
             0,
             1,
             0,
             0,
             0,
             0,
             1,
             0,
             0,
             0,
             0,
             1
            ]
           },
           "metalness": 0,
           "multipleBond": "off",
           "opacity": 1,
           "openEnded": true,
           "quality": "high",
           "radialSegments": 20,
           "radiusData": {},
           "radiusScale": 2,
           "radiusSize": 0.15,
           "radiusType": "size",
           "roughness": 0.4,
           "sele": "",
           "side": "double",
           "sphereDetail": 2,
           "useInteriorColor": true,
           "visible": true,
           "wireframe": false
          },
          "type": "ball+stick"
         }
        }
       },
       "_ngl_serialize": false,
       "_ngl_version": "2.0.0-dev.39",
       "_ngl_view_id": [
        "FD6009AD-84D2-43D7-B652-BE8D1C7D1436"
       ],
       "_player_dict": {},
       "_scene_position": {},
       "_scene_rotation": {},
       "_synced_model_ids": [],
       "_synced_repr_model_ids": [],
       "_view_height": "",
       "_view_width": "",
       "background": "white",
       "frame": 0,
       "gui_style": null,
       "layout": "IPY_MODEL_84aa4e7f213e497b9cf163495b5a39b8",
       "max_frame": 0,
       "n_components": 1,
       "picked": {}
      }
     },
     "c796c277b1e04692b7220bb86f4bea39": {
      "model_module": "@jupyter-widgets/base",
      "model_module_version": "2.0.0",
      "model_name": "LayoutModel",
      "state": {
       "width": "34px"
      }
     },
     "c7a1b76786844686a16d4fef2d4eaf5f": {
      "model_module": "@jupyter-widgets/controls",
      "model_module_version": "2.0.0",
      "model_name": "PlayModel",
      "state": {
       "layout": "IPY_MODEL_7f5dea5d505a4fd6ac0c962a9c84b405",
       "max": 0,
       "style": "IPY_MODEL_ae6c156f3e88412aab80ee80e6d7db22"
      }
     },
     "c851a29f0e8843a0b1e9b3f2580395b2": {
      "model_module": "@jupyter-widgets/base",
      "model_module_version": "2.0.0",
      "model_name": "LayoutModel",
      "state": {}
     },
     "c8a67fb27d724293b3bbf02f74d5c5aa": {
      "model_module": "@jupyter-widgets/controls",
      "model_module_version": "2.0.0",
      "model_name": "PlayModel",
      "state": {
       "layout": "IPY_MODEL_686687db824f49e7aa1b7cf6be014a54",
       "max": 0,
       "style": "IPY_MODEL_cf559b7eb275435d9311f621deaf238c"
      }
     },
     "c95c50ee06d647eb8955a60616e84930": {
      "model_module": "@jupyter-widgets/base",
      "model_module_version": "2.0.0",
      "model_name": "LayoutModel",
      "state": {
       "width": "34px"
      }
     },
     "c98efa1815274494a0697f3729bb501d": {
      "model_module": "@jupyter-widgets/controls",
      "model_module_version": "2.0.0",
      "model_name": "HBoxModel",
      "state": {
       "children": [
        "IPY_MODEL_e9ef52e3b647475c9b34ba0762d15699",
        "IPY_MODEL_ec5f07d25a4d43a1aa26b291d5ab9dc2"
       ],
       "layout": "IPY_MODEL_669e8852824c4a62a46050ba8223b32e"
      }
     },
     "c9cf73b036764086b05c8d0a91eb6157": {
      "model_module": "@jupyter-widgets/base",
      "model_module_version": "2.0.0",
      "model_name": "LayoutModel",
      "state": {}
     },
     "c9f8becaea154edb93878cc4de5c8c79": {
      "model_module": "@jupyter-widgets/controls",
      "model_module_version": "2.0.0",
      "model_name": "LinkModel",
      "state": {
       "source": [
        "IPY_MODEL_34db2a64b0364712b34f3bf39ed418f6",
        "value"
       ],
       "target": [
        "IPY_MODEL_9721200de472448b8cc6e4483071e850",
        "value"
       ]
      }
     },
     "ca2e905796394ad8a41b826daa584078": {
      "model_module": "@jupyter-widgets/controls",
      "model_module_version": "2.0.0",
      "model_name": "PlayModel",
      "state": {
       "layout": "IPY_MODEL_9e6b36769c8b4db7a1e560f56a96c545",
       "max": 0,
       "style": "IPY_MODEL_1eb512965dc94f90a3e4f28484adb4bf"
      }
     },
     "caddeda6457640ec89fa7bc769d16da5": {
      "model_module": "@jupyter-widgets/controls",
      "model_module_version": "2.0.0",
      "model_name": "DescriptionStyleModel",
      "state": {
       "description_width": ""
      }
     },
     "cb9360331f7e401f8adfbc96cb3c8292": {
      "model_module": "@jupyter-widgets/base",
      "model_module_version": "2.0.0",
      "model_name": "LayoutModel",
      "state": {}
     },
     "cbdd9285e49f4b81a08146e6d3531730": {
      "model_module": "@jupyter-widgets/controls",
      "model_module_version": "2.0.0",
      "model_name": "SliderStyleModel",
      "state": {
       "description_width": ""
      }
     },
     "cc1dd3fb30c04863b12929e977e28299": {
      "model_module": "nglview-js-widgets",
      "model_module_version": "3.0.8",
      "model_name": "NGLModel",
      "state": {
       "_camera_orientation": [
        28.403140029603975,
        0,
        0,
        0,
        0,
        28.403140029603975,
        0,
        0,
        0,
        0,
        28.403140029603975,
        0,
        -0.35699987411499023,
        0.14499998092651367,
        -0.09600001573562622,
        1
       ],
       "_camera_str": "orthographic",
       "_gui_theme": null,
       "_ibtn_fullscreen": "IPY_MODEL_01e2e5d9a2d24e86a860f17a8558f42f",
       "_igui": null,
       "_iplayer": "IPY_MODEL_3fc61f12311f4325b59480c52f89d256",
       "_ngl_color_dict": {},
       "_ngl_coordinate_resource": {},
       "_ngl_full_stage_parameters": {
        "ambientColor": 14540253,
        "ambientIntensity": 0.2,
        "backgroundColor": "white",
        "cameraEyeSep": 0.3,
        "cameraFov": 40,
        "cameraType": "orthographic",
        "clipDist": 10,
        "clipFar": 100,
        "clipMode": "scene",
        "clipNear": 0,
        "clipScale": "relative",
        "fogFar": 100,
        "fogNear": 50,
        "hoverTimeout": 0,
        "impostor": true,
        "lightColor": 14540253,
        "lightIntensity": 1,
        "mousePreset": "default",
        "panSpeed": 1,
        "quality": "medium",
        "rotateSpeed": 2,
        "sampleLevel": 0,
        "tooltip": true,
        "workerDefault": true,
        "zoomSpeed": 1.2
       },
       "_ngl_msg_archive": [
        {
         "args": [
          {
           "binary": false,
           "data": "HETATM    1  C1  SUR     1       5.068  -1.116   0.968  1.00  0.00           C\nHETATM    2  C2  SUR     1       3.683  -0.937   0.400  1.00  0.00           C\nHETATM    3  N1  SUR     1       2.956   0.117   0.730  1.00  0.00           N\nHETATM    4  C3  SUR     1       1.738   0.281   0.234  1.00  0.00           C\nHETATM    5  N2  SUR     1       1.206  -0.596  -0.604  1.00  0.00           N\nHETATM    6  C4  SUR     1       1.880  -1.672  -0.975  1.00  0.00           C\nHETATM    7  C5  SUR     1       3.159  -1.871  -0.480  1.00  0.00           C\nHETATM    8  N3  SUR     1       1.004   1.396   0.601  1.00  0.00           N\nHETATM    9  S1  SUR     1      -0.342   1.824  -0.265  1.00  0.00           S\nHETATM   10  O1  SUR     1      -0.884   2.957   0.398  1.00  0.00           O\nHETATM   11  O2  SUR     1       0.048   1.778  -1.631  1.00  0.00           O\nHETATM   12  C6  SUR     1      -1.529   0.538  -0.063  1.00  0.00           C\nHETATM   13  C7  SUR     1      -2.436   0.594   0.979  1.00  0.00           C\nHETATM   14  C8  SUR     1      -3.368  -0.412   1.141  1.00  0.00           C\nHETATM   15  C9  SUR     1      -3.394  -1.481   0.255  1.00  0.00           C\nHETATM   16  C10 SUR     1      -2.481  -1.535  -0.791  1.00  0.00           C\nHETATM   17  C11 SUR     1      -1.556  -0.523  -0.950  1.00  0.00           C\nHETATM   18  N4  SUR     1      -4.335  -2.501   0.415  1.00  0.00           N\nHETATM   19  H1  SUR     1       5.008  -1.679   1.899  1.00  0.00           H\nHETATM   20  H2  SUR     1       5.686  -1.659   0.253  1.00  0.00           H\nHETATM   21  H3  SUR     1       5.510  -0.139   1.162  1.00  0.00           H\nHETATM   22  H4  SUR     1       1.441  -2.384  -1.658  1.00  0.00           H\nHETATM   23  H5  SUR     1       3.732  -2.741  -0.767  1.00  0.00           H\nHETATM   24  H6  SUR     1       1.277   1.927   1.366  1.00  0.00           H\nHETATM   25  H7  SUR     1      -2.416   1.426   1.668  1.00  0.00           H\nHETATM   26  H8  SUR     1      -4.076  -0.367   1.955  1.00  0.00           H\nHETATM   27  H9  SUR     1      -2.499  -2.365  -1.482  1.00  0.00           H\nHETATM   28  H10 SUR     1      -0.846  -0.564  -1.763  1.00  0.00           H\nHETATM   29  H11 SUR     1      -4.972  -2.463   1.146  1.00  0.00           H\nHETATM   30  H12 SUR     1      -4.352  -3.247  -0.204  1.00  0.00           H\nCONECT    1   20   19   21    2\nCONECT   16   15   17   27\nCONECT   17   12   28   16\nCONECT    2    7    3    1\nCONECT    4    5    8    3\nCONECT    6    5    7   22\nCONECT    7    6    2   23\nCONECT   12    9   17   13\nCONECT   13   14   12   25\nCONECT   14   26   15   13\nCONECT   15   14   18   16\nCONECT   19    1\nCONECT   28   17\nCONECT   29   18\nCONECT   30   18\nCONECT   20    1\nCONECT   21    1\nCONECT   22    6\nCONECT   23    7\nCONECT   24    8\nCONECT   25   13\nCONECT   26   14\nCONECT   27   16\nCONECT    3    4    2\nCONECT    5    4    6\nCONECT    8    4    9   24\nCONECT   18   15   30   29\nCONECT   10    9\nCONECT   11    9\nCONECT    9    8   10   12   11\nEND\n",
           "type": "blob"
          }
         ],
         "kwargs": {
          "defaultRepresentation": true,
          "ext": "pdb"
         },
         "methodName": "loadFile",
         "reconstruc_color_scheme": false,
         "target": "Stage",
         "type": "call_method"
        },
        {
         "args": [
          "unitcell"
         ],
         "component_index": 0,
         "kwargs": {
          "opacity": 1,
          "sele": "all"
         },
         "methodName": "addRepresentation",
         "reconstruc_color_scheme": false,
         "target": "compList",
         "type": "call_method"
        },
        {
         "args": [],
         "kwargs": {
          "cameraType": "orthographic"
         },
         "methodName": "setParameters",
         "reconstruc_color_scheme": false,
         "target": "Stage",
         "type": "call_method"
        }
       ],
       "_ngl_original_stage_parameters": {
        "ambientColor": 14540253,
        "ambientIntensity": 0.2,
        "backgroundColor": "white",
        "cameraEyeSep": 0.3,
        "cameraFov": 40,
        "cameraType": "perspective",
        "clipDist": 10,
        "clipFar": 100,
        "clipMode": "scene",
        "clipNear": 0,
        "clipScale": "relative",
        "fogFar": 100,
        "fogNear": 50,
        "hoverTimeout": 0,
        "impostor": true,
        "lightColor": 14540253,
        "lightIntensity": 1,
        "mousePreset": "default",
        "panSpeed": 1,
        "quality": "medium",
        "rotateSpeed": 2,
        "sampleLevel": 0,
        "tooltip": true,
        "workerDefault": true,
        "zoomSpeed": 1.2
       },
       "_ngl_repr_dict": {
        "0": {
         "0": {
          "params": {
           "aspectRatio": 1.5,
           "assembly": "default",
           "bondScale": 0.3,
           "bondSpacing": 0.75,
           "clipCenter": {
            "x": 0,
            "y": 0,
            "z": 0
           },
           "clipNear": 0,
           "clipRadius": 0,
           "colorMode": "hcl",
           "colorReverse": false,
           "colorScale": "",
           "colorScheme": "element",
           "colorValue": 9474192,
           "cylinderOnly": false,
           "defaultAssembly": "",
           "depthWrite": true,
           "diffuse": 16777215,
           "diffuseInterior": false,
           "disableImpostor": false,
           "disablePicking": false,
           "flatShaded": false,
           "interiorColor": 2236962,
           "interiorDarkening": 0,
           "lazy": false,
           "lineOnly": false,
           "linewidth": 2,
           "matrix": {
            "elements": [
             1,
             0,
             0,
             0,
             0,
             1,
             0,
             0,
             0,
             0,
             1,
             0,
             0,
             0,
             0,
             1
            ]
           },
           "metalness": 0,
           "multipleBond": "off",
           "opacity": 1,
           "openEnded": true,
           "quality": "high",
           "radialSegments": 20,
           "radiusData": {},
           "radiusScale": 2,
           "radiusSize": 0.15,
           "radiusType": "size",
           "roughness": 0.4,
           "sele": "",
           "side": "double",
           "sphereDetail": 2,
           "useInteriorColor": true,
           "visible": true,
           "wireframe": false
          },
          "type": "ball+stick"
         },
         "1": {
          "params": {
           "clipCenter": {
            "x": 0,
            "y": 0,
            "z": 0
           },
           "clipNear": 0,
           "clipRadius": 0,
           "colorMode": "hcl",
           "colorReverse": false,
           "colorScale": "",
           "colorScheme": "element",
           "colorValue": "orange",
           "defaultAssembly": "",
           "depthWrite": true,
           "diffuse": 16777215,
           "diffuseInterior": false,
           "disableImpostor": false,
           "disablePicking": false,
           "flatShaded": false,
           "interiorColor": 2236962,
           "interiorDarkening": 0,
           "lazy": false,
           "matrix": {
            "elements": [
             1,
             0,
             0,
             0,
             0,
             1,
             0,
             0,
             0,
             0,
             1,
             0,
             0,
             0,
             0,
             1
            ]
           },
           "metalness": 0,
           "opacity": 1,
           "quality": "medium",
           "radialSegments": 10,
           "radiusData": {},
           "radiusScale": 1,
           "radiusSize": 0.5,
           "radiusType": "vdw",
           "roughness": 0.4,
           "sele": "all",
           "side": "double",
           "sphereDetail": 1,
           "useInteriorColor": true,
           "visible": true,
           "wireframe": false
          },
          "type": "unitcell"
         }
        }
       },
       "_ngl_serialize": false,
       "_ngl_version": "2.0.0-dev.39",
       "_ngl_view_id": [
        "460953A2-DD87-4A9B-8E4E-2BEC431F2AA4"
       ],
       "_player_dict": {},
       "_scene_position": {},
       "_scene_rotation": {},
       "_synced_model_ids": [],
       "_synced_repr_model_ids": [],
       "_view_height": "",
       "_view_width": "",
       "background": "white",
       "frame": 0,
       "gui_style": null,
       "layout": "IPY_MODEL_9942ae8b4fa146b08f63cda1ccb7af7c",
       "max_frame": 0,
       "n_components": 1,
       "picked": {}
      }
     },
     "cc25a260094c4f6188ebb3c70f6f3a2e": {
      "model_module": "@jupyter-widgets/controls",
      "model_module_version": "2.0.0",
      "model_name": "ButtonStyleModel",
      "state": {
       "font_family": null,
       "font_size": null,
       "font_style": null,
       "font_variant": null,
       "font_weight": null,
       "text_color": null,
       "text_decoration": null
      }
     },
     "cc8cab133c36447a92bc2b07cb8c937e": {
      "model_module": "@jupyter-widgets/base",
      "model_module_version": "2.0.0",
      "model_name": "LayoutModel",
      "state": {}
     },
     "cc97c5a9085d4aacb40080df43520983": {
      "model_module": "@jupyter-widgets/controls",
      "model_module_version": "2.0.0",
      "model_name": "SliderStyleModel",
      "state": {
       "description_width": ""
      }
     },
     "cce40d3845f14888b3ec3663c35ad23e": {
      "model_module": "@jupyter-widgets/controls",
      "model_module_version": "2.0.0",
      "model_name": "HBoxModel",
      "state": {
       "children": [
        "IPY_MODEL_10003318e84d4ec1a3a715d31a940b12",
        "IPY_MODEL_d96a922c533e4cf4baa171ec2ecab9e5"
       ],
       "layout": "IPY_MODEL_0d5776a55a0c496491e23bdee516c098"
      }
     },
     "ce5a84f73a804cb695a8ac5cbd0ab518": {
      "model_module": "@jupyter-widgets/base",
      "model_module_version": "2.0.0",
      "model_name": "LayoutModel",
      "state": {}
     },
     "cec09e6f091045da8b8ca96ab04964f4": {
      "model_module": "@jupyter-widgets/controls",
      "model_module_version": "2.0.0",
      "model_name": "PlayModel",
      "state": {
       "layout": "IPY_MODEL_5896cf9b73944893ae39174f4b80e66b",
       "max": 0,
       "style": "IPY_MODEL_a31ffae2347c43b585db4169da747051"
      }
     },
     "cec77753f1cb4a778e2507e4010a41b6": {
      "model_module": "@jupyter-widgets/controls",
      "model_module_version": "2.0.0",
      "model_name": "LinkModel",
      "state": {
       "source": [
        "IPY_MODEL_09e2872a4ae546349e246e13a2f75250",
        "max"
       ],
       "target": [
        "IPY_MODEL_c770e344679e4578a8b5d26da900a10c",
        "max_frame"
       ]
      }
     },
     "ceecd0eff99a4afc9292d2c25f986d54": {
      "model_module": "@jupyter-widgets/controls",
      "model_module_version": "2.0.0",
      "model_name": "LinkModel",
      "state": {
       "source": [
        "IPY_MODEL_cec09e6f091045da8b8ca96ab04964f4",
        "max"
       ],
       "target": [
        "IPY_MODEL_440f843445ec43b38d1436519a9bf7ed",
        "max_frame"
       ]
      }
     },
     "cef5878681804b85ba0de61d976f7438": {
      "model_module": "@jupyter-widgets/controls",
      "model_module_version": "2.0.0",
      "model_name": "LinkModel",
      "state": {
       "source": [
        "IPY_MODEL_1794b5f369584dfb955b8b7396d1db1a",
        "max"
       ],
       "target": [
        "IPY_MODEL_48750f6104eb4f228e2c780ea88104c2",
        "max_frame"
       ]
      }
     },
     "cf26936a268b43c7a0e1e980dbbb8c0e": {
      "model_module": "@jupyter-widgets/controls",
      "model_module_version": "2.0.0",
      "model_name": "LinkModel",
      "state": {
       "source": [
        "IPY_MODEL_16f6e3c73fa14db3b725c338ff9457f9",
        "value"
       ],
       "target": [
        "IPY_MODEL_f159149cccf94f2fb002fa3f49124712",
        "frame"
       ]
      }
     },
     "cf559b7eb275435d9311f621deaf238c": {
      "model_module": "@jupyter-widgets/controls",
      "model_module_version": "2.0.0",
      "model_name": "DescriptionStyleModel",
      "state": {
       "description_width": ""
      }
     },
     "cf6d866f352041a293e22ae348fbb642": {
      "model_module": "@jupyter-widgets/controls",
      "model_module_version": "2.0.0",
      "model_name": "ButtonStyleModel",
      "state": {
       "font_family": null,
       "font_size": null,
       "font_style": null,
       "font_variant": null,
       "font_weight": null,
       "text_color": null,
       "text_decoration": null
      }
     },
     "cfb488d788014c51b7e16a8136bf1a2b": {
      "model_module": "@jupyter-widgets/controls",
      "model_module_version": "2.0.0",
      "model_name": "IntSliderModel",
      "state": {
       "behavior": "drag-tap",
       "layout": "IPY_MODEL_76a838c8726b4619b521155e1997fe89",
       "max": 0,
       "style": "IPY_MODEL_553240ad85f54ee182b8846c4a06be83"
      }
     },
     "cfc5ac74ecbf461d9f9d476eacd2ce3c": {
      "model_module": "@jupyter-widgets/controls",
      "model_module_version": "2.0.0",
      "model_name": "ButtonModel",
      "state": {
       "icon": "compress",
       "layout": "IPY_MODEL_408d308943ec43d7af72ba000b78b38a",
       "style": "IPY_MODEL_d53fcc9aff8948fc986d15e771e106be",
       "tooltip": null
      }
     },
     "cfd8f5bc9c8f415a83def1fb14d0ba65": {
      "model_module": "@jupyter-widgets/controls",
      "model_module_version": "2.0.0",
      "model_name": "ButtonModel",
      "state": {
       "icon": "compress",
       "layout": "IPY_MODEL_21734f6f5ba64eed8803b8e281e80f17",
       "style": "IPY_MODEL_ac6e2b69cb644da886e632881b513faa",
       "tooltip": null
      }
     },
     "d004462eda954d8f91c74591ba87731e": {
      "model_module": "@jupyter-widgets/controls",
      "model_module_version": "2.0.0",
      "model_name": "ButtonStyleModel",
      "state": {
       "font_family": null,
       "font_size": null,
       "font_style": null,
       "font_variant": null,
       "font_weight": null,
       "text_color": null,
       "text_decoration": null
      }
     },
     "d00d47d746b747b5a89fc576eace7057": {
      "model_module": "@jupyter-widgets/controls",
      "model_module_version": "2.0.0",
      "model_name": "VBoxModel",
      "state": {
       "children": [
        "IPY_MODEL_1ce478c08fdd47dea3d29858ed5b3bd7"
       ],
       "layout": "IPY_MODEL_c04b81143e3f45edb64475eb878b8b2d"
      }
     },
     "d03e4ed47b5c4acfa58feaeccab6639c": {
      "model_module": "@jupyter-widgets/controls",
      "model_module_version": "2.0.0",
      "model_name": "SliderStyleModel",
      "state": {
       "description_width": ""
      }
     },
     "d04be2d1f70443bf9589ed28d4e5afd6": {
      "model_module": "@jupyter-widgets/controls",
      "model_module_version": "2.0.0",
      "model_name": "LinkModel",
      "state": {
       "source": [
        "IPY_MODEL_c8a67fb27d724293b3bbf02f74d5c5aa",
        "value"
       ],
       "target": [
        "IPY_MODEL_aa30fb295551411499fe5a05fc778221",
        "value"
       ]
      }
     },
     "d0cc61ddae254107abc38bfcd7842388": {
      "model_module": "@jupyter-widgets/controls",
      "model_module_version": "2.0.0",
      "model_name": "ImageModel",
      "state": {
       "layout": "IPY_MODEL_3b72b0a62a034882af1c2e0ade887e73",
       "width": "900.0"
      }
     },
     "d117b14362224caba65d9d5af1beae6e": {
      "model_module": "@jupyter-widgets/controls",
      "model_module_version": "2.0.0",
      "model_name": "HBoxModel",
      "state": {
       "children": [
        "IPY_MODEL_b8065678535249378203da581b610c01"
       ],
       "layout": "IPY_MODEL_4c5f20dda3ea48bdbf6d98fe5ed17c29"
      }
     },
     "d12f5f5451924b659e0da75d483cf0db": {
      "model_module": "@jupyter-widgets/controls",
      "model_module_version": "2.0.0",
      "model_name": "VBoxModel",
      "state": {
       "children": [
        "IPY_MODEL_7be366d6d8124a178bc5640a19718b21"
       ],
       "layout": "IPY_MODEL_94b43c8e12794041affafbe0f19df7c0"
      }
     },
     "d12f731b554e4dddb62944b3765451b9": {
      "model_module": "@jupyter-widgets/controls",
      "model_module_version": "2.0.0",
      "model_name": "ButtonModel",
      "state": {
       "icon": "compress",
       "layout": "IPY_MODEL_b53fff8a23464d0ca2364840573b54ec",
       "style": "IPY_MODEL_cf6d866f352041a293e22ae348fbb642",
       "tooltip": null
      }
     },
     "d19270ac0ffc40d99e92c8d303aadf8e": {
      "model_module": "@jupyter-widgets/base",
      "model_module_version": "2.0.0",
      "model_name": "LayoutModel",
      "state": {
       "width": "34px"
      }
     },
     "d22e904b84424ca8864a831669fe4f08": {
      "model_module": "@jupyter-widgets/base",
      "model_module_version": "2.0.0",
      "model_name": "LayoutModel",
      "state": {}
     },
     "d272b2fdb1414e7bae09ee383243f998": {
      "model_module": "@jupyter-widgets/controls",
      "model_module_version": "2.0.0",
      "model_name": "ImageModel",
      "state": {
       "layout": "IPY_MODEL_5f696e30327746f196e4bf2f601d8526",
       "width": "900.0"
      }
     },
     "d2a34f3176924fd5861fb5bfbf59665e": {
      "model_module": "@jupyter-widgets/base",
      "model_module_version": "2.0.0",
      "model_name": "LayoutModel",
      "state": {}
     },
     "d39c7786633f47358e6001cc6ba0f31a": {
      "model_module": "@jupyter-widgets/controls",
      "model_module_version": "2.0.0",
      "model_name": "ButtonStyleModel",
      "state": {
       "font_family": null,
       "font_size": null,
       "font_style": null,
       "font_variant": null,
       "font_weight": null,
       "text_color": null,
       "text_decoration": null
      }
     },
     "d423662462b04f999eae7a4b8e9701da": {
      "model_module": "@jupyter-widgets/controls",
      "model_module_version": "2.0.0",
      "model_name": "HBoxModel",
      "state": {
       "children": [
        "IPY_MODEL_3f72601323ff4f33a9602a14e60163a7",
        "IPY_MODEL_24ce3a74c3b846b589c46088be903810"
       ],
       "layout": "IPY_MODEL_89c93f306b7e424fa9b92d8c5c316754"
      }
     },
     "d44e2bb6335941f9b681c4a26ab72030": {
      "model_module": "@jupyter-widgets/controls",
      "model_module_version": "2.0.0",
      "model_name": "LinkModel",
      "state": {
       "source": [
        "IPY_MODEL_3556f5afd38e492a8211561fd2d4d8b7",
        "max"
       ],
       "target": [
        "IPY_MODEL_2974d983e4044156b3a5af655522f17b",
        "max_frame"
       ]
      }
     },
     "d4813c4aa28f4f7a81a5a35ba866b177": {
      "model_module": "@jupyter-widgets/controls",
      "model_module_version": "2.0.0",
      "model_name": "IntSliderModel",
      "state": {
       "behavior": "drag-tap",
       "layout": "IPY_MODEL_9f5af68fc8264e59b45c596083553381",
       "max": 0,
       "style": "IPY_MODEL_8b632d9a7a44457ba68334f53ea8c52d"
      }
     },
     "d4b8caafb8ee4b82908e446682dfa850": {
      "model_module": "@jupyter-widgets/controls",
      "model_module_version": "2.0.0",
      "model_name": "HBoxModel",
      "state": {
       "children": [
        "IPY_MODEL_ba95f974f5cf469fa233633366ae2f03",
        "IPY_MODEL_414aa3b00af9405daf069619eca1bd08"
       ],
       "layout": "IPY_MODEL_4796b046bb3444be8f6b98ca5d4e3f6a"
      }
     },
     "d4dbea4a246c4ec799369324494ba758": {
      "model_module": "@jupyter-widgets/base",
      "model_module_version": "2.0.0",
      "model_name": "LayoutModel",
      "state": {}
     },
     "d53fcc9aff8948fc986d15e771e106be": {
      "model_module": "@jupyter-widgets/controls",
      "model_module_version": "2.0.0",
      "model_name": "ButtonStyleModel",
      "state": {
       "font_family": null,
       "font_size": null,
       "font_style": null,
       "font_variant": null,
       "font_weight": null,
       "text_color": null,
       "text_decoration": null
      }
     },
     "d5da2987f2b9407e8c74542861fa5503": {
      "model_module": "@jupyter-widgets/controls",
      "model_module_version": "2.0.0",
      "model_name": "DescriptionStyleModel",
      "state": {
       "description_width": ""
      }
     },
     "d61a0af3d3184bf39bffe854ac974adc": {
      "model_module": "@jupyter-widgets/base",
      "model_module_version": "2.0.0",
      "model_name": "LayoutModel",
      "state": {}
     },
     "d728b53be55347a297aff8d1d9dc2bd2": {
      "model_module": "@jupyter-widgets/controls",
      "model_module_version": "2.0.0",
      "model_name": "IntSliderModel",
      "state": {
       "behavior": "drag-tap",
       "layout": "IPY_MODEL_ac130bbdc91049538ba72dbe9a6f524b",
       "max": 0,
       "style": "IPY_MODEL_f4e45fa7666044f296bd764553ea3d8b"
      }
     },
     "d74a77ee59fc4789bc4a3b5f2bd7b83f": {
      "model_module": "@jupyter-widgets/controls",
      "model_module_version": "2.0.0",
      "model_name": "VBoxModel",
      "state": {
       "children": [
        "IPY_MODEL_d117b14362224caba65d9d5af1beae6e"
       ],
       "layout": "IPY_MODEL_401c0267659f4213ba8594c73884e003"
      }
     },
     "d7face1f2642450ba276262d1c7445d9": {
      "model_module": "@jupyter-widgets/controls",
      "model_module_version": "2.0.0",
      "model_name": "HBoxModel",
      "state": {
       "children": [
        "IPY_MODEL_faf8aca06b80466da32c925eb1036e2e",
        "IPY_MODEL_6cffb0b2f61e4c52a82f37fc7faf2c10"
       ],
       "layout": "IPY_MODEL_47d45bd9d0d84e758e9345086a5598d4"
      }
     },
     "d818ff4754cc438b86a3cf8269f3f053": {
      "model_module": "@jupyter-widgets/controls",
      "model_module_version": "2.0.0",
      "model_name": "ButtonModel",
      "state": {
       "icon": "compress",
       "layout": "IPY_MODEL_b5ccbf244026418097514b1ea32add82",
       "style": "IPY_MODEL_679e2bbef4084f44bbdbbf4d4adaa442",
       "tooltip": null
      }
     },
     "d873d0e24b2c4a7f8501b47a2793728c": {
      "model_module": "@jupyter-widgets/controls",
      "model_module_version": "2.0.0",
      "model_name": "LinkModel",
      "state": {
       "source": [
        "IPY_MODEL_f245b3cb7538457888e1256945d07cdc",
        "value"
       ],
       "target": [
        "IPY_MODEL_39e9b1c829e24af2b2d7b1755eb34fad",
        "frame"
       ]
      }
     },
     "d8d461e09e3b4499b4ed21576918df54": {
      "model_module": "@jupyter-widgets/controls",
      "model_module_version": "2.0.0",
      "model_name": "LinkModel",
      "state": {
       "source": [
        "IPY_MODEL_21798ad7e2be49f0a030035b53e751c5",
        "value"
       ],
       "target": [
        "IPY_MODEL_185a8691f3e74b949765dbdb9ac9e363",
        "value"
       ]
      }
     },
     "d8e5e82592064dcfac2582a2d66fa40a": {
      "model_module": "@jupyter-widgets/base",
      "model_module_version": "2.0.0",
      "model_name": "LayoutModel",
      "state": {
       "width": "34px"
      }
     },
     "d8f634595dc144d3b8d8a59882bbe40a": {
      "model_module": "@jupyter-widgets/controls",
      "model_module_version": "2.0.0",
      "model_name": "DescriptionStyleModel",
      "state": {
       "description_width": ""
      }
     },
     "d96a922c533e4cf4baa171ec2ecab9e5": {
      "model_module": "@jupyter-widgets/controls",
      "model_module_version": "2.0.0",
      "model_name": "IntSliderModel",
      "state": {
       "behavior": "drag-tap",
       "layout": "IPY_MODEL_4341b7e2f07041079878125a049b2c77",
       "max": 0,
       "style": "IPY_MODEL_958befa666944c49933c6481a2b51e77"
      }
     },
     "d9c45d94e8664ed59ad475c5d86bb3cd": {
      "model_module": "@jupyter-widgets/base",
      "model_module_version": "2.0.0",
      "model_name": "LayoutModel",
      "state": {}
     },
     "d9c5f57a4a3f49d6afaf210ae0f77edb": {
      "model_module": "@jupyter-widgets/controls",
      "model_module_version": "2.0.0",
      "model_name": "LinkModel",
      "state": {
       "source": [
        "IPY_MODEL_d4813c4aa28f4f7a81a5a35ba866b177",
        "max"
       ],
       "target": [
        "IPY_MODEL_82f46a6e08d24c0caf2fd023b46fe10f",
        "max_frame"
       ]
      }
     },
     "da1174a73ffc4e3c96f926bf310807f8": {
      "model_module": "@jupyter-widgets/controls",
      "model_module_version": "2.0.0",
      "model_name": "HBoxModel",
      "state": {
       "children": [
        "IPY_MODEL_82f46a6e08d24c0caf2fd023b46fe10f",
        "IPY_MODEL_39e9b1c829e24af2b2d7b1755eb34fad"
       ],
       "layout": "IPY_MODEL_51deda4f9473473c948929e030905238"
      }
     },
     "da3c201b63bd496cb08ead00672bbb8e": {
      "model_module": "@jupyter-widgets/base",
      "model_module_version": "2.0.0",
      "model_name": "LayoutModel",
      "state": {}
     },
     "da779ed5966b46a9bea4410321f37487": {
      "model_module": "@jupyter-widgets/controls",
      "model_module_version": "2.0.0",
      "model_name": "HBoxModel",
      "state": {
       "children": [
        "IPY_MODEL_7468de2f7aad4bad9f6a97a2937641cd",
        "IPY_MODEL_0665194fff954a44b5ebd60b6587b098"
       ],
       "layout": "IPY_MODEL_e81ae6ea0dfc4359b3b172f8ebfa1bd0"
      }
     },
     "db3f708e87f448e6b0ba569cbc6d2efd": {
      "model_module": "@jupyter-widgets/controls",
      "model_module_version": "2.0.0",
      "model_name": "PlayModel",
      "state": {
       "layout": "IPY_MODEL_8c3ef300d1ac4763b74491ad4e88d99d",
       "max": 0,
       "style": "IPY_MODEL_4d69e6e753cb43039db9c2c72d0a1493"
      }
     },
     "dbfe83047cf64f8489f643b04359eee0": {
      "model_module": "@jupyter-widgets/controls",
      "model_module_version": "2.0.0",
      "model_name": "LinkModel",
      "state": {
       "source": [
        "IPY_MODEL_db3f708e87f448e6b0ba569cbc6d2efd",
        "max"
       ],
       "target": [
        "IPY_MODEL_3e2e05a2a9f6471ab596a9389978509b",
        "max_frame"
       ]
      }
     },
     "dd6d94f3607a429391c9e4f4ea5ecb53": {
      "model_module": "@jupyter-widgets/controls",
      "model_module_version": "2.0.0",
      "model_name": "PlayModel",
      "state": {
       "layout": "IPY_MODEL_853098a5756a4cdf916f55a5dc34ca87",
       "max": 0,
       "style": "IPY_MODEL_d5da2987f2b9407e8c74542861fa5503"
      }
     },
     "de26e53224a246509643ec161adfc905": {
      "model_module": "@jupyter-widgets/controls",
      "model_module_version": "2.0.0",
      "model_name": "IntSliderModel",
      "state": {
       "behavior": "drag-tap",
       "layout": "IPY_MODEL_c851a29f0e8843a0b1e9b3f2580395b2",
       "max": 0,
       "style": "IPY_MODEL_cbdd9285e49f4b81a08146e6d3531730"
      }
     },
     "df19eb6bb3094250bc6b7eea1ef809d7": {
      "model_module": "@jupyter-widgets/controls",
      "model_module_version": "2.0.0",
      "model_name": "IntSliderModel",
      "state": {
       "behavior": "drag-tap",
       "layout": "IPY_MODEL_940d045a407e48149a27c50c19f9c006",
       "max": 0,
       "style": "IPY_MODEL_fe16b01aa6b642a5b430b5be684bf032"
      }
     },
     "df3361a1933a4d0180ca826e01f1febe": {
      "model_module": "@jupyter-widgets/controls",
      "model_module_version": "2.0.0",
      "model_name": "PlayModel",
      "state": {
       "layout": "IPY_MODEL_8bfd19a645e242ab8e09dd65c490fa72",
       "max": 0,
       "style": "IPY_MODEL_3eb24a689fce477992d20fcd17bb0ce1"
      }
     },
     "df5a7671f4af44eeba931b5d031394a7": {
      "model_module": "@jupyter-widgets/controls",
      "model_module_version": "2.0.0",
      "model_name": "IntSliderModel",
      "state": {
       "behavior": "drag-tap",
       "layout": "IPY_MODEL_bdf3e68c17fa47a7955a212cecf58c47",
       "max": 0,
       "style": "IPY_MODEL_8e822445c125452aaea94150db44b436"
      }
     },
     "df76ea12d34f49cb9fbf963a9c9086d1": {
      "model_module": "@jupyter-widgets/controls",
      "model_module_version": "2.0.0",
      "model_name": "LinkModel",
      "state": {
       "source": [
        "IPY_MODEL_b991308bee5542069bbeb33a9cf82c08",
        "max"
       ],
       "target": [
        "IPY_MODEL_b40e0b7349614d03a7603d297de7f5fe",
        "max_frame"
       ]
      }
     },
     "e0140ee142a04e8699b78e765c0234e2": {
      "model_module": "@jupyter-widgets/controls",
      "model_module_version": "2.0.0",
      "model_name": "LinkModel",
      "state": {
       "source": [
        "IPY_MODEL_e9ef52e3b647475c9b34ba0762d15699",
        "value"
       ],
       "target": [
        "IPY_MODEL_ec5f07d25a4d43a1aa26b291d5ab9dc2",
        "value"
       ]
      }
     },
     "e02503f67ecb4fb883d058a114c98c30": {
      "model_module": "@jupyter-widgets/controls",
      "model_module_version": "2.0.0",
      "model_name": "PlayModel",
      "state": {
       "layout": "IPY_MODEL_052ecb9f63734418918bf57036d3dd1b",
       "max": 0,
       "style": "IPY_MODEL_29267163eee1482297d10fb39c96ce58"
      }
     },
     "e0771391508b4d9791508d5c6c83cbe2": {
      "model_module": "@jupyter-widgets/controls",
      "model_module_version": "2.0.0",
      "model_name": "ImageModel",
      "state": {
       "layout": "IPY_MODEL_d61a0af3d3184bf39bffe854ac974adc",
       "width": "900.0"
      }
     },
     "e1226160e28442ddbd82b6bed4460720": {
      "model_module": "@jupyter-widgets/controls",
      "model_module_version": "2.0.0",
      "model_name": "LinkModel",
      "state": {
       "source": [
        "IPY_MODEL_3556f5afd38e492a8211561fd2d4d8b7",
        "value"
       ],
       "target": [
        "IPY_MODEL_2974d983e4044156b3a5af655522f17b",
        "frame"
       ]
      }
     },
     "e1939341ce4f4eb299f262aacfdd558e": {
      "model_module": "@jupyter-widgets/controls",
      "model_module_version": "2.0.0",
      "model_name": "HBoxModel",
      "state": {
       "children": [
        "IPY_MODEL_839ed00b5d5e4025be16f0e0fbc1cf77",
        "IPY_MODEL_185853e5acbc47dba420c3f405de44e7"
       ],
       "layout": "IPY_MODEL_a9032b6e4acf41ad997109c6941f290d"
      }
     },
     "e26b3610407148eaa8ddae7ae8c7e7db": {
      "model_module": "@jupyter-widgets/controls",
      "model_module_version": "2.0.0",
      "model_name": "LinkModel",
      "state": {
       "source": [
        "IPY_MODEL_d96a922c533e4cf4baa171ec2ecab9e5",
        "max"
       ],
       "target": [
        "IPY_MODEL_185853e5acbc47dba420c3f405de44e7",
        "max_frame"
       ]
      }
     },
     "e29c8496b19849189b41c2098181dcc3": {
      "model_module": "@jupyter-widgets/controls",
      "model_module_version": "2.0.0",
      "model_name": "DescriptionStyleModel",
      "state": {
       "description_width": ""
      }
     },
     "e2e78d89698c4ff49170ca933830f5cf": {
      "model_module": "@jupyter-widgets/controls",
      "model_module_version": "2.0.0",
      "model_name": "ButtonModel",
      "state": {
       "icon": "compress",
       "layout": "IPY_MODEL_35cc157b92b44f03a978a2490ee63278",
       "style": "IPY_MODEL_f9e7067afd8a4311aa85596f3e288796",
       "tooltip": null
      }
     },
     "e3d2f044162f425791e35f03bc7bf662": {
      "model_module": "@jupyter-widgets/base",
      "model_module_version": "2.0.0",
      "model_name": "LayoutModel",
      "state": {}
     },
     "e4545657d3c64880a88694104bf88f2c": {
      "model_module": "@jupyter-widgets/base",
      "model_module_version": "2.0.0",
      "model_name": "LayoutModel",
      "state": {
       "width": "34px"
      }
     },
     "e4946b5132fb449eb7f1c07f2abdddf8": {
      "model_module": "@jupyter-widgets/base",
      "model_module_version": "2.0.0",
      "model_name": "LayoutModel",
      "state": {}
     },
     "e4ee3d2a9c214963bc1fd01447cfee07": {
      "model_module": "@jupyter-widgets/controls",
      "model_module_version": "2.0.0",
      "model_name": "PlayModel",
      "state": {
       "layout": "IPY_MODEL_2f9884a3df3a4be7866a37f9a217902b",
       "max": 0,
       "style": "IPY_MODEL_62395d386371419298fe9f4754683813"
      }
     },
     "e55dd6109b454fb7b26f1d797bbef0b0": {
      "model_module": "@jupyter-widgets/controls",
      "model_module_version": "2.0.0",
      "model_name": "LinkModel",
      "state": {
       "source": [
        "IPY_MODEL_1794b5f369584dfb955b8b7396d1db1a",
        "value"
       ],
       "target": [
        "IPY_MODEL_48750f6104eb4f228e2c780ea88104c2",
        "frame"
       ]
      }
     },
     "e594601b595d4f478bd77374af9cbb02": {
      "model_module": "@jupyter-widgets/controls",
      "model_module_version": "2.0.0",
      "model_name": "LinkModel",
      "state": {
       "source": [
        "IPY_MODEL_1dc96d1aeb554de0bbdb9f12268716ce",
        "max"
       ],
       "target": [
        "IPY_MODEL_6cffb0b2f61e4c52a82f37fc7faf2c10",
        "max_frame"
       ]
      }
     },
     "e6c95788a1524ee09e91cd6851fd2dde": {
      "model_module": "@jupyter-widgets/controls",
      "model_module_version": "2.0.0",
      "model_name": "PlayModel",
      "state": {
       "layout": "IPY_MODEL_bb98fc112f974a09b8a45a3c89323156",
       "max": 0,
       "style": "IPY_MODEL_caddeda6457640ec89fa7bc769d16da5"
      }
     },
     "e7c3bc92224941adb6f6b79e27e52bb6": {
      "model_module": "@jupyter-widgets/controls",
      "model_module_version": "2.0.0",
      "model_name": "SliderStyleModel",
      "state": {
       "description_width": ""
      }
     },
     "e7e56b7b65b84c5e9b16ccf7c86a2568": {
      "model_module": "@jupyter-widgets/controls",
      "model_module_version": "2.0.0",
      "model_name": "LinkModel",
      "state": {
       "source": [
        "IPY_MODEL_ec5f07d25a4d43a1aa26b291d5ab9dc2",
        "max"
       ],
       "target": [
        "IPY_MODEL_ed00a2e01ae9483d950da64cc57f4175",
        "max_frame"
       ]
      }
     },
     "e7f04d99c83145738a562116d0f3900f": {
      "model_module": "@jupyter-widgets/base",
      "model_module_version": "2.0.0",
      "model_name": "LayoutModel",
      "state": {}
     },
     "e81ae6ea0dfc4359b3b172f8ebfa1bd0": {
      "model_module": "@jupyter-widgets/base",
      "model_module_version": "2.0.0",
      "model_name": "LayoutModel",
      "state": {}
     },
     "e83fd5ed9ae3418cb643ee19d9b91491": {
      "model_module": "@jupyter-widgets/base",
      "model_module_version": "2.0.0",
      "model_name": "LayoutModel",
      "state": {}
     },
     "e866d739e8cc451eab0e222685bebf6f": {
      "model_module": "@jupyter-widgets/controls",
      "model_module_version": "2.0.0",
      "model_name": "SliderStyleModel",
      "state": {
       "description_width": ""
      }
     },
     "e87baf8d95454e39993aafb0d6abed94": {
      "model_module": "@jupyter-widgets/base",
      "model_module_version": "2.0.0",
      "model_name": "LayoutModel",
      "state": {}
     },
     "e8a59b5a10754b038c928bee0c5b43ee": {
      "model_module": "@jupyter-widgets/base",
      "model_module_version": "2.0.0",
      "model_name": "LayoutModel",
      "state": {}
     },
     "e8dbb8a9568247d4929156324850f00b": {
      "model_module": "@jupyter-widgets/controls",
      "model_module_version": "2.0.0",
      "model_name": "LinkModel",
      "state": {
       "source": [
        "IPY_MODEL_1794b5f369584dfb955b8b7396d1db1a",
        "value"
       ],
       "target": [
        "IPY_MODEL_3a51ad6632e741b3b082281c7cdc5eea",
        "value"
       ]
      }
     },
     "e8eba682880841969012725d6a637202": {
      "model_module": "@jupyter-widgets/controls",
      "model_module_version": "2.0.0",
      "model_name": "HBoxModel",
      "state": {
       "children": [
        "IPY_MODEL_ca2e905796394ad8a41b826daa584078",
        "IPY_MODEL_3848b4d85de64c5daf1018680af89405"
       ],
       "layout": "IPY_MODEL_5a40b22995be431b9d7cb2f2d38d932e"
      }
     },
     "e980dca3026c4812aab7d321ade3377f": {
      "model_module": "@jupyter-widgets/controls",
      "model_module_version": "2.0.0",
      "model_name": "HBoxModel",
      "state": {
       "children": [
        "IPY_MODEL_22176f1dc0334a59a3a3875411b57383",
        "IPY_MODEL_1f5f73894670477da7c1e90b15659737"
       ],
       "layout": "IPY_MODEL_c0ab9413bcc14bdda6db60393d766b5f"
      }
     },
     "e99b9dbc3b0641148e0d3ceb51d5bdda": {
      "model_module": "@jupyter-widgets/controls",
      "model_module_version": "2.0.0",
      "model_name": "ImageModel",
      "state": {
       "layout": "IPY_MODEL_704ee2b3d52c4d67b8a0990fa5c329f9",
       "width": "900.0"
      }
     },
     "e9ef52e3b647475c9b34ba0762d15699": {
      "model_module": "@jupyter-widgets/controls",
      "model_module_version": "2.0.0",
      "model_name": "PlayModel",
      "state": {
       "layout": "IPY_MODEL_a020243a14dd4df798f2329f8e297e59",
       "max": 0,
       "style": "IPY_MODEL_515350edc5b8487eb6e04b2814492c24"
      }
     },
     "ea8ba8adaf2e4a8194c54423dda1d0a2": {
      "model_module": "@jupyter-widgets/controls",
      "model_module_version": "2.0.0",
      "model_name": "ButtonStyleModel",
      "state": {
       "font_family": null,
       "font_size": null,
       "font_style": null,
       "font_variant": null,
       "font_weight": null,
       "text_color": null,
       "text_decoration": null
      }
     },
     "eb75edaa972e498f966577755e394a2c": {
      "model_module": "@jupyter-widgets/controls",
      "model_module_version": "2.0.0",
      "model_name": "LinkModel",
      "state": {
       "source": [
        "IPY_MODEL_2e7752c986c146e38ad7fd058d41441f",
        "value"
       ],
       "target": [
        "IPY_MODEL_1dc96d1aeb554de0bbdb9f12268716ce",
        "value"
       ]
      }
     },
     "ebc42a649ead41899dbe303e276b36ae": {
      "model_module": "@jupyter-widgets/controls",
      "model_module_version": "2.0.0",
      "model_name": "PlayModel",
      "state": {
       "layout": "IPY_MODEL_bebd4fce83e74e32b3d70841917e0d2e",
       "max": 0,
       "style": "IPY_MODEL_3e86a681e62e4d529f1fe2828b0557bb"
      }
     },
     "ebfe4126a9604168aa1dfa35b7b5ee00": {
      "model_module": "@jupyter-widgets/base",
      "model_module_version": "2.0.0",
      "model_name": "LayoutModel",
      "state": {}
     },
     "ec5f07d25a4d43a1aa26b291d5ab9dc2": {
      "model_module": "@jupyter-widgets/controls",
      "model_module_version": "2.0.0",
      "model_name": "IntSliderModel",
      "state": {
       "behavior": "drag-tap",
       "layout": "IPY_MODEL_47b5a7035b5b4b738614dbe77d1270ba",
       "max": 0,
       "style": "IPY_MODEL_7ac11e3292b343ef970a8871a535513b"
      }
     },
     "ec616610ad454624bb68791697011f44": {
      "model_module": "@jupyter-widgets/controls",
      "model_module_version": "2.0.0",
      "model_name": "ButtonModel",
      "state": {
       "icon": "compress",
       "layout": "IPY_MODEL_fddf2a30a0264cee9983066d631ec78a",
       "style": "IPY_MODEL_786be7e9344b4561acbeb5834e87892a",
       "tooltip": null
      }
     },
     "ec73d1c0bd1a4a8397e5db3e943b07dd": {
      "model_module": "@jupyter-widgets/controls",
      "model_module_version": "2.0.0",
      "model_name": "HBoxModel",
      "state": {
       "children": [
        "IPY_MODEL_c7a1b76786844686a16d4fef2d4eaf5f",
        "IPY_MODEL_9921cd17b7834399b7803fd4582f8a4b"
       ],
       "layout": "IPY_MODEL_da3c201b63bd496cb08ead00672bbb8e"
      }
     },
     "ecae720721ec45fc8a622e12d80ad5bf": {
      "model_module": "@jupyter-widgets/base",
      "model_module_version": "2.0.0",
      "model_name": "LayoutModel",
      "state": {}
     },
     "ed00a2e01ae9483d950da64cc57f4175": {
      "model_module": "nglview-js-widgets",
      "model_module_version": "3.0.8",
      "model_name": "NGLModel",
      "state": {
       "_camera_orientation": [
        20.283246487951367,
        0,
        0,
        0,
        0,
        20.283246487951367,
        0,
        0,
        0,
        0,
        20.283246487951367,
        0,
        -19.729999542236328,
        -20,
        -20.270000457763672,
        1
       ],
       "_camera_str": "orthographic",
       "_gui_theme": null,
       "_ibtn_fullscreen": "IPY_MODEL_44bf3cb2732d4198ae4391d5ae485afc",
       "_igui": null,
       "_iplayer": "IPY_MODEL_c98efa1815274494a0697f3729bb501d",
       "_ngl_color_dict": {},
       "_ngl_coordinate_resource": {},
       "_ngl_full_stage_parameters": {
        "ambientColor": 14540253,
        "ambientIntensity": 0.2,
        "backgroundColor": "white",
        "cameraEyeSep": 0.3,
        "cameraFov": 40,
        "cameraType": "orthographic",
        "clipDist": -100,
        "clipFar": 100,
        "clipMode": "scene",
        "clipNear": 0,
        "clipScale": "relative",
        "fogFar": 100,
        "fogNear": 50,
        "hoverTimeout": 0,
        "impostor": true,
        "lightColor": 14540253,
        "lightIntensity": 1,
        "mousePreset": "default",
        "panSpeed": 1,
        "quality": "medium",
        "rotateSpeed": 2,
        "sampleLevel": 3,
        "tooltip": true,
        "workerDefault": true,
        "zoomSpeed": 1.2
       },
       "_ngl_msg_archive": [
        {
         "args": [
          {
           "binary": false,
           "data": "TITLE     MOL_GMX.gro created by acpype (Rev: 0) on Thu Feb 15 00:22:45 2018\nREMARK    THIS IS A SIMULATION BOX\nCRYST1   40.000   40.000   40.000  90.00  90.00  90.00 P 1           1\nMODEL        1\nATOM      1  C1  TOL     1      20.000  21.200  19.990  1.00  0.00            \nATOM      2  C2  TOL     1      20.720  20.000  19.990  1.00  0.00            \nATOM      3  C3  TOL     1      20.000  18.800  19.990  1.00  0.00            \nATOM      4  C4  TOL     1      18.610  18.800  20.000  1.00  0.00            \nATOM      5  C5  TOL     1      17.910  20.000  20.010  1.00  0.00            \nATOM      6  C6  TOL     1      18.610  21.200  20.000  1.00  0.00            \nATOM      7  C7  TOL     1      22.230  20.000  20.010  1.00  0.00            \nATOM      8  H1  TOL     1      22.630  19.120  19.510  1.00  0.00            \nATOM      9  H2  TOL     1      22.630  20.880  19.510  1.00  0.00            \nATOM     10  H3  TOL     1      22.610  20.000  21.030  1.00  0.00            \nATOM     11  H4  TOL     1      20.540  17.860  19.980  1.00  0.00            \nATOM     12  H5  TOL     1      18.080  17.860  20.000  1.00  0.00            \nATOM     13  H6  TOL     1      16.830  20.000  20.020  1.00  0.00            \nATOM     14  H7  TOL     1      18.080  22.140  20.000  1.00  0.00            \nATOM     15  H8  TOL     1      20.540  22.140  19.980  1.00  0.00            \nTER\nENDMDL\n",
           "type": "blob"
          }
         ],
         "kwargs": {
          "defaultRepresentation": true,
          "ext": "pdb"
         },
         "methodName": "loadFile",
         "reconstruc_color_scheme": false,
         "target": "Stage",
         "type": "call_method"
        },
        {
         "args": [
          "300.0px",
          "300.0px"
         ],
         "kwargs": {},
         "methodName": "setSize",
         "reconstruc_color_scheme": false,
         "target": "Widget",
         "type": "call_method"
        },
        {
         "args": [
          {
           "backgroundColor": "white",
           "clipDist": -100,
           "sampleLevel": 3
          }
         ],
         "kwargs": {},
         "methodName": "setParameters",
         "reconstruc_color_scheme": false,
         "target": "Widget",
         "type": "call_method"
        },
        {
         "args": [],
         "kwargs": {
          "cameraType": "orthographic"
         },
         "methodName": "setParameters",
         "reconstruc_color_scheme": false,
         "target": "Stage",
         "type": "call_method"
        }
       ],
       "_ngl_original_stage_parameters": {
        "ambientColor": 14540253,
        "ambientIntensity": 0.2,
        "backgroundColor": "white",
        "cameraEyeSep": 0.3,
        "cameraFov": 40,
        "cameraType": "perspective",
        "clipDist": 10,
        "clipFar": 100,
        "clipMode": "scene",
        "clipNear": 0,
        "clipScale": "relative",
        "fogFar": 100,
        "fogNear": 50,
        "hoverTimeout": 0,
        "impostor": true,
        "lightColor": 14540253,
        "lightIntensity": 1,
        "mousePreset": "default",
        "panSpeed": 1,
        "quality": "medium",
        "rotateSpeed": 2,
        "sampleLevel": 0,
        "tooltip": true,
        "workerDefault": true,
        "zoomSpeed": 1.2
       },
       "_ngl_repr_dict": {
        "0": {
         "0": {
          "params": {
           "aspectRatio": 1.5,
           "assembly": "default",
           "bondScale": 0.3,
           "bondSpacing": 0.75,
           "clipCenter": {
            "x": 0,
            "y": 0,
            "z": 0
           },
           "clipNear": 0,
           "clipRadius": 0,
           "colorMode": "hcl",
           "colorReverse": false,
           "colorScale": "",
           "colorScheme": "element",
           "colorValue": 9474192,
           "cylinderOnly": false,
           "defaultAssembly": "",
           "depthWrite": true,
           "diffuse": 16777215,
           "diffuseInterior": false,
           "disableImpostor": false,
           "disablePicking": false,
           "flatShaded": false,
           "interiorColor": 2236962,
           "interiorDarkening": 0,
           "lazy": false,
           "lineOnly": false,
           "linewidth": 2,
           "matrix": {
            "elements": [
             1,
             0,
             0,
             0,
             0,
             1,
             0,
             0,
             0,
             0,
             1,
             0,
             0,
             0,
             0,
             1
            ]
           },
           "metalness": 0,
           "multipleBond": "off",
           "opacity": 1,
           "openEnded": true,
           "quality": "high",
           "radialSegments": 20,
           "radiusData": {},
           "radiusScale": 2,
           "radiusSize": 0.15,
           "radiusType": "size",
           "roughness": 0.4,
           "sele": "",
           "side": "double",
           "sphereDetail": 2,
           "useInteriorColor": true,
           "visible": true,
           "wireframe": false
          },
          "type": "ball+stick"
         }
        }
       },
       "_ngl_serialize": false,
       "_ngl_version": "2.0.0-dev.39",
       "_ngl_view_id": [
        "DDDD00C5-66EA-42A1-AF9A-75A76E428A83"
       ],
       "_player_dict": {},
       "_scene_position": {},
       "_scene_rotation": {},
       "_synced_model_ids": [],
       "_synced_repr_model_ids": [],
       "_view_height": "",
       "_view_width": "",
       "background": "white",
       "frame": 0,
       "gui_style": null,
       "layout": "IPY_MODEL_717268102f1b46be99d1b4c90206be58",
       "max_frame": 0,
       "n_components": 1,
       "picked": {}
      }
     },
     "ed1c9c6fff9245529ebfc32e6915dfc7": {
      "model_module": "@jupyter-widgets/controls",
      "model_module_version": "2.0.0",
      "model_name": "LinkModel",
      "state": {
       "source": [
        "IPY_MODEL_1946d65a913f4fe48192c513d89440ed",
        "value"
       ],
       "target": [
        "IPY_MODEL_cfb488d788014c51b7e16a8136bf1a2b",
        "value"
       ]
      }
     },
     "eda6db579bbf49c6a46276a62fdb2547": {
      "model_module": "@jupyter-widgets/controls",
      "model_module_version": "2.0.0",
      "model_name": "LinkModel",
      "state": {
       "source": [
        "IPY_MODEL_a755b468981f48c4b38e41d31ad8e6d7",
        "value"
       ],
       "target": [
        "IPY_MODEL_69c308ff5813493a8b33cc88d9aaf634",
        "value"
       ]
      }
     },
     "edaa1f2e68a94aafa00387370ee10cce": {
      "model_module": "nglview-js-widgets",
      "model_module_version": "3.0.8",
      "model_name": "ColormakerRegistryModel",
      "state": {
       "_msg_ar": [],
       "_msg_q": [],
       "_ready": true,
       "layout": "IPY_MODEL_91ac8a04ce2b4ba097c3cf56963cc5e6"
      }
     },
     "edc67a51dd1346f9958323376d2b60b0": {
      "model_module": "@jupyter-widgets/base",
      "model_module_version": "2.0.0",
      "model_name": "LayoutModel",
      "state": {}
     },
     "ee01a1af86f04c4184755ab8231697e0": {
      "model_module": "@jupyter-widgets/controls",
      "model_module_version": "2.0.0",
      "model_name": "ImageModel",
      "state": {
       "layout": "IPY_MODEL_ef01f071c1a64acf8a93d8c913e38cd7",
       "width": "900.0"
      }
     },
     "ee33528dd00c4d4488cca2ff68e13855": {
      "model_module": "@jupyter-widgets/controls",
      "model_module_version": "2.0.0",
      "model_name": "VBoxModel",
      "state": {
       "children": [
        "IPY_MODEL_da1174a73ffc4e3c96f926bf310807f8"
       ],
       "layout": "IPY_MODEL_8e770060652f4dc6aaa9c7e27be60e40"
      }
     },
     "ee728d77848544d580242b27b76fcc9a": {
      "model_module": "@jupyter-widgets/base",
      "model_module_version": "2.0.0",
      "model_name": "LayoutModel",
      "state": {}
     },
     "ef01f071c1a64acf8a93d8c913e38cd7": {
      "model_module": "@jupyter-widgets/base",
      "model_module_version": "2.0.0",
      "model_name": "LayoutModel",
      "state": {}
     },
     "f00db5060036428184173526be0c05ad": {
      "model_module": "@jupyter-widgets/controls",
      "model_module_version": "2.0.0",
      "model_name": "IntSliderModel",
      "state": {
       "behavior": "drag-tap",
       "layout": "IPY_MODEL_f4ffa700350e449eb693d655f221d0c5",
       "max": 0,
       "style": "IPY_MODEL_9060e5e01a094c3a8e88cda1cf56065c"
      }
     },
     "f070c7449d744c6eb8ec90772c11eda4": {
      "model_module": "@jupyter-widgets/controls",
      "model_module_version": "2.0.0",
      "model_name": "IntSliderModel",
      "state": {
       "behavior": "drag-tap",
       "layout": "IPY_MODEL_1d248490d67f428b935ac2bbcfbae99f",
       "max": 0,
       "style": "IPY_MODEL_681dbe04a7864ae1802bbd9e258a9608"
      }
     },
     "f139745ce91941a1ba52a52a6f724bb9": {
      "model_module": "@jupyter-widgets/controls",
      "model_module_version": "2.0.0",
      "model_name": "LinkModel",
      "state": {
       "source": [
        "IPY_MODEL_0d3907768d4b426fa9b0ca9c47d5f51c",
        "max"
       ],
       "target": [
        "IPY_MODEL_82f46a6e08d24c0caf2fd023b46fe10f",
        "max_frame"
       ]
      }
     },
     "f14609ad52a9430dbc0247d758360ba1": {
      "model_module": "@jupyter-widgets/base",
      "model_module_version": "2.0.0",
      "model_name": "LayoutModel",
      "state": {}
     },
     "f159149cccf94f2fb002fa3f49124712": {
      "model_module": "nglview-js-widgets",
      "model_module_version": "3.0.8",
      "model_name": "NGLModel",
      "state": {
       "_camera_orientation": [
        28.403140029603975,
        0,
        0,
        0,
        0,
        28.403140029603975,
        0,
        0,
        0,
        0,
        28.403140029603975,
        0,
        -0.35699987411499023,
        0.14499998092651367,
        -0.09600001573562622,
        1
       ],
       "_camera_str": "orthographic",
       "_gui_theme": null,
       "_ibtn_fullscreen": "IPY_MODEL_2aaca15c65cc454ab1843760f56ec6f9",
       "_igui": null,
       "_iplayer": "IPY_MODEL_aa7c3ef61e714526b7ecd472c8481966",
       "_ngl_color_dict": {},
       "_ngl_coordinate_resource": {},
       "_ngl_full_stage_parameters": {
        "ambientColor": 14540253,
        "ambientIntensity": 0.2,
        "backgroundColor": "white",
        "cameraEyeSep": 0.3,
        "cameraFov": 40,
        "cameraType": "orthographic",
        "clipDist": -100,
        "clipFar": 100,
        "clipMode": "scene",
        "clipNear": 0,
        "clipScale": "relative",
        "fogFar": 100,
        "fogNear": 50,
        "hoverTimeout": 0,
        "impostor": true,
        "lightColor": 14540253,
        "lightIntensity": 1,
        "mousePreset": "default",
        "panSpeed": 1,
        "quality": "medium",
        "rotateSpeed": 2,
        "sampleLevel": 3,
        "tooltip": true,
        "workerDefault": true,
        "zoomSpeed": 1.2
       },
       "_ngl_msg_archive": [
        {
         "args": [
          {
           "binary": false,
           "data": "HETATM    1  C1  SUR     1       5.068  -1.116   0.968  1.00  0.00           C\nHETATM    2  C2  SUR     1       3.683  -0.937   0.400  1.00  0.00           C\nHETATM    3  N1  SUR     1       2.956   0.117   0.730  1.00  0.00           N\nHETATM    4  C3  SUR     1       1.738   0.281   0.234  1.00  0.00           C\nHETATM    5  N2  SUR     1       1.206  -0.596  -0.604  1.00  0.00           N\nHETATM    6  C4  SUR     1       1.880  -1.672  -0.975  1.00  0.00           C\nHETATM    7  C5  SUR     1       3.159  -1.871  -0.480  1.00  0.00           C\nHETATM    8  N3  SUR     1       1.004   1.396   0.601  1.00  0.00           N\nHETATM    9  S1  SUR     1      -0.342   1.824  -0.265  1.00  0.00           S\nHETATM   10  O1  SUR     1      -0.884   2.957   0.398  1.00  0.00           O\nHETATM   11  O2  SUR     1       0.048   1.778  -1.631  1.00  0.00           O\nHETATM   12  C6  SUR     1      -1.529   0.538  -0.063  1.00  0.00           C\nHETATM   13  C7  SUR     1      -2.436   0.594   0.979  1.00  0.00           C\nHETATM   14  C8  SUR     1      -3.368  -0.412   1.141  1.00  0.00           C\nHETATM   15  C9  SUR     1      -3.394  -1.481   0.255  1.00  0.00           C\nHETATM   16  C10 SUR     1      -2.481  -1.535  -0.791  1.00  0.00           C\nHETATM   17  C11 SUR     1      -1.556  -0.523  -0.950  1.00  0.00           C\nHETATM   18  N4  SUR     1      -4.335  -2.501   0.415  1.00  0.00           N\nHETATM   19  H1  SUR     1       5.008  -1.679   1.899  1.00  0.00           H\nHETATM   20  H2  SUR     1       5.686  -1.659   0.253  1.00  0.00           H\nHETATM   21  H3  SUR     1       5.510  -0.139   1.162  1.00  0.00           H\nHETATM   22  H4  SUR     1       1.441  -2.384  -1.658  1.00  0.00           H\nHETATM   23  H5  SUR     1       3.732  -2.741  -0.767  1.00  0.00           H\nHETATM   24  H6  SUR     1       1.277   1.927   1.366  1.00  0.00           H\nHETATM   25  H7  SUR     1      -2.416   1.426   1.668  1.00  0.00           H\nHETATM   26  H8  SUR     1      -4.076  -0.367   1.955  1.00  0.00           H\nHETATM   27  H9  SUR     1      -2.499  -2.365  -1.482  1.00  0.00           H\nHETATM   28  H10 SUR     1      -0.846  -0.564  -1.763  1.00  0.00           H\nHETATM   29  H11 SUR     1      -4.972  -2.463   1.146  1.00  0.00           H\nHETATM   30  H12 SUR     1      -4.352  -3.247  -0.204  1.00  0.00           H\nCONECT    1   20   19   21    2\nCONECT   16   15   17   27\nCONECT   17   12   28   16\nCONECT    2    7    3    1\nCONECT    4    5    8    3\nCONECT    6    5    7   22\nCONECT    7    6    2   23\nCONECT   12    9   17   13\nCONECT   13   14   12   25\nCONECT   14   26   15   13\nCONECT   15   14   18   16\nCONECT   19    1\nCONECT   28   17\nCONECT   29   18\nCONECT   30   18\nCONECT   20    1\nCONECT   21    1\nCONECT   22    6\nCONECT   23    7\nCONECT   24    8\nCONECT   25   13\nCONECT   26   14\nCONECT   27   16\nCONECT    3    4    2\nCONECT    5    4    6\nCONECT    8    4    9   24\nCONECT   18   15   30   29\nCONECT   10    9\nCONECT   11    9\nCONECT    9    8   10   12   11\nEND\n",
           "type": "blob"
          }
         ],
         "kwargs": {
          "defaultRepresentation": true,
          "ext": "pdb"
         },
         "methodName": "loadFile",
         "reconstruc_color_scheme": false,
         "target": "Stage",
         "type": "call_method"
        },
        {
         "args": [
          "200px",
          "200px"
         ],
         "kwargs": {},
         "methodName": "setSize",
         "reconstruc_color_scheme": false,
         "target": "Widget",
         "type": "call_method"
        },
        {
         "args": [
          {
           "backgroundColor": "white",
           "clipDist": -100,
           "sampleLevel": 3
          }
         ],
         "kwargs": {},
         "methodName": "setParameters",
         "reconstruc_color_scheme": false,
         "target": "Widget",
         "type": "call_method"
        },
        {
         "args": [
          "unitcell"
         ],
         "component_index": 0,
         "kwargs": {
          "sele": "all"
         },
         "methodName": "addRepresentation",
         "reconstruc_color_scheme": false,
         "target": "compList",
         "type": "call_method"
        },
        {
         "args": [],
         "kwargs": {
          "cameraType": "orthographic"
         },
         "methodName": "setParameters",
         "reconstruc_color_scheme": false,
         "target": "Stage",
         "type": "call_method"
        }
       ],
       "_ngl_original_stage_parameters": {
        "ambientColor": 14540253,
        "ambientIntensity": 0.2,
        "backgroundColor": "white",
        "cameraEyeSep": 0.3,
        "cameraFov": 40,
        "cameraType": "perspective",
        "clipDist": 10,
        "clipFar": 100,
        "clipMode": "scene",
        "clipNear": 0,
        "clipScale": "relative",
        "fogFar": 100,
        "fogNear": 50,
        "hoverTimeout": 0,
        "impostor": true,
        "lightColor": 14540253,
        "lightIntensity": 1,
        "mousePreset": "default",
        "panSpeed": 1,
        "quality": "medium",
        "rotateSpeed": 2,
        "sampleLevel": 0,
        "tooltip": true,
        "workerDefault": true,
        "zoomSpeed": 1.2
       },
       "_ngl_repr_dict": {
        "0": {
         "0": {
          "params": {
           "aspectRatio": 1.5,
           "assembly": "default",
           "bondScale": 0.3,
           "bondSpacing": 0.75,
           "clipCenter": {
            "x": 0,
            "y": 0,
            "z": 0
           },
           "clipNear": 0,
           "clipRadius": 0,
           "colorMode": "hcl",
           "colorReverse": false,
           "colorScale": "",
           "colorScheme": "element",
           "colorValue": 9474192,
           "cylinderOnly": false,
           "defaultAssembly": "",
           "depthWrite": true,
           "diffuse": 16777215,
           "diffuseInterior": false,
           "disableImpostor": false,
           "disablePicking": false,
           "flatShaded": false,
           "interiorColor": 2236962,
           "interiorDarkening": 0,
           "lazy": false,
           "lineOnly": false,
           "linewidth": 2,
           "matrix": {
            "elements": [
             1,
             0,
             0,
             0,
             0,
             1,
             0,
             0,
             0,
             0,
             1,
             0,
             0,
             0,
             0,
             1
            ]
           },
           "metalness": 0,
           "multipleBond": "off",
           "opacity": 1,
           "openEnded": true,
           "quality": "high",
           "radialSegments": 20,
           "radiusData": {},
           "radiusScale": 2,
           "radiusSize": 0.15,
           "radiusType": "size",
           "roughness": 0.4,
           "sele": "",
           "side": "double",
           "sphereDetail": 2,
           "useInteriorColor": true,
           "visible": true,
           "wireframe": false
          },
          "type": "ball+stick"
         },
         "1": {
          "params": {
           "clipCenter": {
            "x": 0,
            "y": 0,
            "z": 0
           },
           "clipNear": 0,
           "clipRadius": 0,
           "colorMode": "hcl",
           "colorReverse": false,
           "colorScale": "",
           "colorScheme": "element",
           "colorValue": "orange",
           "defaultAssembly": "",
           "depthWrite": true,
           "diffuse": 16777215,
           "diffuseInterior": false,
           "disableImpostor": false,
           "disablePicking": false,
           "flatShaded": false,
           "interiorColor": 2236962,
           "interiorDarkening": 0,
           "lazy": false,
           "matrix": {
            "elements": [
             1,
             0,
             0,
             0,
             0,
             1,
             0,
             0,
             0,
             0,
             1,
             0,
             0,
             0,
             0,
             1
            ]
           },
           "metalness": 0,
           "opacity": 1,
           "quality": "medium",
           "radialSegments": 10,
           "radiusData": {},
           "radiusScale": 1,
           "radiusSize": 0.5,
           "radiusType": "vdw",
           "roughness": 0.4,
           "sele": "all",
           "side": "double",
           "sphereDetail": 1,
           "useInteriorColor": true,
           "visible": true,
           "wireframe": false
          },
          "type": "unitcell"
         }
        }
       },
       "_ngl_serialize": false,
       "_ngl_version": "2.0.0-dev.39",
       "_ngl_view_id": [
        "CBA5953C-C62C-4428-A7D8-681156C677B5"
       ],
       "_player_dict": {},
       "_scene_position": {},
       "_scene_rotation": {},
       "_synced_model_ids": [],
       "_synced_repr_model_ids": [],
       "_view_height": "",
       "_view_width": "",
       "background": "white",
       "frame": 0,
       "gui_style": null,
       "layout": "IPY_MODEL_69411d68318a4abb973afebc2b81f59b",
       "max_frame": 0,
       "n_components": 1,
       "picked": {}
      }
     },
     "f1b0ecc0eb314c3cb6d2d9bb831b55d3": {
      "model_module": "@jupyter-widgets/controls",
      "model_module_version": "2.0.0",
      "model_name": "ButtonModel",
      "state": {
       "icon": "compress",
       "layout": "IPY_MODEL_e4545657d3c64880a88694104bf88f2c",
       "style": "IPY_MODEL_d004462eda954d8f91c74591ba87731e",
       "tooltip": null
      }
     },
     "f245b3cb7538457888e1256945d07cdc": {
      "model_module": "@jupyter-widgets/controls",
      "model_module_version": "2.0.0",
      "model_name": "PlayModel",
      "state": {
       "layout": "IPY_MODEL_008ab1cc2c5c4458b49d2696d271596b",
       "max": 0,
       "style": "IPY_MODEL_3fe819ed93fc45ddb75339b5870c159f"
      }
     },
     "f2618dd9874d4fdb8fffe45458c34a95": {
      "model_module": "nglview-js-widgets",
      "model_module_version": "3.0.8",
      "model_name": "NGLModel",
      "state": {
       "_camera_orientation": [
        44.935045071209125,
        18.115859697423968,
        -6.5608719602289005,
        0,
        -12.661893751721626,
        15.216505638648334,
        -44.704832980070165,
        0,
        -14.522598254974302,
        42.786227603974496,
        18.676738375647567,
        0,
        -19.729999542236328,
        -20,
        -20.270000457763672,
        1
       ],
       "_camera_str": "orthographic",
       "_gui_theme": null,
       "_ibtn_fullscreen": "IPY_MODEL_ba684cccef7a441a9cd6b14c8e83c946",
       "_igui": null,
       "_iplayer": "IPY_MODEL_e980dca3026c4812aab7d321ade3377f",
       "_ngl_color_dict": {},
       "_ngl_coordinate_resource": {},
       "_ngl_full_stage_parameters": {
        "ambientColor": 14540253,
        "ambientIntensity": 0.2,
        "backgroundColor": "white",
        "cameraEyeSep": 0.3,
        "cameraFov": 40,
        "cameraType": "orthographic",
        "clipDist": -100,
        "clipFar": 100,
        "clipMode": "scene",
        "clipNear": 0,
        "clipScale": "relative",
        "fogFar": 100,
        "fogNear": 50,
        "hoverTimeout": 0,
        "impostor": true,
        "lightColor": 14540253,
        "lightIntensity": 1,
        "mousePreset": "default",
        "panSpeed": 1,
        "quality": "medium",
        "rotateSpeed": 2,
        "sampleLevel": 3,
        "tooltip": true,
        "workerDefault": true,
        "zoomSpeed": 1.2
       },
       "_ngl_msg_archive": [
        {
         "args": [
          {
           "binary": false,
           "data": "TITLE     MOL_GMX.gro created by acpype (Rev: 0) on Thu Feb 15 00:22:45 2018\nREMARK    THIS IS A SIMULATION BOX\nCRYST1   40.000   40.000   40.000  90.00  90.00  90.00 P 1           1\nMODEL        1\nATOM      1  C1  TOL     1      20.000  21.200  19.990  1.00  0.00            \nATOM      2  C2  TOL     1      20.720  20.000  19.990  1.00  0.00            \nATOM      3  C3  TOL     1      20.000  18.800  19.990  1.00  0.00            \nATOM      4  C4  TOL     1      18.610  18.800  20.000  1.00  0.00            \nATOM      5  C5  TOL     1      17.910  20.000  20.010  1.00  0.00            \nATOM      6  C6  TOL     1      18.610  21.200  20.000  1.00  0.00            \nATOM      7  C7  TOL     1      22.230  20.000  20.010  1.00  0.00            \nATOM      8  H1  TOL     1      22.630  19.120  19.510  1.00  0.00            \nATOM      9  H2  TOL     1      22.630  20.880  19.510  1.00  0.00            \nATOM     10  H3  TOL     1      22.610  20.000  21.030  1.00  0.00            \nATOM     11  H4  TOL     1      20.540  17.860  19.980  1.00  0.00            \nATOM     12  H5  TOL     1      18.080  17.860  20.000  1.00  0.00            \nATOM     13  H6  TOL     1      16.830  20.000  20.020  1.00  0.00            \nATOM     14  H7  TOL     1      18.080  22.140  20.000  1.00  0.00            \nATOM     15  H8  TOL     1      20.540  22.140  19.980  1.00  0.00            \nTER\nENDMDL\n",
           "type": "blob"
          }
         ],
         "kwargs": {
          "defaultRepresentation": true,
          "ext": "pdb"
         },
         "methodName": "loadFile",
         "reconstruc_color_scheme": false,
         "target": "Stage",
         "type": "call_method"
        },
        {
         "args": [
          "400px",
          "400px"
         ],
         "kwargs": {},
         "methodName": "setSize",
         "reconstruc_color_scheme": false,
         "target": "Widget",
         "type": "call_method"
        },
        {
         "args": [
          {
           "backgroundColor": "white",
           "clipDist": -100,
           "sampleLevel": 3
          }
         ],
         "kwargs": {},
         "methodName": "setParameters",
         "reconstruc_color_scheme": false,
         "target": "Widget",
         "type": "call_method"
        },
        {
         "args": [
          "unitcell"
         ],
         "component_index": 0,
         "kwargs": {
          "sele": "all"
         },
         "methodName": "addRepresentation",
         "reconstruc_color_scheme": false,
         "target": "compList",
         "type": "call_method"
        },
        {
         "args": [],
         "kwargs": {
          "cameraType": "orthographic"
         },
         "methodName": "setParameters",
         "reconstruc_color_scheme": false,
         "target": "Stage",
         "type": "call_method"
        }
       ],
       "_ngl_original_stage_parameters": {
        "ambientColor": 14540253,
        "ambientIntensity": 0.2,
        "backgroundColor": "white",
        "cameraEyeSep": 0.3,
        "cameraFov": 40,
        "cameraType": "perspective",
        "clipDist": 10,
        "clipFar": 100,
        "clipMode": "scene",
        "clipNear": 0,
        "clipScale": "relative",
        "fogFar": 100,
        "fogNear": 50,
        "hoverTimeout": 0,
        "impostor": true,
        "lightColor": 14540253,
        "lightIntensity": 1,
        "mousePreset": "default",
        "panSpeed": 1,
        "quality": "medium",
        "rotateSpeed": 2,
        "sampleLevel": 0,
        "tooltip": true,
        "workerDefault": true,
        "zoomSpeed": 1.2
       },
       "_ngl_repr_dict": {
        "0": {
         "0": {
          "params": {
           "aspectRatio": 1.5,
           "assembly": "default",
           "bondScale": 0.3,
           "bondSpacing": 0.75,
           "clipCenter": {
            "x": 0,
            "y": 0,
            "z": 0
           },
           "clipNear": 0,
           "clipRadius": 0,
           "colorMode": "hcl",
           "colorReverse": false,
           "colorScale": "",
           "colorScheme": "element",
           "colorValue": 9474192,
           "cylinderOnly": false,
           "defaultAssembly": "",
           "depthWrite": true,
           "diffuse": 16777215,
           "diffuseInterior": false,
           "disableImpostor": false,
           "disablePicking": false,
           "flatShaded": false,
           "interiorColor": 2236962,
           "interiorDarkening": 0,
           "lazy": false,
           "lineOnly": false,
           "linewidth": 2,
           "matrix": {
            "elements": [
             1,
             0,
             0,
             0,
             0,
             1,
             0,
             0,
             0,
             0,
             1,
             0,
             0,
             0,
             0,
             1
            ]
           },
           "metalness": 0,
           "multipleBond": "off",
           "opacity": 1,
           "openEnded": true,
           "quality": "high",
           "radialSegments": 20,
           "radiusData": {},
           "radiusScale": 2,
           "radiusSize": 0.15,
           "radiusType": "size",
           "roughness": 0.4,
           "sele": "",
           "side": "double",
           "sphereDetail": 2,
           "useInteriorColor": true,
           "visible": true,
           "wireframe": false
          },
          "type": "ball+stick"
         },
         "1": {
          "params": {
           "clipCenter": {
            "x": 0,
            "y": 0,
            "z": 0
           },
           "clipNear": 0,
           "clipRadius": 0,
           "colorMode": "hcl",
           "colorReverse": false,
           "colorScale": "",
           "colorScheme": "element",
           "colorValue": "orange",
           "defaultAssembly": "",
           "depthWrite": true,
           "diffuse": 16777215,
           "diffuseInterior": false,
           "disableImpostor": false,
           "disablePicking": false,
           "flatShaded": false,
           "interiorColor": 2236962,
           "interiorDarkening": 0,
           "lazy": false,
           "matrix": {
            "elements": [
             1,
             0,
             0,
             0,
             0,
             1,
             0,
             0,
             0,
             0,
             1,
             0,
             0,
             0,
             0,
             1
            ]
           },
           "metalness": 0,
           "opacity": 1,
           "quality": "medium",
           "radialSegments": 10,
           "radiusData": {},
           "radiusScale": 1,
           "radiusSize": 0.19999999122077702,
           "radiusType": "vdw",
           "roughness": 0.4,
           "sele": "all",
           "side": "double",
           "sphereDetail": 1,
           "useInteriorColor": true,
           "visible": true,
           "wireframe": false
          },
          "type": "unitcell"
         }
        }
       },
       "_ngl_serialize": false,
       "_ngl_version": "2.0.0-dev.39",
       "_ngl_view_id": [
        "F00B6989-AE2C-49D3-ACEE-BB48407490A9"
       ],
       "_player_dict": {},
       "_scene_position": {},
       "_scene_rotation": {},
       "_synced_model_ids": [],
       "_synced_repr_model_ids": [],
       "_view_height": "",
       "_view_width": "",
       "background": "white",
       "frame": 0,
       "gui_style": null,
       "layout": "IPY_MODEL_46220f0188b94483add71c8a6cfe8449",
       "max_frame": 0,
       "n_components": 1,
       "picked": {}
      }
     },
     "f2980928f8354682952eafdfeb1c2070": {
      "model_module": "@jupyter-widgets/controls",
      "model_module_version": "2.0.0",
      "model_name": "LinkModel",
      "state": {
       "source": [
        "IPY_MODEL_e02503f67ecb4fb883d058a114c98c30",
        "value"
       ],
       "target": [
        "IPY_MODEL_2d0b3a25b87e4a9a9ab2102e749179de",
        "value"
       ]
      }
     },
     "f2c508bf18474a6296faee03cfe8744f": {
      "model_module": "@jupyter-widgets/controls",
      "model_module_version": "2.0.0",
      "model_name": "HBoxModel",
      "state": {
       "children": [
        "IPY_MODEL_b40e0b7349614d03a7603d297de7f5fe",
        "IPY_MODEL_f2618dd9874d4fdb8fffe45458c34a95"
       ],
       "layout": "IPY_MODEL_4660adf7c71a42d482d48d89ee4e7b88"
      }
     },
     "f30d2bdf05aa4c80b4b45e23c0065101": {
      "model_module": "@jupyter-widgets/controls",
      "model_module_version": "2.0.0",
      "model_name": "LinkModel",
      "state": {
       "source": [
        "IPY_MODEL_e4ee3d2a9c214963bc1fd01447cfee07",
        "max"
       ],
       "target": [
        "IPY_MODEL_b8065678535249378203da581b610c01",
        "max_frame"
       ]
      }
     },
     "f33af92a87a8491e940f02152a769bfa": {
      "model_module": "@jupyter-widgets/base",
      "model_module_version": "2.0.0",
      "model_name": "LayoutModel",
      "state": {}
     },
     "f3758eea02174287bfb93e27f9dfbf11": {
      "model_module": "@jupyter-widgets/base",
      "model_module_version": "2.0.0",
      "model_name": "LayoutModel",
      "state": {}
     },
     "f405adec266b45b4a2f509104ce67230": {
      "model_module": "@jupyter-widgets/controls",
      "model_module_version": "2.0.0",
      "model_name": "LinkModel",
      "state": {
       "source": [
        "IPY_MODEL_f245b3cb7538457888e1256945d07cdc",
        "max"
       ],
       "target": [
        "IPY_MODEL_39e9b1c829e24af2b2d7b1755eb34fad",
        "max_frame"
       ]
      }
     },
     "f40fb418ffb245f7af9504633771244d": {
      "model_module": "@jupyter-widgets/controls",
      "model_module_version": "2.0.0",
      "model_name": "LinkModel",
      "state": {
       "source": [
        "IPY_MODEL_9a01cd0612fe409faca39370f43aa0b1",
        "max"
       ],
       "target": [
        "IPY_MODEL_46dadeb0b8754f0eaf07f0803026c92e",
        "max_frame"
       ]
      }
     },
     "f4e45fa7666044f296bd764553ea3d8b": {
      "model_module": "@jupyter-widgets/controls",
      "model_module_version": "2.0.0",
      "model_name": "SliderStyleModel",
      "state": {
       "description_width": ""
      }
     },
     "f4ffa700350e449eb693d655f221d0c5": {
      "model_module": "@jupyter-widgets/base",
      "model_module_version": "2.0.0",
      "model_name": "LayoutModel",
      "state": {}
     },
     "f58dacf076ff4e1fba1dcd01de519b0a": {
      "model_module": "@jupyter-widgets/base",
      "model_module_version": "2.0.0",
      "model_name": "LayoutModel",
      "state": {}
     },
     "f5a58481569b46898f97393233670558": {
      "model_module": "@jupyter-widgets/base",
      "model_module_version": "2.0.0",
      "model_name": "LayoutModel",
      "state": {}
     },
     "f6d7c8637d3a410abe7c38aa4d7a84bc": {
      "model_module": "@jupyter-widgets/base",
      "model_module_version": "2.0.0",
      "model_name": "LayoutModel",
      "state": {}
     },
     "f7d35b88cd984f64bd32ee92cd6ae362": {
      "model_module": "@jupyter-widgets/base",
      "model_module_version": "2.0.0",
      "model_name": "LayoutModel",
      "state": {
       "width": "34px"
      }
     },
     "f8f3055dc234454f974b52513544bd6f": {
      "model_module": "@jupyter-widgets/controls",
      "model_module_version": "2.0.0",
      "model_name": "LinkModel",
      "state": {
       "source": [
        "IPY_MODEL_9a01cd0612fe409faca39370f43aa0b1",
        "value"
       ],
       "target": [
        "IPY_MODEL_46dadeb0b8754f0eaf07f0803026c92e",
        "frame"
       ]
      }
     },
     "f9612f70a37f4eeab0aa6ef33a41af13": {
      "model_module": "@jupyter-widgets/controls",
      "model_module_version": "2.0.0",
      "model_name": "LinkModel",
      "state": {
       "source": [
        "IPY_MODEL_3556f5afd38e492a8211561fd2d4d8b7",
        "value"
       ],
       "target": [
        "IPY_MODEL_7dcbb0edf40d4daa838024f15b68ffa4",
        "value"
       ]
      }
     },
     "f9e7067afd8a4311aa85596f3e288796": {
      "model_module": "@jupyter-widgets/controls",
      "model_module_version": "2.0.0",
      "model_name": "ButtonStyleModel",
      "state": {
       "font_family": null,
       "font_size": null,
       "font_style": null,
       "font_variant": null,
       "font_weight": null,
       "text_color": null,
       "text_decoration": null
      }
     },
     "fabe180c1d844606a2665e66844c76b8": {
      "model_module": "@jupyter-widgets/base",
      "model_module_version": "2.0.0",
      "model_name": "LayoutModel",
      "state": {
       "width": "34px"
      }
     },
     "faf8aca06b80466da32c925eb1036e2e": {
      "model_module": "nglview-js-widgets",
      "model_module_version": "3.0.8",
      "model_name": "NGLModel",
      "state": {
       "_camera_orientation": [
        25.125269223166022,
        12.733724020302382,
        -3.648490452158653,
        0,
        6.3745932597721575,
        -4.765819734363515,
        27.265177178469308,
        0,
        11.61136386378395,
        -24.937473776941065,
        -7.073683226473177,
        0,
        -0.35699987411499023,
        0.14499998092651367,
        -0.09600001573562622,
        1
       ],
       "_camera_str": "orthographic",
       "_gui_theme": null,
       "_ibtn_fullscreen": "IPY_MODEL_5b71ece012a24104a390b6bdef5bb082",
       "_igui": null,
       "_iplayer": "IPY_MODEL_468a7097dd0848969730a8aca0a5a4b7",
       "_ngl_color_dict": {},
       "_ngl_coordinate_resource": {},
       "_ngl_full_stage_parameters": {
        "ambientColor": 14540253,
        "ambientIntensity": 0.2,
        "backgroundColor": "white",
        "cameraEyeSep": 0.3,
        "cameraFov": 40,
        "cameraType": "orthographic",
        "clipDist": -100,
        "clipFar": 100,
        "clipMode": "scene",
        "clipNear": 0,
        "clipScale": "relative",
        "fogFar": 100,
        "fogNear": 50,
        "hoverTimeout": 0,
        "impostor": true,
        "lightColor": 14540253,
        "lightIntensity": 1,
        "mousePreset": "default",
        "panSpeed": 1,
        "quality": "medium",
        "rotateSpeed": 2,
        "sampleLevel": 3,
        "tooltip": true,
        "workerDefault": true,
        "zoomSpeed": 1.2
       },
       "_ngl_msg_archive": [
        {
         "args": [
          {
           "binary": false,
           "data": "HETATM    1  C1  SUR     1       5.068  -1.116   0.968  1.00  0.00           C\nHETATM    2  C2  SUR     1       3.683  -0.937   0.400  1.00  0.00           C\nHETATM    3  N1  SUR     1       2.956   0.117   0.730  1.00  0.00           N\nHETATM    4  C3  SUR     1       1.738   0.281   0.234  1.00  0.00           C\nHETATM    5  N2  SUR     1       1.206  -0.596  -0.604  1.00  0.00           N\nHETATM    6  C4  SUR     1       1.880  -1.672  -0.975  1.00  0.00           C\nHETATM    7  C5  SUR     1       3.159  -1.871  -0.480  1.00  0.00           C\nHETATM    8  N3  SUR     1       1.004   1.396   0.601  1.00  0.00           N\nHETATM    9  S1  SUR     1      -0.342   1.824  -0.265  1.00  0.00           S\nHETATM   10  O1  SUR     1      -0.884   2.957   0.398  1.00  0.00           O\nHETATM   11  O2  SUR     1       0.048   1.778  -1.631  1.00  0.00           O\nHETATM   12  C6  SUR     1      -1.529   0.538  -0.063  1.00  0.00           C\nHETATM   13  C7  SUR     1      -2.436   0.594   0.979  1.00  0.00           C\nHETATM   14  C8  SUR     1      -3.368  -0.412   1.141  1.00  0.00           C\nHETATM   15  C9  SUR     1      -3.394  -1.481   0.255  1.00  0.00           C\nHETATM   16  C10 SUR     1      -2.481  -1.535  -0.791  1.00  0.00           C\nHETATM   17  C11 SUR     1      -1.556  -0.523  -0.950  1.00  0.00           C\nHETATM   18  N4  SUR     1      -4.335  -2.501   0.415  1.00  0.00           N\nHETATM   19  H1  SUR     1       5.008  -1.679   1.899  1.00  0.00           H\nHETATM   20  H2  SUR     1       5.686  -1.659   0.253  1.00  0.00           H\nHETATM   21  H3  SUR     1       5.510  -0.139   1.162  1.00  0.00           H\nHETATM   22  H4  SUR     1       1.441  -2.384  -1.658  1.00  0.00           H\nHETATM   23  H5  SUR     1       3.732  -2.741  -0.767  1.00  0.00           H\nHETATM   24  H6  SUR     1       1.277   1.927   1.366  1.00  0.00           H\nHETATM   25  H7  SUR     1      -2.416   1.426   1.668  1.00  0.00           H\nHETATM   26  H8  SUR     1      -4.076  -0.367   1.955  1.00  0.00           H\nHETATM   27  H9  SUR     1      -2.499  -2.365  -1.482  1.00  0.00           H\nHETATM   28  H10 SUR     1      -0.846  -0.564  -1.763  1.00  0.00           H\nHETATM   29  H11 SUR     1      -4.972  -2.463   1.146  1.00  0.00           H\nHETATM   30  H12 SUR     1      -4.352  -3.247  -0.204  1.00  0.00           H\nCONECT    1   20   19   21    2\nCONECT   16   15   17   27\nCONECT   17   12   28   16\nCONECT    2    7    3    1\nCONECT    4    5    8    3\nCONECT    6    5    7   22\nCONECT    7    6    2   23\nCONECT   12    9   17   13\nCONECT   13   14   12   25\nCONECT   14   26   15   13\nCONECT   15   14   18   16\nCONECT   19    1\nCONECT   28   17\nCONECT   29   18\nCONECT   30   18\nCONECT   20    1\nCONECT   21    1\nCONECT   22    6\nCONECT   23    7\nCONECT   24    8\nCONECT   25   13\nCONECT   26   14\nCONECT   27   16\nCONECT    3    4    2\nCONECT    5    4    6\nCONECT    8    4    9   24\nCONECT   18   15   30   29\nCONECT   10    9\nCONECT   11    9\nCONECT    9    8   10   12   11\nEND\n",
           "type": "blob"
          }
         ],
         "kwargs": {
          "defaultRepresentation": true,
          "ext": "pdb"
         },
         "methodName": "loadFile",
         "reconstruc_color_scheme": false,
         "target": "Stage",
         "type": "call_method"
        },
        {
         "args": [
          "300px",
          "300px"
         ],
         "kwargs": {},
         "methodName": "setSize",
         "reconstruc_color_scheme": false,
         "target": "Widget",
         "type": "call_method"
        },
        {
         "args": [
          {
           "backgroundColor": "white",
           "clipDist": -100,
           "sampleLevel": 3
          }
         ],
         "kwargs": {},
         "methodName": "setParameters",
         "reconstruc_color_scheme": false,
         "target": "Widget",
         "type": "call_method"
        },
        {
         "args": [],
         "kwargs": {
          "cameraType": "orthographic"
         },
         "methodName": "setParameters",
         "reconstruc_color_scheme": false,
         "target": "Stage",
         "type": "call_method"
        }
       ],
       "_ngl_original_stage_parameters": {
        "ambientColor": 14540253,
        "ambientIntensity": 0.2,
        "backgroundColor": "white",
        "cameraEyeSep": 0.3,
        "cameraFov": 40,
        "cameraType": "perspective",
        "clipDist": 10,
        "clipFar": 100,
        "clipMode": "scene",
        "clipNear": 0,
        "clipScale": "relative",
        "fogFar": 100,
        "fogNear": 50,
        "hoverTimeout": 0,
        "impostor": true,
        "lightColor": 14540253,
        "lightIntensity": 1,
        "mousePreset": "default",
        "panSpeed": 1,
        "quality": "medium",
        "rotateSpeed": 2,
        "sampleLevel": 0,
        "tooltip": true,
        "workerDefault": true,
        "zoomSpeed": 1.2
       },
       "_ngl_repr_dict": {
        "0": {
         "0": {
          "params": {
           "aspectRatio": 1.5,
           "assembly": "default",
           "bondScale": 0.3,
           "bondSpacing": 0.75,
           "clipCenter": {
            "x": 0,
            "y": 0,
            "z": 0
           },
           "clipNear": 0,
           "clipRadius": 0,
           "colorMode": "hcl",
           "colorReverse": false,
           "colorScale": "",
           "colorScheme": "element",
           "colorValue": 9474192,
           "cylinderOnly": false,
           "defaultAssembly": "",
           "depthWrite": true,
           "diffuse": 16777215,
           "diffuseInterior": false,
           "disableImpostor": false,
           "disablePicking": false,
           "flatShaded": false,
           "interiorColor": 2236962,
           "interiorDarkening": 0,
           "lazy": false,
           "lineOnly": false,
           "linewidth": 2,
           "matrix": {
            "elements": [
             1,
             0,
             0,
             0,
             0,
             1,
             0,
             0,
             0,
             0,
             1,
             0,
             0,
             0,
             0,
             1
            ]
           },
           "metalness": 0,
           "multipleBond": "off",
           "opacity": 1,
           "openEnded": true,
           "quality": "high",
           "radialSegments": 20,
           "radiusData": {},
           "radiusScale": 2,
           "radiusSize": 0.15,
           "radiusType": "size",
           "roughness": 0.4,
           "sele": "",
           "side": "double",
           "sphereDetail": 2,
           "useInteriorColor": true,
           "visible": true,
           "wireframe": false
          },
          "type": "ball+stick"
         }
        }
       },
       "_ngl_serialize": false,
       "_ngl_version": "2.0.0-dev.39",
       "_ngl_view_id": [
        "B58625D1-BD8C-46C5-9BCE-FDC110B4D8F9"
       ],
       "_player_dict": {},
       "_scene_position": {},
       "_scene_rotation": {},
       "_synced_model_ids": [],
       "_synced_repr_model_ids": [],
       "_view_height": "",
       "_view_width": "",
       "background": "white",
       "frame": 0,
       "gui_style": null,
       "layout": "IPY_MODEL_3009895b14894749a045a1e3dcb0ad4c",
       "max_frame": 0,
       "n_components": 1,
       "picked": {}
      }
     },
     "fb3da94f98834e4aa70097c11b6dbcc0": {
      "model_module": "@jupyter-widgets/controls",
      "model_module_version": "2.0.0",
      "model_name": "ImageModel",
      "state": {
       "layout": "IPY_MODEL_16153614c69642a6b5828e8699d2a882",
       "width": "900.0"
      }
     },
     "fc30dd236f4e4b1cb04256fe9e76d8c1": {
      "model_module": "@jupyter-widgets/base",
      "model_module_version": "2.0.0",
      "model_name": "LayoutModel",
      "state": {}
     },
     "fc543f86cd6241268416b78c9dbe03b7": {
      "model_module": "nglview-js-widgets",
      "model_module_version": "3.0.8",
      "model_name": "ColormakerRegistryModel",
      "state": {
       "_msg_ar": [],
       "_msg_q": [],
       "_ready": true,
       "layout": "IPY_MODEL_8c311fbd96704614a54574312f3d7f91"
      }
     },
     "fc83ca1c6203456282a0902aad3abac8": {
      "model_module": "@jupyter-widgets/base",
      "model_module_version": "2.0.0",
      "model_name": "LayoutModel",
      "state": {
       "width": "34px"
      }
     },
     "fc88310b2547421a9b8beb4157fa1b39": {
      "model_module": "@jupyter-widgets/controls",
      "model_module_version": "2.0.0",
      "model_name": "SliderStyleModel",
      "state": {
       "description_width": ""
      }
     },
     "fca06353ea1344a0bf0a38a7fbec2dd2": {
      "model_module": "@jupyter-widgets/controls",
      "model_module_version": "2.0.0",
      "model_name": "DescriptionStyleModel",
      "state": {
       "description_width": ""
      }
     },
     "fce60dc447364c6084203b210088a545": {
      "model_module": "@jupyter-widgets/base",
      "model_module_version": "2.0.0",
      "model_name": "LayoutModel",
      "state": {}
     },
     "fd07fe97b81148cca5e82a019b8465fd": {
      "model_module": "@jupyter-widgets/controls",
      "model_module_version": "2.0.0",
      "model_name": "ImageModel",
      "state": {
       "layout": "IPY_MODEL_6a663896216945abbecec5958e426963",
       "width": "900.0"
      }
     },
     "fd2779d0f3ed41789bd12827c408365f": {
      "model_module": "@jupyter-widgets/controls",
      "model_module_version": "2.0.0",
      "model_name": "ImageModel",
      "state": {
       "layout": "IPY_MODEL_22f91ef3150d44cb82dab6e14fb751be",
       "width": "900.0"
      }
     },
     "fddf2a30a0264cee9983066d631ec78a": {
      "model_module": "@jupyter-widgets/base",
      "model_module_version": "2.0.0",
      "model_name": "LayoutModel",
      "state": {
       "width": "34px"
      }
     },
     "fe0d27e90e7d451c903a5f8a7ee8ff12": {
      "model_module": "@jupyter-widgets/controls",
      "model_module_version": "2.0.0",
      "model_name": "LinkModel",
      "state": {
       "source": [
        "IPY_MODEL_21798ad7e2be49f0a030035b53e751c5",
        "value"
       ],
       "target": [
        "IPY_MODEL_7900676d76b44b749562f38d0fa6c46c",
        "frame"
       ]
      }
     },
     "fe16b01aa6b642a5b430b5be684bf032": {
      "model_module": "@jupyter-widgets/controls",
      "model_module_version": "2.0.0",
      "model_name": "SliderStyleModel",
      "state": {
       "description_width": ""
      }
     },
     "fe4b42522d8344e293a5b272485c5810": {
      "model_module": "@jupyter-widgets/controls",
      "model_module_version": "2.0.0",
      "model_name": "IntSliderModel",
      "state": {
       "behavior": "drag-tap",
       "layout": "IPY_MODEL_fce60dc447364c6084203b210088a545",
       "max": 0,
       "style": "IPY_MODEL_d03e4ed47b5c4acfa58feaeccab6639c"
      }
     },
     "ffc49e9ad81b4eac940d4ad15dc35c7c": {
      "model_module": "@jupyter-widgets/controls",
      "model_module_version": "2.0.0",
      "model_name": "DescriptionStyleModel",
      "state": {
       "description_width": ""
      }
     }
    },
    "version_major": 2,
    "version_minor": 0
   }
  }
 },
 "nbformat": 4,
 "nbformat_minor": 5
}
