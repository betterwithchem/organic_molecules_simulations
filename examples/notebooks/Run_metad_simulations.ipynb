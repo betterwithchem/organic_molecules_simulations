{
 "cells": [
  {
   "cell_type": "markdown",
   "id": "3338ee9f",
   "metadata": {},
   "source": [
    "# Run Metadynamics Simulations\n",
    "\n",
    "In this example we will prepare a Well-Tempered Metadynamics (WT-Metad) simulation on torsional angles of an organic molecule. \n",
    "\n",
    "In particular we will see how to:  \n",
    "1) Load an existing project\n",
    "2) Do a basic analysis of the unbiased MD simulation in order to estimate the parameters for the WT-Metad simulation\n",
    "3) Prepare the WT-Metad simulation\n",
    "\n"
   ]
  },
  {
   "cell_type": "markdown",
   "id": "8777fde1",
   "metadata": {},
   "source": [
    "## 0. Load the necessary modules:\n",
    "\n"
   ]
  },
  {
   "cell_type": "code",
   "execution_count": 1,
   "id": "35925772",
   "metadata": {},
   "outputs": [],
   "source": [
    "from sim_launch_py.classes import Project\n",
    "from sim_launch_py.external import gaussianFit\n",
    "from sim_launch_py.plumed import write_plumed_file as wrtplumed\n",
    "from copy import deepcopy\n",
    "import numpy as np"
   ]
  },
  {
   "cell_type": "markdown",
   "id": "5f4fe197",
   "metadata": {},
   "source": [
    "## 1. Load the project\n",
    "\n",
    "The first step is to load the state of the project with the **Project.load_project()** method."
   ]
  },
  {
   "cell_type": "code",
   "execution_count": 2,
   "id": "6292a075",
   "metadata": {},
   "outputs": [
    {
     "name": "stdout",
     "output_type": "stream",
     "text": [
      "Loading Project Name: sample_metad\n",
      "\n"
     ]
    }
   ],
   "source": [
    "loadpath='/home/matteo/Work/organic_molecules_simulations/examples/sample_metad'\n",
    "p=Project.load_project(loadpath)\n"
   ]
  },
  {
   "cell_type": "markdown",
   "id": "f52a48a9",
   "metadata": {},
   "source": [
    "## 2. Analyse previous simulations\n",
    "\n",
    "### 2.1 Recover the simulation of interest\n",
    "\n",
    "In this example we will use data from the last simulation from the saved state of the project. We can get the last simulation from the list of simulations of the system either by its name (e.g. 'md') or by its index. Here we use its name."
   ]
  },
  {
   "cell_type": "code",
   "execution_count": 3,
   "id": "4fe32aa9",
   "metadata": {},
   "outputs": [],
   "source": [
    "s=p.systems[-1]\n",
    "sim=s.find_simulation_by_name('md')\n"
   ]
  },
  {
   "cell_type": "markdown",
   "id": "1f31abf3",
   "metadata": {},
   "source": [
    "### 2.2 Recover position and width of the states observed in unbiased MD\n",
    "\n",
    "For each dihedral angle in the system we read the corresponding column in the data file (e.g. the COLVAR file from the 'md' simulation) and fit the distributions to sums of gaussians curves with the **gaussianFit.gaussianFit()** external method.  \n",
    "From the fit we obtain the centers of the distributions and their sigma parameter.  "
   ]
  },
  {
   "cell_type": "code",
   "execution_count": 4,
   "id": "cedbace6",
   "metadata": {},
   "outputs": [],
   "source": [
    "ndih=len(sim.cvs)\n",
    "centers,sigmas=[],[]\n",
    "\n",
    "for col in range(ndih):\n",
    "\n",
    "    cen,sig=gaussianFit.gaussianFit(sim.path+'/COLVAR',datacol=col+1)\n",
    "\n",
    "    centers.append(cen)\n",
    "    sigmas.append(sig)\n"
   ]
  },
  {
   "cell_type": "markdown",
   "id": "d180cbd8",
   "metadata": {},
   "source": [
    "## 3. Prepare a Metad simulation\n",
    "\n",
    "### 3.1 Define the simulation *dict* and add the simulation to the system\n",
    "\n",
    "Define the simulation _dict_ as done for the simulations in the previous example on the Study Torsional Angles of Organic Molecules.  \n",
    "Then add the simulation to the system.\n"
   ]
  },
  {
   "cell_type": "code",
   "execution_count": 5,
   "id": "f5d6e194",
   "metadata": {},
   "outputs": [
    {
     "name": "stdout",
     "output_type": "stream",
     "text": [
      "Simulation metad(type md) will start from configuration ./Systems/ccdc-xxxii_toluene/md/md.gro.\n",
      "Added simulation metad (4) to system ccdc-xxxii_toluene (8).\n"
     ]
    }
   ],
   "source": [
    "    \n",
    "metad_dict={'path_mdp': '/home/matteo/Work/organic_molecules_simulations/sim_launch_py/mdp/mdparrinello.mdp',\n",
    "            'maxwarn':2, 'coordinates':'{}/{}.gro'.format(s.simulations[-1].path,s.simulations[-1].name),\n",
    "            'nsteps':5000000, 'plumed':'plumed.dat'}\n",
    "\n",
    "s.add_simulation('metad','md',simulation_dict=metad_dict)\n",
    "newsim=s.find_simulation_by_name('metad')"
   ]
  },
  {
   "cell_type": "markdown",
   "id": "564ec22f",
   "metadata": {},
   "source": [
    "\n",
    "### 3.2 Add CVs and Metadynamics bias\n",
    "\n",
    "For each dihedral angle of the MD simulation, we create the corresponding new CV in the new WT-MetaD simulation (we can directly copy it with **copy.deepcopy()**) and create the bias *dict* that is used to define the bias applied to the CV in the simulation.\n",
    "\n",
    "A typical metadynamics *dict* will look like:\n",
    "\n",
    "```\n",
    "metadbias_dict={'sigma':sigma,        # one SIGMA parameter vale or a list of values \n",
    "                                        (one per each cv, float)\n",
    "                'height':height,      # HEIGHT parameter for the METAD directive in plumed\n",
    "                'biasfactor':bf:      # BIASFACTOR parameter for the METAD directive (float). If omitted,  \n",
    "                                        it will assume standard Metadynamics (constant height)\n",
    "                'grid_min':gmin       # GRID_MIN values (one or a list of values, either float or str)\n",
    "                'grid_max':gmax       # GRID_MAX values (one or a list of values, either float or str)\n",
    "                'grid_spacing':gspace # GRID_SPACING values (one or a list of values, either float or str)\n",
    "                'pace':pace           # PACE value (int)\n",
    "                'hills_file':hills    # HILLS value (str)\n",
    "                'temperature':temp    # TEMP value (only for WT-Metad, float)\n",
    "}  \n",
    "```\n",
    "\n",
    "Note that, in this example, for each dihedral angle of the molecule, we use the smallest sigma value from the fit of the distribution as an estimate for the SIGMA parameter of the concurrent WT-Metad simulation."
   ]
  },
  {
   "cell_type": "code",
   "execution_count": 6,
   "id": "023742de",
   "metadata": {},
   "outputs": [],
   "source": [
    "sim=s.find_simulation_by_name('md')\n",
    "\n",
    "for idih,dih_sigma in enumerate(sigmas):\n",
    "    \n",
    "    sig=np.round(min(dih_sigma)/2,decimals=3)\n",
    "\n",
    "    # duplicate dihedral cvs used in MD simulation\n",
    "    newcv=deepcopy(sim.cvs[idih])\n",
    "    newsim.cvs.append(newcv)\n",
    "\n",
    "    metadbias_dict={'sigma':sig,\n",
    "                    'height':2.5,\n",
    "                    'biasfactor':5,\n",
    "                    'grid_min':'-pi',\n",
    "                    'grid_max':'pi',\n",
    "                    'grid_spacing':np.round(np.pi/180*2,decimals=4),\n",
    "                    'pace':500,\n",
    "                    'hills_file':'HILLS_dih_{}'.format(idih)}\n",
    "\n",
    "    newsim.add_bias('metad_dih_{}'.format(idih),'METAD',newsim.cvs[-1].name,bias_dict=metadbias_dict)\n",
    "\n",
    "wrtplumed('{}/plumed.dat'.format(newsim.path),newsim,colvar='COLVAR') #### STAMPARE ANCHE I METAD.BIAS\n"
   ]
  },
  {
   "cell_type": "markdown",
   "id": "22fb560f",
   "metadata": {},
   "source": [
    "## 4. Prepare simulation scripts\n",
    "\n",
    "Finally we prepare the job script to launch the simulation. We set the state of the previous simulations of the system to 'End' in order to write the commands regarding only the new WT-Metad simulation in the job script.\n",
    "\n",
    "***This will change in future and will be automated***\n"
   ]
  },
  {
   "cell_type": "code",
   "execution_count": 7,
   "id": "13cfcf0e",
   "metadata": {
    "tags": []
   },
   "outputs": [
    {
     "name": "stdout",
     "output_type": "stream",
     "text": [
      "Written run script file in ./Systems/ccdc-xxxii_toluene/run_metad.myriad\n"
     ]
    }
   ],
   "source": [
    "ntot_sims=len(s.simulations)\n",
    "for isim in range(ntot_sims-1):\n",
    "    s.simulations[isim].state='Ended'\n",
    "\n",
    "myriad_dict={'wallclock':'12:00:00',\n",
    "             'job_name':s.name,\n",
    "             'mpi':12,\n",
    "             'omp':6,\n",
    "             'gmx_bin':'gmx_mpi'}\n",
    "\n",
    "s.create_run_script('run_metad.myriad',platform='myriad',platform_dict=myriad_dict)"
   ]
  },
  {
   "cell_type": "code",
   "execution_count": 8,
   "id": "f2d9f826-343d-4240-b9c5-4f86e8aaeea7",
   "metadata": {
    "tags": []
   },
   "outputs": [
    {
     "data": {
      "text/plain": [
       "{'_name': 'metad_dih_0',\n",
       " '_biastype': 'METAD',\n",
       " 'directive': 'METAD ...\\n    ARG=dih_0,\\n    FILE=HILLS_dih_0\\n    SIGMA=0.284,\\n    HEIGHT=2.5\\n    PACE=500\\n    BIASFACTOR=5\\n    TEMP=300.0\\n    GRID_MIN=-pi,\\n    GRID_MAX=pi,\\n    GRID_SPACING=0.0349,\\n... METAD\\n'}"
      ]
     },
     "execution_count": 8,
     "metadata": {},
     "output_type": "execute_result"
    }
   ],
   "source": [
    "newsim.biases[0].__dict__"
   ]
  },
  {
   "cell_type": "markdown",
   "id": "0ebbe5a8-a5ce-4745-b1e0-bff4c3d9e527",
   "metadata": {},
   "source": [
    "run `gmx`"
   ]
  }
 ],
 "metadata": {
  "kernelspec": {
   "display_name": "Python 3 (ipykernel)",
   "language": "python",
   "name": "python3"
  },
  "language_info": {
   "codemirror_mode": {
    "name": "ipython",
    "version": 3
   },
   "file_extension": ".py",
   "mimetype": "text/x-python",
   "name": "python",
   "nbconvert_exporter": "python",
   "pygments_lexer": "ipython3",
   "version": "3.8.18"
  }
 },
 "nbformat": 4,
 "nbformat_minor": 5
}
