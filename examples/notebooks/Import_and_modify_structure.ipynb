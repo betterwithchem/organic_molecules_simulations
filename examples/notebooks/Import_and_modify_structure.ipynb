{
 "cells": [
  {
   "cell_type": "markdown",
   "id": "cbd99f08",
   "metadata": {},
   "source": [
    "\n",
    "# Example of creation of a configuration and preparation of simulations\n",
    "\n",
    "In this example we will see how to import a configuration from a structure file and modify it.\n",
    "\n",
    "The steps are:\n",
    "\n",
    "1) Create a new project object;  \n",
    "2) Add a system object to the project;  \n",
    "3) Import a configuration;\n",
    "4) Modify the system;\n",
    "\n",
    "Details on how to create the files needed to run simulations are shown in the Notebook **\"Study_torsional_angles.ipynb\"**\n"
   ]
  },
  {
   "cell_type": "markdown",
   "id": "aced1d53",
   "metadata": {},
   "source": [
    "## 0. Load the necessary modules:"
   ]
  },
  {
   "cell_type": "code",
   "execution_count": 1,
   "id": "aaf1d071",
   "metadata": {},
   "outputs": [
    {
     "data": {
      "application/vnd.jupyter.widget-view+json": {
       "model_id": "9435a6e73c504513a2d5abda338da6a2",
       "version_major": 2,
       "version_minor": 0
      },
      "text/plain": []
     },
     "metadata": {},
     "output_type": "display_data"
    }
   ],
   "source": [
    "from sim_launch_py.classes import Project\n",
    "from sim_launch_py.utilities import get_distance\n",
    "import numpy as np\n",
    "import nglview as nv\n",
    "import os\n",
    "\n",
    "def makeview(models, showBox=True):\n",
    "    import math\n",
    "    views=[]\n",
    "    for model in models:\n",
    "        view=nv.show_structure_file(model)\n",
    "        view._remote_call(\"setSize\",target=\"Widget\",\n",
    "                         args=[\"{}px\".format(500/len(models)),\"{}px\".format(500/len(models))])\n",
    "        view.parameters=dict(backgroundColor='white',clipDist=-100,\n",
    "                            sampleLevel=3)\n",
    "        if showBox:\n",
    "            view.add_unitcell()\n",
    "        view.camera='orthographic'\n",
    "        views.append(view)\n",
    "    import ipywidgets\n",
    "    hboxes = [ipywidgets.HBox(views[i*2:i*2+2])\n",
    "             for i in range(int(math.ceil(len(views)/2.0)))]\n",
    "    vbox=ipywidgets.VBox(hboxes)\n",
    "    return vbox"
   ]
  },
  {
   "cell_type": "markdown",
   "id": "9fe875c5",
   "metadata": {},
   "source": [
    "## 1. Create a new project\n",
    "\n",
    "Here we create a new project with the name **'import_configuration'**. This creates a new directory at the indicated path. Please note that the overwrite=True flag deletes an already existent directory at the given path.\n",
    "\n",
    "When a project is created, the program will look for Gromacs and AmberTools binaries in your PATH. If they are not found, a prompt will ask to manually indicate them."
   ]
  },
  {
   "cell_type": "code",
   "execution_count": 2,
   "id": "fc9fba16",
   "metadata": {},
   "outputs": [
    {
     "name": "stdout",
     "output_type": "stream",
     "text": [
      "New Project: import_configuration\n",
      "====================================================================================================\n"
     ]
    }
   ],
   "source": [
    "pname='import_configuration'\n",
    "ppath='./{}'.format(pname)\n",
    "\n",
    "p=Project.new_project(pname,ppath,overwrite=True)"
   ]
  },
  {
   "cell_type": "markdown",
   "id": "e914e129",
   "metadata": {},
   "source": [
    "## 2. Add a system\n",
    "\n",
    "Here we create a system named **'seed_form_IV'** in the project using the *Project.add_system()* method.  This command creates a directory with the same name of the system inside the *project/path/Systems* directory."
   ]
  },
  {
   "cell_type": "code",
   "execution_count": 3,
   "id": "de677ffc",
   "metadata": {},
   "outputs": [
    {
     "name": "stdout",
     "output_type": "stream",
     "text": [
      "**************************************************\n",
      "Created system seed_form_IV\n",
      "**************************************************\n"
     ]
    }
   ],
   "source": [
    "# Create a system\n",
    "\n",
    "p.add_system('seed_form_IV')\n",
    "s=p.systems[0]"
   ]
  },
  {
   "cell_type": "markdown",
   "id": "a4ae46c2",
   "metadata": {},
   "source": [
    "## 3. Import configuration\n",
    "\n",
    "While in the **'Study_torsional_angles.ipynb'** example we have built a system from scratch, here we will create the initial configurations importing the coordinates from a structure file."
   ]
  },
  {
   "cell_type": "code",
   "execution_count": 4,
   "id": "11cbe00f",
   "metadata": {},
   "outputs": [
    {
     "data": {
      "application/vnd.jupyter.widget-view+json": {
       "model_id": "d25c2915977f44f5aae213f7c2a0a624",
       "version_major": 2,
       "version_minor": 0
      },
      "text/plain": [
       "VBox(children=(HBox(children=(NGLWidget(),)),))"
      ]
     },
     "execution_count": 4,
     "metadata": {},
     "output_type": "execute_result"
    }
   ],
   "source": [
    "\n",
    "s.add_molecule('olanzapine', structure_file='/home/matteo/Work/organic_molecules_simulations/examples/Structures/form_IV.pdb')\n",
    "\n",
    "box=makeview(['/home/matteo/Work/organic_molecules_simulations/examples/Structures/form_IV.pdb'],\n",
    "             showBox=True)\n",
    "box"
   ]
  },
  {
   "cell_type": "markdown",
   "id": "d21d9f2e",
   "metadata": {},
   "source": [
    "## 4. Modify configuration\n",
    "\n",
    "### 4.1 Replicate cell\n",
    "\n",
    "The aim of this tutorial is to generate a seed made by the crystal molecules. To do so the first step after importing the unit cell is to replicate it in space to generate a bulk."
   ]
  },
  {
   "cell_type": "code",
   "execution_count": 5,
   "id": "acabfdc6",
   "metadata": {},
   "outputs": [
    {
     "data": {
      "application/vnd.jupyter.widget-view+json": {
       "model_id": "9db193bb074344d8a455b8b0c9d163d1",
       "version_major": 2,
       "version_minor": 0
      },
      "text/plain": [
       "VBox(children=(HBox(children=(NGLWidget(),)),))"
      ]
     },
     "execution_count": 5,
     "metadata": {},
     "output_type": "execute_result"
    }
   ],
   "source": [
    "s.replicate_cell(repl=[4,3,3])\n",
    "\n",
    "s.save_pdb('replicated_cell.pdb')\n",
    "\n",
    "box=makeview([s.last_saved_structure],showBox=True)\n",
    "box"
   ]
  },
  {
   "cell_type": "markdown",
   "id": "2ec2f181",
   "metadata": {},
   "source": [
    "### 4.2 Remove excess molecules\n",
    "\n",
    "Then we can eliminate the excess molecules to keep the seed of the desired shape and size. In this example we keep a spherical seed composed by all molecules with the center of mass within 1.5 nm of the center of the box."
   ]
  },
  {
   "cell_type": "code",
   "execution_count": 6,
   "id": "ef4d0e90",
   "metadata": {},
   "outputs": [
    {
     "name": "stdout",
     "output_type": "stream",
     "text": [
      "Deleting 108 molecules from system seed_form_IV.\n",
      "Now system seed_form_IV has 36 molecules\n"
     ]
    },
    {
     "data": {
      "application/vnd.jupyter.widget-view+json": {
       "model_id": "7a92347f167248c6abe4bf5402e786c9",
       "version_major": 2,
       "version_minor": 0
      },
      "text/plain": [
       "VBox(children=(HBox(children=(NGLWidget(),)),))"
      ]
     },
     "execution_count": 6,
     "metadata": {},
     "output_type": "execute_result"
    }
   ],
   "source": [
    "cob=np.array([0. for i in range(3)])\n",
    "\n",
    "n=0\n",
    "for m in s.molecules:\n",
    "    for a in m.atoms:\n",
    "            cob+=a.coordinates\n",
    "            n+=1\n",
    "\n",
    "cob/=n\n",
    "\n",
    "delete_mols=[]\n",
    "cutoff=1.5 #nm\n",
    "for m in s.molecules:\n",
    "    if get_distance(m.com,ref=cob,box=s.box)>cutoff:\n",
    "        delete_mols.append(m.index)\n",
    "\n",
    "s.delete_molecule(delete_mols)\n",
    "s.save_pdb('remaining_mols.pdb')\n",
    "\n",
    "box=makeview([s.last_saved_structure])\n",
    "box"
   ]
  },
  {
   "cell_type": "markdown",
   "id": "7f121e91",
   "metadata": {},
   "source": [
    "### 4.3 Center molecules in the box\n",
    "\n",
    "We can now change the shape and size of the box and recenter the seed.  \n",
    "We will use a cubic box of 6\n",
    "nm of side"
   ]
  },
  {
   "cell_type": "code",
   "execution_count": 7,
   "id": "e43a2af3",
   "metadata": {},
   "outputs": [
    {
     "data": {
      "application/vnd.jupyter.widget-view+json": {
       "model_id": "42ca799963e24cb99bba8c78bc2d438f",
       "version_major": 2,
       "version_minor": 0
      },
      "text/plain": [
       "VBox(children=(HBox(children=(NGLWidget(),)),))"
      ]
     },
     "execution_count": 7,
     "metadata": {},
     "output_type": "execute_result"
    }
   ],
   "source": [
    "s.add_box(6,shape='cubic')\n",
    "s.center_box()\n",
    "s.save_pdb('centered.pdb')\n",
    "\n",
    "box=makeview([s.last_saved_structure])\n",
    "box"
   ]
  },
  {
   "cell_type": "markdown",
   "id": "916d6446",
   "metadata": {},
   "source": [
    "### 4.4 Insert solvent molecules\n",
    "\n",
    "We will now insert solvent molecules, water and ethanol at a given composition."
   ]
  },
  {
   "cell_type": "code",
   "execution_count": 8,
   "id": "9c9c7cad",
   "metadata": {},
   "outputs": [
    {
     "name": "stdout",
     "output_type": "stream",
     "text": [
      "1100 molecules of residue WAT have been added. The file Systems/seed_form_IV/with_water.pdb has been created.\n",
      "Deleting 10 molecules from system seed_form_IV.\n",
      "Now system seed_form_IV has 1126 molecules\n",
      "1250 molecules of residue ETH have been added. The file Systems/seed_form_IV/with_ethanol.pdb has been created.\n",
      "Deleting 11 molecules from system seed_form_IV.\n",
      "Now system seed_form_IV has 2365 molecules\n"
     ]
    }
   ],
   "source": [
    "seed_com=np.array([0., 0., 0.])\n",
    "\n",
    "n=0\n",
    "for m in s.molecules:\n",
    "    for a in m.atoms:\n",
    "        seed_com+=a.coordinates\n",
    "        n+=1\n",
    "    \n",
    "seed_com/=n\n",
    "\n",
    "s.create_group('seed',molecules=s.molecules)\n",
    "\n",
    "# estimate in some way the number of solvent molecules to add\n",
    "\n",
    "nwat_to_add=1100\n",
    "netoh_to_add=1250\n",
    "\n",
    "# add solvent molecules\n",
    "\n",
    "s.insert_molecules('water','/home/matteo/Work/organic_molecules_simulations/examples/Structures/water/water.pdb',\n",
    "                   initial_conf='centered.pdb',final_conf='with_water.pdb',nmol=nwat_to_add)\n",
    "\n",
    "# once water molecules have been inserted, remove those that could be within the seed\n",
    "\n",
    "water_mols=s.find_molecule_by_resname('WAT')\n",
    "\n",
    "delete_mols=[]\n",
    "for wm in s.molecules[water_mols[0]:water_mols[-1]]:\n",
    "    if get_distance(wm.com,ref=seed_com, box=s.box)<=cutoff:\n",
    "        delete_mols.append(wm.index)\n",
    "\n",
    "s.delete_molecule(delete_mols)\n",
    "\n",
    "# rinse and repeat if we need a precise number of solvent molecules. something like \"while [nmols solvent < target nmols]; insert molecules; remove those that are in forbidden positions\"\n",
    "\n",
    "s.save_pdb('removed_water_in_seed.pdb')\n",
    "\n",
    "\n",
    "s.insert_molecules('ethanol','/home/matteo/Work/organic_molecules_simulations/examples/Structures/ethanol/ethanol.pdb',initial_conf='removed_water_in_seed.pdb',final_conf='with_ethanol.pdb',nmol=netoh_to_add)\n",
    "\n",
    "etoh_mols=s.find_molecule_by_resname('ETH')\n",
    "\n",
    "delete_mols=[]\n",
    "for etohm in s.molecules[etoh_mols[0]:etoh_mols[-1]]:\n",
    "    if get_distance(etohm.com,ref=seed_com,box=s.box)<=cutoff:\n",
    "        delete_mols.append(etohm.index)\n",
    "\n",
    "s.delete_molecule(delete_mols)\n"
   ]
  },
  {
   "cell_type": "code",
   "execution_count": 9,
   "id": "54136abf",
   "metadata": {},
   "outputs": [
    {
     "data": {
      "application/vnd.jupyter.widget-view+json": {
       "model_id": "d8435353f9ea4f7ca5305fb6d9ae09a5",
       "version_major": 2,
       "version_minor": 0
      },
      "text/plain": [
       "VBox(children=(HBox(children=(NGLWidget(), NGLWidget())),))"
      ]
     },
     "execution_count": 9,
     "metadata": {},
     "output_type": "execute_result"
    }
   ],
   "source": [
    "\n",
    "box=makeview(['Systems/seed_form_IV/with_water.pdb',\n",
    "              'Systems/seed_form_IV/with_ethanol.pdb'])\n",
    "box"
   ]
  },
  {
   "cell_type": "markdown",
   "id": "28c76155",
   "metadata": {},
   "source": [
    "## Save the project"
   ]
  },
  {
   "cell_type": "code",
   "execution_count": 10,
   "id": "24e8241f",
   "metadata": {
    "tags": []
   },
   "outputs": [
    {
     "name": "stdout",
     "output_type": "stream",
     "text": [
      "\n",
      "Saving Project...done\n"
     ]
    }
   ],
   "source": [
    "p.save()"
   ]
  }
 ],
 "metadata": {
  "kernelspec": {
   "display_name": "Python 3 (ipykernel)",
   "language": "python",
   "name": "python3"
  },
  "language_info": {
   "codemirror_mode": {
    "name": "ipython",
    "version": 3
   },
   "file_extension": ".py",
   "mimetype": "text/x-python",
   "name": "python",
   "nbconvert_exporter": "python",
   "pygments_lexer": "ipython3",
   "version": "3.8.18"
  }
 },
 "nbformat": 4,
 "nbformat_minor": 5
}
