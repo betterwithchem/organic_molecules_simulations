{
 "cells": [
  {
   "cell_type": "markdown",
   "id": "cbd99f08",
   "metadata": {},
   "source": [
    "# Example of creation of a configuration and preparation of simulations\n",
    "\n"
   ]
  },
  {
   "cell_type": "code",
   "execution_count": 1,
   "id": "11cbe00f",
   "metadata": {},
   "outputs": [
    {
     "data": {
      "application/vnd.jupyter.widget-view+json": {
       "model_id": "046174b1121b4f7d999626cb1b08a2cd",
       "version_major": 2,
       "version_minor": 0
      },
      "text/plain": []
     },
     "metadata": {},
     "output_type": "display_data"
    },
    {
     "name": "stdout",
     "output_type": "stream",
     "text": [
      "New Project: olanzapine_formIV\n",
      "====================================================================================================\n",
      "Created system test1\n"
     ]
    },
    {
     "data": {
      "application/vnd.jupyter.widget-view+json": {
       "model_id": "09e1ef022f00412fa36fa05f129c6da8",
       "version_major": 2,
       "version_minor": 0
      },
      "text/plain": [
       "NGLWidget()"
      ]
     },
     "metadata": {},
     "output_type": "display_data"
    }
   ],
   "source": [
    "import nglview as nv\n",
    "import os\n",
    "\n",
    "from sim_launch_py.classes import Project\n",
    "\n",
    "from sim_launch_py.classes import Project\n",
    "from sim_launch_py.utilities import get_distance\n",
    "import numpy as np\n",
    "\n",
    "os.chdir('/home/matteo/Work/organic_molecules_simulations')\n",
    "\n",
    "# Create a new Project\n",
    "\n",
    "pname='olanzapine_formIV'\n",
    "ppath='./{}'.format(pname)\n",
    "\n",
    "p=Project.new_project(pname,ppath,overwrite=True)\n",
    "\n",
    "# Create a system\n",
    "\n",
    "p.add_system('test1')\n",
    "\n",
    "s=p.systems[0]\n",
    "\n",
    "s.add_molecule('olanzapine', structure_file='/home/matteo/Work/organic_molecules_simulations/form_IV.pdb')\n",
    "\n",
    "view=nv.show_file('/home/matteo/Work/organic_molecules_simulations/form_IV.pdb')\n",
    "view.add_unitcell(opacity=1,color='black')\n",
    "view.stage.set_parameters(**{\n",
    "    # \"percentages, \"dist\" is distance to camera in Angstrom\n",
    "    \"clipNear\": 0, \"clipFar\": 100, \"clipDist\": 10,\n",
    "    # percentages, start of fog and where on full effect\n",
    "    \"fogNear\": 100, \"fogFar\": 100,    \n",
    "})\n",
    "\n",
    "view.camera='orthographic'\n",
    "view"
   ]
  },
  {
   "cell_type": "code",
   "execution_count": 2,
   "id": "acabfdc6",
   "metadata": {},
   "outputs": [
    {
     "data": {
      "application/vnd.jupyter.widget-view+json": {
       "model_id": "60fc8590791245edaf568b5c4483c632",
       "version_major": 2,
       "version_minor": 0
      },
      "text/plain": [
       "NGLWidget()"
      ]
     },
     "metadata": {},
     "output_type": "display_data"
    }
   ],
   "source": [
    "s.replicate_cell(repl=[5,5,5])\n",
    "\n",
    "s.save_pdb('replicated_cell.pdb')\n",
    "\n",
    "view=nv.show_structure_file('{}'.format(s.last_saved_structure))\n",
    "view.add_unitcell(opacity=1,color='black')\n",
    "view.camera='orthographic'\n",
    "view.stage.set_parameters(**{\n",
    "    # \"percentages, \"dist\" is distance to camera in Angstrom\n",
    "    \"clipNear\": 0, \"clipFar\": 100, \"clipDist\": 10,\n",
    "    # percentages, start of fog and where on full effect\n",
    "    \"fogNear\": 100, \"fogFar\": 100,    \n",
    "})\n",
    "view"
   ]
  },
  {
   "cell_type": "code",
   "execution_count": 3,
   "id": "e43a2af3",
   "metadata": {},
   "outputs": [
    {
     "name": "stdout",
     "output_type": "stream",
     "text": [
      "Deleting 490 molecules from system test1.\n",
      "Now system test1 has 10 molecules\n"
     ]
    },
    {
     "data": {
      "application/vnd.jupyter.widget-view+json": {
       "model_id": "24199e371ce745d9a041dc82f77df9b4",
       "version_major": 2,
       "version_minor": 0
      },
      "text/plain": [
       "NGLWidget()"
      ]
     },
     "metadata": {},
     "output_type": "display_data"
    }
   ],
   "source": [
    "# center of the box position\n",
    "cob=np.array([0. for i in range(3)])\n",
    "\n",
    "n=0\n",
    "for m in s.molecules:\n",
    "    for a in m.atoms:\n",
    "            cob+=a.coordinates\n",
    "            n+=1\n",
    "\n",
    "cob/=n\n",
    "\n",
    "# lets keep only the molecules that have COM within 2nm of the center of the box\n",
    "\n",
    "delete_mols=[]\n",
    "cutoff=1 #nm\n",
    "for m in s.molecules:\n",
    "    if get_distance(m.com,ref=cob,box=s.box)>cutoff:\n",
    "        delete_mols.append(m.index)\n",
    "\n",
    "s.delete_molecule(delete_mols)\n",
    "s.save_pdb('remaining_mols.pdb')\n",
    "\n",
    "s.add_box(10.5,shape='cubic')\n",
    "s.center_box()\n",
    "s.save_pdb('centered.pdb')\n",
    "\n",
    "view=nv.show_structure_file('{}'.format(s.last_saved_structure))\n",
    "view.add_unitcell(opacity=1,color='black')\n",
    "view.camera='orthographic'\n",
    "view.stage.set_parameters(**{\n",
    "    # \"percentages, \"dist\" is distance to camera in Angstrom\n",
    "    \"clipNear\": 0, \"clipFar\": 100, \"clipDist\": 10,\n",
    "    # percentages, start of fog and where on full effect\n",
    "    \"fogNear\": 100, \"fogFar\": 100,    \n",
    "})\n",
    "view"
   ]
  },
  {
   "cell_type": "code",
   "execution_count": 4,
   "id": "9c9c7cad",
   "metadata": {},
   "outputs": [
    {
     "name": "stdout",
     "output_type": "stream",
     "text": [
      "10 molecules of residue OLA have been added. The file Systems/test1/added_olanzapine.pdb has been created.\n",
      "5700 molecules of residue WAT have been added. The file Systems/test1/with_water.pdb has been created.\n",
      "Deleting 5 molecules from system test1.\n",
      "Now system test1 has 5715 molecules\n",
      "7038 molecules of residue ETH have been added. The file Systems/test1/with_ethanol.pdb has been created.\n",
      "Deleting 12 molecules from system test1.\n",
      "Now system test1 has 12741 molecules\n"
     ]
    }
   ],
   "source": [
    "#get center of the seed:\n",
    "seed_com=np.array([0., 0., 0.])\n",
    "\n",
    "n=0\n",
    "for m in s.molecules:\n",
    "    for a in m.atoms:\n",
    "        seed_com+=a.coordinates\n",
    "        n+=1\n",
    "    \n",
    "seed_com/=n\n",
    "\n",
    "s.create_group('seed',molecules=s.molecules)\n",
    "\n",
    "\n",
    "s.insert_molecules('olanzapine','/home/matteo/Work/organic_molecules_simulations/olanzapine.pdb', initial_conf='centered.pdb', final_conf='added_olanzapine.pdb', nmol=10)\n",
    "\n",
    "# estimate in some way the number of solvent molecules to add\n",
    "\n",
    "nwat_to_add=5700\n",
    "netoh_to_add=7038\n",
    "\n",
    "# add solvent molecules\n",
    "\n",
    "s.insert_molecules('water','/home/matteo/Work/organic_molecules_simulations/Structures/water/water.pdb',initial_conf='added_olanzapine.pdb',final_conf='with_water.pdb',nmol=nwat_to_add)\n",
    "\n",
    "# once water molecules have been inserted, remove those that could be within the seed\n",
    "\n",
    "water_mols=s.find_molecule_by_resname('WAT')\n",
    "\n",
    "delete_mols=[]\n",
    "for wm in s.molecules[water_mols[0]:water_mols[-1]]:\n",
    "    if get_distance(wm.com,ref=seed_com, box=s.box)<=cutoff:\n",
    "        delete_mols.append(wm.index)\n",
    "\n",
    "s.delete_molecule(delete_mols)\n",
    "\n",
    "# rinse and repeat if we need a precise number of solvent molecules. something like \"while [nmols solvent < target nmols]; insert molecules; remove those that are in forbidden positions\"\n",
    "\n",
    "s.save_pdb('removed_water_in_seed.pdb')\n",
    "\n",
    "\n",
    "s.insert_molecules('ethanol','/home/matteo/Work/organic_molecules_simulations/Structures/ethanol/ethanol.pdb',initial_conf='removed_water_in_seed.pdb',final_conf='with_ethanol.pdb',nmol=netoh_to_add)\n",
    "\n",
    "etoh_mols=s.find_molecule_by_resname('ETH')\n",
    "\n",
    "delete_mols=[]\n",
    "for etohm in s.molecules[etoh_mols[0]:etoh_mols[-1]]:\n",
    "    if get_distance(etohm.com,ref=seed_com,box=s.box)<=cutoff:\n",
    "        delete_mols.append(etohm.index)\n",
    "\n",
    "s.delete_molecule(delete_mols)"
   ]
  },
  {
   "cell_type": "code",
   "execution_count": 5,
   "id": "6037b137",
   "metadata": {},
   "outputs": [
    {
     "data": {
      "application/vnd.jupyter.widget-view+json": {
       "model_id": "b2364d0caf3041bda52816df40654c49",
       "version_major": 2,
       "version_minor": 0
      },
      "text/plain": [
       "NGLWidget()"
      ]
     },
     "metadata": {},
     "output_type": "display_data"
    }
   ],
   "source": [
    "s.save_pdb('removed_etoh_in_seed.pdb')\n",
    "\n",
    "view=nv.show_structure_file('{}'.format(s.last_saved_structure),default=False)\n",
    "\n",
    "\n",
    "view.hide([0])\n",
    "view.add_licorice(selection=\"resname OLA\",color='green')\n",
    "view.add_surface(selection=\"resname WAT or resname ETH\",color_scheme='element')\n",
    "view.update_surface(opacity=0.2)\n",
    "\n",
    "view.add_unitcell(opacity=1,color='black')\n",
    "view.camera='orthographic'\n",
    "view.center()\n",
    "view.stage.set_parameters(**{\n",
    "    # \"percentages, \"dist\" is distance to camera in Angstrom\n",
    "    \"clipNear\": 0, \"clipFar\": 100,\n",
    "    # percentages, start of fog and where on full effect\n",
    "    \"fogNear\": 100, \"fogFar\": 100,    \n",
    "})\n",
    "view"
   ]
  },
  {
   "cell_type": "code",
   "execution_count": null,
   "id": "431ab3aa",
   "metadata": {},
   "outputs": [],
   "source": [
    "s.species['OLA']['top']='/home/matteo/Work/organic_molecules_simulations/olanzapine/Matteo_P/OLA.top'\n",
    "s.species['WAT']['top']='/home/matteo/Work/organic_molecules_simulations/olanzapine/Matteo_P/water.top'\n",
    "s.species['ETH']['top']='/home/matteo/Work/organic_molecules_simulations/olanzapine/Matteo_P/ethanol.top'\n",
    "\n",
    "\n",
    "# create a .top file, this will read the .top files of each species, extract the atomtypes and the molecule definitions and compose them in a single .top file.\n",
    "s.create_topology('topol.top')\n",
    "\n",
    "# for each simulation, define a dict with the options for the simulation (some parameters, if not defined, will use default values)\n",
    "\n",
    "em_dict={'path_mdp':'/home/matteo/Work/organic_molecules_simulations/sim_launch_py/mdp/em.mdp',\n",
    "         'maxwarn':2, 'nsteps':1000, 'coordinates':s.last_saved_structure}\n",
    "\n",
    "s.add_simulation('em','em', simulation_dict=em_dict)\n",
    "\n",
    "nvt_dict={'path_mdp': '/home/matteo/Work/organic_molecules_simulations/sim_launch_py/mdp/nvt_ramp.mdp',\n",
    "          'maxwarn':2,\n",
    "          'coordinates':'{}/{}.gro'.format(s.simulations[-1].path,s.simulations[-1].name),\n",
    "          'posre':'{}/{}.gro'.format(s.simulations[-1].path,s.simulations[-1].name),\n",
    "          'nsteps':50000}\n",
    "\n",
    "s.add_simulation('nvt','posre',simulation_dict=nvt_dict)\n",
    "\n",
    "npt_dict={'path_mdp': '/home/matteo/Work/organic_molecules_simulations/sim_launch_py/mdp/npt.mdp',\n",
    "          'maxwarn':2,\n",
    "          'coordinates':'{}/{}.gro'.format(s.simulations[-1].path,s.simulations[-1].name),\n",
    "          'posre':'{}/{}.gro'.format(s.simulations[-1].path,s.simulations[-1].name),\n",
    "          'nsteps':50000}\n",
    "\n",
    "s.add_simulation('npt','posre',simulation_dict=npt_dict)\n",
    "\n",
    "md_dict={'path_mdp': '/home/matteo/Work/organic_molecules_simulations/sim_launch_py/mdp/mdparrinello.mdp',\n",
    "         'maxwarn':2, 'coordinates':'{}/{}.gro'.format(s.simulations[-1].path,s.simulations[-1].name),\n",
    "         'nsteps':5000000}\n",
    "\n",
    "s.add_simulation('md','md', simulation_dict=md_dict)\n",
    "\n",
    "# options for myriad\n",
    "myriad_dict={'wallclock':'06:00:00',\n",
    "             'job_name':s.name,\n",
    "             'mpi':16,\n",
    "             'omp':4}\n",
    "\n",
    "s.create_run_script('run.job',platform='myriad',platform_dict=myriad_dict)\n",
    "\n",
    "#options for archer\n",
    "archer_dict={'wallclock':'06:00:00',\n",
    "             'job_name':s.name,\n",
    "             'mpi':128,\n",
    "             'omp':4,\n",
    "             'budget':'e05-pool'}\n",
    "\n",
    "s.create_run_script('run.job',platform='archer',platform_dict=archer_dict)\n",
    "\n",
    "\n",
    "                 \n",
    "p.save()"
   ]
  }
 ],
 "metadata": {
  "kernelspec": {
   "display_name": "Python 3 (ipykernel)",
   "language": "python",
   "name": "python3"
  },
  "language_info": {
   "codemirror_mode": {
    "name": "ipython",
    "version": 3
   },
   "file_extension": ".py",
   "mimetype": "text/x-python",
   "name": "python",
   "nbconvert_exporter": "python",
   "pygments_lexer": "ipython3",
   "version": "3.8.18"
  }
 },
 "nbformat": 4,
 "nbformat_minor": 5
}
