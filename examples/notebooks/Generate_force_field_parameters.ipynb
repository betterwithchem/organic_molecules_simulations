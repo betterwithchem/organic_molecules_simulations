{
 "cells": [
  {
   "cell_type": "markdown",
   "id": "bad0742c-b2cc-4366-8aca-7e91f2b22d3a",
   "metadata": {},
   "source": [
    "# Generate force field parameters for small molecules\n",
    "\n"
   ]
  },
  {
   "cell_type": "code",
   "execution_count": 5,
   "id": "c9d16323-dccd-44cc-8cfa-e1740def1e74",
   "metadata": {
    "tags": []
   },
   "outputs": [],
   "source": [
    "import sim_launch_py.ffparms as ff\n",
    "from sim_launch_py.classes import System\n",
    "import os\n",
    "\n"
   ]
  },
  {
   "cell_type": "markdown",
   "id": "add0e5a4-d125-494d-82ab-d41493ea704c",
   "metadata": {},
   "source": []
  },
  {
   "cell_type": "code",
   "execution_count": 9,
   "id": "314f4eef-7a5e-4e60-94b1-743d01defc8f",
   "metadata": {
    "tags": []
   },
   "outputs": [
    {
     "name": "stdout",
     "output_type": "stream",
     "text": [
      "None\n"
     ]
    }
   ],
   "source": [
    "examples_path='/home/matteo/Work/organic_molecules_simulations/examples'\n",
    "#os.makedir('./Generate_ff_parms')\n",
    "\n"
   ]
  }
 ],
 "metadata": {
  "kernelspec": {
   "display_name": "Python 3 (ipykernel)",
   "language": "python",
   "name": "python3"
  },
  "language_info": {
   "codemirror_mode": {
    "name": "ipython",
    "version": 3
   },
   "file_extension": ".py",
   "mimetype": "text/x-python",
   "name": "python",
   "nbconvert_exporter": "python",
   "pygments_lexer": "ipython3",
   "version": "3.8.18"
  }
 },
 "nbformat": 4,
 "nbformat_minor": 5
}
